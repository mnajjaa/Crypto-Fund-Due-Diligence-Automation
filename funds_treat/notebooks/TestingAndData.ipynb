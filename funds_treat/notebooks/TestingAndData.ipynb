{
 "cells": [
  {
   "cell_type": "code",
   "execution_count": 1,
   "id": "03999587",
   "metadata": {},
   "outputs": [
    {
     "name": "stderr",
     "output_type": "stream",
     "text": [
      "C:\\Users\\mahmo\\AppData\\Roaming\\Python\\Python311\\site-packages\\pandas\\core\\arrays\\masked.py:60: UserWarning: Pandas requires version '1.3.6' or newer of 'bottleneck' (version '1.3.5' currently installed).\n",
      "  from pandas.core import (\n",
      "Fetching focus areas:  13%|█▎        | 1450/10879 [19:03<1:51:22,  1.41it/s]"
     ]
    },
    {
     "name": "stdout",
     "output_type": "stream",
     "text": [
      "[!] Failed for slug: baboon-vc - status 502\n"
     ]
    },
    {
     "name": "stderr",
     "output_type": "stream",
     "text": [
      "Fetching focus areas:  13%|█▎        | 1451/10879 [19:03<1:48:20,  1.45it/s]"
     ]
    },
    {
     "name": "stdout",
     "output_type": "stream",
     "text": [
      "[!] Failed for slug: lyrik-ventures - status 502\n"
     ]
    },
    {
     "name": "stderr",
     "output_type": "stream",
     "text": [
      "Fetching focus areas:  13%|█▎        | 1452/10879 [19:04<1:47:43,  1.46it/s]"
     ]
    },
    {
     "name": "stdout",
     "output_type": "stream",
     "text": [
      "[!] Failed for slug: insight-partners - status 502\n"
     ]
    },
    {
     "name": "stderr",
     "output_type": "stream",
     "text": [
      "Fetching focus areas:  13%|█▎        | 1453/10879 [19:05<1:48:08,  1.45it/s]"
     ]
    },
    {
     "name": "stdout",
     "output_type": "stream",
     "text": [
      "[!] Failed for slug: kraynos-capital - status 502\n"
     ]
    },
    {
     "name": "stderr",
     "output_type": "stream",
     "text": [
      "Fetching focus areas:  13%|█▎        | 1454/10879 [19:05<1:47:14,  1.46it/s]"
     ]
    },
    {
     "name": "stdout",
     "output_type": "stream",
     "text": [
      "[!] Failed for slug: thirdweb - status 502\n"
     ]
    },
    {
     "name": "stderr",
     "output_type": "stream",
     "text": [
      "Fetching focus areas:  13%|█▎        | 1456/10879 [19:07<1:46:42,  1.47it/s]"
     ]
    },
    {
     "name": "stdout",
     "output_type": "stream",
     "text": [
      "[!] Failed for slug: morgan-creek-digital - status 502\n"
     ]
    },
    {
     "name": "stderr",
     "output_type": "stream",
     "text": [
      "Fetching focus areas:  13%|█▎        | 1457/10879 [19:07<1:46:26,  1.48it/s]"
     ]
    },
    {
     "name": "stdout",
     "output_type": "stream",
     "text": [
      "[!] Failed for slug: halo-capital - status 502\n"
     ]
    },
    {
     "name": "stderr",
     "output_type": "stream",
     "text": [
      "Fetching focus areas:  13%|█▎        | 1458/10879 [19:08<1:45:06,  1.49it/s]"
     ]
    },
    {
     "name": "stdout",
     "output_type": "stream",
     "text": [
      "[!] Failed for slug: injective-protocol - status 502\n"
     ]
    },
    {
     "name": "stderr",
     "output_type": "stream",
     "text": [
      "Fetching focus areas:  13%|█▎        | 1459/10879 [19:09<1:46:04,  1.48it/s]"
     ]
    },
    {
     "name": "stdout",
     "output_type": "stream",
     "text": [
      "[!] Failed for slug: factor-capital - status 502\n"
     ]
    },
    {
     "name": "stderr",
     "output_type": "stream",
     "text": [
      "Fetching focus areas:  13%|█▎        | 1460/10879 [19:09<1:47:29,  1.46it/s]"
     ]
    },
    {
     "name": "stdout",
     "output_type": "stream",
     "text": [
      "[!] Failed for slug: nimacapital - status 502\n"
     ]
    },
    {
     "name": "stderr",
     "output_type": "stream",
     "text": [
      "Fetching focus areas:  13%|█▎        | 1461/10879 [19:10<1:45:31,  1.49it/s]"
     ]
    },
    {
     "name": "stdout",
     "output_type": "stream",
     "text": [
      "[!] Failed for slug: chaitech-ventures - status 502\n"
     ]
    },
    {
     "name": "stderr",
     "output_type": "stream",
     "text": [
      "Fetching focus areas:  13%|█▎        | 1462/10879 [19:11<1:45:51,  1.48it/s]"
     ]
    },
    {
     "name": "stdout",
     "output_type": "stream",
     "text": [
      "[!] Failed for slug: tezos-foundation - status 502\n"
     ]
    },
    {
     "name": "stderr",
     "output_type": "stream",
     "text": [
      "Fetching focus areas:  13%|█▎        | 1463/10879 [19:11<1:45:04,  1.49it/s]"
     ]
    },
    {
     "name": "stdout",
     "output_type": "stream",
     "text": [
      "[!] Failed for slug: liquid-2-ventures - status 502\n"
     ]
    },
    {
     "name": "stderr",
     "output_type": "stream",
     "text": [
      "Fetching focus areas:  13%|█▎        | 1464/10879 [19:12<1:44:08,  1.51it/s]"
     ]
    },
    {
     "name": "stdout",
     "output_type": "stream",
     "text": [
      "[!] Failed for slug: bullperks - status 502\n"
     ]
    },
    {
     "name": "stderr",
     "output_type": "stream",
     "text": [
      "Fetching focus areas:  29%|██▉       | 3152/10879 [40:34<1:48:39,  1.19it/s]"
     ]
    },
    {
     "name": "stdout",
     "output_type": "stream",
     "text": [
      "[!] Failed for slug: sgh-capital - status 502\n"
     ]
    },
    {
     "name": "stderr",
     "output_type": "stream",
     "text": [
      "Fetching focus areas:  29%|██▉       | 3153/10879 [40:35<1:42:56,  1.25it/s]"
     ]
    },
    {
     "name": "stdout",
     "output_type": "stream",
     "text": [
      "[!] Failed for slug: netzerocapital - status 502\n"
     ]
    },
    {
     "name": "stderr",
     "output_type": "stream",
     "text": [
      "Fetching focus areas:  29%|██▉       | 3154/10879 [40:36<1:38:07,  1.31it/s]"
     ]
    },
    {
     "name": "stdout",
     "output_type": "stream",
     "text": [
      "[!] Failed for slug: 3kvc - status 502\n"
     ]
    },
    {
     "name": "stderr",
     "output_type": "stream",
     "text": [
      "Fetching focus areas:  29%|██▉       | 3155/10879 [40:36<1:34:59,  1.36it/s]"
     ]
    },
    {
     "name": "stdout",
     "output_type": "stream",
     "text": [
      "[!] Failed for slug: motivatevc - status 502\n"
     ]
    },
    {
     "name": "stderr",
     "output_type": "stream",
     "text": [
      "Fetching focus areas:  29%|██▉       | 3156/10879 [40:37<1:32:49,  1.39it/s]"
     ]
    },
    {
     "name": "stdout",
     "output_type": "stream",
     "text": [
      "[!] Failed for slug: ttvcapital - status 502\n"
     ]
    },
    {
     "name": "stderr",
     "output_type": "stream",
     "text": [
      "Fetching focus areas:  29%|██▉       | 3157/10879 [40:38<1:31:12,  1.41it/s]"
     ]
    },
    {
     "name": "stdout",
     "output_type": "stream",
     "text": [
      "[!] Failed for slug: gmo-venture - status 502\n"
     ]
    },
    {
     "name": "stderr",
     "output_type": "stream",
     "text": [
      "Fetching focus areas:  29%|██▉       | 3158/10879 [40:39<1:30:27,  1.42it/s]"
     ]
    },
    {
     "name": "stdout",
     "output_type": "stream",
     "text": [
      "[!] Failed for slug: lateral-capital - status 502\n"
     ]
    },
    {
     "name": "stderr",
     "output_type": "stream",
     "text": [
      "Fetching focus areas:  29%|██▉       | 3159/10879 [40:39<1:29:06,  1.44it/s]"
     ]
    },
    {
     "name": "stdout",
     "output_type": "stream",
     "text": [
      "[!] Failed for slug: iex-group - status 502\n"
     ]
    },
    {
     "name": "stderr",
     "output_type": "stream",
     "text": [
      "Fetching focus areas:  29%|██▉       | 3160/10879 [40:40<1:27:55,  1.46it/s]"
     ]
    },
    {
     "name": "stdout",
     "output_type": "stream",
     "text": [
      "[!] Failed for slug: pearl-abyss-capital - status 502\n"
     ]
    },
    {
     "name": "stderr",
     "output_type": "stream",
     "text": [
      "Fetching focus areas:  29%|██▉       | 3161/10879 [40:41<1:27:18,  1.47it/s]"
     ]
    },
    {
     "name": "stdout",
     "output_type": "stream",
     "text": [
      "[!] Failed for slug: 01-booster - status 502\n"
     ]
    },
    {
     "name": "stderr",
     "output_type": "stream",
     "text": [
      "Fetching focus areas:  29%|██▉       | 3162/10879 [40:41<1:27:25,  1.47it/s]"
     ]
    },
    {
     "name": "stdout",
     "output_type": "stream",
     "text": [
      "[!] Failed for slug: base-capital-partners - status 502\n"
     ]
    },
    {
     "name": "stderr",
     "output_type": "stream",
     "text": [
      "Fetching focus areas:  29%|██▉       | 3163/10879 [40:42<1:27:14,  1.47it/s]"
     ]
    },
    {
     "name": "stdout",
     "output_type": "stream",
     "text": [
      "[!] Failed for slug: leadout-capital - status 502\n"
     ]
    },
    {
     "name": "stderr",
     "output_type": "stream",
     "text": [
      "Fetching focus areas:  29%|██▉       | 3164/10879 [40:43<1:26:30,  1.49it/s]"
     ]
    },
    {
     "name": "stdout",
     "output_type": "stream",
     "text": [
      "[!] Failed for slug: rwe-ventures - status 502\n"
     ]
    },
    {
     "name": "stderr",
     "output_type": "stream",
     "text": [
      "Fetching focus areas:  29%|██▉       | 3165/10879 [40:43<1:27:14,  1.47it/s]"
     ]
    },
    {
     "name": "stdout",
     "output_type": "stream",
     "text": [
      "[!] Failed for slug: alexia-ventures - status 502\n"
     ]
    },
    {
     "name": "stderr",
     "output_type": "stream",
     "text": [
      "Fetching focus areas:  29%|██▉       | 3166/10879 [40:44<1:26:49,  1.48it/s]"
     ]
    },
    {
     "name": "stdout",
     "output_type": "stream",
     "text": [
      "[!] Failed for slug: dob-equity - status 502\n"
     ]
    },
    {
     "name": "stderr",
     "output_type": "stream",
     "text": [
      "Fetching focus areas:  33%|███▎      | 3606/10879 [46:27<1:32:37,  1.31it/s]"
     ]
    },
    {
     "name": "stdout",
     "output_type": "stream",
     "text": [
      "[!] Failed for slug: sosgameguild - status 502\n"
     ]
    },
    {
     "name": "stderr",
     "output_type": "stream",
     "text": [
      "Fetching focus areas:  33%|███▎      | 3607/10879 [46:28<1:30:10,  1.34it/s]"
     ]
    },
    {
     "name": "stdout",
     "output_type": "stream",
     "text": [
      "[!] Failed for slug: ovalventures - status 502\n"
     ]
    },
    {
     "name": "stderr",
     "output_type": "stream",
     "text": [
      "Fetching focus areas:  33%|███▎      | 3608/10879 [46:29<1:27:51,  1.38it/s]"
     ]
    },
    {
     "name": "stdout",
     "output_type": "stream",
     "text": [
      "[!] Failed for slug: uniwhalesio - status 502\n"
     ]
    },
    {
     "name": "stderr",
     "output_type": "stream",
     "text": [
      "Fetching focus areas:  33%|███▎      | 3609/10879 [46:29<1:25:52,  1.41it/s]"
     ]
    },
    {
     "name": "stdout",
     "output_type": "stream",
     "text": [
      "[!] Failed for slug: solanium-ventures - status 502\n"
     ]
    },
    {
     "name": "stderr",
     "output_type": "stream",
     "text": [
      "Fetching focus areas:  33%|███▎      | 3610/10879 [46:30<1:24:24,  1.44it/s]"
     ]
    },
    {
     "name": "stdout",
     "output_type": "stream",
     "text": [
      "[!] Failed for slug: therainegroup - status 502\n"
     ]
    },
    {
     "name": "stderr",
     "output_type": "stream",
     "text": [
      "Fetching focus areas:  33%|███▎      | 3611/10879 [46:31<1:23:00,  1.46it/s]"
     ]
    },
    {
     "name": "stdout",
     "output_type": "stream",
     "text": [
      "[!] Failed for slug: dvtrading - status 502\n"
     ]
    },
    {
     "name": "stderr",
     "output_type": "stream",
     "text": [
      "Fetching focus areas:  33%|███▎      | 3612/10879 [46:31<1:21:47,  1.48it/s]"
     ]
    },
    {
     "name": "stdout",
     "output_type": "stream",
     "text": [
      "[!] Failed for slug: fenwickwest - status 502\n"
     ]
    },
    {
     "name": "stderr",
     "output_type": "stream",
     "text": [
      "Fetching focus areas:  33%|███▎      | 3613/10879 [46:32<1:23:58,  1.44it/s]"
     ]
    },
    {
     "name": "stdout",
     "output_type": "stream",
     "text": [
      "[!] Failed for slug: sparqone - status 502\n"
     ]
    },
    {
     "name": "stderr",
     "output_type": "stream",
     "text": [
      "Fetching focus areas:  33%|███▎      | 3614/10879 [46:33<1:23:06,  1.46it/s]"
     ]
    },
    {
     "name": "stdout",
     "output_type": "stream",
     "text": [
      "[!] Failed for slug: tokenscom - status 502\n"
     ]
    },
    {
     "name": "stderr",
     "output_type": "stream",
     "text": [
      "Fetching focus areas:  33%|███▎      | 3615/10879 [46:33<1:23:04,  1.46it/s]"
     ]
    },
    {
     "name": "stdout",
     "output_type": "stream",
     "text": [
      "[!] Failed for slug: trusttoken - status 502\n"
     ]
    },
    {
     "name": "stderr",
     "output_type": "stream",
     "text": [
      "Fetching focus areas:  33%|███▎      | 3616/10879 [46:34<1:21:46,  1.48it/s]"
     ]
    },
    {
     "name": "stdout",
     "output_type": "stream",
     "text": [
      "[!] Failed for slug: advanceai - status 502\n"
     ]
    },
    {
     "name": "stderr",
     "output_type": "stream",
     "text": [
      "Fetching focus areas:  33%|███▎      | 3617/10879 [46:35<1:22:41,  1.46it/s]"
     ]
    },
    {
     "name": "stdout",
     "output_type": "stream",
     "text": [
      "[!] Failed for slug: berkeleyedu - status 502\n"
     ]
    },
    {
     "name": "stderr",
     "output_type": "stream",
     "text": [
      "Fetching focus areas:  33%|███▎      | 3618/10879 [46:35<1:23:09,  1.46it/s]"
     ]
    },
    {
     "name": "stdout",
     "output_type": "stream",
     "text": [
      "[!] Failed for slug: integrapartners - status 502\n"
     ]
    },
    {
     "name": "stderr",
     "output_type": "stream",
     "text": [
      "Fetching focus areas:  33%|███▎      | 3619/10879 [46:36<1:22:07,  1.47it/s]"
     ]
    },
    {
     "name": "stdout",
     "output_type": "stream",
     "text": [
      "[!] Failed for slug: quantfury - status 502\n"
     ]
    },
    {
     "name": "stderr",
     "output_type": "stream",
     "text": [
      "Fetching focus areas:  33%|███▎      | 3620/10879 [46:37<1:21:25,  1.49it/s]"
     ]
    },
    {
     "name": "stdout",
     "output_type": "stream",
     "text": [
      "[!] Failed for slug: summitpartners - status 502\n"
     ]
    },
    {
     "name": "stderr",
     "output_type": "stream",
     "text": [
      "Fetching focus areas:  33%|███▎      | 3621/10879 [46:37<1:22:19,  1.47it/s]"
     ]
    },
    {
     "name": "stdout",
     "output_type": "stream",
     "text": [
      "[!] Failed for slug: tokensuite - status 502\n"
     ]
    },
    {
     "name": "stderr",
     "output_type": "stream",
     "text": [
      "Fetching focus areas:  33%|███▎      | 3624/10879 [46:40<1:45:07,  1.15it/s]"
     ]
    },
    {
     "name": "stdout",
     "output_type": "stream",
     "text": [
      "[!] Failed for slug: goldenbridgecap - status 502\n"
     ]
    },
    {
     "name": "stderr",
     "output_type": "stream",
     "text": [
      "Fetching focus areas:  33%|███▎      | 3625/10879 [46:41<1:38:43,  1.22it/s]"
     ]
    },
    {
     "name": "stdout",
     "output_type": "stream",
     "text": [
      "[!] Failed for slug: tdbank - status 502\n"
     ]
    },
    {
     "name": "stderr",
     "output_type": "stream",
     "text": [
      "Fetching focus areas:  33%|███▎      | 3626/10879 [46:41<1:33:26,  1.29it/s]"
     ]
    },
    {
     "name": "stdout",
     "output_type": "stream",
     "text": [
      "[!] Failed for slug: tappanhillventures - status 502\n"
     ]
    },
    {
     "name": "stderr",
     "output_type": "stream",
     "text": [
      "Fetching focus areas:  33%|███▎      | 3627/10879 [46:42<1:31:39,  1.32it/s]"
     ]
    },
    {
     "name": "stdout",
     "output_type": "stream",
     "text": [
      "[!] Failed for slug: gbahomeland - status 502\n"
     ]
    },
    {
     "name": "stderr",
     "output_type": "stream",
     "text": [
      "Fetching focus areas:  33%|███▎      | 3628/10879 [46:43<1:29:15,  1.35it/s]"
     ]
    },
    {
     "name": "stdout",
     "output_type": "stream",
     "text": [
      "[!] Failed for slug: securitycapitalcn - status 502\n"
     ]
    },
    {
     "name": "stderr",
     "output_type": "stream",
     "text": [
      "Fetching focus areas:  33%|███▎      | 3629/10879 [46:43<1:27:09,  1.39it/s]"
     ]
    },
    {
     "name": "stdout",
     "output_type": "stream",
     "text": [
      "[!] Failed for slug: blockfi - status 502\n"
     ]
    },
    {
     "name": "stderr",
     "output_type": "stream",
     "text": [
      "Fetching focus areas:  33%|███▎      | 3630/10879 [46:44<1:25:06,  1.42it/s]"
     ]
    },
    {
     "name": "stdout",
     "output_type": "stream",
     "text": [
      "[!] Failed for slug: block-venture - status 502\n"
     ]
    },
    {
     "name": "stderr",
     "output_type": "stream",
     "text": [
      "Fetching focus areas:  33%|███▎      | 3631/10879 [46:45<1:22:54,  1.46it/s]"
     ]
    },
    {
     "name": "stdout",
     "output_type": "stream",
     "text": [
      "[!] Failed for slug: crossbeam - status 502\n"
     ]
    },
    {
     "name": "stderr",
     "output_type": "stream",
     "text": [
      "Fetching focus areas:  33%|███▎      | 3632/10879 [46:45<1:22:08,  1.47it/s]"
     ]
    },
    {
     "name": "stdout",
     "output_type": "stream",
     "text": [
      "[!] Failed for slug: green-bay-ventures - status 502\n"
     ]
    },
    {
     "name": "stderr",
     "output_type": "stream",
     "text": [
      "Fetching focus areas:  33%|███▎      | 3633/10879 [46:46<1:21:55,  1.47it/s]"
     ]
    },
    {
     "name": "stdout",
     "output_type": "stream",
     "text": [
      "[!] Failed for slug: intersectiongp - status 502\n"
     ]
    },
    {
     "name": "stderr",
     "output_type": "stream",
     "text": [
      "Fetching focus areas:  33%|███▎      | 3634/10879 [46:47<1:22:45,  1.46it/s]"
     ]
    },
    {
     "name": "stdout",
     "output_type": "stream",
     "text": [
      "[!] Failed for slug: max-stealth - status 502\n"
     ]
    },
    {
     "name": "stderr",
     "output_type": "stream",
     "text": [
      "Fetching focus areas:  33%|███▎      | 3635/10879 [46:48<1:23:43,  1.44it/s]"
     ]
    },
    {
     "name": "stdout",
     "output_type": "stream",
     "text": [
      "[!] Failed for slug: realventures - status 502\n"
     ]
    },
    {
     "name": "stderr",
     "output_type": "stream",
     "text": [
      "Fetching focus areas:  33%|███▎      | 3636/10879 [46:48<1:23:01,  1.45it/s]"
     ]
    },
    {
     "name": "stdout",
     "output_type": "stream",
     "text": [
      "[!] Failed for slug: august-capital - status 502\n"
     ]
    },
    {
     "name": "stderr",
     "output_type": "stream",
     "text": [
      "Fetching focus areas:  35%|███▍      | 3779/10879 [48:36<1:22:33,  1.43it/s]"
     ]
    },
    {
     "name": "stdout",
     "output_type": "stream",
     "text": [
      "[!] Failed for slug: ilavska-vuillermoz-capital - status 502\n"
     ]
    },
    {
     "name": "stderr",
     "output_type": "stream",
     "text": [
      "Fetching focus areas:  35%|███▍      | 3780/10879 [48:36<1:21:23,  1.45it/s]"
     ]
    },
    {
     "name": "stdout",
     "output_type": "stream",
     "text": [
      "[!] Failed for slug: keen-venture-partners - status 502\n"
     ]
    },
    {
     "name": "stderr",
     "output_type": "stream",
     "text": [
      "Fetching focus areas:  35%|███▍      | 3781/10879 [48:37<1:21:17,  1.46it/s]"
     ]
    },
    {
     "name": "stdout",
     "output_type": "stream",
     "text": [
      "[!] Failed for slug: malibu-point-capital - status 502\n"
     ]
    },
    {
     "name": "stderr",
     "output_type": "stream",
     "text": [
      "Fetching focus areas:  35%|███▍      | 3782/10879 [48:38<1:21:54,  1.44it/s]"
     ]
    },
    {
     "name": "stdout",
     "output_type": "stream",
     "text": [
      "[!] Failed for slug: osage-venture-partners - status 502\n"
     ]
    },
    {
     "name": "stderr",
     "output_type": "stream",
     "text": [
      "Fetching focus areas:  35%|███▍      | 3783/10879 [48:39<1:21:19,  1.45it/s]"
     ]
    },
    {
     "name": "stdout",
     "output_type": "stream",
     "text": [
      "[!] Failed for slug: realvision - status 502\n"
     ]
    },
    {
     "name": "stderr",
     "output_type": "stream",
     "text": [
      "Fetching focus areas:  35%|███▍      | 3784/10879 [48:39<1:20:06,  1.48it/s]"
     ]
    },
    {
     "name": "stdout",
     "output_type": "stream",
     "text": [
      "[!] Failed for slug: sxsw - status 502\n"
     ]
    },
    {
     "name": "stderr",
     "output_type": "stream",
     "text": [
      "Fetching focus areas:  35%|███▍      | 3785/10879 [48:40<1:19:52,  1.48it/s]"
     ]
    },
    {
     "name": "stdout",
     "output_type": "stream",
     "text": [
      "[!] Failed for slug: banca-sella - status 502\n"
     ]
    },
    {
     "name": "stderr",
     "output_type": "stream",
     "text": [
      "Fetching focus areas:  35%|███▍      | 3786/10879 [48:41<1:19:17,  1.49it/s]"
     ]
    },
    {
     "name": "stdout",
     "output_type": "stream",
     "text": [
      "[!] Failed for slug: northpond-ventures - status 502\n"
     ]
    },
    {
     "name": "stderr",
     "output_type": "stream",
     "text": [
      "Fetching focus areas:  35%|███▍      | 3787/10879 [48:41<1:19:12,  1.49it/s]"
     ]
    },
    {
     "name": "stdout",
     "output_type": "stream",
     "text": [
      "[!] Failed for slug: united-ventures - status 502\n"
     ]
    },
    {
     "name": "stderr",
     "output_type": "stream",
     "text": [
      "Fetching focus areas:  35%|███▍      | 3788/10879 [48:42<1:19:46,  1.48it/s]"
     ]
    },
    {
     "name": "stdout",
     "output_type": "stream",
     "text": [
      "[!] Failed for slug: smilegate-investment - status 502\n"
     ]
    },
    {
     "name": "stderr",
     "output_type": "stream",
     "text": [
      "Fetching focus areas:  35%|███▍      | 3790/10879 [48:43<1:20:17,  1.47it/s]"
     ]
    },
    {
     "name": "stdout",
     "output_type": "stream",
     "text": [
      "[!] Failed for slug: expon-capital - status 502\n"
     ]
    },
    {
     "name": "stderr",
     "output_type": "stream",
     "text": [
      "Fetching focus areas:  35%|███▍      | 3791/10879 [48:44<1:19:51,  1.48it/s]"
     ]
    },
    {
     "name": "stdout",
     "output_type": "stream",
     "text": [
      "[!] Failed for slug: kyungdong-invest - status 502\n"
     ]
    },
    {
     "name": "stderr",
     "output_type": "stream",
     "text": [
      "Fetching focus areas:  35%|███▍      | 3792/10879 [48:45<1:19:08,  1.49it/s]"
     ]
    },
    {
     "name": "stdout",
     "output_type": "stream",
     "text": [
      "[!] Failed for slug: metabase - status 502\n"
     ]
    },
    {
     "name": "stderr",
     "output_type": "stream",
     "text": [
      "Fetching focus areas:  35%|███▍      | 3793/10879 [48:45<1:18:53,  1.50it/s]"
     ]
    },
    {
     "name": "stdout",
     "output_type": "stream",
     "text": [
      "[!] Failed for slug: nanuhm-angels - status 502\n"
     ]
    },
    {
     "name": "stderr",
     "output_type": "stream",
     "text": [
      "Fetching focus areas:  45%|████▍     | 4862/10879 [1:02:32<2:30:20,  1.50s/it]"
     ]
    },
    {
     "name": "stdout",
     "output_type": "stream",
     "text": [
      "[!] Error for slug zag-capital: HTTPSConnectionPool(host='api.cryptorank.io', port=443): Read timed out. (read timeout=10)\n"
     ]
    },
    {
     "name": "stderr",
     "output_type": "stream",
     "text": [
      "Fetching focus areas:  53%|█████▎    | 5814/10879 [1:15:25<1:03:12,  1.34it/s]"
     ]
    },
    {
     "name": "stdout",
     "output_type": "stream",
     "text": [
      "[!] Failed for slug: xin-enterprise - status 502\n"
     ]
    },
    {
     "name": "stderr",
     "output_type": "stream",
     "text": [
      "Fetching focus areas:  53%|█████▎    | 5815/10879 [1:15:26<1:04:03,  1.32it/s]"
     ]
    },
    {
     "name": "stdout",
     "output_type": "stream",
     "text": [
      "[!] Failed for slug: moonshot-research - status 502\n"
     ]
    },
    {
     "name": "stderr",
     "output_type": "stream",
     "text": [
      "Fetching focus areas:  53%|█████▎    | 5816/10879 [1:15:27<1:01:45,  1.37it/s]"
     ]
    },
    {
     "name": "stdout",
     "output_type": "stream",
     "text": [
      "[!] Failed for slug: cavalry-asset-management - status 502\n"
     ]
    },
    {
     "name": "stderr",
     "output_type": "stream",
     "text": [
      "Fetching focus areas:  53%|█████▎    | 5817/10879 [1:15:28<1:02:20,  1.35it/s]"
     ]
    },
    {
     "name": "stdout",
     "output_type": "stream",
     "text": [
      "[!] Failed for slug: switchboard - status 502\n"
     ]
    },
    {
     "name": "stderr",
     "output_type": "stream",
     "text": [
      "Fetching focus areas:  53%|█████▎    | 5818/10879 [1:15:28<59:59,  1.41it/s]  "
     ]
    },
    {
     "name": "stdout",
     "output_type": "stream",
     "text": [
      "[!] Failed for slug: eberg-capital - status 502\n"
     ]
    },
    {
     "name": "stderr",
     "output_type": "stream",
     "text": [
      "Fetching focus areas:  53%|█████▎    | 5819/10879 [1:15:29<58:45,  1.44it/s]"
     ]
    },
    {
     "name": "stdout",
     "output_type": "stream",
     "text": [
      "[!] Failed for slug: kingscrowd - status 502\n"
     ]
    },
    {
     "name": "stderr",
     "output_type": "stream",
     "text": [
      "Fetching focus areas:  53%|█████▎    | 5820/10879 [1:15:30<57:58,  1.45it/s]"
     ]
    },
    {
     "name": "stdout",
     "output_type": "stream",
     "text": [
      "[!] Failed for slug: firestone-ventures - status 502\n"
     ]
    },
    {
     "name": "stderr",
     "output_type": "stream",
     "text": [
      "Fetching focus areas:  54%|█████▎    | 5821/10879 [1:15:30<57:12,  1.47it/s]"
     ]
    },
    {
     "name": "stdout",
     "output_type": "stream",
     "text": [
      "[!] Failed for slug: yzb-investment - status 502\n"
     ]
    },
    {
     "name": "stderr",
     "output_type": "stream",
     "text": [
      "Fetching focus areas:  54%|█████▎    | 5822/10879 [1:15:31<58:18,  1.45it/s]"
     ]
    },
    {
     "name": "stdout",
     "output_type": "stream",
     "text": [
      "[!] Failed for slug: caica-digital - status 502\n"
     ]
    },
    {
     "name": "stderr",
     "output_type": "stream",
     "text": [
      "Fetching focus areas:  54%|█████▎    | 5823/10879 [1:15:32<1:00:36,  1.39it/s]"
     ]
    },
    {
     "name": "stdout",
     "output_type": "stream",
     "text": [
      "[!] Failed for slug: colorfulmarketing - status 502\n"
     ]
    },
    {
     "name": "stderr",
     "output_type": "stream",
     "text": [
      "Fetching focus areas:  54%|█████▎    | 5824/10879 [1:15:33<1:08:38,  1.23it/s]"
     ]
    },
    {
     "name": "stdout",
     "output_type": "stream",
     "text": [
      "[!] Failed for slug: kingdomverse - status 502\n"
     ]
    },
    {
     "name": "stderr",
     "output_type": "stream",
     "text": [
      "Fetching focus areas:  54%|█████▎    | 5825/10879 [1:15:34<1:04:31,  1.31it/s]"
     ]
    },
    {
     "name": "stdout",
     "output_type": "stream",
     "text": [
      "[!] Failed for slug: vector-inc - status 502\n"
     ]
    },
    {
     "name": "stderr",
     "output_type": "stream",
     "text": [
      "Fetching focus areas:  54%|█████▎    | 5826/10879 [1:15:34<1:01:52,  1.36it/s]"
     ]
    },
    {
     "name": "stdout",
     "output_type": "stream",
     "text": [
      "[!] Failed for slug: fugazi-labs - status 502\n"
     ]
    },
    {
     "name": "stderr",
     "output_type": "stream",
     "text": [
      "Fetching focus areas:  54%|█████▎    | 5827/10879 [1:15:35<59:56,  1.40it/s]  "
     ]
    },
    {
     "name": "stdout",
     "output_type": "stream",
     "text": [
      "[!] Failed for slug: first-light-capital-group - status 502\n"
     ]
    },
    {
     "name": "stderr",
     "output_type": "stream",
     "text": [
      "Fetching focus areas:  54%|█████▍    | 5905/10879 [1:16:34<1:06:55,  1.24it/s]"
     ]
    },
    {
     "name": "stdout",
     "output_type": "stream",
     "text": [
      "[!] Failed for slug: wb_capital - status 502\n"
     ]
    },
    {
     "name": "stderr",
     "output_type": "stream",
     "text": [
      "Fetching focus areas:  54%|█████▍    | 5906/10879 [1:16:35<1:04:58,  1.28it/s]"
     ]
    },
    {
     "name": "stdout",
     "output_type": "stream",
     "text": [
      "[!] Failed for slug: inventusvc - status 502\n"
     ]
    },
    {
     "name": "stderr",
     "output_type": "stream",
     "text": [
      "Fetching focus areas:  54%|█████▍    | 5907/10879 [1:16:36<1:04:14,  1.29it/s]"
     ]
    },
    {
     "name": "stdout",
     "output_type": "stream",
     "text": [
      "[!] Failed for slug: airinifund - status 502\n"
     ]
    },
    {
     "name": "stderr",
     "output_type": "stream",
     "text": [
      "Fetching focus areas:  54%|█████▍    | 5908/10879 [1:16:36<1:03:38,  1.30it/s]"
     ]
    },
    {
     "name": "stdout",
     "output_type": "stream",
     "text": [
      "[!] Failed for slug: alphacitadel - status 502\n"
     ]
    },
    {
     "name": "stderr",
     "output_type": "stream",
     "text": [
      "Fetching focus areas:  54%|█████▍    | 5909/10879 [1:16:37<1:01:36,  1.34it/s]"
     ]
    },
    {
     "name": "stdout",
     "output_type": "stream",
     "text": [
      "[!] Failed for slug: fyfventures - status 502\n"
     ]
    },
    {
     "name": "stderr",
     "output_type": "stream",
     "text": [
      "Fetching focus areas:  54%|█████▍    | 5910/10879 [1:16:38<59:46,  1.39it/s]  "
     ]
    },
    {
     "name": "stdout",
     "output_type": "stream",
     "text": [
      "[!] Failed for slug: fyrflyvc - status 502\n"
     ]
    },
    {
     "name": "stderr",
     "output_type": "stream",
     "text": [
      "Fetching focus areas:  54%|█████▍    | 5911/10879 [1:16:39<1:00:35,  1.37it/s]"
     ]
    },
    {
     "name": "stdout",
     "output_type": "stream",
     "text": [
      "[!] Failed for slug: greymattercap - status 502\n"
     ]
    },
    {
     "name": "stderr",
     "output_type": "stream",
     "text": [
      "Fetching focus areas:  54%|█████▍    | 5912/10879 [1:16:39<1:00:22,  1.37it/s]"
     ]
    },
    {
     "name": "stdout",
     "output_type": "stream",
     "text": [
      "[!] Failed for slug: whiterhinocap - status 502\n"
     ]
    },
    {
     "name": "stderr",
     "output_type": "stream",
     "text": [
      "Fetching focus areas:  54%|█████▍    | 5913/10879 [1:16:40<1:00:36,  1.37it/s]"
     ]
    },
    {
     "name": "stdout",
     "output_type": "stream",
     "text": [
      "[!] Failed for slug: medici-investment - status 502\n"
     ]
    },
    {
     "name": "stderr",
     "output_type": "stream",
     "text": [
      "Fetching focus areas:  54%|█████▍    | 5914/10879 [1:16:41<59:46,  1.38it/s]  "
     ]
    },
    {
     "name": "stdout",
     "output_type": "stream",
     "text": [
      "[!] Failed for slug: ulmusinvestment - status 502\n"
     ]
    },
    {
     "name": "stderr",
     "output_type": "stream",
     "text": [
      "Fetching focus areas:  54%|█████▍    | 5915/10879 [1:16:42<1:00:56,  1.36it/s]"
     ]
    },
    {
     "name": "stdout",
     "output_type": "stream",
     "text": [
      "[!] Failed for slug: socialleverage - status 502\n"
     ]
    },
    {
     "name": "stderr",
     "output_type": "stream",
     "text": [
      "Fetching focus areas:  54%|█████▍    | 5916/10879 [1:16:42<1:00:30,  1.37it/s]"
     ]
    },
    {
     "name": "stdout",
     "output_type": "stream",
     "text": [
      "[!] Failed for slug: boxonexyz - status 502\n"
     ]
    },
    {
     "name": "stderr",
     "output_type": "stream",
     "text": [
      "Fetching focus areas:  54%|█████▍    | 5917/10879 [1:16:43<1:00:57,  1.36it/s]"
     ]
    },
    {
     "name": "stdout",
     "output_type": "stream",
     "text": [
      "[!] Failed for slug: cueballcapital - status 502\n"
     ]
    },
    {
     "name": "stderr",
     "output_type": "stream",
     "text": [
      "Fetching focus areas:  54%|█████▍    | 5918/10879 [1:16:44<1:01:01,  1.35it/s]"
     ]
    },
    {
     "name": "stdout",
     "output_type": "stream",
     "text": [
      "[!] Failed for slug: vulpesinvest - status 502\n"
     ]
    },
    {
     "name": "stderr",
     "output_type": "stream",
     "text": [
      "Fetching focus areas:  80%|███████▉  | 8693/10879 [1:52:07<25:36,  1.42it/s]  "
     ]
    },
    {
     "name": "stdout",
     "output_type": "stream",
     "text": [
      "[!] Failed for slug: hikari-mitsushima - status 502\n"
     ]
    },
    {
     "name": "stderr",
     "output_type": "stream",
     "text": [
      "Fetching focus areas:  80%|███████▉  | 8694/10879 [1:52:07<25:19,  1.44it/s]"
     ]
    },
    {
     "name": "stdout",
     "output_type": "stream",
     "text": [
      "[!] Failed for slug: magdalena-kala - status 502\n"
     ]
    },
    {
     "name": "stderr",
     "output_type": "stream",
     "text": [
      "Fetching focus areas:  80%|███████▉  | 8695/10879 [1:52:08<24:58,  1.46it/s]"
     ]
    },
    {
     "name": "stdout",
     "output_type": "stream",
     "text": [
      "[!] Failed for slug: jingyu-xiang - status 502\n"
     ]
    },
    {
     "name": "stderr",
     "output_type": "stream",
     "text": [
      "Fetching focus areas:  80%|███████▉  | 8696/10879 [1:52:09<24:51,  1.46it/s]"
     ]
    },
    {
     "name": "stdout",
     "output_type": "stream",
     "text": [
      "[!] Failed for slug: andy-coravos - status 502\n"
     ]
    },
    {
     "name": "stderr",
     "output_type": "stream",
     "text": [
      "Fetching focus areas:  80%|███████▉  | 8697/10879 [1:52:09<24:58,  1.46it/s]"
     ]
    },
    {
     "name": "stdout",
     "output_type": "stream",
     "text": [
      "[!] Failed for slug: andy-palmer - status 502\n"
     ]
    },
    {
     "name": "stderr",
     "output_type": "stream",
     "text": [
      "Fetching focus areas:  80%|███████▉  | 8698/10879 [1:52:10<25:07,  1.45it/s]"
     ]
    },
    {
     "name": "stdout",
     "output_type": "stream",
     "text": [
      "[!] Failed for slug: enke-bashllari - status 502\n"
     ]
    },
    {
     "name": "stderr",
     "output_type": "stream",
     "text": [
      "Fetching focus areas:  80%|███████▉  | 8699/10879 [1:52:11<24:44,  1.47it/s]"
     ]
    },
    {
     "name": "stdout",
     "output_type": "stream",
     "text": [
      "[!] Failed for slug: polymesh - status 502\n"
     ]
    },
    {
     "name": "stderr",
     "output_type": "stream",
     "text": [
      "Fetching focus areas:  80%|███████▉  | 8700/10879 [1:52:12<25:05,  1.45it/s]"
     ]
    },
    {
     "name": "stdout",
     "output_type": "stream",
     "text": [
      "[!] Failed for slug: yvonne-hao - status 502\n"
     ]
    },
    {
     "name": "stderr",
     "output_type": "stream",
     "text": [
      "Fetching focus areas:  80%|███████▉  | 8701/10879 [1:52:12<25:21,  1.43it/s]"
     ]
    },
    {
     "name": "stdout",
     "output_type": "stream",
     "text": [
      "[!] Failed for slug: will-ahmed - status 502\n"
     ]
    },
    {
     "name": "stderr",
     "output_type": "stream",
     "text": [
      "Fetching focus areas:  80%|███████▉  | 8702/10879 [1:52:13<25:07,  1.44it/s]"
     ]
    },
    {
     "name": "stdout",
     "output_type": "stream",
     "text": [
      "[!] Failed for slug: alexandra-drane - status 502\n"
     ]
    },
    {
     "name": "stderr",
     "output_type": "stream",
     "text": [
      "Fetching focus areas:  80%|███████▉  | 8703/10879 [1:52:14<25:03,  1.45it/s]"
     ]
    },
    {
     "name": "stdout",
     "output_type": "stream",
     "text": [
      "[!] Failed for slug: benoit-pagotto - status 502\n"
     ]
    },
    {
     "name": "stderr",
     "output_type": "stream",
     "text": [
      "Fetching focus areas:  80%|████████  | 8704/10879 [1:52:14<24:46,  1.46it/s]"
     ]
    },
    {
     "name": "stdout",
     "output_type": "stream",
     "text": [
      "[!] Failed for slug: big-success-global-limited - status 502\n"
     ]
    },
    {
     "name": "stderr",
     "output_type": "stream",
     "text": [
      "Fetching focus areas:  80%|████████  | 8705/10879 [1:52:15<24:50,  1.46it/s]"
     ]
    },
    {
     "name": "stdout",
     "output_type": "stream",
     "text": [
      "[!] Failed for slug: chris-le - status 502\n"
     ]
    },
    {
     "name": "stderr",
     "output_type": "stream",
     "text": [
      "Fetching focus areas:  80%|████████  | 8706/10879 [1:52:16<24:38,  1.47it/s]"
     ]
    },
    {
     "name": "stdout",
     "output_type": "stream",
     "text": [
      "[!] Failed for slug: jerod-mayo - status 502\n"
     ]
    },
    {
     "name": "stderr",
     "output_type": "stream",
     "text": [
      "Fetching focus areas:  80%|████████  | 8707/10879 [1:52:16<24:26,  1.48it/s]"
     ]
    },
    {
     "name": "stdout",
     "output_type": "stream",
     "text": [
      "[!] Failed for slug: john-capodilupo - status 502\n"
     ]
    },
    {
     "name": "stderr",
     "output_type": "stream",
     "text": [
      "Fetching focus areas:  83%|████████▎ | 9040/10879 [1:56:15<22:21,  1.37it/s]"
     ]
    },
    {
     "name": "stdout",
     "output_type": "stream",
     "text": [
      "[!] Failed for slug: tony-robbins - status 502\n"
     ]
    },
    {
     "name": "stderr",
     "output_type": "stream",
     "text": [
      "Fetching focus areas:  83%|████████▎ | 9041/10879 [1:56:16<22:31,  1.36it/s]"
     ]
    },
    {
     "name": "stdout",
     "output_type": "stream",
     "text": [
      "[!] Failed for slug: xavier-niel - status 502\n"
     ]
    },
    {
     "name": "stderr",
     "output_type": "stream",
     "text": [
      "Fetching focus areas:  83%|████████▎ | 9042/10879 [1:56:17<22:27,  1.36it/s]"
     ]
    },
    {
     "name": "stdout",
     "output_type": "stream",
     "text": [
      "[!] Failed for slug: adam-ghobarah - status 502\n"
     ]
    },
    {
     "name": "stderr",
     "output_type": "stream",
     "text": [
      "Fetching focus areas:  83%|████████▎ | 9043/10879 [1:56:17<22:03,  1.39it/s]"
     ]
    },
    {
     "name": "stdout",
     "output_type": "stream",
     "text": [
      "[!] Failed for slug: alexandre-yazdi - status 502\n"
     ]
    },
    {
     "name": "stderr",
     "output_type": "stream",
     "text": [
      "Fetching focus areas:  83%|████████▎ | 9044/10879 [1:56:18<21:42,  1.41it/s]"
     ]
    },
    {
     "name": "stdout",
     "output_type": "stream",
     "text": [
      "[!] Failed for slug: alexis-teplitchi - status 502\n"
     ]
    },
    {
     "name": "stderr",
     "output_type": "stream",
     "text": [
      "Fetching focus areas:  83%|████████▎ | 9045/10879 [1:56:19<21:40,  1.41it/s]"
     ]
    },
    {
     "name": "stdout",
     "output_type": "stream",
     "text": [
      "[!] Failed for slug: antoine-cardoso - status 502\n"
     ]
    },
    {
     "name": "stderr",
     "output_type": "stream",
     "text": [
      "Fetching focus areas:  83%|████████▎ | 9046/10879 [1:56:19<21:53,  1.40it/s]"
     ]
    },
    {
     "name": "stdout",
     "output_type": "stream",
     "text": [
      "[!] Failed for slug: arthur-safaryan - status 502\n"
     ]
    },
    {
     "name": "stderr",
     "output_type": "stream",
     "text": [
      "Fetching focus areas:  83%|████████▎ | 9047/10879 [1:56:20<21:48,  1.40it/s]"
     ]
    },
    {
     "name": "stdout",
     "output_type": "stream",
     "text": [
      "[!] Failed for slug: carlos-diaz - status 502\n"
     ]
    },
    {
     "name": "stderr",
     "output_type": "stream",
     "text": [
      "Fetching focus areas:  83%|████████▎ | 9048/10879 [1:56:21<21:47,  1.40it/s]"
     ]
    },
    {
     "name": "stdout",
     "output_type": "stream",
     "text": [
      "[!] Failed for slug: cesc-fabregas - status 502\n"
     ]
    },
    {
     "name": "stderr",
     "output_type": "stream",
     "text": [
      "Fetching focus areas:  83%|████████▎ | 9049/10879 [1:56:22<21:34,  1.41it/s]"
     ]
    },
    {
     "name": "stdout",
     "output_type": "stream",
     "text": [
      "[!] Failed for slug: clara-deletraz - status 502\n"
     ]
    },
    {
     "name": "stderr",
     "output_type": "stream",
     "text": [
      "Fetching focus areas:  83%|████████▎ | 9050/10879 [1:56:22<22:14,  1.37it/s]"
     ]
    },
    {
     "name": "stdout",
     "output_type": "stream",
     "text": [
      "[!] Failed for slug: dimitri-farber - status 502\n"
     ]
    },
    {
     "name": "stderr",
     "output_type": "stream",
     "text": [
      "Fetching focus areas:  83%|████████▎ | 9051/10879 [1:56:23<21:38,  1.41it/s]"
     ]
    },
    {
     "name": "stdout",
     "output_type": "stream",
     "text": [
      "[!] Failed for slug: frederic-colas - status 502\n"
     ]
    },
    {
     "name": "stderr",
     "output_type": "stream",
     "text": [
      "Fetching focus areas:  83%|████████▎ | 9052/10879 [1:56:24<21:06,  1.44it/s]"
     ]
    },
    {
     "name": "stdout",
     "output_type": "stream",
     "text": [
      "[!] Failed for slug: gustavo-menezes - status 502\n"
     ]
    },
    {
     "name": "stderr",
     "output_type": "stream",
     "text": [
      "Fetching focus areas:  83%|████████▎ | 9053/10879 [1:56:24<21:03,  1.45it/s]"
     ]
    },
    {
     "name": "stdout",
     "output_type": "stream",
     "text": [
      "[!] Failed for slug: hugo-mercier - status 502\n"
     ]
    },
    {
     "name": "stderr",
     "output_type": "stream",
     "text": [
      "Fetching focus areas:  83%|████████▎ | 9054/10879 [1:56:25<21:00,  1.45it/s]"
     ]
    },
    {
     "name": "stdout",
     "output_type": "stream",
     "text": [
      "[!] Failed for slug: jacob-riglin - status 502\n"
     ]
    },
    {
     "name": "stderr",
     "output_type": "stream",
     "text": [
      "Fetching focus areas:  84%|████████▍ | 9171/10879 [1:57:54<20:50,  1.37it/s]"
     ]
    },
    {
     "name": "stdout",
     "output_type": "stream",
     "text": [
      "[!] Failed for slug: spencer-rascoff - status 502\n"
     ]
    },
    {
     "name": "stderr",
     "output_type": "stream",
     "text": [
      "Fetching focus areas:  84%|████████▍ | 9172/10879 [1:57:54<20:16,  1.40it/s]"
     ]
    },
    {
     "name": "stdout",
     "output_type": "stream",
     "text": [
      "[!] Failed for slug: angelxai - status 502\n"
     ]
    },
    {
     "name": "stderr",
     "output_type": "stream",
     "text": [
      "Fetching focus areas:  84%|████████▍ | 9173/10879 [1:57:55<20:46,  1.37it/s]"
     ]
    },
    {
     "name": "stdout",
     "output_type": "stream",
     "text": [
      "[!] Failed for slug: carlos-aria - status 502\n"
     ]
    },
    {
     "name": "stderr",
     "output_type": "stream",
     "text": [
      "Fetching focus areas:  84%|████████▍ | 9174/10879 [1:57:56<20:08,  1.41it/s]"
     ]
    },
    {
     "name": "stdout",
     "output_type": "stream",
     "text": [
      "[!] Failed for slug: daniel-sommer - status 502\n"
     ]
    },
    {
     "name": "stderr",
     "output_type": "stream",
     "text": [
      "Fetching focus areas:  84%|████████▍ | 9175/10879 [1:57:57<19:50,  1.43it/s]"
     ]
    },
    {
     "name": "stdout",
     "output_type": "stream",
     "text": [
      "[!] Failed for slug: desiree-gruber - status 502\n"
     ]
    },
    {
     "name": "stderr",
     "output_type": "stream",
     "text": [
      "Fetching focus areas:  84%|████████▍ | 9176/10879 [1:57:57<19:46,  1.44it/s]"
     ]
    },
    {
     "name": "stdout",
     "output_type": "stream",
     "text": [
      "[!] Failed for slug: jason-lau - status 502\n"
     ]
    },
    {
     "name": "stderr",
     "output_type": "stream",
     "text": [
      "Fetching focus areas:  84%|████████▍ | 9177/10879 [1:57:58<19:55,  1.42it/s]"
     ]
    },
    {
     "name": "stdout",
     "output_type": "stream",
     "text": [
      "[!] Failed for slug: mike-ouye - status 502\n"
     ]
    },
    {
     "name": "stderr",
     "output_type": "stream",
     "text": [
      "Fetching focus areas:  84%|████████▍ | 9178/10879 [1:57:59<20:11,  1.40it/s]"
     ]
    },
    {
     "name": "stdout",
     "output_type": "stream",
     "text": [
      "[!] Failed for slug: reade-seiff - status 502\n"
     ]
    },
    {
     "name": "stderr",
     "output_type": "stream",
     "text": [
      "Fetching focus areas:  84%|████████▍ | 9179/10879 [1:57:59<19:46,  1.43it/s]"
     ]
    },
    {
     "name": "stdout",
     "output_type": "stream",
     "text": [
      "[!] Failed for slug: rudycline - status 502\n"
     ]
    },
    {
     "name": "stderr",
     "output_type": "stream",
     "text": [
      "Fetching focus areas:  84%|████████▍ | 9180/10879 [1:58:00<19:37,  1.44it/s]"
     ]
    },
    {
     "name": "stdout",
     "output_type": "stream",
     "text": [
      "[!] Failed for slug: ying-tong - status 502\n"
     ]
    },
    {
     "name": "stderr",
     "output_type": "stream",
     "text": [
      "Fetching focus areas:  84%|████████▍ | 9181/10879 [1:58:01<19:29,  1.45it/s]"
     ]
    },
    {
     "name": "stdout",
     "output_type": "stream",
     "text": [
      "[!] Failed for slug: joerivgeelen - status 502\n"
     ]
    },
    {
     "name": "stderr",
     "output_type": "stream",
     "text": [
      "Fetching focus areas:  84%|████████▍ | 9182/10879 [1:58:01<19:23,  1.46it/s]"
     ]
    },
    {
     "name": "stdout",
     "output_type": "stream",
     "text": [
      "[!] Failed for slug: pamir-gelenbe - status 502\n"
     ]
    },
    {
     "name": "stderr",
     "output_type": "stream",
     "text": [
      "Fetching focus areas:  84%|████████▍ | 9183/10879 [1:58:02<19:44,  1.43it/s]"
     ]
    },
    {
     "name": "stdout",
     "output_type": "stream",
     "text": [
      "[!] Failed for slug: will-villanueva - status 502\n"
     ]
    },
    {
     "name": "stderr",
     "output_type": "stream",
     "text": [
      "Fetching focus areas:  84%|████████▍ | 9184/10879 [1:58:03<20:09,  1.40it/s]"
     ]
    },
    {
     "name": "stdout",
     "output_type": "stream",
     "text": [
      "[!] Failed for slug: aaronchoi - status 502\n"
     ]
    },
    {
     "name": "stderr",
     "output_type": "stream",
     "text": [
      "Fetching focus areas:  84%|████████▍ | 9185/10879 [1:58:04<20:05,  1.41it/s]"
     ]
    },
    {
     "name": "stdout",
     "output_type": "stream",
     "text": [
      "[!] Failed for slug: alex-lange - status 502\n"
     ]
    },
    {
     "name": "stderr",
     "output_type": "stream",
     "text": [
      "Fetching focus areas:  84%|████████▍ | 9186/10879 [1:58:04<19:53,  1.42it/s]"
     ]
    },
    {
     "name": "stdout",
     "output_type": "stream",
     "text": [
      "[!] Failed for slug: ali-rowghani - status 502\n"
     ]
    },
    {
     "name": "stderr",
     "output_type": "stream",
     "text": [
      "Fetching focus areas:  86%|████████▌ | 9351/10879 [2:00:06<18:10,  1.40it/s]"
     ]
    },
    {
     "name": "stdout",
     "output_type": "stream",
     "text": [
      "[!] Failed for slug: gengmo-qi - status 502\n"
     ]
    },
    {
     "name": "stderr",
     "output_type": "stream",
     "text": [
      "Fetching focus areas:  86%|████████▌ | 9352/10879 [2:00:07<17:55,  1.42it/s]"
     ]
    },
    {
     "name": "stdout",
     "output_type": "stream",
     "text": [
      "[!] Failed for slug: ian-lam - status 502\n"
     ]
    },
    {
     "name": "stderr",
     "output_type": "stream",
     "text": [
      "Fetching focus areas:  86%|████████▌ | 9353/10879 [2:00:08<17:43,  1.44it/s]"
     ]
    },
    {
     "name": "stdout",
     "output_type": "stream",
     "text": [
      "[!] Failed for slug: ivan-lam - status 502\n"
     ]
    },
    {
     "name": "stderr",
     "output_type": "stream",
     "text": [
      "Fetching focus areas:  86%|████████▌ | 9354/10879 [2:00:08<17:20,  1.47it/s]"
     ]
    },
    {
     "name": "stdout",
     "output_type": "stream",
     "text": [
      "[!] Failed for slug: nyanqueen-wengie - status 502\n"
     ]
    },
    {
     "name": "stderr",
     "output_type": "stream",
     "text": [
      "Fetching focus areas:  86%|████████▌ | 9355/10879 [2:00:09<17:14,  1.47it/s]"
     ]
    },
    {
     "name": "stdout",
     "output_type": "stream",
     "text": [
      "[!] Failed for slug: quentin-vanoekel - status 502\n"
     ]
    },
    {
     "name": "stderr",
     "output_type": "stream",
     "text": [
      "Fetching focus areas:  86%|████████▌ | 9356/10879 [2:00:10<17:04,  1.49it/s]"
     ]
    },
    {
     "name": "stdout",
     "output_type": "stream",
     "text": [
      "[!] Failed for slug: ron-hose - status 502\n"
     ]
    },
    {
     "name": "stderr",
     "output_type": "stream",
     "text": [
      "Fetching focus areas:  86%|████████▌ | 9357/10879 [2:00:10<17:08,  1.48it/s]"
     ]
    },
    {
     "name": "stdout",
     "output_type": "stream",
     "text": [
      "[!] Failed for slug: seref-beverli - status 502\n"
     ]
    },
    {
     "name": "stderr",
     "output_type": "stream",
     "text": [
      "Fetching focus areas:  86%|████████▌ | 9358/10879 [2:00:11<16:58,  1.49it/s]"
     ]
    },
    {
     "name": "stdout",
     "output_type": "stream",
     "text": [
      "[!] Failed for slug: sergei-chan - status 502\n"
     ]
    },
    {
     "name": "stderr",
     "output_type": "stream",
     "text": [
      "Fetching focus areas:  89%|████████▊ | 9630/10879 [2:03:28<15:08,  1.38it/s]"
     ]
    },
    {
     "name": "stdout",
     "output_type": "stream",
     "text": [
      "[!] Failed for slug: cyrus-ismoney-eth - status 502\n"
     ]
    },
    {
     "name": "stderr",
     "output_type": "stream",
     "text": [
      "Fetching focus areas:  89%|████████▊ | 9631/10879 [2:03:28<15:10,  1.37it/s]"
     ]
    },
    {
     "name": "stdout",
     "output_type": "stream",
     "text": [
      "[!] Failed for slug: danny-shader - status 502\n"
     ]
    },
    {
     "name": "stderr",
     "output_type": "stream",
     "text": [
      "Fetching focus areas:  89%|████████▊ | 9632/10879 [2:03:29<14:50,  1.40it/s]"
     ]
    },
    {
     "name": "stdout",
     "output_type": "stream",
     "text": [
      "[!] Failed for slug: david-finzer - status 502\n"
     ]
    },
    {
     "name": "stderr",
     "output_type": "stream",
     "text": [
      "Fetching focus areas:  89%|████████▊ | 9633/10879 [2:03:30<14:36,  1.42it/s]"
     ]
    },
    {
     "name": "stdout",
     "output_type": "stream",
     "text": [
      "[!] Failed for slug: david-goldberg - status 502\n"
     ]
    },
    {
     "name": "stderr",
     "output_type": "stream",
     "text": [
      "Fetching focus areas:  89%|████████▊ | 9634/10879 [2:03:30<14:32,  1.43it/s]"
     ]
    },
    {
     "name": "stdout",
     "output_type": "stream",
     "text": [
      "[!] Failed for slug: david-j-rodriguez - status 502\n"
     ]
    },
    {
     "name": "stderr",
     "output_type": "stream",
     "text": [
      "Fetching focus areas:  89%|████████▊ | 9635/10879 [2:03:31<14:20,  1.45it/s]"
     ]
    },
    {
     "name": "stdout",
     "output_type": "stream",
     "text": [
      "[!] Failed for slug: defidollar-finance - status 502\n"
     ]
    },
    {
     "name": "stderr",
     "output_type": "stream",
     "text": [
      "Fetching focus areas:  89%|████████▊ | 9636/10879 [2:03:32<14:18,  1.45it/s]"
     ]
    },
    {
     "name": "stdout",
     "output_type": "stream",
     "text": [
      "[!] Failed for slug: dennis-fong - status 502\n"
     ]
    },
    {
     "name": "stderr",
     "output_type": "stream",
     "text": [
      "Fetching focus areas:  89%|████████▊ | 9637/10879 [2:03:33<14:08,  1.46it/s]"
     ]
    },
    {
     "name": "stdout",
     "output_type": "stream",
     "text": [
      "[!] Failed for slug: derek-edws - status 502\n"
     ]
    },
    {
     "name": "stderr",
     "output_type": "stream",
     "text": [
      "Fetching focus areas:  89%|████████▊ | 9638/10879 [2:03:33<14:02,  1.47it/s]"
     ]
    },
    {
     "name": "stdout",
     "output_type": "stream",
     "text": [
      "[!] Failed for slug: diane-dai - status 502\n"
     ]
    },
    {
     "name": "stderr",
     "output_type": "stream",
     "text": [
      "Fetching focus areas:  89%|████████▊ | 9639/10879 [2:03:34<14:06,  1.46it/s]"
     ]
    },
    {
     "name": "stdout",
     "output_type": "stream",
     "text": [
      "[!] Failed for slug: digital-humanism - status 502\n"
     ]
    },
    {
     "name": "stderr",
     "output_type": "stream",
     "text": [
      "Fetching focus areas:  89%|████████▊ | 9640/10879 [2:03:35<14:22,  1.44it/s]"
     ]
    },
    {
     "name": "stdout",
     "output_type": "stream",
     "text": [
      "[!] Failed for slug: eden-chen - status 502\n"
     ]
    },
    {
     "name": "stderr",
     "output_type": "stream",
     "text": [
      "Fetching focus areas:  89%|████████▊ | 9641/10879 [2:03:35<14:13,  1.45it/s]"
     ]
    },
    {
     "name": "stdout",
     "output_type": "stream",
     "text": [
      "[!] Failed for slug: edward-wu - status 502\n"
     ]
    },
    {
     "name": "stderr",
     "output_type": "stream",
     "text": [
      "Fetching focus areas:  89%|████████▊ | 9642/10879 [2:03:36<14:09,  1.46it/s]"
     ]
    },
    {
     "name": "stdout",
     "output_type": "stream",
     "text": [
      "[!] Failed for slug: gary-marino - status 502\n"
     ]
    },
    {
     "name": "stderr",
     "output_type": "stream",
     "text": [
      "Fetching focus areas:  89%|████████▊ | 9643/10879 [2:03:37<14:05,  1.46it/s]"
     ]
    },
    {
     "name": "stdout",
     "output_type": "stream",
     "text": [
      "[!] Failed for slug: greg-sands - status 502\n"
     ]
    },
    {
     "name": "stderr",
     "output_type": "stream",
     "text": [
      "Fetching focus areas:  89%|████████▊ | 9644/10879 [2:03:37<14:26,  1.43it/s]"
     ]
    },
    {
     "name": "stdout",
     "output_type": "stream",
     "text": [
      "[!] Failed for slug: guy-gal - status 502\n"
     ]
    },
    {
     "name": "stderr",
     "output_type": "stream",
     "text": [
      "Fetching focus areas:  89%|████████▊ | 9645/10879 [2:03:38<14:12,  1.45it/s]"
     ]
    },
    {
     "name": "stdout",
     "output_type": "stream",
     "text": [
      "[!] Failed for slug: harry-hurst - status 502\n"
     ]
    },
    {
     "name": "stderr",
     "output_type": "stream",
     "text": [
      "Fetching focus areas:  90%|█████████ | 9816/10879 [2:05:44<12:57,  1.37it/s]"
     ]
    },
    {
     "name": "stdout",
     "output_type": "stream",
     "text": [
      "[!] Failed for slug: chavamon-vinijtrongjit - status 502\n"
     ]
    },
    {
     "name": "stderr",
     "output_type": "stream",
     "text": [
      "Fetching focus areas:  90%|█████████ | 9817/10879 [2:05:44<12:42,  1.39it/s]"
     ]
    },
    {
     "name": "stdout",
     "output_type": "stream",
     "text": [
      "[!] Failed for slug: chris-gonsalves - status 502\n"
     ]
    },
    {
     "name": "stderr",
     "output_type": "stream",
     "text": [
      "Fetching focus areas:  90%|█████████ | 9818/10879 [2:05:45<12:30,  1.41it/s]"
     ]
    },
    {
     "name": "stdout",
     "output_type": "stream",
     "text": [
      "[!] Failed for slug: george-chu - status 502\n"
     ]
    },
    {
     "name": "stderr",
     "output_type": "stream",
     "text": [
      "Fetching focus areas:  90%|█████████ | 9819/10879 [2:05:46<12:28,  1.42it/s]"
     ]
    },
    {
     "name": "stdout",
     "output_type": "stream",
     "text": [
      "[!] Failed for slug: grayson-allen - status 502\n"
     ]
    },
    {
     "name": "stderr",
     "output_type": "stream",
     "text": [
      "Fetching focus areas:  90%|█████████ | 9820/10879 [2:05:47<12:25,  1.42it/s]"
     ]
    },
    {
     "name": "stdout",
     "output_type": "stream",
     "text": [
      "[!] Failed for slug: ken-berger - status 502\n"
     ]
    },
    {
     "name": "stderr",
     "output_type": "stream",
     "text": [
      "Fetching focus areas:  90%|█████████ | 9821/10879 [2:05:47<12:21,  1.43it/s]"
     ]
    },
    {
     "name": "stdout",
     "output_type": "stream",
     "text": [
      "[!] Failed for slug: kimiko-doan - status 502\n"
     ]
    },
    {
     "name": "stderr",
     "output_type": "stream",
     "text": [
      "Fetching focus areas:  90%|█████████ | 9822/10879 [2:05:48<12:13,  1.44it/s]"
     ]
    },
    {
     "name": "stdout",
     "output_type": "stream",
     "text": [
      "[!] Failed for slug: kola-aina - status 502\n"
     ]
    },
    {
     "name": "stderr",
     "output_type": "stream",
     "text": [
      "Fetching focus areas:  90%|█████████ | 9823/10879 [2:05:49<12:26,  1.42it/s]"
     ]
    },
    {
     "name": "stdout",
     "output_type": "stream",
     "text": [
      "[!] Failed for slug: michael-ugwu - status 502\n"
     ]
    },
    {
     "name": "stderr",
     "output_type": "stream",
     "text": [
      "Fetching focus areas:  90%|█████████ | 9824/10879 [2:05:49<12:25,  1.42it/s]"
     ]
    },
    {
     "name": "stdout",
     "output_type": "stream",
     "text": [
      "[!] Failed for slug: oluwatobi-soyombo - status 502\n"
     ]
    },
    {
     "name": "stderr",
     "output_type": "stream",
     "text": [
      "Fetching focus areas:  90%|█████████ | 9825/10879 [2:05:50<13:05,  1.34it/s]"
     ]
    },
    {
     "name": "stdout",
     "output_type": "stream",
     "text": [
      "[!] Failed for slug: parinya-narkprasert - status 502\n"
     ]
    },
    {
     "name": "stderr",
     "output_type": "stream",
     "text": [
      "Fetching focus areas:  90%|█████████ | 9826/10879 [2:05:51<12:47,  1.37it/s]"
     ]
    },
    {
     "name": "stdout",
     "output_type": "stream",
     "text": [
      "[!] Failed for slug: steven-bryson-haynes - status 502\n"
     ]
    },
    {
     "name": "stderr",
     "output_type": "stream",
     "text": [
      "Fetching focus areas:  90%|█████████ | 9827/10879 [2:05:52<13:49,  1.27it/s]"
     ]
    },
    {
     "name": "stdout",
     "output_type": "stream",
     "text": [
      "[!] Failed for slug: willow-li - status 502\n"
     ]
    },
    {
     "name": "stderr",
     "output_type": "stream",
     "text": [
      "Fetching focus areas:  90%|█████████ | 9828/10879 [2:05:52<13:07,  1.34it/s]"
     ]
    },
    {
     "name": "stdout",
     "output_type": "stream",
     "text": [
      "[!] Failed for slug: wraya - status 502\n"
     ]
    },
    {
     "name": "stderr",
     "output_type": "stream",
     "text": [
      "Fetching focus areas:  90%|█████████ | 9829/10879 [2:05:53<12:45,  1.37it/s]"
     ]
    },
    {
     "name": "stdout",
     "output_type": "stream",
     "text": [
      "[!] Failed for slug: fred-ehrsam - status 502\n"
     ]
    },
    {
     "name": "stderr",
     "output_type": "stream",
     "text": [
      "Fetching focus areas:  90%|█████████ | 9830/10879 [2:05:54<12:27,  1.40it/s]"
     ]
    },
    {
     "name": "stdout",
     "output_type": "stream",
     "text": [
      "[!] Failed for slug: joe-lonsdale - status 502\n"
     ]
    },
    {
     "name": "stderr",
     "output_type": "stream",
     "text": [
      "Fetching focus areas: 100%|██████████| 10879/10879 [2:19:47<00:00,  1.30it/s]"
     ]
    },
    {
     "name": "stdout",
     "output_type": "stream",
     "text": [
      "✅ Focus area data saved to all_focus_areas.csv\n"
     ]
    },
    {
     "name": "stderr",
     "output_type": "stream",
     "text": [
      "\n"
     ]
    }
   ],
   "source": [
    "# 📦 1. Setup\n",
    "import pandas as pd\n",
    "import requests\n",
    "import time\n",
    "from tqdm import tqdm\n",
    "\n",
    "# 📄 2. Load your fund slugs\n",
    "funds_df = pd.read_csv(\"funds_details.csv\")\n",
    "slugs = funds_df.iloc[:, 0].dropna().unique().tolist()\n",
    "\n",
    "# 📊 3. Prepare the result container\n",
    "all_focus_areas = []\n",
    "\n",
    "# 🌐 4. API Endpoint\n",
    "BASE_URL = \"https://api.cryptorank.io/v0/coin-funds/focus-area/\"\n",
    "\n",
    "# 🔁 5. Loop through slugs and collect data\n",
    "for slug in tqdm(slugs, desc=\"Fetching focus areas\"):\n",
    "    try:\n",
    "        response = requests.get(f\"{BASE_URL}{slug}\", timeout=10)\n",
    "        if response.status_code == 200:\n",
    "            data = response.json().get(\"data\", [])\n",
    "            for item in data:\n",
    "                all_focus_areas.append({\n",
    "                    \"fund_slug\": slug,\n",
    "                    \"tag\": item.get(\"tag\", \"\"),\n",
    "                    \"count\": item.get(\"count\", 0),\n",
    "                    \"percent\": item.get(\"percent\", 0)\n",
    "                })\n",
    "        else:\n",
    "            print(f\"[!] Failed for slug: {slug} - status {response.status_code}\")\n",
    "    except Exception as e:\n",
    "        print(f\"[!] Error for slug {slug}: {e}\")\n",
    "    time.sleep(0.5)  # 🕒 Optional: polite rate-limiting\n",
    "\n",
    "# 🧮 6. Save to a DataFrame and CSV\n",
    "focus_df = pd.DataFrame(all_focus_areas)\n",
    "focus_df.to_csv(\"all_focus_areas.csv\", index=False)\n",
    "\n",
    "print(\"✅ Focus area data saved to all_focus_areas.csv\")\n"
   ]
  },
  {
   "cell_type": "code",
   "execution_count": 2,
   "id": "e37ce21d",
   "metadata": {},
   "outputs": [
    {
     "name": "stdout",
     "output_type": "stream",
     "text": [
      "✅ 185 failed slugs extracted.\n",
      "['tokensuite', 'magdalena-kala', 'fenwickwest', 'tony-robbins', 'ying-tong', 'grayson-allen', 'jingyu-xiang', 'baboon-vc', 'alexandra-drane', 'will-ahmed']\n"
     ]
    }
   ],
   "source": [
    "import re\n",
    "\n",
    "# Paste your entire log string here as a single string\n",
    "log_output = \"\"\"Fetching focus areas:  13%|█▎        | 1450/10879 [19:03<1:51:22,  1.41it/s]\n",
    "[!] Failed for slug: baboon-vc - status 502\n",
    "Fetching focus areas:  13%|█▎        | 1451/10879 [19:03<1:48:20,  1.45it/s]\n",
    "[!] Failed for slug: lyrik-ventures - status 502\n",
    "Fetching focus areas:  13%|█▎        | 1452/10879 [19:04<1:47:43,  1.46it/s]\n",
    "[!] Failed for slug: insight-partners - status 502\n",
    "Fetching focus areas:  13%|█▎        | 1453/10879 [19:05<1:48:08,  1.45it/s]\n",
    "[!] Failed for slug: kraynos-capital - status 502\n",
    "Fetching focus areas:  13%|█▎        | 1454/10879 [19:05<1:47:14,  1.46it/s]\n",
    "[!] Failed for slug: thirdweb - status 502\n",
    "Fetching focus areas:  13%|█▎        | 1456/10879 [19:07<1:46:42,  1.47it/s]\n",
    "[!] Failed for slug: morgan-creek-digital - status 502\n",
    "Fetching focus areas:  13%|█▎        | 1457/10879 [19:07<1:46:26,  1.48it/s]\n",
    "[!] Failed for slug: halo-capital - status 502\n",
    "Fetching focus areas:  13%|█▎        | 1458/10879 [19:08<1:45:06,  1.49it/s]\n",
    "[!] Failed for slug: injective-protocol - status 502\n",
    "Fetching focus areas:  13%|█▎        | 1459/10879 [19:09<1:46:04,  1.48it/s]\n",
    "[!] Failed for slug: factor-capital - status 502\n",
    "Fetching focus areas:  13%|█▎        | 1460/10879 [19:09<1:47:29,  1.46it/s]\n",
    "[!] Failed for slug: nimacapital - status 502\n",
    "Fetching focus areas:  13%|█▎        | 1461/10879 [19:10<1:45:31,  1.49it/s]\n",
    "[!] Failed for slug: chaitech-ventures - status 502\n",
    "Fetching focus areas:  13%|█▎        | 1462/10879 [19:11<1:45:51,  1.48it/s]\n",
    "[!] Failed for slug: tezos-foundation - status 502\n",
    "Fetching focus areas:  13%|█▎        | 1463/10879 [19:11<1:45:04,  1.49it/s]\n",
    "[!] Failed for slug: liquid-2-ventures - status 502\n",
    "Fetching focus areas:  13%|█▎        | 1464/10879 [19:12<1:44:08,  1.51it/s]\n",
    "[!] Failed for slug: bullperks - status 502\n",
    "Fetching focus areas:  29%|██▉       | 3152/10879 [40:34<1:48:39,  1.19it/s]\n",
    "[!] Failed for slug: sgh-capital - status 502\n",
    "Fetching focus areas:  29%|██▉       | 3153/10879 [40:35<1:42:56,  1.25it/s]\n",
    "[!] Failed for slug: netzerocapital - status 502\n",
    "Fetching focus areas:  29%|██▉       | 3154/10879 [40:36<1:38:07,  1.31it/s]\n",
    "[!] Failed for slug: 3kvc - status 502\n",
    "Fetching focus areas:  29%|██▉       | 3155/10879 [40:36<1:34:59,  1.36it/s]\n",
    "[!] Failed for slug: motivatevc - status 502\n",
    "Fetching focus areas:  29%|██▉       | 3156/10879 [40:37<1:32:49,  1.39it/s]\n",
    "[!] Failed for slug: ttvcapital - status 502\n",
    "Fetching focus areas:  29%|██▉       | 3157/10879 [40:38<1:31:12,  1.41it/s]\n",
    "[!] Failed for slug: gmo-venture - status 502\n",
    "Fetching focus areas:  29%|██▉       | 3158/10879 [40:39<1:30:27,  1.42it/s]\n",
    "[!] Failed for slug: lateral-capital - status 502\n",
    "Fetching focus areas:  29%|██▉       | 3159/10879 [40:39<1:29:06,  1.44it/s]\n",
    "[!] Failed for slug: iex-group - status 502\n",
    "Fetching focus areas:  29%|██▉       | 3160/10879 [40:40<1:27:55,  1.46it/s]\n",
    "[!] Failed for slug: pearl-abyss-capital - status 502\n",
    "Fetching focus areas:  29%|██▉       | 3161/10879 [40:41<1:27:18,  1.47it/s]\n",
    "[!] Failed for slug: 01-booster - status 502\n",
    "Fetching focus areas:  29%|██▉       | 3162/10879 [40:41<1:27:25,  1.47it/s]\n",
    "[!] Failed for slug: base-capital-partners - status 502\n",
    "Fetching focus areas:  29%|██▉       | 3163/10879 [40:42<1:27:14,  1.47it/s]\n",
    "[!] Failed for slug: leadout-capital - status 502\n",
    "Fetching focus areas:  29%|██▉       | 3164/10879 [40:43<1:26:30,  1.49it/s]\n",
    "[!] Failed for slug: rwe-ventures - status 502\n",
    "Fetching focus areas:  29%|██▉       | 3165/10879 [40:43<1:27:14,  1.47it/s]\n",
    "[!] Failed for slug: alexia-ventures - status 502\n",
    "Fetching focus areas:  29%|██▉       | 3166/10879 [40:44<1:26:49,  1.48it/s]\n",
    "[!] Failed for slug: dob-equity - status 502\n",
    "Fetching focus areas:  33%|███▎      | 3606/10879 [46:27<1:32:37,  1.31it/s]\n",
    "[!] Failed for slug: sosgameguild - status 502\n",
    "Fetching focus areas:  33%|███▎      | 3607/10879 [46:28<1:30:10,  1.34it/s]\n",
    "[!] Failed for slug: ovalventures - status 502\n",
    "Fetching focus areas:  33%|███▎      | 3608/10879 [46:29<1:27:51,  1.38it/s]\n",
    "[!] Failed for slug: uniwhalesio - status 502\n",
    "Fetching focus areas:  33%|███▎      | 3609/10879 [46:29<1:25:52,  1.41it/s]\n",
    "[!] Failed for slug: solanium-ventures - status 502\n",
    "Fetching focus areas:  33%|███▎      | 3610/10879 [46:30<1:24:24,  1.44it/s]\n",
    "[!] Failed for slug: therainegroup - status 502\n",
    "Fetching focus areas:  33%|███▎      | 3611/10879 [46:31<1:23:00,  1.46it/s]\n",
    "[!] Failed for slug: dvtrading - status 502\n",
    "Fetching focus areas:  33%|███▎      | 3612/10879 [46:31<1:21:47,  1.48it/s]\n",
    "[!] Failed for slug: fenwickwest - status 502\n",
    "Fetching focus areas:  33%|███▎      | 3613/10879 [46:32<1:23:58,  1.44it/s]\n",
    "[!] Failed for slug: sparqone - status 502\n",
    "Fetching focus areas:  33%|███▎      | 3614/10879 [46:33<1:23:06,  1.46it/s]\n",
    "[!] Failed for slug: tokenscom - status 502\n",
    "Fetching focus areas:  33%|███▎      | 3615/10879 [46:33<1:23:04,  1.46it/s]\n",
    "[!] Failed for slug: trusttoken - status 502\n",
    "Fetching focus areas:  33%|███▎      | 3616/10879 [46:34<1:21:46,  1.48it/s]\n",
    "[!] Failed for slug: advanceai - status 502\n",
    "Fetching focus areas:  33%|███▎      | 3617/10879 [46:35<1:22:41,  1.46it/s]\n",
    "[!] Failed for slug: berkeleyedu - status 502\n",
    "Fetching focus areas:  33%|███▎      | 3618/10879 [46:35<1:23:09,  1.46it/s]\n",
    "[!] Failed for slug: integrapartners - status 502\n",
    "Fetching focus areas:  33%|███▎      | 3619/10879 [46:36<1:22:07,  1.47it/s]\n",
    "[!] Failed for slug: quantfury - status 502\n",
    "Fetching focus areas:  33%|███▎      | 3620/10879 [46:37<1:21:25,  1.49it/s]\n",
    "[!] Failed for slug: summitpartners - status 502\n",
    "Fetching focus areas:  33%|███▎      | 3621/10879 [46:37<1:22:19,  1.47it/s]\n",
    "[!] Failed for slug: tokensuite - status 502\n",
    "Fetching focus areas:  33%|███▎      | 3624/10879 [46:40<1:45:07,  1.15it/s]\n",
    "[!] Failed for slug: goldenbridgecap - status 502\n",
    "Fetching focus areas:  33%|███▎      | 3625/10879 [46:41<1:38:43,  1.22it/s]\n",
    "[!] Failed for slug: tdbank - status 502\n",
    "Fetching focus areas:  33%|███▎      | 3626/10879 [46:41<1:33:26,  1.29it/s]\n",
    "[!] Failed for slug: tappanhillventures - status 502\n",
    "Fetching focus areas:  33%|███▎      | 3627/10879 [46:42<1:31:39,  1.32it/s]\n",
    "[!] Failed for slug: gbahomeland - status 502\n",
    "Fetching focus areas:  33%|███▎      | 3628/10879 [46:43<1:29:15,  1.35it/s]\n",
    "[!] Failed for slug: securitycapitalcn - status 502\n",
    "Fetching focus areas:  33%|███▎      | 3629/10879 [46:43<1:27:09,  1.39it/s]\n",
    "[!] Failed for slug: blockfi - status 502\n",
    "Fetching focus areas:  33%|███▎      | 3630/10879 [46:44<1:25:06,  1.42it/s]\n",
    "[!] Failed for slug: block-venture - status 502\n",
    "Fetching focus areas:  33%|███▎      | 3631/10879 [46:45<1:22:54,  1.46it/s]\n",
    "[!] Failed for slug: crossbeam - status 502\n",
    "Fetching focus areas:  33%|███▎      | 3632/10879 [46:45<1:22:08,  1.47it/s]\n",
    "[!] Failed for slug: green-bay-ventures - status 502\n",
    "Fetching focus areas:  33%|███▎      | 3633/10879 [46:46<1:21:55,  1.47it/s]\n",
    "[!] Failed for slug: intersectiongp - status 502\n",
    "Fetching focus areas:  33%|███▎      | 3634/10879 [46:47<1:22:45,  1.46it/s]\n",
    "[!] Failed for slug: max-stealth - status 502\n",
    "Fetching focus areas:  33%|███▎      | 3635/10879 [46:48<1:23:43,  1.44it/s]\n",
    "[!] Failed for slug: realventures - status 502\n",
    "Fetching focus areas:  33%|███▎      | 3636/10879 [46:48<1:23:01,  1.45it/s]\n",
    "[!] Failed for slug: august-capital - status 502\n",
    "Fetching focus areas:  35%|███▍      | 3779/10879 [48:36<1:22:33,  1.43it/s]\n",
    "[!] Failed for slug: ilavska-vuillermoz-capital - status 502\n",
    "Fetching focus areas:  35%|███▍      | 3780/10879 [48:36<1:21:23,  1.45it/s]\n",
    "[!] Failed for slug: keen-venture-partners - status 502\n",
    "Fetching focus areas:  35%|███▍      | 3781/10879 [48:37<1:21:17,  1.46it/s]\n",
    "[!] Failed for slug: malibu-point-capital - status 502\n",
    "Fetching focus areas:  35%|███▍      | 3782/10879 [48:38<1:21:54,  1.44it/s]\n",
    "[!] Failed for slug: osage-venture-partners - status 502\n",
    "Fetching focus areas:  35%|███▍      | 3783/10879 [48:39<1:21:19,  1.45it/s]\n",
    "[!] Failed for slug: realvision - status 502\n",
    "Fetching focus areas:  35%|███▍      | 3784/10879 [48:39<1:20:06,  1.48it/s]\n",
    "[!] Failed for slug: sxsw - status 502\n",
    "Fetching focus areas:  35%|███▍      | 3785/10879 [48:40<1:19:52,  1.48it/s]\n",
    "[!] Failed for slug: banca-sella - status 502\n",
    "Fetching focus areas:  35%|███▍      | 3786/10879 [48:41<1:19:17,  1.49it/s]\n",
    "[!] Failed for slug: northpond-ventures - status 502\n",
    "Fetching focus areas:  35%|███▍      | 3787/10879 [48:41<1:19:12,  1.49it/s]\n",
    "[!] Failed for slug: united-ventures - status 502\n",
    "Fetching focus areas:  35%|███▍      | 3788/10879 [48:42<1:19:46,  1.48it/s]\n",
    "[!] Failed for slug: smilegate-investment - status 502\n",
    "Fetching focus areas:  35%|███▍      | 3790/10879 [48:43<1:20:17,  1.47it/s]\n",
    "[!] Failed for slug: expon-capital - status 502\n",
    "Fetching focus areas:  35%|███▍      | 3791/10879 [48:44<1:19:51,  1.48it/s]\n",
    "[!] Failed for slug: kyungdong-invest - status 502\n",
    "Fetching focus areas:  35%|███▍      | 3792/10879 [48:45<1:19:08,  1.49it/s]\n",
    "[!] Failed for slug: metabase - status 502\n",
    "Fetching focus areas:  35%|███▍      | 3793/10879 [48:45<1:18:53,  1.50it/s]\n",
    "[!] Failed for slug: nanuhm-angels - status 502\n",
    "Fetching focus areas:  45%|████▍     | 4862/10879 [1:02:32<2:30:20,  1.50s/it]\n",
    "[!] Error for slug zag-capital: HTTPSConnectionPool(host='api.cryptorank.io', port=443): Read timed out. (read timeout=10)\n",
    "Fetching focus areas:  53%|█████▎    | 5814/10879 [1:15:25<1:03:12,  1.34it/s]\n",
    "[!] Failed for slug: xin-enterprise - status 502\n",
    "Fetching focus areas:  53%|█████▎    | 5815/10879 [1:15:26<1:04:03,  1.32it/s]\n",
    "[!] Failed for slug: moonshot-research - status 502\n",
    "Fetching focus areas:  53%|█████▎    | 5816/10879 [1:15:27<1:01:45,  1.37it/s]\n",
    "[!] Failed for slug: cavalry-asset-management - status 502\n",
    "Fetching focus areas:  53%|█████▎    | 5817/10879 [1:15:28<1:02:20,  1.35it/s]\n",
    "[!] Failed for slug: switchboard - status 502\n",
    "Fetching focus areas:  53%|█████▎    | 5818/10879 [1:15:28<59:59,  1.41it/s]  \n",
    "[!] Failed for slug: eberg-capital - status 502\n",
    "Fetching focus areas:  53%|█████▎    | 5819/10879 [1:15:29<58:45,  1.44it/s]\n",
    "[!] Failed for slug: kingscrowd - status 502\n",
    "Fetching focus areas:  53%|█████▎    | 5820/10879 [1:15:30<57:58,  1.45it/s]\n",
    "[!] Failed for slug: firestone-ventures - status 502\n",
    "Fetching focus areas:  54%|█████▎    | 5821/10879 [1:15:30<57:12,  1.47it/s]\n",
    "[!] Failed for slug: yzb-investment - status 502\n",
    "Fetching focus areas:  54%|█████▎    | 5822/10879 [1:15:31<58:18,  1.45it/s]\n",
    "[!] Failed for slug: caica-digital - status 502\n",
    "Fetching focus areas:  54%|█████▎    | 5823/10879 [1:15:32<1:00:36,  1.39it/s]\n",
    "[!] Failed for slug: colorfulmarketing - status 502\n",
    "Fetching focus areas:  54%|█████▎    | 5824/10879 [1:15:33<1:08:38,  1.23it/s]\n",
    "[!] Failed for slug: kingdomverse - status 502\n",
    "Fetching focus areas:  54%|█████▎    | 5825/10879 [1:15:34<1:04:31,  1.31it/s]\n",
    "[!] Failed for slug: vector-inc - status 502\n",
    "Fetching focus areas:  54%|█████▎    | 5826/10879 [1:15:34<1:01:52,  1.36it/s]\n",
    "[!] Failed for slug: fugazi-labs - status 502\n",
    "Fetching focus areas:  54%|█████▎    | 5827/10879 [1:15:35<59:56,  1.40it/s]  \n",
    "[!] Failed for slug: first-light-capital-group - status 502\n",
    "Fetching focus areas:  54%|█████▍    | 5905/10879 [1:16:34<1:06:55,  1.24it/s]\n",
    "[!] Failed for slug: wb_capital - status 502\n",
    "Fetching focus areas:  54%|█████▍    | 5906/10879 [1:16:35<1:04:58,  1.28it/s]\n",
    "[!] Failed for slug: inventusvc - status 502\n",
    "Fetching focus areas:  54%|█████▍    | 5907/10879 [1:16:36<1:04:14,  1.29it/s]\n",
    "[!] Failed for slug: airinifund - status 502\n",
    "Fetching focus areas:  54%|█████▍    | 5908/10879 [1:16:36<1:03:38,  1.30it/s]\n",
    "[!] Failed for slug: alphacitadel - status 502\n",
    "Fetching focus areas:  54%|█████▍    | 5909/10879 [1:16:37<1:01:36,  1.34it/s]\n",
    "[!] Failed for slug: fyfventures - status 502\n",
    "Fetching focus areas:  54%|█████▍    | 5910/10879 [1:16:38<59:46,  1.39it/s]  \n",
    "[!] Failed for slug: fyrflyvc - status 502\n",
    "Fetching focus areas:  54%|█████▍    | 5911/10879 [1:16:39<1:00:35,  1.37it/s]\n",
    "[!] Failed for slug: greymattercap - status 502\n",
    "Fetching focus areas:  54%|█████▍    | 5912/10879 [1:16:39<1:00:22,  1.37it/s]\n",
    "[!] Failed for slug: whiterhinocap - status 502\n",
    "Fetching focus areas:  54%|█████▍    | 5913/10879 [1:16:40<1:00:36,  1.37it/s]\n",
    "[!] Failed for slug: medici-investment - status 502\n",
    "Fetching focus areas:  54%|█████▍    | 5914/10879 [1:16:41<59:46,  1.38it/s]  \n",
    "[!] Failed for slug: ulmusinvestment - status 502\n",
    "Fetching focus areas:  54%|█████▍    | 5915/10879 [1:16:42<1:00:56,  1.36it/s]\n",
    "[!] Failed for slug: socialleverage - status 502\n",
    "Fetching focus areas:  54%|█████▍    | 5916/10879 [1:16:42<1:00:30,  1.37it/s]\n",
    "[!] Failed for slug: boxonexyz - status 502\n",
    "Fetching focus areas:  54%|█████▍    | 5917/10879 [1:16:43<1:00:57,  1.36it/s]\n",
    "[!] Failed for slug: cueballcapital - status 502\n",
    "Fetching focus areas:  54%|█████▍    | 5918/10879 [1:16:44<1:01:01,  1.35it/s]\n",
    "[!] Failed for slug: vulpesinvest - status 502\n",
    "Fetching focus areas:  80%|███████▉  | 8693/10879 [1:52:07<25:36,  1.42it/s]  \n",
    "[!] Failed for slug: hikari-mitsushima - status 502\n",
    "Fetching focus areas:  80%|███████▉  | 8694/10879 [1:52:07<25:19,  1.44it/s]\n",
    "[!] Failed for slug: magdalena-kala - status 502\n",
    "Fetching focus areas:  80%|███████▉  | 8695/10879 [1:52:08<24:58,  1.46it/s]\n",
    "[!] Failed for slug: jingyu-xiang - status 502\n",
    "Fetching focus areas:  80%|███████▉  | 8696/10879 [1:52:09<24:51,  1.46it/s]\n",
    "[!] Failed for slug: andy-coravos - status 502\n",
    "Fetching focus areas:  80%|███████▉  | 8697/10879 [1:52:09<24:58,  1.46it/s]\n",
    "[!] Failed for slug: andy-palmer - status 502\n",
    "Fetching focus areas:  80%|███████▉  | 8698/10879 [1:52:10<25:07,  1.45it/s]\n",
    "[!] Failed for slug: enke-bashllari - status 502\n",
    "Fetching focus areas:  80%|███████▉  | 8699/10879 [1:52:11<24:44,  1.47it/s]\n",
    "[!] Failed for slug: polymesh - status 502\n",
    "Fetching focus areas:  80%|███████▉  | 8700/10879 [1:52:12<25:05,  1.45it/s]\n",
    "[!] Failed for slug: yvonne-hao - status 502\n",
    "Fetching focus areas:  80%|███████▉  | 8701/10879 [1:52:12<25:21,  1.43it/s]\n",
    "[!] Failed for slug: will-ahmed - status 502\n",
    "Fetching focus areas:  80%|███████▉  | 8702/10879 [1:52:13<25:07,  1.44it/s]\n",
    "[!] Failed for slug: alexandra-drane - status 502\n",
    "Fetching focus areas:  80%|███████▉  | 8703/10879 [1:52:14<25:03,  1.45it/s]\n",
    "[!] Failed for slug: benoit-pagotto - status 502\n",
    "Fetching focus areas:  80%|████████  | 8704/10879 [1:52:14<24:46,  1.46it/s]\n",
    "[!] Failed for slug: big-success-global-limited - status 502\n",
    "Fetching focus areas:  80%|████████  | 8705/10879 [1:52:15<24:50,  1.46it/s]\n",
    "[!] Failed for slug: chris-le - status 502\n",
    "Fetching focus areas:  80%|████████  | 8706/10879 [1:52:16<24:38,  1.47it/s]\n",
    "[!] Failed for slug: jerod-mayo - status 502\n",
    "Fetching focus areas:  80%|████████  | 8707/10879 [1:52:16<24:26,  1.48it/s]\n",
    "[!] Failed for slug: john-capodilupo - status 502\n",
    "Fetching focus areas:  83%|████████▎ | 9040/10879 [1:56:15<22:21,  1.37it/s]\n",
    "[!] Failed for slug: tony-robbins - status 502\n",
    "Fetching focus areas:  83%|████████▎ | 9041/10879 [1:56:16<22:31,  1.36it/s]\n",
    "[!] Failed for slug: xavier-niel - status 502\n",
    "Fetching focus areas:  83%|████████▎ | 9042/10879 [1:56:17<22:27,  1.36it/s]\n",
    "[!] Failed for slug: adam-ghobarah - status 502\n",
    "Fetching focus areas:  83%|████████▎ | 9043/10879 [1:56:17<22:03,  1.39it/s]\n",
    "[!] Failed for slug: alexandre-yazdi - status 502\n",
    "Fetching focus areas:  83%|████████▎ | 9044/10879 [1:56:18<21:42,  1.41it/s]\n",
    "[!] Failed for slug: alexis-teplitchi - status 502\n",
    "Fetching focus areas:  83%|████████▎ | 9045/10879 [1:56:19<21:40,  1.41it/s]\n",
    "[!] Failed for slug: antoine-cardoso - status 502\n",
    "Fetching focus areas:  83%|████████▎ | 9046/10879 [1:56:19<21:53,  1.40it/s]\n",
    "[!] Failed for slug: arthur-safaryan - status 502\n",
    "Fetching focus areas:  83%|████████▎ | 9047/10879 [1:56:20<21:48,  1.40it/s]\n",
    "[!] Failed for slug: carlos-diaz - status 502\n",
    "Fetching focus areas:  83%|████████▎ | 9048/10879 [1:56:21<21:47,  1.40it/s]\n",
    "[!] Failed for slug: cesc-fabregas - status 502\n",
    "Fetching focus areas:  83%|████████▎ | 9049/10879 [1:56:22<21:34,  1.41it/s]\n",
    "[!] Failed for slug: clara-deletraz - status 502\n",
    "Fetching focus areas:  83%|████████▎ | 9050/10879 [1:56:22<22:14,  1.37it/s]\n",
    "[!] Failed for slug: dimitri-farber - status 502\n",
    "Fetching focus areas:  83%|████████▎ | 9051/10879 [1:56:23<21:38,  1.41it/s]\n",
    "[!] Failed for slug: frederic-colas - status 502\n",
    "Fetching focus areas:  83%|████████▎ | 9052/10879 [1:56:24<21:06,  1.44it/s]\n",
    "[!] Failed for slug: gustavo-menezes - status 502\n",
    "Fetching focus areas:  83%|████████▎ | 9053/10879 [1:56:24<21:03,  1.45it/s]\n",
    "[!] Failed for slug: hugo-mercier - status 502\n",
    "Fetching focus areas:  83%|████████▎ | 9054/10879 [1:56:25<21:00,  1.45it/s]\n",
    "[!] Failed for slug: jacob-riglin - status 502\n",
    "Fetching focus areas:  84%|████████▍ | 9171/10879 [1:57:54<20:50,  1.37it/s]\n",
    "[!] Failed for slug: spencer-rascoff - status 502\n",
    "Fetching focus areas:  84%|████████▍ | 9172/10879 [1:57:54<20:16,  1.40it/s]\n",
    "[!] Failed for slug: angelxai - status 502\n",
    "Fetching focus areas:  84%|████████▍ | 9173/10879 [1:57:55<20:46,  1.37it/s]\n",
    "[!] Failed for slug: carlos-aria - status 502\n",
    "Fetching focus areas:  84%|████████▍ | 9174/10879 [1:57:56<20:08,  1.41it/s]\n",
    "[!] Failed for slug: daniel-sommer - status 502\n",
    "Fetching focus areas:  84%|████████▍ | 9175/10879 [1:57:57<19:50,  1.43it/s]\n",
    "[!] Failed for slug: desiree-gruber - status 502\n",
    "Fetching focus areas:  84%|████████▍ | 9176/10879 [1:57:57<19:46,  1.44it/s]\n",
    "[!] Failed for slug: jason-lau - status 502\n",
    "Fetching focus areas:  84%|████████▍ | 9177/10879 [1:57:58<19:55,  1.42it/s]\n",
    "[!] Failed for slug: mike-ouye - status 502\n",
    "Fetching focus areas:  84%|████████▍ | 9178/10879 [1:57:59<20:11,  1.40it/s]\n",
    "[!] Failed for slug: reade-seiff - status 502\n",
    "Fetching focus areas:  84%|████████▍ | 9179/10879 [1:57:59<19:46,  1.43it/s]\n",
    "[!] Failed for slug: rudycline - status 502\n",
    "Fetching focus areas:  84%|████████▍ | 9180/10879 [1:58:00<19:37,  1.44it/s]\n",
    "[!] Failed for slug: ying-tong - status 502\n",
    "Fetching focus areas:  84%|████████▍ | 9181/10879 [1:58:01<19:29,  1.45it/s]\n",
    "[!] Failed for slug: joerivgeelen - status 502\n",
    "Fetching focus areas:  84%|████████▍ | 9182/10879 [1:58:01<19:23,  1.46it/s]\n",
    "[!] Failed for slug: pamir-gelenbe - status 502\n",
    "Fetching focus areas:  84%|████████▍ | 9183/10879 [1:58:02<19:44,  1.43it/s]\n",
    "[!] Failed for slug: will-villanueva - status 502\n",
    "Fetching focus areas:  84%|████████▍ | 9184/10879 [1:58:03<20:09,  1.40it/s]\n",
    "[!] Failed for slug: aaronchoi - status 502\n",
    "Fetching focus areas:  84%|████████▍ | 9185/10879 [1:58:04<20:05,  1.41it/s]\n",
    "[!] Failed for slug: alex-lange - status 502\n",
    "Fetching focus areas:  84%|████████▍ | 9186/10879 [1:58:04<19:53,  1.42it/s]\n",
    "[!] Failed for slug: ali-rowghani - status 502\n",
    "Fetching focus areas:  86%|████████▌ | 9351/10879 [2:00:06<18:10,  1.40it/s]\n",
    "[!] Failed for slug: gengmo-qi - status 502\n",
    "Fetching focus areas:  86%|████████▌ | 9352/10879 [2:00:07<17:55,  1.42it/s]\n",
    "[!] Failed for slug: ian-lam - status 502\n",
    "Fetching focus areas:  86%|████████▌ | 9353/10879 [2:00:08<17:43,  1.44it/s]\n",
    "[!] Failed for slug: ivan-lam - status 502\n",
    "Fetching focus areas:  86%|████████▌ | 9354/10879 [2:00:08<17:20,  1.47it/s]\n",
    "[!] Failed for slug: nyanqueen-wengie - status 502\n",
    "Fetching focus areas:  86%|████████▌ | 9355/10879 [2:00:09<17:14,  1.47it/s]\n",
    "[!] Failed for slug: quentin-vanoekel - status 502\n",
    "Fetching focus areas:  86%|████████▌ | 9356/10879 [2:00:10<17:04,  1.49it/s]\n",
    "[!] Failed for slug: ron-hose - status 502\n",
    "Fetching focus areas:  86%|████████▌ | 9357/10879 [2:00:10<17:08,  1.48it/s]\n",
    "[!] Failed for slug: seref-beverli - status 502\n",
    "Fetching focus areas:  86%|████████▌ | 9358/10879 [2:00:11<16:58,  1.49it/s]\n",
    "[!] Failed for slug: sergei-chan - status 502\n",
    "Fetching focus areas:  89%|████████▊ | 9630/10879 [2:03:28<15:08,  1.38it/s]\n",
    "[!] Failed for slug: cyrus-ismoney-eth - status 502\n",
    "Fetching focus areas:  89%|████████▊ | 9631/10879 [2:03:28<15:10,  1.37it/s]\n",
    "[!] Failed for slug: danny-shader - status 502\n",
    "Fetching focus areas:  89%|████████▊ | 9632/10879 [2:03:29<14:50,  1.40it/s]\n",
    "[!] Failed for slug: david-finzer - status 502\n",
    "Fetching focus areas:  89%|████████▊ | 9633/10879 [2:03:30<14:36,  1.42it/s]\n",
    "[!] Failed for slug: david-goldberg - status 502\n",
    "Fetching focus areas:  89%|████████▊ | 9634/10879 [2:03:30<14:32,  1.43it/s]\n",
    "[!] Failed for slug: david-j-rodriguez - status 502\n",
    "Fetching focus areas:  89%|████████▊ | 9635/10879 [2:03:31<14:20,  1.45it/s]\n",
    "[!] Failed for slug: defidollar-finance - status 502\n",
    "Fetching focus areas:  89%|████████▊ | 9636/10879 [2:03:32<14:18,  1.45it/s]\n",
    "[!] Failed for slug: dennis-fong - status 502\n",
    "Fetching focus areas:  89%|████████▊ | 9637/10879 [2:03:33<14:08,  1.46it/s]\n",
    "[!] Failed for slug: derek-edws - status 502\n",
    "Fetching focus areas:  89%|████████▊ | 9638/10879 [2:03:33<14:02,  1.47it/s]\n",
    "[!] Failed for slug: diane-dai - status 502\n",
    "Fetching focus areas:  89%|████████▊ | 9639/10879 [2:03:34<14:06,  1.46it/s]\n",
    "[!] Failed for slug: digital-humanism - status 502\n",
    "Fetching focus areas:  89%|████████▊ | 9640/10879 [2:03:35<14:22,  1.44it/s]\n",
    "[!] Failed for slug: eden-chen - status 502\n",
    "Fetching focus areas:  89%|████████▊ | 9641/10879 [2:03:35<14:13,  1.45it/s]\n",
    "[!] Failed for slug: edward-wu - status 502\n",
    "Fetching focus areas:  89%|████████▊ | 9642/10879 [2:03:36<14:09,  1.46it/s]\n",
    "[!] Failed for slug: gary-marino - status 502\n",
    "Fetching focus areas:  89%|████████▊ | 9643/10879 [2:03:37<14:05,  1.46it/s]\n",
    "[!] Failed for slug: greg-sands - status 502\n",
    "Fetching focus areas:  89%|████████▊ | 9644/10879 [2:03:37<14:26,  1.43it/s]\n",
    "[!] Failed for slug: guy-gal - status 502\n",
    "Fetching focus areas:  89%|████████▊ | 9645/10879 [2:03:38<14:12,  1.45it/s]\n",
    "[!] Failed for slug: harry-hurst - status 502\n",
    "Fetching focus areas:  90%|█████████ | 9816/10879 [2:05:44<12:57,  1.37it/s]\n",
    "[!] Failed for slug: chavamon-vinijtrongjit - status 502\n",
    "Fetching focus areas:  90%|█████████ | 9817/10879 [2:05:44<12:42,  1.39it/s]\n",
    "[!] Failed for slug: chris-gonsalves - status 502\n",
    "Fetching focus areas:  90%|█████████ | 9818/10879 [2:05:45<12:30,  1.41it/s]\n",
    "[!] Failed for slug: george-chu - status 502\n",
    "Fetching focus areas:  90%|█████████ | 9819/10879 [2:05:46<12:28,  1.42it/s]\n",
    "[!] Failed for slug: grayson-allen - status 502\n",
    "Fetching focus areas:  90%|█████████ | 9820/10879 [2:05:47<12:25,  1.42it/s]\n",
    "[!] Failed for slug: ken-berger - status 502\n",
    "Fetching focus areas:  90%|█████████ | 9821/10879 [2:05:47<12:21,  1.43it/s]\n",
    "[!] Failed for slug: kimiko-doan - status 502\n",
    "Fetching focus areas:  90%|█████████ | 9822/10879 [2:05:48<12:13,  1.44it/s]\n",
    "[!] Failed for slug: kola-aina - status 502\n",
    "Fetching focus areas:  90%|█████████ | 9823/10879 [2:05:49<12:26,  1.42it/s]\n",
    "[!] Failed for slug: michael-ugwu - status 502\n",
    "Fetching focus areas:  90%|█████████ | 9824/10879 [2:05:49<12:25,  1.42it/s]\n",
    "[!] Failed for slug: oluwatobi-soyombo - status 502\n",
    "Fetching focus areas:  90%|█████████ | 9825/10879 [2:05:50<13:05,  1.34it/s]\n",
    "[!] Failed for slug: parinya-narkprasert - status 502\n",
    "Fetching focus areas:  90%|█████████ | 9826/10879 [2:05:51<12:47,  1.37it/s]\n",
    "[!] Failed for slug: steven-bryson-haynes - status 502\n",
    "Fetching focus areas:  90%|█████████ | 9827/10879 [2:05:52<13:49,  1.27it/s]\n",
    "[!] Failed for slug: willow-li - status 502\n",
    "Fetching focus areas:  90%|█████████ | 9828/10879 [2:05:52<13:07,  1.34it/s]\n",
    "[!] Failed for slug: wraya - status 502\n",
    "Fetching focus areas:  90%|█████████ | 9829/10879 [2:05:53<12:45,  1.37it/s]\n",
    "[!] Failed for slug: fred-ehrsam - status 502\n",
    "Fetching focus areas:  90%|█████████ | 9830/10879 [2:05:54<12:27,  1.40it/s]\n",
    "[!] Failed for slug: joe-lonsdale - status 502\n",
    "Fetching focus areas: 100%|█████\"\"\"  # truncated for readability\n",
    "\n",
    "# Extract all failed slugs using regex\n",
    "failed_slugs = re.findall(r'\\[!\\] Failed for slug: ([\\w\\-]+)', log_output)\n",
    "\n",
    "# Optionally remove duplicates\n",
    "failed_slugs = list(set(failed_slugs))\n",
    "\n",
    "# Display or save\n",
    "print(f\"✅ {len(failed_slugs)} failed slugs extracted.\")\n",
    "print(failed_slugs[:10])  # Show first 10 as preview\n",
    "\n",
    "\n"
   ]
  },
  {
   "cell_type": "code",
   "execution_count": 3,
   "id": "b73da699",
   "metadata": {},
   "outputs": [
    {
     "name": "stderr",
     "output_type": "stream",
     "text": [
      "Re-fetching failed slugs:  68%|██████▊   | 126/185 [00:49<00:30,  1.91it/s]"
     ]
    },
    {
     "name": "stdout",
     "output_type": "stream",
     "text": [
      "[!] Still failed for slug: joerivgeelen - status 502\n"
     ]
    },
    {
     "name": "stderr",
     "output_type": "stream",
     "text": [
      "Re-fetching failed slugs:  69%|██████▊   | 127/185 [00:49<00:25,  2.23it/s]"
     ]
    },
    {
     "name": "stdout",
     "output_type": "stream",
     "text": [
      "[!] Still failed for slug: willow-li - status 502\n"
     ]
    },
    {
     "name": "stderr",
     "output_type": "stream",
     "text": [
      "Re-fetching failed slugs:  69%|██████▉   | 128/185 [00:49<00:22,  2.52it/s]"
     ]
    },
    {
     "name": "stdout",
     "output_type": "stream",
     "text": [
      "[!] Still failed for slug: fred-ehrsam - status 502\n"
     ]
    },
    {
     "name": "stderr",
     "output_type": "stream",
     "text": [
      "Re-fetching failed slugs:  70%|██████▉   | 129/185 [00:50<00:20,  2.72it/s]"
     ]
    },
    {
     "name": "stdout",
     "output_type": "stream",
     "text": [
      "[!] Still failed for slug: digital-humanism - status 502\n"
     ]
    },
    {
     "name": "stderr",
     "output_type": "stream",
     "text": [
      "Re-fetching failed slugs:  70%|███████   | 130/185 [00:50<00:19,  2.88it/s]"
     ]
    },
    {
     "name": "stdout",
     "output_type": "stream",
     "text": [
      "[!] Still failed for slug: alex-lange - status 502\n"
     ]
    },
    {
     "name": "stderr",
     "output_type": "stream",
     "text": [
      "Re-fetching failed slugs:  71%|███████   | 131/185 [00:50<00:18,  2.90it/s]"
     ]
    },
    {
     "name": "stdout",
     "output_type": "stream",
     "text": [
      "[!] Still failed for slug: adam-ghobarah - status 502\n"
     ]
    },
    {
     "name": "stderr",
     "output_type": "stream",
     "text": [
      "Re-fetching failed slugs:  71%|███████▏  | 132/185 [00:51<00:17,  3.02it/s]"
     ]
    },
    {
     "name": "stdout",
     "output_type": "stream",
     "text": [
      "[!] Still failed for slug: morgan-creek-digital - status 502\n"
     ]
    },
    {
     "name": "stderr",
     "output_type": "stream",
     "text": [
      "Re-fetching failed slugs:  72%|███████▏  | 133/185 [00:51<00:16,  3.18it/s]"
     ]
    },
    {
     "name": "stdout",
     "output_type": "stream",
     "text": [
      "[!] Still failed for slug: sxsw - status 502\n"
     ]
    },
    {
     "name": "stderr",
     "output_type": "stream",
     "text": [
      "Re-fetching failed slugs:  72%|███████▏  | 134/185 [00:51<00:15,  3.26it/s]"
     ]
    },
    {
     "name": "stdout",
     "output_type": "stream",
     "text": [
      "[!] Still failed for slug: kingdomverse - status 502\n"
     ]
    },
    {
     "name": "stderr",
     "output_type": "stream",
     "text": [
      "Re-fetching failed slugs:  73%|███████▎  | 135/185 [00:52<00:15,  3.20it/s]"
     ]
    },
    {
     "name": "stdout",
     "output_type": "stream",
     "text": [
      "[!] Still failed for slug: therainegroup - status 502\n"
     ]
    },
    {
     "name": "stderr",
     "output_type": "stream",
     "text": [
      "Re-fetching failed slugs:  74%|███████▎  | 136/185 [00:52<00:22,  2.20it/s]"
     ]
    },
    {
     "name": "stdout",
     "output_type": "stream",
     "text": [
      "[!] Still failed for slug: leadout-capital - status 502\n"
     ]
    },
    {
     "name": "stderr",
     "output_type": "stream",
     "text": [
      "Re-fetching failed slugs:  74%|███████▍  | 137/185 [00:53<00:19,  2.41it/s]"
     ]
    },
    {
     "name": "stdout",
     "output_type": "stream",
     "text": [
      "[!] Still failed for slug: rudycline - status 502\n"
     ]
    },
    {
     "name": "stderr",
     "output_type": "stream",
     "text": [
      "Re-fetching failed slugs:  75%|███████▍  | 138/185 [00:53<00:17,  2.66it/s]"
     ]
    },
    {
     "name": "stdout",
     "output_type": "stream",
     "text": [
      "[!] Still failed for slug: medici-investment - status 502\n"
     ]
    },
    {
     "name": "stderr",
     "output_type": "stream",
     "text": [
      "Re-fetching failed slugs:  75%|███████▌  | 139/185 [00:53<00:16,  2.74it/s]"
     ]
    },
    {
     "name": "stdout",
     "output_type": "stream",
     "text": [
      "[!] Still failed for slug: david-goldberg - status 502\n"
     ]
    },
    {
     "name": "stderr",
     "output_type": "stream",
     "text": [
      "Re-fetching failed slugs:  76%|███████▌  | 140/185 [00:54<00:15,  2.86it/s]"
     ]
    },
    {
     "name": "stdout",
     "output_type": "stream",
     "text": [
      "[!] Still failed for slug: nanuhm-angels - status 502\n"
     ]
    },
    {
     "name": "stderr",
     "output_type": "stream",
     "text": [
      "Re-fetching failed slugs:  76%|███████▌  | 141/185 [00:54<00:17,  2.48it/s]"
     ]
    },
    {
     "name": "stdout",
     "output_type": "stream",
     "text": [
      "[!] Still failed for slug: northpond-ventures - status 502\n"
     ]
    },
    {
     "name": "stderr",
     "output_type": "stream",
     "text": [
      "Re-fetching failed slugs:  77%|███████▋  | 142/185 [00:54<00:16,  2.62it/s]"
     ]
    },
    {
     "name": "stdout",
     "output_type": "stream",
     "text": [
      "[!] Still failed for slug: alphacitadel - status 502\n"
     ]
    },
    {
     "name": "stderr",
     "output_type": "stream",
     "text": [
      "Re-fetching failed slugs:  77%|███████▋  | 143/185 [00:55<00:15,  2.77it/s]"
     ]
    },
    {
     "name": "stdout",
     "output_type": "stream",
     "text": [
      "[!] Still failed for slug: lateral-capital - status 502\n"
     ]
    },
    {
     "name": "stderr",
     "output_type": "stream",
     "text": [
      "Re-fetching failed slugs:  78%|███████▊  | 144/185 [00:55<00:14,  2.89it/s]"
     ]
    },
    {
     "name": "stdout",
     "output_type": "stream",
     "text": [
      "[!] Still failed for slug: gengmo-qi - status 502\n"
     ]
    },
    {
     "name": "stderr",
     "output_type": "stream",
     "text": [
      "Re-fetching failed slugs:  78%|███████▊  | 145/185 [00:55<00:13,  3.06it/s]"
     ]
    },
    {
     "name": "stdout",
     "output_type": "stream",
     "text": [
      "[!] Still failed for slug: clara-deletraz - status 502\n"
     ]
    },
    {
     "name": "stderr",
     "output_type": "stream",
     "text": [
      "Re-fetching failed slugs:  79%|███████▉  | 146/185 [00:56<00:12,  3.17it/s]"
     ]
    },
    {
     "name": "stdout",
     "output_type": "stream",
     "text": [
      "[!] Still failed for slug: osage-venture-partners - status 502\n"
     ]
    },
    {
     "name": "stderr",
     "output_type": "stream",
     "text": [
      "Re-fetching failed slugs:  79%|███████▉  | 147/185 [00:56<00:11,  3.33it/s]"
     ]
    },
    {
     "name": "stdout",
     "output_type": "stream",
     "text": [
      "[!] Still failed for slug: edward-wu - status 502\n"
     ]
    },
    {
     "name": "stderr",
     "output_type": "stream",
     "text": [
      "Re-fetching failed slugs:  80%|████████  | 148/185 [00:58<00:30,  1.22it/s]"
     ]
    },
    {
     "name": "stdout",
     "output_type": "stream",
     "text": [
      "[!] Still failed for slug: firestone-ventures - status 502\n"
     ]
    },
    {
     "name": "stderr",
     "output_type": "stream",
     "text": [
      "Re-fetching failed slugs:  81%|████████  | 149/185 [00:58<00:23,  1.51it/s]"
     ]
    },
    {
     "name": "stdout",
     "output_type": "stream",
     "text": [
      "[!] Still failed for slug: fyfventures - status 502\n"
     ]
    },
    {
     "name": "stderr",
     "output_type": "stream",
     "text": [
      "Re-fetching failed slugs:  81%|████████  | 150/185 [00:59<00:19,  1.82it/s]"
     ]
    },
    {
     "name": "stdout",
     "output_type": "stream",
     "text": [
      "[!] Still failed for slug: insight-partners - status 502\n"
     ]
    },
    {
     "name": "stderr",
     "output_type": "stream",
     "text": [
      "Re-fetching failed slugs:  82%|████████▏ | 151/185 [00:59<00:16,  2.10it/s]"
     ]
    },
    {
     "name": "stdout",
     "output_type": "stream",
     "text": [
      "[!] Still failed for slug: steven-bryson-haynes - status 502\n"
     ]
    },
    {
     "name": "stderr",
     "output_type": "stream",
     "text": [
      "Re-fetching failed slugs:  82%|████████▏ | 152/185 [00:59<00:14,  2.35it/s]"
     ]
    },
    {
     "name": "stdout",
     "output_type": "stream",
     "text": [
      "[!] Still failed for slug: parinya-narkprasert - status 502\n"
     ]
    },
    {
     "name": "stderr",
     "output_type": "stream",
     "text": [
      "Re-fetching failed slugs:  83%|████████▎ | 153/185 [00:59<00:12,  2.57it/s]"
     ]
    },
    {
     "name": "stdout",
     "output_type": "stream",
     "text": [
      "[!] Still failed for slug: blockfi - status 502\n"
     ]
    },
    {
     "name": "stderr",
     "output_type": "stream",
     "text": [
      "Re-fetching failed slugs:  83%|████████▎ | 154/185 [01:00<00:11,  2.75it/s]"
     ]
    },
    {
     "name": "stdout",
     "output_type": "stream",
     "text": [
      "[!] Still failed for slug: xavier-niel - status 502\n"
     ]
    },
    {
     "name": "stderr",
     "output_type": "stream",
     "text": [
      "Re-fetching failed slugs: 100%|██████████| 185/185 [01:10<00:00,  2.63it/s]"
     ]
    },
    {
     "name": "stdout",
     "output_type": "stream",
     "text": [
      "✅ Appended 457 entries to all_focus_areas.csv\n"
     ]
    },
    {
     "name": "stderr",
     "output_type": "stream",
     "text": [
      "\n"
     ]
    }
   ],
   "source": [
    "\n",
    "# 📦 Results container\n",
    "recovered_focus_areas = []\n",
    "\n",
    "# 🌐 API Endpoint\n",
    "BASE_URL = \"https://api.cryptorank.io/v0/coin-funds/focus-area/\"\n",
    "\n",
    "# 🔁 Loop through failed slugs\n",
    "for slug in tqdm(failed_slugs, desc=\"Re-fetching failed slugs\"):\n",
    "    try:\n",
    "        response = requests.get(f\"{BASE_URL}{slug}\", timeout=10)\n",
    "        if response.status_code == 200:\n",
    "            data = response.json().get(\"data\", [])\n",
    "            for item in data:\n",
    "                recovered_focus_areas.append({\n",
    "                    \"fund_slug\": slug,\n",
    "                    \"tag\": item.get(\"tag\", \"\"),\n",
    "                    \"count\": item.get(\"count\", 0),\n",
    "                    \"percent\": item.get(\"percent\", 0)\n",
    "                })\n",
    "        else:\n",
    "            print(f\"[!] Still failed for slug: {slug} - status {response.status_code}\")\n",
    "    except Exception as e:\n",
    "        print(f\"[!] Error for slug {slug}: {e}\")\n",
    "    time.sleep(0.1)  # 🕒 Optional delay\n",
    "\n",
    "# 🧮 Append to existing CSV\n",
    "if recovered_focus_areas:\n",
    "    df_new = pd.DataFrame(recovered_focus_areas)\n",
    "    df_new.to_csv(\"all_focus_areas.csv\", mode='a', index=False, header=False)\n",
    "    print(f\"✅ Appended {len(df_new)} entries to all_focus_areas.csv\")\n",
    "else:\n",
    "    print(\"⚠️ No new data recovered.\")"
   ]
  },
  {
   "cell_type": "code",
   "execution_count": 4,
   "id": "51c86f13",
   "metadata": {},
   "outputs": [
    {
     "name": "stdout",
     "output_type": "stream",
     "text": [
      "✅ 42 failed slugs extracted.\n",
      "['david-goldberg', 'gengmo-qi', 'grayson-allen', 'edward-wu', 'ken-berger', 'eden-chen', 'parinya-narkprasert', 'steven-bryson-haynes', 'ali-rowghani', 'defidollar-finance']\n"
     ]
    }
   ],
   "source": [
    "import re\n",
    "\n",
    "# Paste your entire log string here as a single string\n",
    "log_output = \"\"\"tching focus areas:  84%|████████▍ | 9184/10879 [1:58:03<20:09,  1.40it/s]\n",
    "[!] Failed for slug: aaronchoi - status 502\n",
    "Fetching focus areas:  84%|████████▍ | 9185/10879 [1:58:04<20:05,  1.41it/s]\n",
    "[!] Failed for slug: alex-lange - status 502\n",
    "Fetching focus areas:  84%|████████▍ | 9186/10879 [1:58:04<19:53,  1.42it/s]\n",
    "[!] Failed for slug: ali-rowghani - status 502\n",
    "Fetching focus areas:  86%|████████▌ | 9351/10879 [2:00:06<18:10,  1.40it/s]\n",
    "[!] Failed for slug: gengmo-qi - status 502\n",
    "Fetching focus areas:  86%|████████▌ | 9352/10879 [2:00:07<17:55,  1.42it/s]\n",
    "[!] Failed for slug: ian-lam - status 502\n",
    "Fetching focus areas:  86%|████████▌ | 9353/10879 [2:00:08<17:43,  1.44it/s]\n",
    "[!] Failed for slug: ivan-lam - status 502\n",
    "Fetching focus areas:  86%|████████▌ | 9354/10879 [2:00:08<17:20,  1.47it/s]\n",
    "[!] Failed for slug: nyanqueen-wengie - status 502\n",
    "Fetching focus areas:  86%|████████▌ | 9355/10879 [2:00:09<17:14,  1.47it/s]\n",
    "[!] Failed for slug: quentin-vanoekel - status 502\n",
    "Fetching focus areas:  86%|████████▌ | 9356/10879 [2:00:10<17:04,  1.49it/s]\n",
    "[!] Failed for slug: ron-hose - status 502\n",
    "Fetching focus areas:  86%|████████▌ | 9357/10879 [2:00:10<17:08,  1.48it/s]\n",
    "[!] Failed for slug: seref-beverli - status 502\n",
    "Fetching focus areas:  86%|████████▌ | 9358/10879 [2:00:11<16:58,  1.49it/s]\n",
    "[!] Failed for slug: sergei-chan - status 502\n",
    "Fetching focus areas:  89%|████████▊ | 9630/10879 [2:03:28<15:08,  1.38it/s]\n",
    "[!] Failed for slug: cyrus-ismoney-eth - status 502\n",
    "Fetching focus areas:  89%|████████▊ | 9631/10879 [2:03:28<15:10,  1.37it/s]\n",
    "[!] Failed for slug: danny-shader - status 502\n",
    "Fetching focus areas:  89%|████████▊ | 9632/10879 [2:03:29<14:50,  1.40it/s]\n",
    "[!] Failed for slug: david-finzer - status 502\n",
    "Fetching focus areas:  89%|████████▊ | 9633/10879 [2:03:30<14:36,  1.42it/s]\n",
    "[!] Failed for slug: david-goldberg - status 502\n",
    "Fetching focus areas:  89%|████████▊ | 9634/10879 [2:03:30<14:32,  1.43it/s]\n",
    "[!] Failed for slug: david-j-rodriguez - status 502\n",
    "Fetching focus areas:  89%|████████▊ | 9635/10879 [2:03:31<14:20,  1.45it/s]\n",
    "[!] Failed for slug: defidollar-finance - status 502\n",
    "Fetching focus areas:  89%|████████▊ | 9636/10879 [2:03:32<14:18,  1.45it/s]\n",
    "[!] Failed for slug: dennis-fong - status 502\n",
    "Fetching focus areas:  89%|████████▊ | 9637/10879 [2:03:33<14:08,  1.46it/s]\n",
    "[!] Failed for slug: derek-edws - status 502\n",
    "Fetching focus areas:  89%|████████▊ | 9638/10879 [2:03:33<14:02,  1.47it/s]\n",
    "[!] Failed for slug: diane-dai - status 502\n",
    "Fetching focus areas:  89%|████████▊ | 9639/10879 [2:03:34<14:06,  1.46it/s]\n",
    "[!] Failed for slug: digital-humanism - status 502\n",
    "Fetching focus areas:  89%|████████▊ | 9640/10879 [2:03:35<14:22,  1.44it/s]\n",
    "[!] Failed for slug: eden-chen - status 502\n",
    "Fetching focus areas:  89%|████████▊ | 9641/10879 [2:03:35<14:13,  1.45it/s]\n",
    "[!] Failed for slug: edward-wu - status 502\n",
    "Fetching focus areas:  89%|████████▊ | 9642/10879 [2:03:36<14:09,  1.46it/s]\n",
    "[!] Failed for slug: gary-marino - status 502\n",
    "Fetching focus areas:  89%|████████▊ | 9643/10879 [2:03:37<14:05,  1.46it/s]\n",
    "[!] Failed for slug: greg-sands - status 502\n",
    "Fetching focus areas:  89%|████████▊ | 9644/10879 [2:03:37<14:26,  1.43it/s]\n",
    "[!] Failed for slug: guy-gal - status 502\n",
    "Fetching focus areas:  89%|████████▊ | 9645/10879 [2:03:38<14:12,  1.45it/s]\n",
    "[!] Failed for slug: harry-hurst - status 502\n",
    "Fetching focus areas:  90%|█████████ | 9816/10879 [2:05:44<12:57,  1.37it/s]\n",
    "[!] Failed for slug: chavamon-vinijtrongjit - status 502\n",
    "Fetching focus areas:  90%|█████████ | 9817/10879 [2:05:44<12:42,  1.39it/s]\n",
    "[!] Failed for slug: chris-gonsalves - status 502\n",
    "Fetching focus areas:  90%|█████████ | 9818/10879 [2:05:45<12:30,  1.41it/s]\n",
    "[!] Failed for slug: george-chu - status 502\n",
    "Fetching focus areas:  90%|█████████ | 9819/10879 [2:05:46<12:28,  1.42it/s]\n",
    "[!] Failed for slug: grayson-allen - status 502\n",
    "Fetching focus areas:  90%|█████████ | 9820/10879 [2:05:47<12:25,  1.42it/s]\n",
    "[!] Failed for slug: ken-berger - status 502\n",
    "Fetching focus areas:  90%|█████████ | 9821/10879 [2:05:47<12:21,  1.43it/s]\n",
    "[!] Failed for slug: kimiko-doan - status 502\n",
    "Fetching focus areas:  90%|█████████ | 9822/10879 [2:05:48<12:13,  1.44it/s]\n",
    "[!] Failed for slug: kola-aina - status 502\n",
    "Fetching focus areas:  90%|█████████ | 9823/10879 [2:05:49<12:26,  1.42it/s]\n",
    "[!] Failed for slug: michael-ugwu - status 502\n",
    "Fetching focus areas:  90%|█████████ | 9824/10879 [2:05:49<12:25,  1.42it/s]\n",
    "[!] Failed for slug: oluwatobi-soyombo - status 502\n",
    "Fetching focus areas:  90%|█████████ | 9825/10879 [2:05:50<13:05,  1.34it/s]\n",
    "[!] Failed for slug: parinya-narkprasert - status 502\n",
    "Fetching focus areas:  90%|█████████ | 9826/10879 [2:05:51<12:47,  1.37it/s]\n",
    "[!] Failed for slug: steven-bryson-haynes - status 502\n",
    "Fetching focus areas:  90%|█████████ | 9827/10879 [2:05:52<13:49,  1.27it/s]\n",
    "[!] Failed for slug: willow-li - status 502\n",
    "Fetching focus areas:  90%|█████████ | 9828/10879 [2:05:52<13:07,  1.34it/s]\n",
    "[!] Failed for slug: wraya - status 502\n",
    "Fetching focus areas:  90%|█████████ | 9829/10879 [2:05:53<12:45,  1.37it/s]\n",
    "[!] Failed for slug: fred-ehrsam - status 502\n",
    "Fetching focus areas:  90%|█████████ | 9830/10879 [2:05:54<12:27,  1.40it/s]\n",
    "[!] Failed for slug: joe-lonsdale - status 502\n",
    "Fetching focus areas: 100%|██████████| 10879/10879 [2:19:47<00:00,  1.30it/s]\n",
    "✅ Focus area data saved to all_focus_areas.csv\n",
    "\n",
    "✅ 185 failed slugs extracted.\n",
    "['tokensuite', 'magdalena-kala', 'fenwickwest', 'tony-robbins', 'ying-tong', 'grayson-allen', 'jingyu-xiang', 'baboon-vc', 'alexandra-drane', 'will-ahmed']\n",
    "Re-fetching failed slugs:  68%|██████▊   | 126/185 [00:49<00:30,  1.91it/s]\n",
    "[!] Still failed for slug: joerivgeelen - status 502\n",
    "Re-fetching failed slugs:  69%|██████▊   | 127/185 [00:49<00:25,  2.23it/s]\n",
    "[!] Still failed for slug: willow-li - status 502\n",
    "Re-fetching failed slugs:  69%|██████▉   | 128/185 [00:49<00:22,  2.52it/s]\n",
    "[!] Still failed for slug: fred-ehrsam - status 502\n",
    "Re-fetching failed slugs:  70%|██████▉   | 129/185 [00:50<00:20,  2.72it/s]\n",
    "[!] Still failed for slug: digital-humanism - status 502\n",
    "Re-fetching failed slugs:  70%|███████   | 130/185 [00:50<00:19,  2.88it/s]\n",
    "[!] Still failed for slug: alex-lange - status 502\n",
    "Re-fetching failed slugs:  71%|███████   | 131/185 [00:50<00:18,  2.90it/s]\n",
    "[!] Still failed for slug: adam-ghobarah - status 502\n",
    "Re-fetching failed slugs:  71%|███████▏  | 132/185 [00:51<00:17,  3.02it/s]\n",
    "[!] Still failed for slug: morgan-creek-digital - status 502\n",
    "Re-fetching failed slugs:  72%|███████▏  | 133/185 [00:51<00:16,  3.18it/s]\n",
    "[!] Still failed for slug: sxsw - status 502\n",
    "Re-fetching failed slugs:  72%|███████▏  | 134/185 [00:51<00:15,  3.26it/s]\n",
    "[!] Still failed for slug: kingdomverse - status 502\n",
    "Re-fetching failed slugs:  73%|███████▎  | 135/185 [00:52<00:15,  3.20it/s]\n",
    "[!] Still failed for slug: therainegroup - status 502\n",
    "Re-fetching failed slugs:  74%|███████▎  | 136/185 [00:52<00:22,  2.20it/s]\n",
    "[!] Still failed for slug: leadout-capital - status 502\n",
    "Re-fetching failed slugs:  74%|███████▍  | 137/185 [00:53<00:19,  2.41it/s]\n",
    "[!] Still failed for slug: rudycline - status 502\n",
    "Re-fetching failed slugs:  75%|███████▍  | 138/185 [00:53<00:17,  2.66it/s]\n",
    "[!] Still failed for slug: medici-investment - status 502\n",
    "Re-fetching failed slugs:  75%|███████▌  | 139/185 [00:53<00:16,  2.74it/s]\n",
    "[!] Still failed for slug: david-goldberg - status 502\n",
    "Re-fetching failed slugs:  76%|███████▌  | 140/185 [00:54<00:15,  2.86it/s]\n",
    "[!] Still failed for slug: nanuhm-angels - status 502\n",
    "Re-fetching failed slugs:  76%|███████▌  | 141/185 [00:54<00:17,  2.48it/s]\n",
    "[!] Still failed for slug: northpond-ventures - status 502\n",
    "Re-fetching failed slugs:  77%|███████▋  | 142/185 [00:54<00:16,  2.62it/s]\n",
    "[!] Still failed for slug: alphacitadel - status 502\n",
    "Re-fetching failed slugs:  77%|███████▋  | 143/185 [00:55<00:15,  2.77it/s]\n",
    "[!] Still failed for slug: lateral-capital - status 502\n",
    "Re-fetching failed slugs:  78%|███████▊  | 144/185 [00:55<00:14,  2.89it/s]\n",
    "[!] Still failed for slug: gengmo-qi - status 502\n",
    "Re-fetching failed slugs:  78%|███████▊  | 145/185 [00:55<00:13,  3.06it/s]\n",
    "[!] Still failed for slug: clara-deletraz - status 502\n",
    "Re-fetching failed slugs:  79%|███████▉  | 146/185 [00:56<00:12,  3.17it/s]\n",
    "[!] Still failed for slug: osage-venture-partners - status 502\n",
    "Re-fetching failed slugs:  79%|███████▉  | 147/185 [00:56<00:11,  3.33it/s]\n",
    "[!] Still failed for slug: edward-wu - status 502\n",
    "Re-fetching failed slugs:  80%|████████  | 148/185 [00:58<00:30,  1.22it/s]\n",
    "[!] Still failed for slug: firestone-ventures - status 502\n",
    "Re-fetching failed slugs:  81%|████████  | 149/185 [00:58<00:23,  1.51it/s]\n",
    "[!] Still failed for slug: fyfventures - status 502\n",
    "Re-fetching failed slugs:  81%|████████  | 150/185 [00:59<00:19,  1.82it/s]\n",
    "[!] Still failed for slug: insight-partners - status 502\n",
    "Re-fetching failed slugs:  82%|████████▏ | 151/185 [00:59<00:16,  2.10it/s]\n",
    "[!] Still failed for slug: steven-bryson-haynes - status 502\n",
    "Re-fetching failed slugs:  82%|████████▏ | 152/185 [00:59<00:14,  2.35it/s]\n",
    "[!] Still failed for slug: parinya-narkprasert - status 502\n",
    "Re-fetching failed slugs:  83%|████████▎ | 153/185 [00:59<00:12,  2.57it/s]\n",
    "[!] Still failed for slug: blockfi - status 502\n",
    "Re-fetching failed slugs:  83%|████████▎ | 154/185 [01:00<00:11,  2.75it/s]\n",
    "[!] Still failed for slug: xavier-niel - status 502\n",
    "Re-fetching failed slugs: 100%|██████████| 185/185 [01:10<00:00,  2.63it/s]\n",
    "✅ Appended 457 entries to all_focus_areas.csv\"\"\"  # truncated for readability\n",
    "\n",
    "# Extract all failed slugs using regex\n",
    "failed_slugs = re.findall(r'\\[!\\] Failed for slug: ([\\w\\-]+)', log_output)\n",
    "\n",
    "# Optionally remove duplicates\n",
    "failed_slugs = list(set(failed_slugs))\n",
    "\n",
    "# Display or save\n",
    "print(f\"✅ {len(failed_slugs)} failed slugs extracted.\")\n",
    "print(failed_slugs[:10])  # Show first 10 as preview\n",
    "\n",
    "\n"
   ]
  },
  {
   "cell_type": "code",
   "execution_count": 5,
   "id": "f33b258c",
   "metadata": {},
   "outputs": [
    {
     "name": "stderr",
     "output_type": "stream",
     "text": [
      "Re-fetching failed slugs: 100%|██████████| 42/42 [00:14<00:00,  2.98it/s]"
     ]
    },
    {
     "name": "stdout",
     "output_type": "stream",
     "text": [
      "✅ Appended 83 entries to all_focus_areas.csv\n"
     ]
    },
    {
     "name": "stderr",
     "output_type": "stream",
     "text": [
      "\n"
     ]
    }
   ],
   "source": [
    "\n",
    "# 📦 Results container\n",
    "recovered_focus_areas = []\n",
    "\n",
    "# 🌐 API Endpoint\n",
    "BASE_URL = \"https://api.cryptorank.io/v0/coin-funds/focus-area/\"\n",
    "\n",
    "# 🔁 Loop through failed slugs\n",
    "for slug in tqdm(failed_slugs, desc=\"Re-fetching failed slugs\"):\n",
    "    try:\n",
    "        response = requests.get(f\"{BASE_URL}{slug}\", timeout=10)\n",
    "        if response.status_code == 200:\n",
    "            data = response.json().get(\"data\", [])\n",
    "            for item in data:\n",
    "                recovered_focus_areas.append({\n",
    "                    \"fund_slug\": slug,\n",
    "                    \"tag\": item.get(\"tag\", \"\"),\n",
    "                    \"count\": item.get(\"count\", 0),\n",
    "                    \"percent\": item.get(\"percent\", 0)\n",
    "                })\n",
    "        else:\n",
    "            print(f\"[!] Still failed for slug: {slug} - status {response.status_code}\")\n",
    "    except Exception as e:\n",
    "        print(f\"[!] Error for slug {slug}: {e}\")\n",
    "    time.sleep(0.1)  # 🕒 Optional delay\n",
    "\n",
    "# 🧮 Append to existing CSV\n",
    "if recovered_focus_areas:\n",
    "    df_new = pd.DataFrame(recovered_focus_areas)\n",
    "    df_new.to_csv(\"all_focus_areas.csv\", mode='a', index=False, header=False)\n",
    "    print(f\"✅ Appended {len(df_new)} entries to all_focus_areas.csv\")\n",
    "else:\n",
    "    print(\"⚠️ No new data recovered.\")"
   ]
  },
  {
   "cell_type": "code",
   "execution_count": 6,
   "id": "0bb3297b",
   "metadata": {},
   "outputs": [
    {
     "name": "stderr",
     "output_type": "stream",
     "text": [
      "Fetching fund countries:   1%|          | 56/10879 [00:22<1:13:30,  2.45it/s]"
     ]
    },
    {
     "name": "stdout",
     "output_type": "stream",
     "text": [
      "[!] Failed for slug: ribbit-capital - status 502\n"
     ]
    },
    {
     "name": "stderr",
     "output_type": "stream",
     "text": [
      "Fetching fund countries:   1%|          | 60/10879 [00:24<1:13:28,  2.45it/s]"
     ]
    },
    {
     "name": "stdout",
     "output_type": "stream",
     "text": [
      "[!] Failed for slug: sfermion - status 502\n"
     ]
    },
    {
     "name": "stderr",
     "output_type": "stream",
     "text": [
      "Fetching fund countries:   1%|          | 63/10879 [00:25<1:11:05,  2.54it/s]"
     ]
    },
    {
     "name": "stdout",
     "output_type": "stream",
     "text": [
      "[!] Failed for slug: kenetic-capital - status 502\n"
     ]
    },
    {
     "name": "stderr",
     "output_type": "stream",
     "text": [
      "Fetching fund countries:   1%|          | 67/10879 [00:27<1:10:14,  2.57it/s]"
     ]
    },
    {
     "name": "stdout",
     "output_type": "stream",
     "text": [
      "[!] Failed for slug: jane-street-capital - status 502\n"
     ]
    },
    {
     "name": "stderr",
     "output_type": "stream",
     "text": [
      "Fetching fund countries:   1%|          | 68/10879 [00:27<1:10:32,  2.55it/s]"
     ]
    },
    {
     "name": "stdout",
     "output_type": "stream",
     "text": [
      "[!] Failed for slug: mgx - status 502\n",
      "[!] Failed for slug: arrington-xrp-capital - status 502\n"
     ]
    },
    {
     "name": "stderr",
     "output_type": "stream",
     "text": [
      "Fetching fund countries:   1%|          | 70/10879 [00:28<1:13:54,  2.44it/s]"
     ]
    },
    {
     "name": "stdout",
     "output_type": "stream",
     "text": [
      "[!] Failed for slug: republic - status 502\n"
     ]
    },
    {
     "name": "stderr",
     "output_type": "stream",
     "text": [
      "Fetching fund countries:   1%|          | 73/10879 [00:29<1:13:37,  2.45it/s]"
     ]
    },
    {
     "name": "stdout",
     "output_type": "stream",
     "text": [
      "[!] Failed for slug: csquared - status 502\n"
     ]
    },
    {
     "name": "stderr",
     "output_type": "stream",
     "text": [
      "Fetching fund countries:   1%|          | 74/10879 [00:30<1:14:42,  2.41it/s]"
     ]
    },
    {
     "name": "stdout",
     "output_type": "stream",
     "text": [
      "[!] Failed for slug: 1kx - status 502\n"
     ]
    },
    {
     "name": "stderr",
     "output_type": "stream",
     "text": [
      "Fetching fund countries:   1%|          | 76/10879 [00:31<1:15:17,  2.39it/s]"
     ]
    },
    {
     "name": "stdout",
     "output_type": "stream",
     "text": [
      "[!] Failed for slug: boost-vc - status 502\n"
     ]
    },
    {
     "name": "stderr",
     "output_type": "stream",
     "text": [
      "Fetching fund countries:   1%|          | 78/10879 [00:31<1:12:40,  2.48it/s]"
     ]
    },
    {
     "name": "stdout",
     "output_type": "stream",
     "text": [
      "[!] Failed for slug: ripple - status 502\n"
     ]
    },
    {
     "name": "stderr",
     "output_type": "stream",
     "text": [
      "Fetching fund countries:   2%|▏         | 176/10879 [01:12<1:13:01,  2.44it/s]"
     ]
    },
    {
     "name": "stdout",
     "output_type": "stream",
     "text": [
      "[!] Failed for slug: divergence-ventures - status 502\n"
     ]
    },
    {
     "name": "stderr",
     "output_type": "stream",
     "text": [
      "Fetching fund countries:   2%|▏         | 177/10879 [01:12<1:11:32,  2.49it/s]"
     ]
    },
    {
     "name": "stdout",
     "output_type": "stream",
     "text": [
      "[!] Failed for slug: htc - status 502\n"
     ]
    },
    {
     "name": "stderr",
     "output_type": "stream",
     "text": [
      "Fetching fund countries:   2%|▏         | 178/10879 [01:13<1:12:18,  2.47it/s]"
     ]
    },
    {
     "name": "stdout",
     "output_type": "stream",
     "text": [
      "[!] Failed for slug: bandai-namco-entertainment - status 502\n"
     ]
    },
    {
     "name": "stderr",
     "output_type": "stream",
     "text": [
      "Fetching fund countries:   2%|▏         | 179/10879 [01:13<1:12:47,  2.45it/s]"
     ]
    },
    {
     "name": "stdout",
     "output_type": "stream",
     "text": [
      "[!] Failed for slug: kohlberg-kravis - status 502\n",
      "[!] Failed for slug: revolutions-rise - status 502\n"
     ]
    },
    {
     "name": "stderr",
     "output_type": "stream",
     "text": [
      "Fetching fund countries:   2%|▏         | 181/10879 [01:14<1:09:09,  2.58it/s]"
     ]
    },
    {
     "name": "stdout",
     "output_type": "stream",
     "text": [
      "[!] Failed for slug: future-art - status 502\n",
      "[!] Failed for slug: infinity-force - status 502\n"
     ]
    },
    {
     "name": "stderr",
     "output_type": "stream",
     "text": [
      "Fetching fund countries:   2%|▏         | 183/10879 [01:15<1:08:23,  2.61it/s]"
     ]
    },
    {
     "name": "stdout",
     "output_type": "stream",
     "text": [
      "[!] Failed for slug: rtp-global - status 502\n"
     ]
    },
    {
     "name": "stderr",
     "output_type": "stream",
     "text": [
      "Fetching fund countries:   2%|▏         | 184/10879 [01:15<1:08:48,  2.59it/s]"
     ]
    },
    {
     "name": "stdout",
     "output_type": "stream",
     "text": [
      "[!] Failed for slug: twitter - status 502\n"
     ]
    },
    {
     "name": "stderr",
     "output_type": "stream",
     "text": [
      "Fetching fund countries:   2%|▏         | 185/10879 [01:16<1:08:57,  2.58it/s]"
     ]
    },
    {
     "name": "stdout",
     "output_type": "stream",
     "text": [
      "[!] Failed for slug: institutional-venture-partners - status 502\n"
     ]
    },
    {
     "name": "stderr",
     "output_type": "stream",
     "text": [
      "Fetching fund countries:   2%|▏         | 186/10879 [01:16<1:08:05,  2.62it/s]"
     ]
    },
    {
     "name": "stdout",
     "output_type": "stream",
     "text": [
      "[!] Failed for slug: canaccord-genuity - status 502\n"
     ]
    },
    {
     "name": "stderr",
     "output_type": "stream",
     "text": [
      "Fetching fund countries:   2%|▏         | 187/10879 [01:16<1:08:37,  2.60it/s]"
     ]
    },
    {
     "name": "stdout",
     "output_type": "stream",
     "text": [
      "[!] Failed for slug: stifel - status 502\n"
     ]
    },
    {
     "name": "stderr",
     "output_type": "stream",
     "text": [
      "Fetching fund countries:   2%|▏         | 188/10879 [01:17<1:09:12,  2.57it/s]"
     ]
    },
    {
     "name": "stdout",
     "output_type": "stream",
     "text": [
      "[!] Failed for slug: binance-us - status 502\n"
     ]
    },
    {
     "name": "stderr",
     "output_type": "stream",
     "text": [
      "Fetching fund countries:   2%|▏         | 189/10879 [01:17<1:09:42,  2.56it/s]"
     ]
    },
    {
     "name": "stdout",
     "output_type": "stream",
     "text": [
      "[!] Failed for slug: morgan-stanley - status 502\n",
      "[!] Failed for slug: silicon-valley-bank - status 502\n"
     ]
    },
    {
     "name": "stderr",
     "output_type": "stream",
     "text": [
      "Fetching fund countries:   2%|▏         | 192/10879 [01:18<1:09:39,  2.56it/s]"
     ]
    },
    {
     "name": "stdout",
     "output_type": "stream",
     "text": [
      "[!] Failed for slug: meta - status 502\n"
     ]
    },
    {
     "name": "stderr",
     "output_type": "stream",
     "text": [
      "Fetching fund countries:   2%|▏         | 193/10879 [01:19<1:11:13,  2.50it/s]"
     ]
    },
    {
     "name": "stdout",
     "output_type": "stream",
     "text": [
      "[!] Failed for slug: saigon-trade-coin - status 502\n",
      "[!] Failed for slug: sequoia-heritage - status 502\n"
     ]
    },
    {
     "name": "stderr",
     "output_type": "stream",
     "text": [
      "Fetching fund countries:   2%|▏         | 195/10879 [01:19<1:08:49,  2.59it/s]"
     ]
    },
    {
     "name": "stdout",
     "output_type": "stream",
     "text": [
      "[!] Failed for slug: polaroid - status 502\n"
     ]
    },
    {
     "name": "stderr",
     "output_type": "stream",
     "text": [
      "Fetching fund countries:   2%|▏         | 196/10879 [01:20<1:08:58,  2.58it/s]"
     ]
    },
    {
     "name": "stdout",
     "output_type": "stream",
     "text": [
      "[!] Failed for slug: google-for-startups - status 502\n"
     ]
    },
    {
     "name": "stderr",
     "output_type": "stream",
     "text": [
      "Fetching fund countries:   2%|▏         | 197/10879 [01:20<1:10:47,  2.52it/s]"
     ]
    },
    {
     "name": "stdout",
     "output_type": "stream",
     "text": [
      "[!] Failed for slug: hacken - status 502\n"
     ]
    },
    {
     "name": "stderr",
     "output_type": "stream",
     "text": [
      "Fetching fund countries:   2%|▏         | 198/10879 [01:21<1:09:32,  2.56it/s]"
     ]
    },
    {
     "name": "stdout",
     "output_type": "stream",
     "text": [
      "[!] Failed for slug: seedinvest - status 502\n"
     ]
    },
    {
     "name": "stderr",
     "output_type": "stream",
     "text": [
      "Fetching fund countries:   2%|▏         | 199/10879 [01:21<1:13:27,  2.42it/s]"
     ]
    },
    {
     "name": "stdout",
     "output_type": "stream",
     "text": [
      "[!] Failed for slug: japan-finance - status 502\n"
     ]
    },
    {
     "name": "stderr",
     "output_type": "stream",
     "text": [
      "Fetching fund countries:   2%|▏         | 200/10879 [01:22<1:14:16,  2.40it/s]"
     ]
    },
    {
     "name": "stdout",
     "output_type": "stream",
     "text": [
      "[!] Failed for slug: amd - status 502\n",
      "[!] Failed for slug: invest-nebraska - status 502\n"
     ]
    },
    {
     "name": "stderr",
     "output_type": "stream",
     "text": [
      "Fetching fund countries:   2%|▏         | 201/10879 [01:22<1:12:18,  2.46it/s]"
     ]
    },
    {
     "name": "stdout",
     "output_type": "stream",
     "text": [
      "[!] Failed for slug: samsung-venture-investment - status 502\n"
     ]
    },
    {
     "name": "stderr",
     "output_type": "stream",
     "text": [
      "Fetching fund countries:   2%|▏         | 203/10879 [01:23<1:10:50,  2.51it/s]"
     ]
    },
    {
     "name": "stdout",
     "output_type": "stream",
     "text": [
      "[!] Failed for slug: idinvest-partners - status 502\n"
     ]
    },
    {
     "name": "stderr",
     "output_type": "stream",
     "text": [
      "Fetching fund countries:   3%|▎         | 329/10879 [02:14<1:18:07,  2.25it/s]"
     ]
    },
    {
     "name": "stdout",
     "output_type": "stream",
     "text": [
      "[!] Failed for slug: signum-capital - status 502\n",
      "[!] Failed for slug: master-ventures - status 502\n"
     ]
    },
    {
     "name": "stderr",
     "output_type": "stream",
     "text": [
      "Fetching fund countries:   3%|▎         | 333/10879 [02:15<1:12:07,  2.44it/s]"
     ]
    },
    {
     "name": "stdout",
     "output_type": "stream",
     "text": [
      "[!] Failed for slug: keyrock - status 502\n"
     ]
    },
    {
     "name": "stderr",
     "output_type": "stream",
     "text": [
      "Fetching fund countries:   3%|▎         | 334/10879 [02:16<1:09:42,  2.52it/s]"
     ]
    },
    {
     "name": "stdout",
     "output_type": "stream",
     "text": [
      "[!] Failed for slug: weblock - status 502\n",
      "[!] Failed for slug: dweb3-capital - status 502\n"
     ]
    },
    {
     "name": "stderr",
     "output_type": "stream",
     "text": [
      "Fetching fund countries:   3%|▎         | 336/10879 [02:16<1:08:19,  2.57it/s]"
     ]
    },
    {
     "name": "stdout",
     "output_type": "stream",
     "text": [
      "[!] Failed for slug: folius-ventures - status 502\n"
     ]
    },
    {
     "name": "stderr",
     "output_type": "stream",
     "text": [
      "Fetching fund countries:   3%|▎         | 337/10879 [02:17<1:09:11,  2.54it/s]"
     ]
    },
    {
     "name": "stdout",
     "output_type": "stream",
     "text": [
      "[!] Failed for slug: play-ventures - status 502\n"
     ]
    },
    {
     "name": "stderr",
     "output_type": "stream",
     "text": [
      "Fetching fund countries:   3%|▎         | 338/10879 [02:17<1:08:34,  2.56it/s]"
     ]
    },
    {
     "name": "stdout",
     "output_type": "stream",
     "text": [
      "[!] Failed for slug: ton-ventures - status 502\n"
     ]
    },
    {
     "name": "stderr",
     "output_type": "stream",
     "text": [
      "Fetching fund countries:   3%|▎         | 339/10879 [02:18<1:15:42,  2.32it/s]"
     ]
    },
    {
     "name": "stdout",
     "output_type": "stream",
     "text": [
      "[!] Failed for slug: ledger - status 502\n"
     ]
    },
    {
     "name": "stderr",
     "output_type": "stream",
     "text": [
      "Fetching fund countries:   3%|▎         | 342/10879 [02:19<1:10:49,  2.48it/s]"
     ]
    },
    {
     "name": "stdout",
     "output_type": "stream",
     "text": [
      "[!] Failed for slug: moon-capital - status 502\n"
     ]
    },
    {
     "name": "stderr",
     "output_type": "stream",
     "text": [
      "Fetching fund countries:   3%|▎         | 343/10879 [02:19<1:11:03,  2.47it/s]"
     ]
    },
    {
     "name": "stdout",
     "output_type": "stream",
     "text": [
      "[!] Failed for slug: movement - status 502\n",
      "[!] Failed for slug: coinbureau - status 502\n"
     ]
    },
    {
     "name": "stderr",
     "output_type": "stream",
     "text": [
      "Fetching fund countries:   3%|▎         | 345/10879 [02:20<1:10:46,  2.48it/s]"
     ]
    },
    {
     "name": "stdout",
     "output_type": "stream",
     "text": [
      "[!] Failed for slug: arkstream-capital - status 502\n",
      "[!] Failed for slug: sky-mavis - status 502\n"
     ]
    },
    {
     "name": "stderr",
     "output_type": "stream",
     "text": [
      "Fetching fund countries:   3%|▎         | 347/10879 [02:21<1:07:40,  2.59it/s]"
     ]
    },
    {
     "name": "stdout",
     "output_type": "stream",
     "text": [
      "[!] Failed for slug: csp-dao - status 502\n"
     ]
    },
    {
     "name": "stderr",
     "output_type": "stream",
     "text": [
      "Fetching fund countries:   3%|▎         | 348/10879 [02:21<1:07:07,  2.61it/s]"
     ]
    },
    {
     "name": "stdout",
     "output_type": "stream",
     "text": [
      "[!] Failed for slug: skynet-trading - status 502\n"
     ]
    },
    {
     "name": "stderr",
     "output_type": "stream",
     "text": [
      "Fetching fund countries:   3%|▎         | 349/10879 [02:22<1:06:10,  2.65it/s]"
     ]
    },
    {
     "name": "stdout",
     "output_type": "stream",
     "text": [
      "[!] Failed for slug: black-dragon-capital - status 502\n"
     ]
    },
    {
     "name": "stderr",
     "output_type": "stream",
     "text": [
      "Fetching fund countries:   3%|▎         | 352/10879 [02:23<1:10:26,  2.49it/s]"
     ]
    },
    {
     "name": "stdout",
     "output_type": "stream",
     "text": [
      "[!] Failed for slug: axelar-network - status 502\n"
     ]
    },
    {
     "name": "stderr",
     "output_type": "stream",
     "text": [
      "Fetching fund countries:   3%|▎         | 353/10879 [02:23<1:08:52,  2.55it/s]"
     ]
    },
    {
     "name": "stdout",
     "output_type": "stream",
     "text": [
      "[!] Failed for slug: y2z-ventures - status 502\n",
      "[!] Failed for slug: asymmetric - status 502\n"
     ]
    },
    {
     "name": "stderr",
     "output_type": "stream",
     "text": [
      "Fetching fund countries:   8%|▊         | 830/10879 [05:49<1:09:07,  2.42it/s]"
     ]
    },
    {
     "name": "stdout",
     "output_type": "stream",
     "text": [
      "[!] Failed for slug: fis - status 502\n"
     ]
    },
    {
     "name": "stderr",
     "output_type": "stream",
     "text": [
      "Fetching fund countries:   8%|▊         | 831/10879 [05:49<1:06:43,  2.51it/s]"
     ]
    },
    {
     "name": "stdout",
     "output_type": "stream",
     "text": [
      "[!] Failed for slug: adams-street-partners - status 502\n",
      "[!] Failed for slug: ovo-fund - status 502\n"
     ]
    },
    {
     "name": "stderr",
     "output_type": "stream",
     "text": [
      "Fetching fund countries:   8%|▊         | 833/10879 [05:50<1:06:41,  2.51it/s]"
     ]
    },
    {
     "name": "stdout",
     "output_type": "stream",
     "text": [
      "[!] Failed for slug: harmony - status 502\n"
     ]
    },
    {
     "name": "stderr",
     "output_type": "stream",
     "text": [
      "Fetching fund countries:   8%|▊         | 834/10879 [05:51<1:06:41,  2.51it/s]"
     ]
    },
    {
     "name": "stdout",
     "output_type": "stream",
     "text": [
      "[!] Failed for slug: agya-ventures - status 502\n",
      "[!] Failed for slug: yellow-accelerator - status 502\n"
     ]
    },
    {
     "name": "stderr",
     "output_type": "stream",
     "text": [
      "Fetching fund countries:   8%|▊         | 836/10879 [05:51<1:09:38,  2.40it/s]"
     ]
    },
    {
     "name": "stdout",
     "output_type": "stream",
     "text": [
      "[!] Failed for slug: raydium - status 502\n"
     ]
    },
    {
     "name": "stderr",
     "output_type": "stream",
     "text": [
      "Fetching fund countries:   8%|▊         | 837/10879 [05:52<1:09:47,  2.40it/s]"
     ]
    },
    {
     "name": "stdout",
     "output_type": "stream",
     "text": [
      "[!] Failed for slug: daovergence - status 502\n"
     ]
    },
    {
     "name": "stderr",
     "output_type": "stream",
     "text": [
      "Fetching fund countries:   8%|▊         | 838/10879 [05:52<1:10:49,  2.36it/s]"
     ]
    },
    {
     "name": "stdout",
     "output_type": "stream",
     "text": [
      "[!] Failed for slug: agora - status 502\n"
     ]
    },
    {
     "name": "stderr",
     "output_type": "stream",
     "text": [
      "Fetching fund countries:   8%|▊         | 839/10879 [05:53<1:12:45,  2.30it/s]"
     ]
    },
    {
     "name": "stdout",
     "output_type": "stream",
     "text": [
      "[!] Failed for slug: ontario-teachers-pension-plan - status 502\n"
     ]
    },
    {
     "name": "stderr",
     "output_type": "stream",
     "text": [
      "Fetching fund countries:   8%|▊         | 840/10879 [05:53<1:13:03,  2.29it/s]"
     ]
    },
    {
     "name": "stdout",
     "output_type": "stream",
     "text": [
      "[!] Failed for slug: ellipti - status 502\n"
     ]
    },
    {
     "name": "stderr",
     "output_type": "stream",
     "text": [
      "Fetching fund countries:   8%|▊         | 841/10879 [05:54<1:17:07,  2.17it/s]"
     ]
    },
    {
     "name": "stdout",
     "output_type": "stream",
     "text": [
      "[!] Failed for slug: alberta-innovates - status 502\n",
      "[!] Failed for slug: mgnr - status 502\n"
     ]
    },
    {
     "name": "stderr",
     "output_type": "stream",
     "text": [
      "Fetching fund countries:   8%|▊         | 843/10879 [05:54<1:10:11,  2.38it/s]"
     ]
    },
    {
     "name": "stdout",
     "output_type": "stream",
     "text": [
      "[!] Failed for slug: strive-vc - status 502\n"
     ]
    },
    {
     "name": "stderr",
     "output_type": "stream",
     "text": [
      "Fetching fund countries:   8%|▊         | 844/10879 [05:55<1:09:08,  2.42it/s]"
     ]
    },
    {
     "name": "stdout",
     "output_type": "stream",
     "text": [
      "[!] Failed for slug: aspenwood-ventures - status 502\n"
     ]
    },
    {
     "name": "stderr",
     "output_type": "stream",
     "text": [
      "Fetching fund countries:   8%|▊         | 845/10879 [05:55<1:07:45,  2.47it/s]"
     ]
    },
    {
     "name": "stdout",
     "output_type": "stream",
     "text": [
      "[!] Failed for slug: solidity-ventures - status 502\n"
     ]
    },
    {
     "name": "stderr",
     "output_type": "stream",
     "text": [
      "Fetching fund countries:   8%|▊         | 846/10879 [05:56<1:07:30,  2.48it/s]"
     ]
    },
    {
     "name": "stdout",
     "output_type": "stream",
     "text": [
      "[!] Failed for slug: bitdao - status 502\n"
     ]
    },
    {
     "name": "stderr",
     "output_type": "stream",
     "text": [
      "Fetching fund countries:   8%|▊         | 847/10879 [05:56<1:07:52,  2.46it/s]"
     ]
    },
    {
     "name": "stdout",
     "output_type": "stream",
     "text": [
      "[!] Failed for slug: netease - status 502\n"
     ]
    },
    {
     "name": "stderr",
     "output_type": "stream",
     "text": [
      "Fetching fund countries:   8%|▊         | 848/10879 [05:56<1:07:18,  2.48it/s]"
     ]
    },
    {
     "name": "stdout",
     "output_type": "stream",
     "text": [
      "[!] Failed for slug: gem-capital - status 502\n"
     ]
    },
    {
     "name": "stderr",
     "output_type": "stream",
     "text": [
      "Fetching fund countries:  19%|█▉        | 2057/10879 [16:48<1:45:15,  1.40it/s]"
     ]
    },
    {
     "name": "stdout",
     "output_type": "stream",
     "text": [
      "[!] Failed for slug: g20-ventures - status 502\n"
     ]
    },
    {
     "name": "stderr",
     "output_type": "stream",
     "text": [
      "Fetching fund countries:  19%|█▉        | 2058/10879 [16:49<1:31:29,  1.61it/s]"
     ]
    },
    {
     "name": "stdout",
     "output_type": "stream",
     "text": [
      "[!] Failed for slug: astrax-capital - status 502\n"
     ]
    },
    {
     "name": "stderr",
     "output_type": "stream",
     "text": [
      "Fetching fund countries:  19%|█▉        | 2059/10879 [16:49<1:22:59,  1.77it/s]"
     ]
    },
    {
     "name": "stdout",
     "output_type": "stream",
     "text": [
      "[!] Failed for slug: gydra-capital - status 502\n"
     ]
    },
    {
     "name": "stderr",
     "output_type": "stream",
     "text": [
      "Fetching fund countries:  19%|█▉        | 2060/10879 [16:50<1:22:39,  1.78it/s]"
     ]
    },
    {
     "name": "stdout",
     "output_type": "stream",
     "text": [
      "[!] Failed for slug: acquire - status 502\n"
     ]
    },
    {
     "name": "stderr",
     "output_type": "stream",
     "text": [
      "Fetching fund countries:  19%|█▉        | 2061/10879 [16:50<1:15:45,  1.94it/s]"
     ]
    },
    {
     "name": "stdout",
     "output_type": "stream",
     "text": [
      "[!] Failed for slug: mentat-innovations - status 502\n"
     ]
    },
    {
     "name": "stderr",
     "output_type": "stream",
     "text": [
      "Fetching fund countries:  19%|█▉        | 2062/10879 [16:51<1:30:31,  1.62it/s]"
     ]
    },
    {
     "name": "stdout",
     "output_type": "stream",
     "text": [
      "[!] Failed for slug: radiance-ventures - status 502\n"
     ]
    },
    {
     "name": "stderr",
     "output_type": "stream",
     "text": [
      "Fetching fund countries:  19%|█▉        | 2063/10879 [16:52<1:40:10,  1.47it/s]"
     ]
    },
    {
     "name": "stdout",
     "output_type": "stream",
     "text": [
      "[!] Failed for slug: gm-capital - status 502\n"
     ]
    },
    {
     "name": "stderr",
     "output_type": "stream",
     "text": [
      "Fetching fund countries:  19%|█▉        | 2064/10879 [16:52<1:40:58,  1.45it/s]"
     ]
    },
    {
     "name": "stdout",
     "output_type": "stream",
     "text": [
      "[!] Failed for slug: third-earth-capital - status 502\n"
     ]
    },
    {
     "name": "stderr",
     "output_type": "stream",
     "text": [
      "Fetching fund countries:  19%|█▉        | 2065/10879 [16:53<1:29:20,  1.64it/s]"
     ]
    },
    {
     "name": "stdout",
     "output_type": "stream",
     "text": [
      "[!] Failed for slug: hexens - status 502\n"
     ]
    },
    {
     "name": "stderr",
     "output_type": "stream",
     "text": [
      "Fetching fund countries:  19%|█▉        | 2066/10879 [16:53<1:26:05,  1.71it/s]"
     ]
    },
    {
     "name": "stdout",
     "output_type": "stream",
     "text": [
      "[!] Failed for slug: hypotenuse-labs - status 502\n"
     ]
    },
    {
     "name": "stderr",
     "output_type": "stream",
     "text": [
      "Fetching fund countries:  19%|█▉        | 2067/10879 [16:54<1:26:12,  1.70it/s]"
     ]
    },
    {
     "name": "stdout",
     "output_type": "stream",
     "text": [
      "[!] Failed for slug: arriba-studio - status 502\n"
     ]
    },
    {
     "name": "stderr",
     "output_type": "stream",
     "text": [
      "Fetching fund countries:  19%|█▉        | 2068/10879 [16:55<1:26:23,  1.70it/s]"
     ]
    },
    {
     "name": "stdout",
     "output_type": "stream",
     "text": [
      "[!] Failed for slug: purplesky-capital - status 502\n"
     ]
    },
    {
     "name": "stderr",
     "output_type": "stream",
     "text": [
      "Fetching fund countries:  19%|█▉        | 2069/10879 [16:55<1:21:49,  1.79it/s]"
     ]
    },
    {
     "name": "stdout",
     "output_type": "stream",
     "text": [
      "[!] Failed for slug: aquarius-fund - status 502\n"
     ]
    },
    {
     "name": "stderr",
     "output_type": "stream",
     "text": [
      "Fetching fund countries:  19%|█▉        | 2070/10879 [16:56<1:21:12,  1.81it/s]"
     ]
    },
    {
     "name": "stdout",
     "output_type": "stream",
     "text": [
      "[!] Failed for slug: microcosm-labs - status 502\n"
     ]
    },
    {
     "name": "stderr",
     "output_type": "stream",
     "text": [
      "Fetching fund countries:  19%|█▉        | 2071/10879 [16:56<1:18:44,  1.86it/s]"
     ]
    },
    {
     "name": "stdout",
     "output_type": "stream",
     "text": [
      "[!] Failed for slug: ton-market-maker - status 502\n"
     ]
    },
    {
     "name": "stderr",
     "output_type": "stream",
     "text": [
      "Fetching fund countries:  19%|█▉        | 2072/10879 [16:57<1:21:51,  1.79it/s]"
     ]
    },
    {
     "name": "stdout",
     "output_type": "stream",
     "text": [
      "[!] Failed for slug: everstake-capital - status 502\n"
     ]
    },
    {
     "name": "stderr",
     "output_type": "stream",
     "text": [
      "Fetching fund countries:  38%|███▊      | 4145/10879 [41:28<1:04:48,  1.73it/s]"
     ]
    },
    {
     "name": "stdout",
     "output_type": "stream",
     "text": [
      "[!] Failed for slug: DreamCrew - status 502\n"
     ]
    },
    {
     "name": "stderr",
     "output_type": "stream",
     "text": [
      "Fetching fund countries:  38%|███▊      | 4146/10879 [41:28<1:00:21,  1.86it/s]"
     ]
    },
    {
     "name": "stdout",
     "output_type": "stream",
     "text": [
      "[!] Failed for slug: horseshoecap - status 502\n"
     ]
    },
    {
     "name": "stderr",
     "output_type": "stream",
     "text": [
      "Fetching fund countries:  38%|███▊      | 4147/10879 [41:29<1:00:28,  1.86it/s]"
     ]
    },
    {
     "name": "stdout",
     "output_type": "stream",
     "text": [
      "[!] Failed for slug: innoangelfund - status 502\n"
     ]
    },
    {
     "name": "stderr",
     "output_type": "stream",
     "text": [
      "Fetching fund countries:  38%|███▊      | 4148/10879 [41:29<57:46,  1.94it/s]  "
     ]
    },
    {
     "name": "stdout",
     "output_type": "stream",
     "text": [
      "[!] Failed for slug: plus-capital - status 502\n"
     ]
    },
    {
     "name": "stderr",
     "output_type": "stream",
     "text": [
      "Fetching fund countries:  38%|███▊      | 4149/10879 [41:30<1:02:31,  1.79it/s]"
     ]
    },
    {
     "name": "stdout",
     "output_type": "stream",
     "text": [
      "[!] Failed for slug: forerunnervc - status 502\n"
     ]
    },
    {
     "name": "stderr",
     "output_type": "stream",
     "text": [
      "Fetching fund countries:  38%|███▊      | 4150/10879 [41:30<1:02:17,  1.80it/s]"
     ]
    },
    {
     "name": "stdout",
     "output_type": "stream",
     "text": [
      "[!] Failed for slug: 100-acre - status 502\n",
      "[!] Failed for slug: edbi - status 502\n"
     ]
    },
    {
     "name": "stderr",
     "output_type": "stream",
     "text": [
      "Fetching fund countries:  38%|███▊      | 4152/10879 [41:31<1:00:32,  1.85it/s]"
     ]
    },
    {
     "name": "stdout",
     "output_type": "stream",
     "text": [
      "[!] Failed for slug: first-pacific - status 502\n"
     ]
    },
    {
     "name": "stderr",
     "output_type": "stream",
     "text": [
      "Fetching fund countries:  38%|███▊      | 4153/10879 [41:32<1:05:24,  1.71it/s]"
     ]
    },
    {
     "name": "stdout",
     "output_type": "stream",
     "text": [
      "[!] Failed for slug: ifc-asset-management-company - status 502\n"
     ]
    },
    {
     "name": "stderr",
     "output_type": "stream",
     "text": [
      "Fetching fund countries:  38%|███▊      | 4154/10879 [41:33<1:04:55,  1.73it/s]"
     ]
    },
    {
     "name": "stdout",
     "output_type": "stream",
     "text": [
      "[!] Failed for slug: international-finance-corporation - status 502\n"
     ]
    },
    {
     "name": "stderr",
     "output_type": "stream",
     "text": [
      "Fetching fund countries:  38%|███▊      | 4155/10879 [41:33<1:06:46,  1.68it/s]"
     ]
    },
    {
     "name": "stdout",
     "output_type": "stream",
     "text": [
      "[!] Failed for slug: kirkbi - status 502\n"
     ]
    },
    {
     "name": "stderr",
     "output_type": "stream",
     "text": [
      "Fetching fund countries:  38%|███▊      | 4156/10879 [41:34<1:03:56,  1.75it/s]"
     ]
    },
    {
     "name": "stdout",
     "output_type": "stream",
     "text": [
      "[!] Failed for slug: pldt - status 502\n"
     ]
    },
    {
     "name": "stderr",
     "output_type": "stream",
     "text": [
      "Fetching fund countries:  38%|███▊      | 4157/10879 [41:34<1:03:47,  1.76it/s]"
     ]
    },
    {
     "name": "stdout",
     "output_type": "stream",
     "text": [
      "[!] Failed for slug: pattern-research - status 502\n",
      "[!] Failed for slug: dash-fund - status 502\n"
     ]
    },
    {
     "name": "stderr",
     "output_type": "stream",
     "text": [
      "Fetching fund countries:  38%|███▊      | 4158/10879 [41:35<1:08:07,  1.64it/s]"
     ]
    },
    {
     "name": "stdout",
     "output_type": "stream",
     "text": [
      "[!] Failed for slug: vng-corporation - status 502\n"
     ]
    },
    {
     "name": "stderr",
     "output_type": "stream",
     "text": [
      "Fetching fund countries:  38%|███▊      | 4160/10879 [41:37<1:17:25,  1.45it/s]"
     ]
    },
    {
     "name": "stdout",
     "output_type": "stream",
     "text": [
      "[!] Failed for slug: hunt-ventures - status 502\n"
     ]
    },
    {
     "name": "stderr",
     "output_type": "stream",
     "text": [
      "Fetching fund countries:  38%|███▊      | 4161/10879 [41:38<1:31:06,  1.23it/s]"
     ]
    },
    {
     "name": "stdout",
     "output_type": "stream",
     "text": [
      "[!] Failed for slug: golden-ventures - status 502\n"
     ]
    },
    {
     "name": "stderr",
     "output_type": "stream",
     "text": [
      "Fetching fund countries:  57%|█████▋    | 6226/10879 [59:50<51:17,  1.51it/s]  "
     ]
    },
    {
     "name": "stdout",
     "output_type": "stream",
     "text": [
      "[!] Failed for slug: ritholtz-wealth-management - status 502\n"
     ]
    },
    {
     "name": "stderr",
     "output_type": "stream",
     "text": [
      "Fetching fund countries:  57%|█████▋    | 6227/10879 [59:51<47:50,  1.62it/s]"
     ]
    },
    {
     "name": "stdout",
     "output_type": "stream",
     "text": [
      "[!] Failed for slug: fitch-ventures - status 502\n"
     ]
    },
    {
     "name": "stderr",
     "output_type": "stream",
     "text": [
      "Fetching fund countries:  57%|█████▋    | 6228/10879 [59:51<45:01,  1.72it/s]"
     ]
    },
    {
     "name": "stdout",
     "output_type": "stream",
     "text": [
      "[!] Failed for slug: startup-mavericks - status 502\n"
     ]
    },
    {
     "name": "stderr",
     "output_type": "stream",
     "text": [
      "Fetching fund countries:  57%|█████▋    | 6229/10879 [59:52<46:22,  1.67it/s]"
     ]
    },
    {
     "name": "stdout",
     "output_type": "stream",
     "text": [
      "[!] Failed for slug: tokenization-limited - status 502\n"
     ]
    },
    {
     "name": "stderr",
     "output_type": "stream",
     "text": [
      "Fetching fund countries:  57%|█████▋    | 6230/10879 [59:52<48:42,  1.59it/s]"
     ]
    },
    {
     "name": "stdout",
     "output_type": "stream",
     "text": [
      "[!] Failed for slug: flex-dapps - status 502\n"
     ]
    },
    {
     "name": "stderr",
     "output_type": "stream",
     "text": [
      "Fetching fund countries:  57%|█████▋    | 6231/10879 [59:53<47:21,  1.64it/s]"
     ]
    },
    {
     "name": "stdout",
     "output_type": "stream",
     "text": [
      "[!] Failed for slug: lcv-capital-management - status 502\n"
     ]
    },
    {
     "name": "stderr",
     "output_type": "stream",
     "text": [
      "Fetching fund countries:  57%|█████▋    | 6232/10879 [59:54<51:20,  1.51it/s]"
     ]
    },
    {
     "name": "stdout",
     "output_type": "stream",
     "text": [
      "[!] Failed for slug: nakhla-ventures - status 502\n"
     ]
    },
    {
     "name": "stderr",
     "output_type": "stream",
     "text": [
      "Fetching fund countries:  57%|█████▋    | 6233/10879 [59:54<51:17,  1.51it/s]"
     ]
    },
    {
     "name": "stdout",
     "output_type": "stream",
     "text": [
      "[!] Failed for slug: defi-omega - status 502\n"
     ]
    },
    {
     "name": "stderr",
     "output_type": "stream",
     "text": [
      "Fetching fund countries:  57%|█████▋    | 6234/10879 [59:55<48:26,  1.60it/s]"
     ]
    },
    {
     "name": "stdout",
     "output_type": "stream",
     "text": [
      "[!] Failed for slug: futo - status 502\n"
     ]
    },
    {
     "name": "stderr",
     "output_type": "stream",
     "text": [
      "Fetching fund countries:  57%|█████▋    | 6235/10879 [59:56<46:42,  1.66it/s]"
     ]
    },
    {
     "name": "stdout",
     "output_type": "stream",
     "text": [
      "[!] Failed for slug: navier - status 502\n"
     ]
    },
    {
     "name": "stderr",
     "output_type": "stream",
     "text": [
      "Fetching fund countries:  57%|█████▋    | 6236/10879 [59:56<44:24,  1.74it/s]"
     ]
    },
    {
     "name": "stdout",
     "output_type": "stream",
     "text": [
      "[!] Failed for slug: kamunting-street - status 502\n"
     ]
    },
    {
     "name": "stderr",
     "output_type": "stream",
     "text": [
      "Fetching fund countries:  57%|█████▋    | 6237/10879 [59:57<44:02,  1.76it/s]"
     ]
    },
    {
     "name": "stdout",
     "output_type": "stream",
     "text": [
      "[!] Failed for slug: samurai-cyberfi - status 502\n"
     ]
    },
    {
     "name": "stderr",
     "output_type": "stream",
     "text": [
      "Fetching fund countries:  57%|█████▋    | 6238/10879 [59:57<44:38,  1.73it/s]"
     ]
    },
    {
     "name": "stdout",
     "output_type": "stream",
     "text": [
      "[!] Failed for slug: hampstead-park - status 502\n"
     ]
    },
    {
     "name": "stderr",
     "output_type": "stream",
     "text": [
      "Fetching fund countries:  57%|█████▋    | 6239/10879 [59:58<47:01,  1.64it/s]"
     ]
    },
    {
     "name": "stdout",
     "output_type": "stream",
     "text": [
      "[!] Failed for slug: mountx-capital - status 502\n"
     ]
    },
    {
     "name": "stderr",
     "output_type": "stream",
     "text": [
      "Fetching fund countries:  57%|█████▋    | 6240/10879 [59:59<48:14,  1.60it/s]"
     ]
    },
    {
     "name": "stdout",
     "output_type": "stream",
     "text": [
      "[!] Failed for slug: quansight-initiate - status 502\n"
     ]
    },
    {
     "name": "stderr",
     "output_type": "stream",
     "text": [
      "Fetching fund countries:  57%|█████▋    | 6241/10879 [59:59<48:52,  1.58it/s]"
     ]
    },
    {
     "name": "stdout",
     "output_type": "stream",
     "text": [
      "[!] Failed for slug: aurablock-ventures - status 502\n"
     ]
    },
    {
     "name": "stderr",
     "output_type": "stream",
     "text": [
      "Fetching fund countries:  57%|█████▋    | 6242/10879 [1:00:00<52:28,  1.47it/s]"
     ]
    },
    {
     "name": "stdout",
     "output_type": "stream",
     "text": [
      "[!] Failed for slug: fission-capital - status 502\n"
     ]
    },
    {
     "name": "stderr",
     "output_type": "stream",
     "text": [
      "Fetching fund countries:  57%|█████▋    | 6243/10879 [1:00:01<52:06,  1.48it/s]"
     ]
    },
    {
     "name": "stdout",
     "output_type": "stream",
     "text": [
      "[!] Failed for slug: coinstone-capital - status 502\n"
     ]
    },
    {
     "name": "stderr",
     "output_type": "stream",
     "text": [
      "Fetching fund countries:  62%|██████▏   | 6700/10879 [1:04:57<29:08,  2.39it/s]  "
     ]
    },
    {
     "name": "stdout",
     "output_type": "stream",
     "text": [
      "[!] Failed for slug: zagabond - status 502\n"
     ]
    },
    {
     "name": "stderr",
     "output_type": "stream",
     "text": [
      "Fetching fund countries:  62%|██████▏   | 6701/10879 [1:04:57<28:50,  2.41it/s]"
     ]
    },
    {
     "name": "stdout",
     "output_type": "stream",
     "text": [
      "[!] Failed for slug: aaron-harris - status 502\n"
     ]
    },
    {
     "name": "stderr",
     "output_type": "stream",
     "text": [
      "Fetching fund countries:  62%|██████▏   | 6702/10879 [1:04:57<28:38,  2.43it/s]"
     ]
    },
    {
     "name": "stdout",
     "output_type": "stream",
     "text": [
      "[!] Failed for slug: aadil-mamujee - status 502\n"
     ]
    },
    {
     "name": "stderr",
     "output_type": "stream",
     "text": [
      "Fetching fund countries:  62%|██████▏   | 6703/10879 [1:04:58<28:23,  2.45it/s]"
     ]
    },
    {
     "name": "stdout",
     "output_type": "stream",
     "text": [
      "[!] Failed for slug: amy-wu - status 502\n"
     ]
    },
    {
     "name": "stderr",
     "output_type": "stream",
     "text": [
      "Fetching fund countries:  62%|██████▏   | 6704/10879 [1:04:58<28:48,  2.42it/s]"
     ]
    },
    {
     "name": "stdout",
     "output_type": "stream",
     "text": [
      "[!] Failed for slug: jeff-feng - status 502\n"
     ]
    },
    {
     "name": "stderr",
     "output_type": "stream",
     "text": [
      "Fetching fund countries:  62%|██████▏   | 6705/10879 [1:04:59<28:05,  2.48it/s]"
     ]
    },
    {
     "name": "stdout",
     "output_type": "stream",
     "text": [
      "[!] Failed for slug: vijay-chetty - status 502\n"
     ]
    },
    {
     "name": "stderr",
     "output_type": "stream",
     "text": [
      "Fetching fund countries:  62%|██████▏   | 6706/10879 [1:04:59<27:52,  2.50it/s]"
     ]
    },
    {
     "name": "stdout",
     "output_type": "stream",
     "text": [
      "[!] Failed for slug: eugene-shen - status 502\n",
      "[!] Failed for slug: evgeny-gaevoy - status 502\n"
     ]
    },
    {
     "name": "stderr",
     "output_type": "stream",
     "text": [
      "Fetching fund countries:  62%|██████▏   | 6707/10879 [1:04:59<27:29,  2.53it/s]"
     ]
    },
    {
     "name": "stdout",
     "output_type": "stream",
     "text": [
      "[!] Failed for slug: max-power - status 502\n"
     ]
    },
    {
     "name": "stderr",
     "output_type": "stream",
     "text": [
      "Fetching fund countries:  62%|██████▏   | 6709/10879 [1:05:00<27:04,  2.57it/s]"
     ]
    },
    {
     "name": "stdout",
     "output_type": "stream",
     "text": [
      "[!] Failed for slug: yu-hu - status 502\n",
      "[!] Failed for slug: mykola-paliienko - status 502\n"
     ]
    },
    {
     "name": "stderr",
     "output_type": "stream",
     "text": [
      "Fetching fund countries:  62%|██████▏   | 6710/10879 [1:05:00<26:36,  2.61it/s]"
     ]
    },
    {
     "name": "stdout",
     "output_type": "stream",
     "text": [
      "[!] Failed for slug: anatoly-yakovenko - status 502\n"
     ]
    },
    {
     "name": "stderr",
     "output_type": "stream",
     "text": [
      "Fetching fund countries:  62%|██████▏   | 6712/10879 [1:05:01<27:32,  2.52it/s]"
     ]
    },
    {
     "name": "stdout",
     "output_type": "stream",
     "text": [
      "[!] Failed for slug: meebco - status 502\n"
     ]
    },
    {
     "name": "stderr",
     "output_type": "stream",
     "text": [
      "Fetching fund countries:  62%|██████▏   | 6713/10879 [1:05:02<27:17,  2.54it/s]"
     ]
    },
    {
     "name": "stdout",
     "output_type": "stream",
     "text": [
      "[!] Failed for slug: new-heights - status 502\n",
      "[!] Failed for slug: nim-network - status 502\n"
     ]
    },
    {
     "name": "stderr",
     "output_type": "stream",
     "text": [
      "Fetching fund countries:  62%|██████▏   | 6715/10879 [1:05:02<27:18,  2.54it/s]"
     ]
    },
    {
     "name": "stdout",
     "output_type": "stream",
     "text": [
      "[!] Failed for slug: virtuals-protocol - status 502\n"
     ]
    },
    {
     "name": "stderr",
     "output_type": "stream",
     "text": [
      "Fetching fund countries:  62%|██████▏   | 6717/10879 [1:05:03<27:50,  2.49it/s]"
     ]
    },
    {
     "name": "stdout",
     "output_type": "stream",
     "text": [
      "[!] Failed for slug: pentoshi - status 502\n"
     ]
    },
    {
     "name": "stderr",
     "output_type": "stream",
     "text": [
      "Fetching fund countries:  62%|██████▏   | 6718/10879 [1:05:04<28:09,  2.46it/s]"
     ]
    },
    {
     "name": "stdout",
     "output_type": "stream",
     "text": [
      "[!] Failed for slug: cobie - status 502\n"
     ]
    },
    {
     "name": "stderr",
     "output_type": "stream",
     "text": [
      "Fetching fund countries:  62%|██████▏   | 6719/10879 [1:05:04<29:08,  2.38it/s]"
     ]
    },
    {
     "name": "stdout",
     "output_type": "stream",
     "text": [
      "[!] Failed for slug: guy-young - status 502\n"
     ]
    },
    {
     "name": "stderr",
     "output_type": "stream",
     "text": [
      "Fetching fund countries:  62%|██████▏   | 6721/10879 [1:05:05<27:48,  2.49it/s]"
     ]
    },
    {
     "name": "stdout",
     "output_type": "stream",
     "text": [
      "[!] Failed for slug: zaheer - status 502\n"
     ]
    },
    {
     "name": "stderr",
     "output_type": "stream",
     "text": [
      "Fetching fund countries:  62%|██████▏   | 6722/10879 [1:05:05<27:17,  2.54it/s]"
     ]
    },
    {
     "name": "stdout",
     "output_type": "stream",
     "text": [
      "[!] Failed for slug: dcf-capital-partners - status 502\n"
     ]
    },
    {
     "name": "stderr",
     "output_type": "stream",
     "text": [
      "Fetching fund countries:  62%|██████▏   | 6723/10879 [1:05:06<28:47,  2.41it/s]"
     ]
    },
    {
     "name": "stdout",
     "output_type": "stream",
     "text": [
      "[!] Failed for slug: keydifference - status 502\n"
     ]
    },
    {
     "name": "stderr",
     "output_type": "stream",
     "text": [
      "Fetching fund countries:  62%|██████▏   | 6724/10879 [1:05:06<28:24,  2.44it/s]"
     ]
    },
    {
     "name": "stdout",
     "output_type": "stream",
     "text": [
      "[!] Failed for slug: li-fi - status 502\n"
     ]
    },
    {
     "name": "stderr",
     "output_type": "stream",
     "text": [
      "Fetching fund countries:  62%|██████▏   | 6725/10879 [1:05:07<28:23,  2.44it/s]"
     ]
    },
    {
     "name": "stdout",
     "output_type": "stream",
     "text": [
      "[!] Failed for slug: mintify - status 502\n"
     ]
    },
    {
     "name": "stderr",
     "output_type": "stream",
     "text": [
      "Fetching fund countries:  63%|██████▎   | 6814/10879 [1:05:46<25:45,  2.63it/s]  "
     ]
    },
    {
     "name": "stdout",
     "output_type": "stream",
     "text": [
      "[!] Failed for slug: altcoin-sherpa - status 502\n"
     ]
    },
    {
     "name": "stderr",
     "output_type": "stream",
     "text": [
      "Fetching fund countries:  63%|██████▎   | 6815/10879 [1:05:47<26:35,  2.55it/s]"
     ]
    },
    {
     "name": "stdout",
     "output_type": "stream",
     "text": [
      "[!] Failed for slug: icedknife - status 502\n"
     ]
    },
    {
     "name": "stderr",
     "output_type": "stream",
     "text": [
      "Fetching fund countries:  63%|██████▎   | 6816/10879 [1:05:47<28:36,  2.37it/s]"
     ]
    },
    {
     "name": "stdout",
     "output_type": "stream",
     "text": [
      "[!] Failed for slug: eric-cryptoman - status 502\n"
     ]
    },
    {
     "name": "stderr",
     "output_type": "stream",
     "text": [
      "Fetching fund countries:  63%|██████▎   | 6817/10879 [1:05:48<30:53,  2.19it/s]"
     ]
    },
    {
     "name": "stdout",
     "output_type": "stream",
     "text": [
      "[!] Failed for slug: nebulae - status 502\n"
     ]
    },
    {
     "name": "stderr",
     "output_type": "stream",
     "text": [
      "Fetching fund countries:  63%|██████▎   | 6818/10879 [1:05:48<29:33,  2.29it/s]"
     ]
    },
    {
     "name": "stdout",
     "output_type": "stream",
     "text": [
      "[!] Failed for slug: rachid-ajaja - status 502\n"
     ]
    },
    {
     "name": "stderr",
     "output_type": "stream",
     "text": [
      "Fetching fund countries:  63%|██████▎   | 6819/10879 [1:05:48<28:30,  2.37it/s]"
     ]
    },
    {
     "name": "stdout",
     "output_type": "stream",
     "text": [
      "[!] Failed for slug: tal-cohen - status 502\n"
     ]
    },
    {
     "name": "stderr",
     "output_type": "stream",
     "text": [
      "Fetching fund countries:  63%|██████▎   | 6820/10879 [1:05:49<28:53,  2.34it/s]"
     ]
    },
    {
     "name": "stdout",
     "output_type": "stream",
     "text": [
      "[!] Failed for slug: cryptojack - status 502\n"
     ]
    },
    {
     "name": "stderr",
     "output_type": "stream",
     "text": [
      "Fetching fund countries:  63%|██████▎   | 6821/10879 [1:05:49<28:40,  2.36it/s]"
     ]
    },
    {
     "name": "stdout",
     "output_type": "stream",
     "text": [
      "[!] Failed for slug: darren-camas - status 502\n"
     ]
    },
    {
     "name": "stderr",
     "output_type": "stream",
     "text": [
      "Fetching fund countries:  63%|██████▎   | 6822/10879 [1:05:50<27:58,  2.42it/s]"
     ]
    },
    {
     "name": "stdout",
     "output_type": "stream",
     "text": [
      "[!] Failed for slug: lauris - status 502\n"
     ]
    },
    {
     "name": "stderr",
     "output_type": "stream",
     "text": [
      "Fetching fund countries:  63%|██████▎   | 6823/10879 [1:05:50<27:47,  2.43it/s]"
     ]
    },
    {
     "name": "stdout",
     "output_type": "stream",
     "text": [
      "[!] Failed for slug: manu-andorra - status 502\n"
     ]
    },
    {
     "name": "stderr",
     "output_type": "stream",
     "text": [
      "Fetching fund countries:  63%|██████▎   | 6824/10879 [1:05:50<27:20,  2.47it/s]"
     ]
    },
    {
     "name": "stdout",
     "output_type": "stream",
     "text": [
      "[!] Failed for slug: ox-fun - status 502\n"
     ]
    },
    {
     "name": "stderr",
     "output_type": "stream",
     "text": [
      "Fetching fund countries:  63%|██████▎   | 6825/10879 [1:05:51<27:26,  2.46it/s]"
     ]
    },
    {
     "name": "stdout",
     "output_type": "stream",
     "text": [
      "[!] Failed for slug: themooncarl - status 502\n"
     ]
    },
    {
     "name": "stderr",
     "output_type": "stream",
     "text": [
      "Fetching fund countries:  63%|██████▎   | 6826/10879 [1:05:51<27:26,  2.46it/s]"
     ]
    },
    {
     "name": "stdout",
     "output_type": "stream",
     "text": [
      "[!] Failed for slug: dsrv - status 502\n"
     ]
    },
    {
     "name": "stderr",
     "output_type": "stream",
     "text": [
      "Fetching fund countries:  63%|██████▎   | 6827/10879 [1:05:52<27:20,  2.47it/s]"
     ]
    },
    {
     "name": "stdout",
     "output_type": "stream",
     "text": [
      "[!] Failed for slug: nodeinfra - status 502\n",
      "[!] Failed for slug: seraphim - status 502\n"
     ]
    },
    {
     "name": "stderr",
     "output_type": "stream",
     "text": [
      "Fetching fund countries:  63%|██████▎   | 6828/10879 [1:05:52<26:32,  2.54it/s]"
     ]
    },
    {
     "name": "stdout",
     "output_type": "stream",
     "text": [
      "[!] Failed for slug: sjuul - status 502\n"
     ]
    },
    {
     "name": "stderr",
     "output_type": "stream",
     "text": [
      "Fetching fund countries:  63%|██████▎   | 6830/10879 [1:05:53<26:24,  2.55it/s]"
     ]
    },
    {
     "name": "stdout",
     "output_type": "stream",
     "text": [
      "[!] Failed for slug: stanley-wu - status 502\n"
     ]
    },
    {
     "name": "stderr",
     "output_type": "stream",
     "text": [
      "Fetching fund countries:  63%|██████▎   | 6831/10879 [1:05:53<26:32,  2.54it/s]"
     ]
    },
    {
     "name": "stdout",
     "output_type": "stream",
     "text": [
      "[!] Failed for slug: tagus-labs - status 502\n"
     ]
    },
    {
     "name": "stderr",
     "output_type": "stream",
     "text": [
      "Fetching fund countries:  63%|██████▎   | 6832/10879 [1:05:53<26:22,  2.56it/s]"
     ]
    },
    {
     "name": "stdout",
     "output_type": "stream",
     "text": [
      "[!] Failed for slug: tedpillows - status 502\n"
     ]
    },
    {
     "name": "stderr",
     "output_type": "stream",
     "text": [
      "Fetching fund countries:  63%|██████▎   | 6833/10879 [1:05:54<26:30,  2.54it/s]"
     ]
    },
    {
     "name": "stdout",
     "output_type": "stream",
     "text": [
      "[!] Failed for slug: xportal - status 502\n"
     ]
    },
    {
     "name": "stderr",
     "output_type": "stream",
     "text": [
      "Fetching fund countries:  63%|██████▎   | 6834/10879 [1:05:54<26:42,  2.52it/s]"
     ]
    },
    {
     "name": "stdout",
     "output_type": "stream",
     "text": [
      "[!] Failed for slug: sol-big-brain - status 502\n"
     ]
    },
    {
     "name": "stderr",
     "output_type": "stream",
     "text": [
      "Fetching fund countries:  63%|██████▎   | 6835/10879 [1:05:55<28:51,  2.34it/s]"
     ]
    },
    {
     "name": "stdout",
     "output_type": "stream",
     "text": [
      "[!] Failed for slug: thanh-le - status 502\n"
     ]
    },
    {
     "name": "stderr",
     "output_type": "stream",
     "text": [
      "Fetching fund countries:  63%|██████▎   | 6836/10879 [1:05:55<28:09,  2.39it/s]"
     ]
    },
    {
     "name": "stdout",
     "output_type": "stream",
     "text": [
      "[!] Failed for slug: gum - status 502\n"
     ]
    },
    {
     "name": "stderr",
     "output_type": "stream",
     "text": [
      "Fetching fund countries:  63%|██████▎   | 6837/10879 [1:05:56<27:33,  2.44it/s]"
     ]
    },
    {
     "name": "stdout",
     "output_type": "stream",
     "text": [
      "[!] Failed for slug: agora-governance - status 502\n"
     ]
    },
    {
     "name": "stderr",
     "output_type": "stream",
     "text": [
      "Fetching fund countries:  66%|██████▌   | 7126/10879 [1:08:51<25:59,  2.41it/s]  "
     ]
    },
    {
     "name": "stdout",
     "output_type": "stream",
     "text": [
      "[!] Failed for slug: hgen-dao - status 502\n"
     ]
    },
    {
     "name": "stderr",
     "output_type": "stream",
     "text": [
      "Fetching fund countries:  66%|██████▌   | 7127/10879 [1:08:51<26:30,  2.36it/s]"
     ]
    },
    {
     "name": "stdout",
     "output_type": "stream",
     "text": [
      "[!] Failed for slug: retired-chad-dev - status 502\n"
     ]
    },
    {
     "name": "stderr",
     "output_type": "stream",
     "text": [
      "Fetching fund countries:  66%|██████▌   | 7128/10879 [1:08:52<25:35,  2.44it/s]"
     ]
    },
    {
     "name": "stdout",
     "output_type": "stream",
     "text": [
      "[!] Failed for slug: macbrennan - status 502\n",
      "[!] Failed for slug: alkine - status 502\n"
     ]
    },
    {
     "name": "stderr",
     "output_type": "stream",
     "text": [
      "Fetching fund countries:  66%|██████▌   | 7129/10879 [1:08:52<25:01,  2.50it/s]"
     ]
    },
    {
     "name": "stdout",
     "output_type": "stream",
     "text": [
      "[!] Failed for slug: bigzpubkey - status 502\n"
     ]
    },
    {
     "name": "stderr",
     "output_type": "stream",
     "text": [
      "Fetching fund countries:  66%|██████▌   | 7130/10879 [1:08:53<24:33,  2.55it/s]"
     ]
    },
    {
     "name": "stdout",
     "output_type": "stream",
     "text": [
      "[!] Failed for slug: bridges - status 502\n"
     ]
    },
    {
     "name": "stderr",
     "output_type": "stream",
     "text": [
      "Fetching fund countries:  66%|██████▌   | 7132/10879 [1:08:53<23:53,  2.61it/s]"
     ]
    },
    {
     "name": "stdout",
     "output_type": "stream",
     "text": [
      "[!] Failed for slug: david-lu - status 502\n"
     ]
    },
    {
     "name": "stderr",
     "output_type": "stream",
     "text": [
      "Fetching fund countries:  66%|██████▌   | 7133/10879 [1:08:54<23:38,  2.64it/s]"
     ]
    },
    {
     "name": "stdout",
     "output_type": "stream",
     "text": [
      "[!] Failed for slug: flux - status 502\n"
     ]
    },
    {
     "name": "stderr",
     "output_type": "stream",
     "text": [
      "Fetching fund countries:  66%|██████▌   | 7134/10879 [1:08:54<23:49,  2.62it/s]"
     ]
    },
    {
     "name": "stdout",
     "output_type": "stream",
     "text": [
      "[!] Failed for slug: ilmoi - status 502\n"
     ]
    },
    {
     "name": "stderr",
     "output_type": "stream",
     "text": [
      "Fetching fund countries:  66%|██████▌   | 7135/10879 [1:08:54<23:26,  2.66it/s]"
     ]
    },
    {
     "name": "stdout",
     "output_type": "stream",
     "text": [
      "[!] Failed for slug: marc-tillement - status 502\n"
     ]
    },
    {
     "name": "stderr",
     "output_type": "stream",
     "text": [
      "Fetching fund countries:  66%|██████▌   | 7136/10879 [1:08:55<23:48,  2.62it/s]"
     ]
    },
    {
     "name": "stdout",
     "output_type": "stream",
     "text": [
      "[!] Failed for slug: marius-ciubotariu - status 502\n",
      "[!] Failed for slug: swen-schaferjohann - status 502\n"
     ]
    },
    {
     "name": "stderr",
     "output_type": "stream",
     "text": [
      "Fetching fund countries:  66%|██████▌   | 7138/10879 [1:08:56<23:33,  2.65it/s]"
     ]
    },
    {
     "name": "stdout",
     "output_type": "stream",
     "text": [
      "[!] Failed for slug: thanos-soutos - status 502\n",
      "[!] Failed for slug: timur-samoylov - status 502\n"
     ]
    },
    {
     "name": "stderr",
     "output_type": "stream",
     "text": [
      "Fetching fund countries:  66%|██████▌   | 7140/10879 [1:08:56<23:52,  2.61it/s]"
     ]
    },
    {
     "name": "stdout",
     "output_type": "stream",
     "text": [
      "[!] Failed for slug: josh-hannah - status 502\n"
     ]
    },
    {
     "name": "stderr",
     "output_type": "stream",
     "text": [
      "Fetching fund countries:  66%|██████▌   | 7141/10879 [1:08:57<23:52,  2.61it/s]"
     ]
    },
    {
     "name": "stdout",
     "output_type": "stream",
     "text": [
      "[!] Failed for slug: zhen-cao - status 502\n"
     ]
    },
    {
     "name": "stderr",
     "output_type": "stream",
     "text": [
      "Fetching fund countries:  66%|██████▌   | 7152/10879 [1:09:01<24:38,  2.52it/s]"
     ]
    },
    {
     "name": "stdout",
     "output_type": "stream",
     "text": [
      "[!] Failed for slug: ai-project-hub - status 502\n"
     ]
    },
    {
     "name": "stderr",
     "output_type": "stream",
     "text": [
      "Fetching fund countries:  66%|██████▌   | 7153/10879 [1:09:02<24:44,  2.51it/s]"
     ]
    },
    {
     "name": "stdout",
     "output_type": "stream",
     "text": [
      "[!] Failed for slug: dim-selk - status 502\n"
     ]
    },
    {
     "name": "stderr",
     "output_type": "stream",
     "text": [
      "Fetching fund countries:  67%|██████▋   | 7292/10879 [1:10:21<27:15,  2.19it/s]  "
     ]
    },
    {
     "name": "stdout",
     "output_type": "stream",
     "text": [
      "[!] Failed for slug: scott-keto - status 502\n"
     ]
    },
    {
     "name": "stderr",
     "output_type": "stream",
     "text": [
      "Fetching fund countries:  67%|██████▋   | 7293/10879 [1:10:21<26:25,  2.26it/s]"
     ]
    },
    {
     "name": "stdout",
     "output_type": "stream",
     "text": [
      "[!] Failed for slug: jason-hitchcock - status 502\n"
     ]
    },
    {
     "name": "stderr",
     "output_type": "stream",
     "text": [
      "Fetching fund countries:  67%|██████▋   | 7294/10879 [1:10:22<25:37,  2.33it/s]"
     ]
    },
    {
     "name": "stdout",
     "output_type": "stream",
     "text": [
      "[!] Failed for slug: mika-honkasalo - status 502\n"
     ]
    },
    {
     "name": "stderr",
     "output_type": "stream",
     "text": [
      "Fetching fund countries:  67%|██████▋   | 7295/10879 [1:10:22<26:26,  2.26it/s]"
     ]
    },
    {
     "name": "stdout",
     "output_type": "stream",
     "text": [
      "[!] Failed for slug: chartfu - status 502\n"
     ]
    },
    {
     "name": "stderr",
     "output_type": "stream",
     "text": [
      "Fetching fund countries:  67%|██████▋   | 7296/10879 [1:10:22<25:39,  2.33it/s]"
     ]
    },
    {
     "name": "stdout",
     "output_type": "stream",
     "text": [
      "[!] Failed for slug: evan-cheng - status 502\n"
     ]
    },
    {
     "name": "stderr",
     "output_type": "stream",
     "text": [
      "Fetching fund countries:  67%|██████▋   | 7297/10879 [1:10:23<28:55,  2.06it/s]"
     ]
    },
    {
     "name": "stdout",
     "output_type": "stream",
     "text": [
      "[!] Failed for slug: kevin-ding - status 502\n"
     ]
    },
    {
     "name": "stderr",
     "output_type": "stream",
     "text": [
      "Fetching fund countries:  67%|██████▋   | 7298/10879 [1:10:24<28:22,  2.10it/s]"
     ]
    },
    {
     "name": "stdout",
     "output_type": "stream",
     "text": [
      "[!] Failed for slug: alexander-s-blume - status 502\n"
     ]
    },
    {
     "name": "stderr",
     "output_type": "stream",
     "text": [
      "Fetching fund countries:  67%|██████▋   | 7299/10879 [1:10:24<27:53,  2.14it/s]"
     ]
    },
    {
     "name": "stdout",
     "output_type": "stream",
     "text": [
      "[!] Failed for slug: zane-lackey - status 502\n"
     ]
    },
    {
     "name": "stderr",
     "output_type": "stream",
     "text": [
      "Fetching fund countries:  67%|██████▋   | 7300/10879 [1:10:24<27:57,  2.13it/s]"
     ]
    },
    {
     "name": "stdout",
     "output_type": "stream",
     "text": [
      "[!] Failed for slug: richard-dai - status 502\n"
     ]
    },
    {
     "name": "stderr",
     "output_type": "stream",
     "text": [
      "Fetching fund countries:  67%|██████▋   | 7301/10879 [1:10:25<27:33,  2.16it/s]"
     ]
    },
    {
     "name": "stdout",
     "output_type": "stream",
     "text": [
      "[!] Failed for slug: david-choi - status 502\n"
     ]
    },
    {
     "name": "stderr",
     "output_type": "stream",
     "text": [
      "Fetching fund countries:  67%|██████▋   | 7302/10879 [1:10:25<27:46,  2.15it/s]"
     ]
    },
    {
     "name": "stdout",
     "output_type": "stream",
     "text": [
      "[!] Failed for slug: holly-liu - status 502\n"
     ]
    },
    {
     "name": "stderr",
     "output_type": "stream",
     "text": [
      "Fetching fund countries:  67%|██████▋   | 7303/10879 [1:10:26<27:53,  2.14it/s]"
     ]
    },
    {
     "name": "stdout",
     "output_type": "stream",
     "text": [
      "[!] Failed for slug: ray-chan - status 502\n"
     ]
    },
    {
     "name": "stderr",
     "output_type": "stream",
     "text": [
      "Fetching fund countries:  67%|██████▋   | 7304/10879 [1:10:26<28:00,  2.13it/s]"
     ]
    },
    {
     "name": "stdout",
     "output_type": "stream",
     "text": [
      "[!] Failed for slug: tamar-menteshashvili - status 502\n"
     ]
    },
    {
     "name": "stderr",
     "output_type": "stream",
     "text": [
      "Fetching fund countries:  67%|██████▋   | 7305/10879 [1:10:27<27:38,  2.16it/s]"
     ]
    },
    {
     "name": "stdout",
     "output_type": "stream",
     "text": [
      "[!] Failed for slug: flying-falcon - status 502\n"
     ]
    },
    {
     "name": "stderr",
     "output_type": "stream",
     "text": [
      "Fetching fund countries:  67%|██████▋   | 7306/10879 [1:10:27<27:46,  2.14it/s]"
     ]
    },
    {
     "name": "stdout",
     "output_type": "stream",
     "text": [
      "[!] Failed for slug: eric-chen - status 502\n"
     ]
    },
    {
     "name": "stderr",
     "output_type": "stream",
     "text": [
      "Fetching fund countries:  67%|██████▋   | 7307/10879 [1:10:28<26:46,  2.22it/s]"
     ]
    },
    {
     "name": "stdout",
     "output_type": "stream",
     "text": [
      "[!] Failed for slug: anthony-beaumont - status 502\n"
     ]
    },
    {
     "name": "stderr",
     "output_type": "stream",
     "text": [
      "Fetching fund countries:  67%|██████▋   | 7308/10879 [1:10:28<25:57,  2.29it/s]"
     ]
    },
    {
     "name": "stdout",
     "output_type": "stream",
     "text": [
      "[!] Failed for slug: david-lee - status 502\n",
      "[!] Failed for slug: jeffrey-zirlin - status 502\n"
     ]
    },
    {
     "name": "stderr",
     "output_type": "stream",
     "text": [
      "Fetching fund countries:  67%|██████▋   | 7310/10879 [1:10:29<24:06,  2.47it/s]"
     ]
    },
    {
     "name": "stdout",
     "output_type": "stream",
     "text": [
      "[!] Failed for slug: matt-finick - status 502\n"
     ]
    },
    {
     "name": "stderr",
     "output_type": "stream",
     "text": [
      "Fetching fund countries:  67%|██████▋   | 7311/10879 [1:10:29<24:13,  2.46it/s]"
     ]
    },
    {
     "name": "stdout",
     "output_type": "stream",
     "text": [
      "[!] Failed for slug: trung-nguyen - status 502\n"
     ]
    },
    {
     "name": "stderr",
     "output_type": "stream",
     "text": [
      "Fetching fund countries:  67%|██████▋   | 7312/10879 [1:10:30<23:33,  2.52it/s]"
     ]
    },
    {
     "name": "stdout",
     "output_type": "stream",
     "text": [
      "[!] Failed for slug: amir-bandeali - status 502\n"
     ]
    },
    {
     "name": "stderr",
     "output_type": "stream",
     "text": [
      "Fetching fund countries:  67%|██████▋   | 7325/10879 [1:10:36<30:47,  1.92it/s]"
     ]
    },
    {
     "name": "stdout",
     "output_type": "stream",
     "text": [
      "[!] Failed for slug: steve-chen - status 502\n"
     ]
    },
    {
     "name": "stderr",
     "output_type": "stream",
     "text": [
      "Fetching fund countries:  67%|██████▋   | 7326/10879 [1:10:36<29:44,  1.99it/s]"
     ]
    },
    {
     "name": "stdout",
     "output_type": "stream",
     "text": [
      "[!] Failed for slug: thomas-seiler - status 502\n"
     ]
    },
    {
     "name": "stderr",
     "output_type": "stream",
     "text": [
      "Fetching fund countries:  67%|██████▋   | 7327/10879 [1:10:36<27:19,  2.17it/s]"
     ]
    },
    {
     "name": "stdout",
     "output_type": "stream",
     "text": [
      "[!] Failed for slug: xstar - status 502\n"
     ]
    },
    {
     "name": "stderr",
     "output_type": "stream",
     "text": [
      "Fetching fund countries:  67%|██████▋   | 7328/10879 [1:10:37<25:53,  2.29it/s]"
     ]
    },
    {
     "name": "stdout",
     "output_type": "stream",
     "text": [
      "[!] Failed for slug: queenie-wu - status 502\n"
     ]
    },
    {
     "name": "stderr",
     "output_type": "stream",
     "text": [
      "Fetching fund countries:  67%|██████▋   | 7329/10879 [1:10:37<26:07,  2.26it/s]"
     ]
    },
    {
     "name": "stdout",
     "output_type": "stream",
     "text": [
      "[!] Failed for slug: nathan-worsley - status 502\n"
     ]
    },
    {
     "name": "stderr",
     "output_type": "stream",
     "text": [
      "Fetching fund countries:  67%|██████▋   | 7330/10879 [1:10:38<25:49,  2.29it/s]"
     ]
    },
    {
     "name": "stdout",
     "output_type": "stream",
     "text": [
      "[!] Failed for slug: nikita-ovchinnik - status 502\n"
     ]
    },
    {
     "name": "stderr",
     "output_type": "stream",
     "text": [
      "Fetching fund countries:  67%|██████▋   | 7331/10879 [1:10:38<25:23,  2.33it/s]"
     ]
    },
    {
     "name": "stdout",
     "output_type": "stream",
     "text": [
      "[!] Failed for slug: amadeo-brands - status 502\n",
      "[!] Failed for slug: brianna-montgomery - status 502\n"
     ]
    },
    {
     "name": "stderr",
     "output_type": "stream",
     "text": [
      "Fetching fund countries:  67%|██████▋   | 7332/10879 [1:10:39<26:36,  2.22it/s]"
     ]
    },
    {
     "name": "stdout",
     "output_type": "stream",
     "text": [
      "[!] Failed for slug: aniket-jindal - status 502\n"
     ]
    },
    {
     "name": "stderr",
     "output_type": "stream",
     "text": [
      "Fetching fund countries:  67%|██████▋   | 7334/10879 [1:10:39<25:12,  2.34it/s]"
     ]
    },
    {
     "name": "stdout",
     "output_type": "stream",
     "text": [
      "[!] Failed for slug: egokhberg - status 502\n"
     ]
    },
    {
     "name": "stderr",
     "output_type": "stream",
     "text": [
      "Fetching fund countries:  67%|██████▋   | 7335/10879 [1:10:40<26:43,  2.21it/s]"
     ]
    },
    {
     "name": "stdout",
     "output_type": "stream",
     "text": [
      "[!] Failed for slug: ezra-galston - status 502\n"
     ]
    },
    {
     "name": "stderr",
     "output_type": "stream",
     "text": [
      "Fetching fund countries:  67%|██████▋   | 7336/10879 [1:10:40<26:01,  2.27it/s]"
     ]
    },
    {
     "name": "stdout",
     "output_type": "stream",
     "text": [
      "[!] Failed for slug: sid-powell - status 502\n"
     ]
    },
    {
     "name": "stderr",
     "output_type": "stream",
     "text": [
      "Fetching fund countries:  67%|██████▋   | 7337/10879 [1:10:41<25:12,  2.34it/s]"
     ]
    },
    {
     "name": "stdout",
     "output_type": "stream",
     "text": [
      "[!] Failed for slug: frank-degods - status 502\n"
     ]
    },
    {
     "name": "stderr",
     "output_type": "stream",
     "text": [
      "Fetching fund countries:  67%|██████▋   | 7338/10879 [1:10:41<25:27,  2.32it/s]"
     ]
    },
    {
     "name": "stdout",
     "output_type": "stream",
     "text": [
      "[!] Failed for slug: raees-chowdhury - status 502\n"
     ]
    },
    {
     "name": "stderr",
     "output_type": "stream",
     "text": [
      "Fetching fund countries:  67%|██████▋   | 7339/10879 [1:10:42<25:17,  2.33it/s]"
     ]
    },
    {
     "name": "stdout",
     "output_type": "stream",
     "text": [
      "[!] Failed for slug: trove-capital - status 502\n"
     ]
    },
    {
     "name": "stderr",
     "output_type": "stream",
     "text": [
      "Fetching fund countries:  67%|██████▋   | 7340/10879 [1:10:42<25:39,  2.30it/s]"
     ]
    },
    {
     "name": "stdout",
     "output_type": "stream",
     "text": [
      "[!] Failed for slug: mike-dudas - status 502\n"
     ]
    },
    {
     "name": "stderr",
     "output_type": "stream",
     "text": [
      "Fetching fund countries:  67%|██████▋   | 7341/10879 [1:10:43<25:46,  2.29it/s]"
     ]
    },
    {
     "name": "stdout",
     "output_type": "stream",
     "text": [
      "[!] Failed for slug: enjin-starter - status 502\n"
     ]
    },
    {
     "name": "stderr",
     "output_type": "stream",
     "text": [
      "Fetching fund countries:  67%|██████▋   | 7342/10879 [1:10:43<30:38,  1.92it/s]"
     ]
    },
    {
     "name": "stdout",
     "output_type": "stream",
     "text": [
      "[!] Failed for slug: kendrick-nguyen - status 502\n"
     ]
    },
    {
     "name": "stderr",
     "output_type": "stream",
     "text": [
      "Fetching fund countries:  67%|██████▋   | 7343/10879 [1:10:44<28:06,  2.10it/s]"
     ]
    },
    {
     "name": "stdout",
     "output_type": "stream",
     "text": [
      "[!] Failed for slug: lauren-selig - status 502\n"
     ]
    },
    {
     "name": "stderr",
     "output_type": "stream",
     "text": [
      "Fetching fund countries:  68%|██████▊   | 7344/10879 [1:10:44<27:15,  2.16it/s]"
     ]
    },
    {
     "name": "stdout",
     "output_type": "stream",
     "text": [
      "[!] Failed for slug: alexander-kehaya - status 502\n"
     ]
    },
    {
     "name": "stderr",
     "output_type": "stream",
     "text": [
      "Fetching fund countries:  68%|██████▊   | 7345/10879 [1:10:44<26:40,  2.21it/s]"
     ]
    },
    {
     "name": "stdout",
     "output_type": "stream",
     "text": [
      "[!] Failed for slug: daniela-osorio - status 502\n"
     ]
    },
    {
     "name": "stderr",
     "output_type": "stream",
     "text": [
      "Fetching fund countries:  68%|██████▊   | 7346/10879 [1:10:45<30:13,  1.95it/s]"
     ]
    },
    {
     "name": "stdout",
     "output_type": "stream",
     "text": [
      "[!] Failed for slug: factor-six-capital - status 502\n"
     ]
    },
    {
     "name": "stderr",
     "output_type": "stream",
     "text": [
      "Fetching fund countries:  68%|██████▊   | 7347/10879 [1:10:46<28:42,  2.05it/s]"
     ]
    },
    {
     "name": "stdout",
     "output_type": "stream",
     "text": [
      "[!] Failed for slug: gaurav-dhar - status 502\n"
     ]
    },
    {
     "name": "stderr",
     "output_type": "stream",
     "text": [
      "Fetching fund countries:  73%|███████▎  | 7958/10879 [1:16:43<21:42,  2.24it/s]  "
     ]
    },
    {
     "name": "stdout",
     "output_type": "stream",
     "text": [
      "[!] Failed for slug: windra-thio - status 502\n"
     ]
    },
    {
     "name": "stderr",
     "output_type": "stream",
     "text": [
      "Fetching fund countries:  73%|███████▎  | 7959/10879 [1:16:43<22:46,  2.14it/s]"
     ]
    },
    {
     "name": "stdout",
     "output_type": "stream",
     "text": [
      "[!] Failed for slug: 3-0-capital - status 502\n"
     ]
    },
    {
     "name": "stderr",
     "output_type": "stream",
     "text": [
      "Fetching fund countries:  73%|███████▎  | 7960/10879 [1:16:44<22:19,  2.18it/s]"
     ]
    },
    {
     "name": "stdout",
     "output_type": "stream",
     "text": [
      "[!] Failed for slug: adam-roozen - status 502\n"
     ]
    },
    {
     "name": "stderr",
     "output_type": "stream",
     "text": [
      "Fetching fund countries:  73%|███████▎  | 7961/10879 [1:16:44<21:43,  2.24it/s]"
     ]
    },
    {
     "name": "stdout",
     "output_type": "stream",
     "text": [
      "[!] Failed for slug: adie-akuffo-afful - status 502\n"
     ]
    },
    {
     "name": "stderr",
     "output_type": "stream",
     "text": [
      "Fetching fund countries:  73%|███████▎  | 7962/10879 [1:16:45<24:34,  1.98it/s]"
     ]
    },
    {
     "name": "stdout",
     "output_type": "stream",
     "text": [
      "[!] Failed for slug: arentweall - status 502\n"
     ]
    },
    {
     "name": "stderr",
     "output_type": "stream",
     "text": [
      "Fetching fund countries:  73%|███████▎  | 7963/10879 [1:16:45<24:32,  1.98it/s]"
     ]
    },
    {
     "name": "stdout",
     "output_type": "stream",
     "text": [
      "[!] Failed for slug: daniel-rotman - status 502\n"
     ]
    },
    {
     "name": "stderr",
     "output_type": "stream",
     "text": [
      "Fetching fund countries:  73%|███████▎  | 7964/10879 [1:16:46<24:21,  1.99it/s]"
     ]
    },
    {
     "name": "stdout",
     "output_type": "stream",
     "text": [
      "[!] Failed for slug: defi-primitive - status 502\n"
     ]
    },
    {
     "name": "stderr",
     "output_type": "stream",
     "text": [
      "Fetching fund countries:  73%|███████▎  | 7965/10879 [1:16:46<23:50,  2.04it/s]"
     ]
    },
    {
     "name": "stdout",
     "output_type": "stream",
     "text": [
      "[!] Failed for slug: gangels - status 502\n"
     ]
    },
    {
     "name": "stderr",
     "output_type": "stream",
     "text": [
      "Fetching fund countries:  73%|███████▎  | 7966/10879 [1:16:47<22:26,  2.16it/s]"
     ]
    },
    {
     "name": "stdout",
     "output_type": "stream",
     "text": [
      "[!] Failed for slug: ogo - status 502\n"
     ]
    },
    {
     "name": "stderr",
     "output_type": "stream",
     "text": [
      "Fetching fund countries:  73%|███████▎  | 7967/10879 [1:16:47<20:58,  2.31it/s]"
     ]
    },
    {
     "name": "stdout",
     "output_type": "stream",
     "text": [
      "[!] Failed for slug: 0xstrife - status 502\n"
     ]
    },
    {
     "name": "stderr",
     "output_type": "stream",
     "text": [
      "Fetching fund countries:  73%|███████▎  | 7968/10879 [1:16:48<21:48,  2.22it/s]"
     ]
    },
    {
     "name": "stdout",
     "output_type": "stream",
     "text": [
      "[!] Failed for slug: Oxsymphony - status 502\n"
     ]
    },
    {
     "name": "stderr",
     "output_type": "stream",
     "text": [
      "Fetching fund countries:  73%|███████▎  | 7969/10879 [1:16:48<22:23,  2.17it/s]"
     ]
    },
    {
     "name": "stdout",
     "output_type": "stream",
     "text": [
      "[!] Failed for slug: wei-han - status 502\n"
     ]
    },
    {
     "name": "stderr",
     "output_type": "stream",
     "text": [
      "Fetching fund countries:  73%|███████▎  | 7970/10879 [1:16:48<21:35,  2.25it/s]"
     ]
    },
    {
     "name": "stdout",
     "output_type": "stream",
     "text": [
      "[!] Failed for slug: avvx - status 502\n"
     ]
    },
    {
     "name": "stderr",
     "output_type": "stream",
     "text": [
      "Fetching fund countries:  73%|███████▎  | 7971/10879 [1:16:49<20:23,  2.38it/s]"
     ]
    },
    {
     "name": "stdout",
     "output_type": "stream",
     "text": [
      "[!] Failed for slug: b00ner - status 502\n"
     ]
    },
    {
     "name": "stderr",
     "output_type": "stream",
     "text": [
      "Fetching fund countries:  73%|███████▎  | 7972/10879 [1:16:49<20:29,  2.36it/s]"
     ]
    },
    {
     "name": "stdout",
     "output_type": "stream",
     "text": [
      "[!] Failed for slug: david-szekely - status 502\n",
      "[!] Failed for slug: eldar-tuvey - status 502\n"
     ]
    },
    {
     "name": "stderr",
     "output_type": "stream",
     "text": [
      "Fetching fund countries:  73%|███████▎  | 7973/10879 [1:16:50<19:52,  2.44it/s]"
     ]
    },
    {
     "name": "stdout",
     "output_type": "stream",
     "text": [
      "[!] Failed for slug: fgabc - status 502\n"
     ]
    },
    {
     "name": "stderr",
     "output_type": "stream",
     "text": [
      "Fetching fund countries:  73%|███████▎  | 7975/10879 [1:16:50<19:11,  2.52it/s]"
     ]
    },
    {
     "name": "stdout",
     "output_type": "stream",
     "text": [
      "[!] Failed for slug: gloom_sol - status 502\n",
      "[!] Failed for slug: graceb - status 502\n"
     ]
    },
    {
     "name": "stderr",
     "output_type": "stream",
     "text": [
      "Fetching fund countries:  73%|███████▎  | 7977/10879 [1:16:51<18:30,  2.61it/s]"
     ]
    },
    {
     "name": "stdout",
     "output_type": "stream",
     "text": [
      "[!] Failed for slug: riskrewarder - status 502\n"
     ]
    },
    {
     "name": "stderr",
     "output_type": "stream",
     "text": [
      "Fetching fund countries:  73%|███████▎  | 7978/10879 [1:16:52<21:47,  2.22it/s]"
     ]
    },
    {
     "name": "stdout",
     "output_type": "stream",
     "text": [
      "[!] Failed for slug: naloroad - status 502\n"
     ]
    },
    {
     "name": "stderr",
     "output_type": "stream",
     "text": [
      "Fetching fund countries:  73%|███████▎  | 7979/10879 [1:16:52<22:33,  2.14it/s]"
     ]
    },
    {
     "name": "stdout",
     "output_type": "stream",
     "text": [
      "[!] Failed for slug: roy-tuvey - status 502\n"
     ]
    },
    {
     "name": "stderr",
     "output_type": "stream",
     "text": [
      "Fetching fund countries:  83%|████████▎ | 9083/10879 [1:27:52<11:49,  2.53it/s]  "
     ]
    },
    {
     "name": "stdout",
     "output_type": "stream",
     "text": [
      "[!] Failed for slug: alberto-ibarguen - status 502\n"
     ]
    },
    {
     "name": "stderr",
     "output_type": "stream",
     "text": [
      "Fetching fund countries:  84%|████████▎ | 9084/10879 [1:27:53<11:49,  2.53it/s]"
     ]
    },
    {
     "name": "stdout",
     "output_type": "stream",
     "text": [
      "[!] Failed for slug: alex-bamberger - status 502\n"
     ]
    },
    {
     "name": "stderr",
     "output_type": "stream",
     "text": [
      "Fetching fund countries:  84%|████████▎ | 9085/10879 [1:27:53<11:47,  2.54it/s]"
     ]
    },
    {
     "name": "stdout",
     "output_type": "stream",
     "text": [
      "[!] Failed for slug: ali-moiz - status 502\n"
     ]
    },
    {
     "name": "stderr",
     "output_type": "stream",
     "text": [
      "Fetching fund countries:  84%|████████▎ | 9086/10879 [1:27:54<11:40,  2.56it/s]"
     ]
    },
    {
     "name": "stdout",
     "output_type": "stream",
     "text": [
      "[!] Failed for slug: amir-carlisle - status 502\n"
     ]
    },
    {
     "name": "stderr",
     "output_type": "stream",
     "text": [
      "Fetching fund countries:  84%|████████▎ | 9087/10879 [1:27:54<12:19,  2.42it/s]"
     ]
    },
    {
     "name": "stdout",
     "output_type": "stream",
     "text": [
      "[!] Failed for slug: audrey-llc - status 502\n"
     ]
    },
    {
     "name": "stderr",
     "output_type": "stream",
     "text": [
      "Fetching fund countries:  84%|████████▎ | 9088/10879 [1:27:54<11:58,  2.49it/s]"
     ]
    },
    {
     "name": "stdout",
     "output_type": "stream",
     "text": [
      "[!] Failed for slug: john-knopf - status 502\n"
     ]
    },
    {
     "name": "stderr",
     "output_type": "stream",
     "text": [
      "Fetching fund countries:  84%|████████▎ | 9089/10879 [1:27:55<11:38,  2.56it/s]"
     ]
    },
    {
     "name": "stdout",
     "output_type": "stream",
     "text": [
      "[!] Failed for slug: jordan-garbis - status 502\n"
     ]
    },
    {
     "name": "stderr",
     "output_type": "stream",
     "text": [
      "Fetching fund countries:  84%|████████▎ | 9090/10879 [1:27:55<11:55,  2.50it/s]"
     ]
    },
    {
     "name": "stdout",
     "output_type": "stream",
     "text": [
      "[!] Failed for slug: mike-hudack - status 502\n"
     ]
    },
    {
     "name": "stderr",
     "output_type": "stream",
     "text": [
      "Fetching fund countries:  84%|████████▎ | 9091/10879 [1:27:56<11:54,  2.50it/s]"
     ]
    },
    {
     "name": "stdout",
     "output_type": "stream",
     "text": [
      "[!] Failed for slug: psych - status 502\n"
     ]
    },
    {
     "name": "stderr",
     "output_type": "stream",
     "text": [
      "Fetching fund countries:  84%|████████▎ | 9092/10879 [1:27:56<12:38,  2.35it/s]"
     ]
    },
    {
     "name": "stdout",
     "output_type": "stream",
     "text": [
      "[!] Failed for slug: sam-li - status 502\n",
      "[!] Failed for slug: steven-fingerhood - status 502\n"
     ]
    },
    {
     "name": "stderr",
     "output_type": "stream",
     "text": [
      "Fetching fund countries:  84%|████████▎ | 9094/10879 [1:27:57<11:59,  2.48it/s]"
     ]
    },
    {
     "name": "stdout",
     "output_type": "stream",
     "text": [
      "[!] Failed for slug: terry-mcdonell - status 502\n"
     ]
    },
    {
     "name": "stderr",
     "output_type": "stream",
     "text": [
      "Fetching fund countries:  84%|████████▎ | 9095/10879 [1:27:57<12:05,  2.46it/s]"
     ]
    },
    {
     "name": "stdout",
     "output_type": "stream",
     "text": [
      "[!] Failed for slug: aliabdaal - status 502\n"
     ]
    },
    {
     "name": "stderr",
     "output_type": "stream",
     "text": [
      "Fetching fund countries:  84%|████████▎ | 9096/10879 [1:27:58<12:30,  2.38it/s]"
     ]
    },
    {
     "name": "stdout",
     "output_type": "stream",
     "text": [
      "[!] Failed for slug: rahulchaudhary - status 502\n"
     ]
    },
    {
     "name": "stderr",
     "output_type": "stream",
     "text": [
      "Fetching fund countries:  84%|████████▎ | 9097/10879 [1:27:58<12:27,  2.38it/s]"
     ]
    },
    {
     "name": "stdout",
     "output_type": "stream",
     "text": [
      "[!] Failed for slug: robinsong - status 502\n",
      "[!] Failed for slug: shradhasharma - status 502\n"
     ]
    },
    {
     "name": "stderr",
     "output_type": "stream",
     "text": [
      "Fetching fund countries:  84%|████████▎ | 9099/10879 [1:27:59<13:32,  2.19it/s]"
     ]
    },
    {
     "name": "stdout",
     "output_type": "stream",
     "text": [
      "[!] Failed for slug: wongjoonian - status 502\n",
      "[!] Failed for slug: zhudeming - status 502\n"
     ]
    },
    {
     "name": "stderr",
     "output_type": "stream",
     "text": [
      "Fetching fund countries:  84%|████████▎ | 9101/10879 [1:28:00<12:30,  2.37it/s]"
     ]
    },
    {
     "name": "stdout",
     "output_type": "stream",
     "text": [
      "[!] Failed for slug: atapscott - status 502\n"
     ]
    },
    {
     "name": "stderr",
     "output_type": "stream",
     "text": [
      "Fetching fund countries:  84%|████████▎ | 9102/10879 [1:28:00<12:11,  2.43it/s]"
     ]
    },
    {
     "name": "stdout",
     "output_type": "stream",
     "text": [
      "[!] Failed for slug: david-majert - status 502\n"
     ]
    },
    {
     "name": "stderr",
     "output_type": "stream",
     "text": [
      "Fetching fund countries:  84%|████████▎ | 9103/10879 [1:28:01<11:46,  2.51it/s]"
     ]
    },
    {
     "name": "stdout",
     "output_type": "stream",
     "text": [
      "[!] Failed for slug: jhaycock - status 502\n",
      "[!] Failed for slug: kevin-kalle - status 502\n"
     ]
    },
    {
     "name": "stderr",
     "output_type": "stream",
     "text": [
      "Fetching fund countries:  84%|████████▎ | 9105/10879 [1:28:01<11:53,  2.49it/s]"
     ]
    },
    {
     "name": "stdout",
     "output_type": "stream",
     "text": [
      "[!] Failed for slug: mills-miller - status 502\n"
     ]
    },
    {
     "name": "stderr",
     "output_type": "stream",
     "text": [
      "Fetching fund countries:  84%|████████▎ | 9106/10879 [1:28:02<11:49,  2.50it/s]"
     ]
    },
    {
     "name": "stdout",
     "output_type": "stream",
     "text": [
      "[!] Failed for slug: nalden - status 502\n",
      "[!] Failed for slug: robert-gaal - status 502\n"
     ]
    },
    {
     "name": "stderr",
     "output_type": "stream",
     "text": [
      "Fetching fund countries:  84%|████████▎ | 9108/10879 [1:28:03<11:31,  2.56it/s]"
     ]
    },
    {
     "name": "stdout",
     "output_type": "stream",
     "text": [
      "[!] Failed for slug: alexandra-wilkis-wilson - status 502\n"
     ]
    },
    {
     "name": "stderr",
     "output_type": "stream",
     "text": [
      "Fetching fund countries:  92%|█████████▏| 10020/10879 [1:36:42<17:13,  1.20s/it]"
     ]
    },
    {
     "name": "stdout",
     "output_type": "stream",
     "text": [
      "[!] Failed for slug: acrylic - status 502\n"
     ]
    },
    {
     "name": "stderr",
     "output_type": "stream",
     "text": [
      "Fetching fund countries:  92%|█████████▏| 10021/10879 [1:36:42<13:45,  1.04it/s]"
     ]
    },
    {
     "name": "stdout",
     "output_type": "stream",
     "text": [
      "[!] Failed for slug: alex-taub - status 502\n",
      "[!] Failed for slug: alison-grigonis - status 502\n"
     ]
    },
    {
     "name": "stderr",
     "output_type": "stream",
     "text": [
      "Fetching fund countries:  92%|█████████▏| 10023/10879 [1:36:43<09:42,  1.47it/s]"
     ]
    },
    {
     "name": "stdout",
     "output_type": "stream",
     "text": [
      "[!] Failed for slug: antonio-felix-da-costa - status 502\n"
     ]
    },
    {
     "name": "stderr",
     "output_type": "stream",
     "text": [
      "Fetching fund countries:  92%|█████████▏| 10024/10879 [1:36:44<08:33,  1.66it/s]"
     ]
    },
    {
     "name": "stdout",
     "output_type": "stream",
     "text": [
      "[!] Failed for slug: ashley-tyson - status 502\n"
     ]
    },
    {
     "name": "stderr",
     "output_type": "stream",
     "text": [
      "Fetching fund countries:  92%|█████████▏| 10025/10879 [1:36:44<08:34,  1.66it/s]"
     ]
    },
    {
     "name": "stdout",
     "output_type": "stream",
     "text": [
      "[!] Failed for slug: ben-huh - status 502\n"
     ]
    },
    {
     "name": "stderr",
     "output_type": "stream",
     "text": [
      "Fetching fund countries:  92%|█████████▏| 10026/10879 [1:36:45<07:50,  1.81it/s]"
     ]
    },
    {
     "name": "stdout",
     "output_type": "stream",
     "text": [
      "[!] Failed for slug: bill-boebel - status 502\n",
      "[!] Failed for slug: biz-stone - status 502\n"
     ]
    },
    {
     "name": "stderr",
     "output_type": "stream",
     "text": [
      "Fetching fund countries:  92%|█████████▏| 10028/10879 [1:36:45<06:51,  2.07it/s]"
     ]
    },
    {
     "name": "stdout",
     "output_type": "stream",
     "text": [
      "[!] Failed for slug: boris-wertz - status 502\n",
      "[!] Failed for slug: bryan-irace - status 502\n"
     ]
    },
    {
     "name": "stderr",
     "output_type": "stream",
     "text": [
      "Fetching fund countries:  92%|█████████▏| 10030/10879 [1:36:47<07:41,  1.84it/s]"
     ]
    },
    {
     "name": "stdout",
     "output_type": "stream",
     "text": [
      "[!] Failed for slug: chris-coyne - status 502\n"
     ]
    },
    {
     "name": "stderr",
     "output_type": "stream",
     "text": [
      "Fetching fund countries:  92%|█████████▏| 10031/10879 [1:36:47<08:11,  1.72it/s]"
     ]
    },
    {
     "name": "stdout",
     "output_type": "stream",
     "text": [
      "[!] Failed for slug: chris-lurdziel - status 502\n"
     ]
    },
    {
     "name": "stderr",
     "output_type": "stream",
     "text": [
      "Fetching fund countries:  92%|█████████▏| 10032/10879 [1:36:48<07:19,  1.93it/s]"
     ]
    },
    {
     "name": "stdout",
     "output_type": "stream",
     "text": [
      "[!] Failed for slug: courtney-guertin - status 502\n"
     ]
    },
    {
     "name": "stderr",
     "output_type": "stream",
     "text": [
      "Fetching fund countries:  92%|█████████▏| 10033/10879 [1:36:48<06:45,  2.08it/s]"
     ]
    },
    {
     "name": "stdout",
     "output_type": "stream",
     "text": [
      "[!] Failed for slug: danny-newman - status 502\n"
     ]
    },
    {
     "name": "stderr",
     "output_type": "stream",
     "text": [
      "Fetching fund countries:  92%|█████████▏| 10034/10879 [1:36:48<06:34,  2.14it/s]"
     ]
    },
    {
     "name": "stdout",
     "output_type": "stream",
     "text": [
      "[!] Failed for slug: david-eckstein - status 502\n"
     ]
    },
    {
     "name": "stderr",
     "output_type": "stream",
     "text": [
      "Fetching fund countries:  92%|█████████▏| 10035/10879 [1:36:49<06:30,  2.16it/s]"
     ]
    },
    {
     "name": "stdout",
     "output_type": "stream",
     "text": [
      "[!] Failed for slug: derek-colla - status 502\n"
     ]
    },
    {
     "name": "stderr",
     "output_type": "stream",
     "text": [
      "Fetching fund countries:  92%|█████████▏| 10036/10879 [1:36:49<06:23,  2.20it/s]"
     ]
    },
    {
     "name": "stdout",
     "output_type": "stream",
     "text": [
      "[!] Failed for slug: eamon-leonard - status 502\n"
     ]
    },
    {
     "name": "stderr",
     "output_type": "stream",
     "text": [
      "Fetching fund countries:  92%|█████████▏| 10037/10879 [1:36:50<06:45,  2.08it/s]"
     ]
    },
    {
     "name": "stdout",
     "output_type": "stream",
     "text": [
      "[!] Failed for slug: ethan-beard - status 502\n"
     ]
    },
    {
     "name": "stderr",
     "output_type": "stream",
     "text": [
      "Fetching fund countries:  93%|█████████▎| 10115/10879 [1:37:43<07:49,  1.63it/s]"
     ]
    },
    {
     "name": "stdout",
     "output_type": "stream",
     "text": [
      "[!] Failed for slug: ken-moelis - status 502\n"
     ]
    },
    {
     "name": "stderr",
     "output_type": "stream",
     "text": [
      "Fetching fund countries:  93%|█████████▎| 10116/10879 [1:37:43<07:26,  1.71it/s]"
     ]
    },
    {
     "name": "stdout",
     "output_type": "stream",
     "text": [
      "[!] Failed for slug: stefan-cohen - status 502\n"
     ]
    },
    {
     "name": "stderr",
     "output_type": "stream",
     "text": [
      "Fetching fund countries:  93%|█████████▎| 10117/10879 [1:37:44<07:26,  1.71it/s]"
     ]
    },
    {
     "name": "stdout",
     "output_type": "stream",
     "text": [
      "[!] Failed for slug: brad-stephens - status 502\n"
     ]
    },
    {
     "name": "stderr",
     "output_type": "stream",
     "text": [
      "Fetching fund countries:  93%|█████████▎| 10118/10879 [1:37:44<07:17,  1.74it/s]"
     ]
    },
    {
     "name": "stdout",
     "output_type": "stream",
     "text": [
      "[!] Failed for slug: charles-fabrikant - status 502\n"
     ]
    },
    {
     "name": "stderr",
     "output_type": "stream",
     "text": [
      "Fetching fund countries:  93%|█████████▎| 10119/10879 [1:37:45<07:34,  1.67it/s]"
     ]
    },
    {
     "name": "stdout",
     "output_type": "stream",
     "text": [
      "[!] Failed for slug: hope-taitz - status 502\n"
     ]
    },
    {
     "name": "stderr",
     "output_type": "stream",
     "text": [
      "Fetching fund countries:  93%|█████████▎| 10120/10879 [1:37:45<07:11,  1.76it/s]"
     ]
    },
    {
     "name": "stdout",
     "output_type": "stream",
     "text": [
      "[!] Failed for slug: supernatural - status 502\n"
     ]
    },
    {
     "name": "stderr",
     "output_type": "stream",
     "text": [
      "Fetching fund countries:  93%|█████████▎| 10121/10879 [1:37:46<06:45,  1.87it/s]"
     ]
    },
    {
     "name": "stdout",
     "output_type": "stream",
     "text": [
      "[!] Failed for slug: darren-smorgon - status 502\n"
     ]
    },
    {
     "name": "stderr",
     "output_type": "stream",
     "text": [
      "Fetching fund countries:  93%|█████████▎| 10122/10879 [1:37:46<06:28,  1.95it/s]"
     ]
    },
    {
     "name": "stdout",
     "output_type": "stream",
     "text": [
      "[!] Failed for slug: emrin-nurovic - status 502\n"
     ]
    },
    {
     "name": "stderr",
     "output_type": "stream",
     "text": [
      "Fetching fund countries:  93%|█████████▎| 10123/10879 [1:37:47<06:56,  1.81it/s]"
     ]
    },
    {
     "name": "stdout",
     "output_type": "stream",
     "text": [
      "[!] Failed for slug: ezekiel-elliott - status 502\n"
     ]
    },
    {
     "name": "stderr",
     "output_type": "stream",
     "text": [
      "Fetching fund countries:  93%|█████████▎| 10124/10879 [1:37:47<06:44,  1.87it/s]"
     ]
    },
    {
     "name": "stdout",
     "output_type": "stream",
     "text": [
      "[!] Failed for slug: henrik-andersson - status 502\n"
     ]
    },
    {
     "name": "stderr",
     "output_type": "stream",
     "text": [
      "Fetching fund countries:  93%|█████████▎| 10125/10879 [1:37:48<06:46,  1.86it/s]"
     ]
    },
    {
     "name": "stdout",
     "output_type": "stream",
     "text": [
      "[!] Failed for slug: jonathan-padilla - status 502\n"
     ]
    },
    {
     "name": "stderr",
     "output_type": "stream",
     "text": [
      "Fetching fund countries:  93%|█████████▎| 10126/10879 [1:37:49<06:58,  1.80it/s]"
     ]
    },
    {
     "name": "stdout",
     "output_type": "stream",
     "text": [
      "[!] Failed for slug: larry-ogunjobi - status 502\n"
     ]
    },
    {
     "name": "stderr",
     "output_type": "stream",
     "text": [
      "Fetching fund countries:  93%|█████████▎| 10127/10879 [1:37:49<07:06,  1.76it/s]"
     ]
    },
    {
     "name": "stdout",
     "output_type": "stream",
     "text": [
      "[!] Failed for slug: luke-walton - status 502\n"
     ]
    },
    {
     "name": "stderr",
     "output_type": "stream",
     "text": [
      "Fetching fund countries:  93%|█████████▎| 10128/10879 [1:37:50<07:38,  1.64it/s]"
     ]
    },
    {
     "name": "stdout",
     "output_type": "stream",
     "text": [
      "[!] Failed for slug: matt-james - status 502\n"
     ]
    },
    {
     "name": "stderr",
     "output_type": "stream",
     "text": [
      "Fetching fund countries:  93%|█████████▎| 10129/10879 [1:37:51<08:08,  1.54it/s]"
     ]
    },
    {
     "name": "stdout",
     "output_type": "stream",
     "text": [
      "[!] Failed for slug: matt-symons - status 502\n"
     ]
    },
    {
     "name": "stderr",
     "output_type": "stream",
     "text": [
      "Fetching fund countries:  93%|█████████▎| 10130/10879 [1:37:51<08:19,  1.50it/s]"
     ]
    },
    {
     "name": "stdout",
     "output_type": "stream",
     "text": [
      "[!] Failed for slug: radek-ostrowski - status 502\n"
     ]
    },
    {
     "name": "stderr",
     "output_type": "stream",
     "text": [
      "Fetching fund countries:  93%|█████████▎| 10131/10879 [1:37:52<08:18,  1.50it/s]"
     ]
    },
    {
     "name": "stdout",
     "output_type": "stream",
     "text": [
      "[!] Failed for slug: ryan-zurrer - status 502\n"
     ]
    },
    {
     "name": "stderr",
     "output_type": "stream",
     "text": [
      "Fetching fund countries:  93%|█████████▎| 10142/10879 [1:37:57<05:53,  2.09it/s]"
     ]
    },
    {
     "name": "stdout",
     "output_type": "stream",
     "text": [
      "[!] Failed for slug: jazear-brooks - status 502\n"
     ]
    },
    {
     "name": "stderr",
     "output_type": "stream",
     "text": [
      "Fetching fund countries:  93%|█████████▎| 10143/10879 [1:37:57<06:09,  1.99it/s]"
     ]
    },
    {
     "name": "stdout",
     "output_type": "stream",
     "text": [
      "[!] Failed for slug: jeff-garzik - status 502\n"
     ]
    },
    {
     "name": "stderr",
     "output_type": "stream",
     "text": [
      "Fetching fund countries:  93%|█████████▎| 10144/10879 [1:37:58<06:39,  1.84it/s]"
     ]
    },
    {
     "name": "stdout",
     "output_type": "stream",
     "text": [
      "[!] Failed for slug: joon-ian-wong - status 502\n"
     ]
    },
    {
     "name": "stderr",
     "output_type": "stream",
     "text": [
      "Fetching fund countries:  93%|█████████▎| 10145/10879 [1:37:59<07:03,  1.73it/s]"
     ]
    },
    {
     "name": "stdout",
     "output_type": "stream",
     "text": [
      "[!] Failed for slug: joris-delanoue - status 502\n"
     ]
    },
    {
     "name": "stderr",
     "output_type": "stream",
     "text": [
      "Fetching fund countries:  93%|█████████▎| 10146/10879 [1:37:59<06:48,  1.80it/s]"
     ]
    },
    {
     "name": "stdout",
     "output_type": "stream",
     "text": [
      "[!] Failed for slug: josue-estrada - status 502\n"
     ]
    },
    {
     "name": "stderr",
     "output_type": "stream",
     "text": [
      "Fetching fund countries:  93%|█████████▎| 10147/10879 [1:38:00<06:32,  1.86it/s]"
     ]
    },
    {
     "name": "stdout",
     "output_type": "stream",
     "text": [
      "[!] Failed for slug: justin-ridgely - status 502\n"
     ]
    },
    {
     "name": "stderr",
     "output_type": "stream",
     "text": [
      "Fetching fund countries:  93%|█████████▎| 10148/10879 [1:38:00<07:29,  1.63it/s]"
     ]
    },
    {
     "name": "stdout",
     "output_type": "stream",
     "text": [
      "[!] Failed for slug: justine-humenansky - status 502\n"
     ]
    },
    {
     "name": "stderr",
     "output_type": "stream",
     "text": [
      "Fetching fund countries:  93%|█████████▎| 10149/10879 [1:38:01<07:14,  1.68it/s]"
     ]
    },
    {
     "name": "stdout",
     "output_type": "stream",
     "text": [
      "[!] Failed for slug: kazufumi - status 502\n"
     ]
    },
    {
     "name": "stderr",
     "output_type": "stream",
     "text": [
      "Fetching fund countries:  93%|█████████▎| 10150/10879 [1:38:01<06:53,  1.76it/s]"
     ]
    },
    {
     "name": "stdout",
     "output_type": "stream",
     "text": [
      "[!] Failed for slug: kenny-white - status 502\n"
     ]
    },
    {
     "name": "stderr",
     "output_type": "stream",
     "text": [
      "Fetching fund countries:  93%|█████████▎| 10151/10879 [1:38:02<07:00,  1.73it/s]"
     ]
    },
    {
     "name": "stdout",
     "output_type": "stream",
     "text": [
      "[!] Failed for slug: kevin-nielsen - status 502\n"
     ]
    },
    {
     "name": "stderr",
     "output_type": "stream",
     "text": [
      "Fetching fund countries:  93%|█████████▎| 10152/10879 [1:38:03<07:10,  1.69it/s]"
     ]
    },
    {
     "name": "stdout",
     "output_type": "stream",
     "text": [
      "[!] Failed for slug: kristie-huang - status 502\n"
     ]
    },
    {
     "name": "stderr",
     "output_type": "stream",
     "text": [
      "Fetching fund countries:  93%|█████████▎| 10153/10879 [1:38:03<07:06,  1.70it/s]"
     ]
    },
    {
     "name": "stdout",
     "output_type": "stream",
     "text": [
      "[!] Failed for slug: li-jin - status 502\n"
     ]
    },
    {
     "name": "stderr",
     "output_type": "stream",
     "text": [
      "Fetching fund countries:  93%|█████████▎| 10154/10879 [1:38:04<07:43,  1.56it/s]"
     ]
    },
    {
     "name": "stdout",
     "output_type": "stream",
     "text": [
      "[!] Failed for slug: mark-roszak - status 502\n"
     ]
    },
    {
     "name": "stderr",
     "output_type": "stream",
     "text": [
      "Fetching fund countries:  93%|█████████▎| 10155/10879 [1:38:05<08:27,  1.43it/s]"
     ]
    },
    {
     "name": "stdout",
     "output_type": "stream",
     "text": [
      "[!] Failed for slug: matthew-roszak - status 502\n",
      "[!] Failed for slug: mike-sall - status 502\n"
     ]
    },
    {
     "name": "stderr",
     "output_type": "stream",
     "text": [
      "Fetching fund countries:  93%|█████████▎| 10157/10879 [1:38:06<07:12,  1.67it/s]"
     ]
    },
    {
     "name": "stdout",
     "output_type": "stream",
     "text": [
      "[!] Failed for slug: mildred-idada - status 502\n"
     ]
    },
    {
     "name": "stderr",
     "output_type": "stream",
     "text": [
      "Fetching fund countries:  93%|█████████▎| 10158/10879 [1:38:06<06:47,  1.77it/s]"
     ]
    },
    {
     "name": "stdout",
     "output_type": "stream",
     "text": [
      "[!] Failed for slug: min-teo - status 502\n"
     ]
    },
    {
     "name": "stderr",
     "output_type": "stream",
     "text": [
      "Fetching fund countries:  93%|█████████▎| 10159/10879 [1:38:07<06:39,  1.80it/s]"
     ]
    },
    {
     "name": "stdout",
     "output_type": "stream",
     "text": [
      "[!] Failed for slug: nathalie-mcgrath - status 502\n"
     ]
    },
    {
     "name": "stderr",
     "output_type": "stream",
     "text": [
      "Fetching fund countries: 100%|██████████| 10879/10879 [1:45:55<00:00,  1.71it/s]"
     ]
    },
    {
     "name": "stdout",
     "output_type": "stream",
     "text": [
      "✅ Saved 15110 country records to all_fund_countries.csv\n"
     ]
    },
    {
     "name": "stderr",
     "output_type": "stream",
     "text": [
      "\n"
     ]
    }
   ],
   "source": [
    "import pandas as pd\n",
    "import requests\n",
    "import time\n",
    "from tqdm import tqdm\n",
    "import os\n",
    "\n",
    "# 🧾 Load slugs\n",
    "funds_df = pd.read_csv(\"funds_details.csv\")\n",
    "slugs = funds_df.iloc[:, 0].dropna().unique().tolist()\n",
    "\n",
    "# 🌍 API endpoint base\n",
    "BASE_URL = \"https://api.cryptorank.io/v0/coin-funds/main-funding-countries/\"\n",
    "\n",
    "# 📊 Results container\n",
    "all_country_data = []\n",
    "\n",
    "# 🔁 Fetch countries per fund\n",
    "for slug in tqdm(slugs, desc=\"Fetching fund countries\"):\n",
    "    try:\n",
    "        response = requests.get(f\"{BASE_URL}{slug}\", timeout=10)\n",
    "        if response.status_code == 200:\n",
    "            countries = response.json().get(\"data\", [])\n",
    "            for c in countries:\n",
    "                all_country_data.append({\n",
    "                    \"fund_slug\": slug,\n",
    "                    \"country\": c.get(\"country\", \"\"),\n",
    "                    \"count\": c.get(\"count\", 0)\n",
    "                })\n",
    "        else:\n",
    "            print(f\"[!] Failed for slug: {slug} - status {response.status_code}\")\n",
    "    except Exception as e:\n",
    "        print(f\"[!] Error for slug {slug}: {e}\")\n",
    "    time.sleep(0.2)  # be nice to the API\n",
    "\n",
    "# 📥 Save to CSV\n",
    "df_countries = pd.DataFrame(all_country_data)\n",
    "os.makedirs(\"data\", exist_ok=True)\n",
    "df_countries.to_csv(\"data/all_fund_countries.csv\", index=False)\n",
    "\n",
    "print(f\"✅ Saved {len(df_countries)} country records to all_fund_countries.csv\")\n"
   ]
  },
  {
   "cell_type": "code",
   "execution_count": null,
   "id": "4881bf5c",
   "metadata": {},
   "outputs": [
    {
     "name": "stdout",
     "output_type": "stream",
     "text": [
      "Slugs in funds_details.csv but not in all_fund_countries.csv:\n",
      "['ksk-angel-fund', 'alyssa-tsai', 'ui-path', 'riskrewarder', 'paragraph', 'luke-belmar', 'boxcars-ventures', 'humans-ai', 'good-capital', 'archblock', 'abhijeet-mahagaonkar', 'skyview-capital', 'growth-invest', 'a16z-speedrun', 'tempo', 'antiga-capital', 'joonmo-kwon', 'anna-y', 'zerostage', 'mitch-richmond', 'samara', 'rouven-heck', 'wettach-guild', 'black-gm-capital', 'david-szekely', 'sweep-ventures', 'achal-srinivasan', 'navi-protocol', 'jae-holdings', 'steven-fingerhood', 'protein-capital', 'nicolas-gallet', 'hope-taitz', 'factor-six-capital', 'michael-ma', 'karman-ventures', 'morph', 'isidoros-passadis', 'avacloud', 'murtaza-bohari', 'dmytro-kotliarov', 'kaso2ka-ventures', 'seedinvest', 'arthur-dietrich', 'cronos-labs', 'guy-young', 'steve-klebnoff', 'raydium', 'nick-johnson', 'betty', 'daniel-rabinovich', 'dmitry-meshkov', 'matthew-howells-barby', 'alpha-bridge-ventures', 'pranksy', 'alex-lee', 'defi-drew', 'rollman-management', 'sundeep-trustswap', 'eldar-tuvey', 'nobody', 'dentity', 'coinbureau', 'thibaud-elziere', 'principle-ventures', 'wt-capital', 'sun-artland-ltd', 'solar', 'brainbox', 'r-j-o-brien', 'undercurrent-technologies', 'cypher9-ventures', 'marc-brands', 'astera-ventures', 'dacorum-gg', 'courtney-guertin', 'veil', 'dinfeng-capital', 'luminescence-capital', 'smallspark', 'ax1', 'jin-kang', 'movebit', 'pentoshi', 'orca', 'koda-capital', '0xjose', 'sequoia-heritage', 'proofoftalk', 'andres-tobon', 'bakeryswap', 'will-warren', 'msa-novo', 'dillon-healy', 'cleveland-avenue', 'zane-lackey', 'dymension', 'david-post', 'dapplabs', 'itai-turbahn', 'keith-rabois', 'blockchain-founders-capital', 'martinet-lee', 'noegen', 'd1fferent-capital', 'plus-capital', 'coinbold', 'jz', 'unstablecharly', 'stakely-vc', 'that-martini-guy', 'kenetic-capital', 'the-blockchainer', 'cooper-scanlon', 'metaengine', 'nathan-allman', 'kamunting-street', 'christian2022-eth', 'spring-camp', 'goncalo-sa', 'block-infinity-limited', 'sergey-gorbunov', 'ari-greenberg', 'dill', 'guillaume-mayot', 'beglobal', 'tim-chen', 'abo-digital', 'evan-cheng', 'o1-labs', 'fis', 'hemma', 'protocol-vc', 'sign-vc', 'cincubator', 'victor-ji', 'tmv', 'becker-ventures', 'ready-player-me', 'sharpalphapartners', 'zahreddine-touag', 'vechain', 'oleg-giberstein', 'grandbanks-capital', 'abhay-kumar', 'archerman-capital', 'lumberg', 'startupxseed', 'alex', 'quotient-ventures', 'lincoln-gomes', 'amir-bandeali', 'startupgym', 'panga-capital', 'dom-hofmann', 'zynga', 'joe-betts-lacroix', '0x-taker', 'anatoly-yakovenko', 'shek', 'raito', 'wolf', 'jason-nazar', 'deusexdao', 'ub-ventures', 'yuchen-j', 'mobile-capital', 'ironboots', 'lauren-selig', 'fundland-capital', 'pinewood-capital', 'magmar', 'chris-dixon', 'andrea-chang', 'anthony-kiedis', 'brendan-farmer', 'luxtech-capital', 'joris-delanoue', 'international-finance-corporation', 'pyth', 'ibgtg-capital', 'maxx-capital', 'alexander-kehaya', 'naver-financial', 'core-ventures', 'hedge-labs', 'infinite-reality', 'silicon-valley-bank', 'anders', 'domo', 'vinci-labs', 'midana-capital', 'queenie-wu', 'tido-capital', 'nick-hansen', 'stake-dao', 'terence-tsao', 'graph-paper-capital', 'dune', 'zaheer', 'steve-shen', 'node-capital', 'john-johnson', 'pranit-garg', 'jeff-feng', 'sam-frax', 'chapel-ventures', 'salad-ventures', 'jonathan-padilla', 'ruppert-international', 'david-coulter', 'millennium-club', 'davewang', 'david-lee', 'delphi-labs', 'henry-shi', 'the-grey-trust', 'cetus', 'proximity-labs', 'depin-x', 'villante-capital-partners', 'hashbrown-research', 'thena', 'sol-global', 'psyfi', 'radiance-ventures', 'topology-ventures', 'ozaru-ventures', 'woyong', 'affirm', 'chronear', 'aptos-monkeys', 'quack-capital', 'shradhasharma', 'telcoin', 'zkcandy', 'spankchain', 'axa', 'shane-vitarna', 'clay-robbins', 'messari', 'metavision', 'defi-maestro', 'gogopool', 'unicorn-verse', 'dash-investment-foundation', 'philipp-zentner', 'zeroxbisbis', 'green-arrow-ventures', 'emchain', 'digital-hearts-holdings', 'ariel-gabizon', 'primitive', 'shrapnel', 'aurory', 'defiminer', 'anchorage-digital', 'gustavo-menezes', 'arc-community', 'primexm', 'starkiller-capital', 'zac-williamson', 'defi-ted', 'beaker-dao', 'perry-theblock', 'pierre-atka', 'purplesky-capital', 'digitalpacific', 'trevor-traina', 'fs-ventures', 'jan-baeriswyl', 'buckingham', 'shapeshiftdao', 'thanh-le', 'kevin-warsh', '57blocks', 'doctorblocks', 'james-hall', 'tote', 'param-labs', 'stephane-daniel', 'htc', 'waveline-ventures', 'aaron-wright', 'miyako-capital', 'w3m-ventures', 'shane-molidor', 'flashbots', 'everdime', 'seed-club', 'astrax-capital', 'seedthrift-ventures', 'fission-capital', 'tcg-crypto', '0xsoju', 'heather-meeker', 'chain-financial', 'charlie-meraud', 'g42', 'wonderland', 'rochester-institute-of-technology', 'darkside-capital', 'kef-vc', 'guy-wuollet', 'blck-labs', 'alexandra-wilkis-wilson', 'prometeus-ventures', 'crypt0mer', 'mn-capital', 'jacob-riglin', 'skale', 'follow-theseed', 'vanta', 'hackquest', 'usc-marshall-school', 'eugene-shen', 'radek-ostrowski', 'interlinked-capital', 'farmerjoe', 'graceb', 'aaron-gillett', 'pldt', 'wonderstruck', 'ju5tin_x', '3-e-network-technology-group-limited', 'gravity-fund', 'three-three-ventures', 'thomas-seiler', 'evm-capital', 'john-knopf', 'lauris', 'k-erica', 'elontrades', 'ariadne-capital', 'interstellar-ventures', 'dead-king-society', 'syndika', 'hunt-ventures', 'irvin', 'genesis-vault-capital', 'palantir', 'aaron-levie', 'jin-bae', 'wellxy', 'icedknife', 'zhudeming', 'yurei', 'bo-du', 'daniel-arroche', 'acrylic', 'laureus-capital', 'theflowhorse', 'good-partners', 'claire-kart', 'legion-capital', 'baring-vostok', 'matt-finick', 'frens-syndicate', 'trust-machines', 'raees-chowdhury', 'primeset', 'agora', 'holonym', 'wizards-capital', '0xcarrot', 'next-leader-capital', 'adrian-brink', 'cumberland-labs', 'kerr-tech-investments', 'melody-taira', 'curvelabs', 'orlando-bloom', 'artico-search', 'bigger-than-race', 'arche-capital', 'uniswap-villain', 'teijin', 'sekoia', 'naloroad', 'nalden', 'xlink-ventures', 'moonwalker-capital', 'solidity-ventures', 'wisemont-capital', 'malaysian-sovereign-fund', 'global-blockchain-ventures', 'masverse', 'gstechnologies', 'polygon-labs', 'silicon-valley-future-capital', 'mike-dudas', 'satoshi-stacker', 'necessary-ventures', 'snova-capital', 'intelligent-cricket', 'sok', 'john-packel', 'edgar-pavlovsky', 'greenwood-global-capital', 'serdao', 'kawal-gandhi', 'gaurav-dhar', 'techfarm', 'tranching-protocol', 'jed-halfon', 'pharsalus-capital', 'stanislas-barthelemi', 'mines-of-dalarnia', 'dan-von-kohorn', 'brad-cohn', 'steven-ebert', 'michael-van-de-poppe', 'evli', 'transform-capital', 'hfd-humble-defi-farmer', 'ab-dao', 'guil-lambert', 'saigon-trade-coin', 'variv', 'qin-en-looi', 'nayt-technologies', 'amd', 'golden-ventures', 'meros-equity', 'sprinter', 'andrei-h', 'sho-yoshida', 'lifeline-ventures', 'eot-ventures', 'x-labs', 'hrt-technology', 'kevin-tai', 'rabeel-jawaid', 'homeless-ventures', 'macrocrg', 'onepiece-labs', 'mava-ventures', 'jahed-momand', 'igc', 'nonco', 'david-lu', 'hidden-street', 'eclipse-fi', 'alkine', 'ezekiel-elliott', 'kurt-grela', 'crypto-differ', 'nrg-ventures', 'richard-dai', 'elune-capital', 'mmpro-trust', 'crypto-viet-labs', 'avid3', 'daos-fun', 'adie-akuffo-afful', 'ameen-soleimani', 'signum-capital', 'matr1x', 'antonio-juliano', 'primapesdao', 'contribution-capital', 'jakub-florkiewicz', 'brian-limiardi', 'asymmetry-capital', 'iclub', 'lhava', 'lynex', 'paramount-capital', 'danny-aranda', 'rebase-d-ventures', 'lyvc', 'zloy', 'colosseum', 'allen-company', 'barry-fried', 'arentweall', 'turn-capital', 'ben-franklin', 'mason-labs', 'Cricket', 'vox-capital', 'tedpillows', 'rebecca-rettig', 'miami-international', 'skylar-weaver', 'bruce-pon', 'gm-capital', 'ether-fi', 'pudgy-alpha', 'serdar-astarci', 'oakt-ventures', 'greg-osuri', 'joe-beda', 'up-top', 'zksync', 'jake-medwell', 'defi-omega', 'pauls', 'huck-seed', 'nvidia', 'perry-j-randall', 'jouni-vaisanen', 'generative-ventures', 'institutional-venture-partners', 'alec-torelli', 'ismail-khoffi', 'atom-accelerator', 'zhen-cao', 'era-twentyone', 'gm-vc', 'tower-research-capital', 'shujia-liang', 'adam-lawrence', 'metis-foundation', 'alison-grigonis', 'blue7', 'kukita', 'coinvestor-ventures', 'josh-norman', 'nicholas', 'aashiq', 'viral-ventures', 'kristie-huang', 'tobi-lutke', 'azuki', 'ingram-content-group', 'prycto', 'enigmafunge', 'mike-bucella', 'levy-eth', 'hyponyms', 'tangle-capital', 'netease', 'oh-gamers', 'west-ham-capital', 'dlc-link', 'revolutions-rise', 'wongjoonian', 'rainfire', 'hypernest', 'arkstream-capital', 'defi-primitive', 'ray-rehito-hatoyama', 'vanishree-rao', 'bluefin', 'bob-build-on-bitcoin', 'orion-depp', 'stinkypablo-eth', 'acura-capital', 'vova-sadkov', 'untamed-ventures', 'ribbit-capital', 'orange', 'nikhil-suri', 'timegroup', 'stephenakridge', 'apostolosapostolakis', 'library-onchain', 'factorial', 'expansion-venture-capital', 'nosleepjon', 'not-neils', 'tristan', 'brv-capital-management', 'tal-cohen', 'chris-coyne', 'hen-chen', 'arriba-studio', 'raga-finance', 'emo-capital', 'iskra', 'sharif-el-badawi', 'banxa', 'vsquared-ventures', 'thiccy', 'medi-crypto-international', 'scoopy-trooples', 'will-harborne', 'tesseract-ventures', 'kdot', 'cantos', 'guildqb', 'bitcoin-startup-lab', 'ben-oneill', 'bootnode', 'moon-capital', 'jeremy-welch', 'trung-nguyen', 'contentos', 'open-custody-protocol', 'alvin-kan', 'consensus-fintech-group', 'twitter', 'shrooq-partners', 'mike-lobanov', 'global-trading-strategies', 'fuel-network', 'terry-mcdonell', 'node', 'fjord-foundry', 'boys-club', 'kate-wong', 'kraken', 'akshat-vaidya', 'kelsier', 'boosty-labs', 'build-a-bera-workshop', 'rachel-chu', 'startvc', 'mgnr', 'xprotocol', 'inception', 'ultrain', 'atoia-ventures', 'movement', 'hive-empire-capital', 'soft-holdings', 'navier', 'blockbooster', 'tri-dao', 'udi-wertheimer', 'ripple', 'mathwallet', 'awakening-ventures', 'chia-network', 'oxbull-tech', 'tileyard-music', 'yellow-capital', 'peter-smith', 'randomtask', 'jake-werrett', 'altana-wealth', 'david-park', 'anand-gomes', 'roger', 'big-candle-capital', 'bait-alzomorod', 'alex-dees', 'kip-protocol', 'tomer-nuni', 'dweb3-capital', 'mika-honkasalo', 'indicator-capital', 'ben-hawkins', 'bingX-labs', 'dennis-qian', 'hgen-dao', 'rick-marini', 'gen', 'step-finance', 'metazero-capital', 'kenny-white', 'deepbrainchain', 'sebastien-guillemot', 'uniSat', 'dcdao', 'ilemi', 'degods', 'clever-advertising', 'syntax-capital', 'pastel-alpha', 'li-fi', 'felix-wilhelm', 'invest-nebraska', 'jacksondenka', 'hexens', 'florian-le-goff', 'matt-james', 'alex-obadia', 'tendermint-venture', 'kyax', 'jack-longarzo', 'longterm-ventures', 'andrew-huang', 'black-dragon-capital', 'claire-balva', 'kekkai', 'brian-d-evans', 'dclm', 'prosper-ventures', 'vietnam-blockchain-association', 'mclb', 'david-marcus', 'eric-cryptoman', 'hillstone', 'alexei-lebedev', 'yuval-rooz', 'the-moon-show', 'ricardo-salinas', 'axelar-network', 'duplicate-capital', 'vish-eth', 'batu', 'ravikant-capital', 'mochax-ventures', 'antonio-viggiano', 'alex-chiocchi', 'alex-watts', 'jean-marie-mognetti', 'divide-labs', 'tandem', 'agora-governance', 'aitech-labs', 'kevin-nielsen', 'ellipti', 'coincu-ventures', 'virtuals-protocol', 'adam-gutierrez', 'justin-ridgely', 'basement-dao', 'mori', 'supernatural', 'mikhail-melnik', 'metaverse-group', 'predator-capital', 'bitliot-ventures', 'future-art', 'rana-capital', 'john-scianna', 'temporal', 'alberta-innovates', 'zagabond', 'publius', 'kazufumi', 'vijay-chetty', 'cyberrock-venture', 'normie-capital', 'ryan-zurrer', 'elixir', 'irene-umar', 'tal-tchwella', 'cypherion-capital', 'anza', 'singularitydao', 'evans-huangfu', 'boost-vc', 'equilibrium-co', 'brian-retford', 'avra', 'ozdao', 'daniel-macklin', 'vivatech-ventures', 'forerunnervc', 'outrun-ventures', 'gracy-chen', 'degen-pool', 'tony', 'artemiy-parshakov', 'sheldon', 'joao-reginatto', 'memeland', 'inv-ventures', 'ngm-ventures', 'trovio-group', 'scott-shapiro', 'ilmoi', 'josh-elman', 'luke-hajdukiewicz', 'initiate-capital', 'kraken-ventures', 'sgverse', 'scrypt', 'icebergy', 'jez', 'blockchain-association', 'few', 'atmta', 'tz', 'pancakeswap', 'bede-schubert', 'michaelsuppo', 'neel-somani', 'new-wheel-capital', 'taarush', 'meezan-ventures', 'andrej-karpathy', 'alphablockz', 'dsx-ventures', 't-fund', 'bnbswap-ventures', 'block-daddy', 'mintify', 'lpi-dao', 'dai-lo', 'anthony-cheng', 'doug-colkitt', 'jeff-hasselman', 'bitcoincash', 'social-graph-ventures', 'dsrv', '01labs', 'jonathan-king', 'tomoaki-sato', 'dedata-technologies', 'unbroken-chain', 'paperclip-partners', 'tomokana', 'cream-finance', 'alex-taub', 'onchain-wizard', 'bolts-capital', 'opta', 'michaeljin', 'small-cap-scientist', 'echo3', '0xquit', 'vice-ventures', 'tamar-menteshashvili', 'accelbyte', 'sumcap', 'ming-capital', 'sjuul', 'thomas-bravo', 'foster-labs', 'ben-roy', 'nodemarket', 'nemi', 'zanshin-capital-management', 'myria', 'sidney-gottlieb', 'steve-bearwin', 'joseph-naggar', 'wizard-of-soho', 'carbon-browser', 'fera-capital', 'alchemix', 'anbessa', 'spyre-capital', 'tcc-capital', 'four-moons', 'chjango-unchained', 'wincent', 'okra', 'dash-fund', 'lumina-capital-management', 'zk-ventures', 'squared-ventures', 'hoskinson-family-office', 'joint-journey', 'grandma', 'beachmojito', 'spicy-capital', 'fiserv', 'notifi', 'lootex', 'bankai-ventures', 'ergodic-capital', 'arcanum-ventures', 'myles-garrett', 'diego-gutierrez-zaldivar', 'w3coins', 'taproot-wizards', 'jc-capital', 'draper-goren-blockchain', 'linklogis', 'hitchens-ventures', 'caldera', 'goolun-capital', 'roy-tuvey', 'scott-keto', 'g20-ventures', 'windra-thio', 'sankha-b', 'dwf-ventures', 'jess-zhang', 'desmond-mac-intyre', 'bond', 'edbi', 'fission-digital-capital', 'DreamCrew', 'emrin-nurovic', 'tpt', 'acquire', 'david-wong', '0xrodney', 'q42', 'size-chad', 'cosima-capital', 'hardhat-chad', 'poly-network', 'mike-sall', 'buzzbridge-capital', 'shen-bo', 'basedvc', 'cryptojack', 'qw-ventures', 'cat-protocol', 'sketch-venture', 'metatdex', 'ms2-capital', 'hampstead-park', 'ipn-foundation', 'denali-digital', 'archer-capital', 'corenest-capital', 'brendan-mccord', 'arnold-lee', 'bigzpubkey', 'advisors-anonymous', 'alienswap-labs', 'audrey-llc', 'pokergo', 'olivier-huby', 'nnnnicholas', 'everstate-capital', 'hawkwood-capital', 'alpha-protocol-ventures', 'enzo', '0xnick', 'nv-capital', 'elon-musk', 'Factorio', 'clara-bullrich', 'paper-ventures', 'tachyon', 'vista-capital', 'gydra-capital', 'frank-degods', 'alpha-dao', 'psych', 'lulala-labs', 'josue-estrada', 'alpha-transform-group', 'kbw-ventures', '10x-founders', 'l7-dex', 'zen-trading', 'imperator', 'ugochukwu-aronu', 'sky-gardians-capital', 'antanas-guoga', 'nova-dao', 'joon-ian-wong', 'divergence-ventures', 'daman-investments', 'apx-finance', 'stifel', 'angsana-investments', 'chad-liu', 'zk-prime-capital', 'jonathan-claudius', 'native-crypto', 'avvx', 'construct-ventures', 'alpha-token-capital', 'lionrock', 'audacia-capital', 'chunda', 'antonio-felix-da-costa', 'thanos-soutos', 'non-fungible-technologies', 'ali-yahya', 'allianz-x', 'eric-chen', 'dream-ventures-com', 'era7', 'sebastian-serrano', 'andrei-kouzel', 'manu-andorra', 'streak-cap-ventures', 'TigerBCDAO', 'supremacy', 'remco-bloemen', 'pstake', 'perspective', 'sky-mavis', 'arisa-toyosaki', 'xforce-capital', 'hive-brazil', 'chris-grove', '0x-messi', 'alfacatalyst', 'mark-roszak', 'cachet-group', 'pest', 'wischoff-ventures', 'emad', 'oneblock', 'andrea-canidio', 'cv-labs', 'riviera-capital', 'digital-consensus', 'kushim', 'orca-capital', 'amir-shevat', 'fireblocks', 'hubirb', 'xlink-labs', 'c-b', 'fasset', 'a41', 'azh-advisory', 'cityblok', 'tenity', 'steroids-capital', 'arthur-cheong', 'squasar', 'nathan-worsley', 'jason-kam', 'asva-capital', 'web3Labs', 'mark-phillips', 'everstake-capital', 'karnika-yashwant', 'jinwoo-park', 'ray-chan', 'retired-chad-dev', 'adventure-layer', 'daniel-rotman', 'arkgrow', 'daybreak-digital', '2x1q7f9', 'onega-ventures', 'oldenburg-vineyards', 'northbund-capital', 'sava-investment-management', 'cherry-street', 'ton-incubator', 'perridon-ventures', 'seb', 'taizo-son', 'stanley-wu', 'murat-akdeniz', 'national-treasury-management-agency', 'art-bocks', 'multisig-ventures', 'eureka-partners', 'randy-reddig', 'cryptosbatman', '3rd-street-capital', 'aweh-ventures', 'enigma', 'meta', 'cactus', 'globalstake', 'sandra-leow', 'medalist-partner', 'jasonfromtg', 'dcf-capital-partners', 'igloo', 'redwood-city-ventures', 'alexander-s-blume', 'data-tech-fund', 'disruptech', 'omakase', 'gum', 'master-ventures', 'canaccord-genuity', 'promentum', 'schlag', 'intersect-vc', 'mike-hudack', 'john-bisu', 'taostats', 'redlions-capital', 'john-kikko', 'ficus-capital', 'j-christopher-giancarlo', 'dystopia-labs', 'grigore-rosu', 'bridge-partners', 'li-jin', 'dieter-fishbein', 'funders-vc', 'daniel-worsley', 'christine-yip', 'metropolis', 'equilibrium-ventures', 'ava-protocol', 'sal-gala', 'bluerun-ventures', 'bridges', 'magnus-eskelinen', 'ankaa', 'sriram-viswanathan', 'yash-agarwal', 'sunforge', 'morgan-stanley', '37-interactive-entertainment', 'lamina-ecosystem-fund', 'serengeti-asset-management', 'bryan-irace', 'paramita-venture', 'masterkey', 'coinflip-company', 'maggie-love', 'waveslab-ventures', 'algopulse', 'connor-enso', 'icc', 'degendavinci', 'castle-capital', 'stan', 'federico-nitdi', 'rahim-noorani', 'csp-dao', 'klein-labs', 'david-morrison', 'folius-ventures', 'vernalis-capital', 'binance-us', 'bitdao', 'tripod-capital', 'brianna-montgomery', 'zeta-markets', 'mitm', 'vibhu', 'teepee-capital', 'ton-ventures', 'dima-mikhaylov', 'mankind-pharma', 'c3u-capital', 'raj-parekh', 'aura-ventures', 'noun12-eth', 'xceedance', 'iberia-capital', 'breakorbit', 'aurablock-ventures', 'ckb-eco-fund', 'notcoin', 'ipfs', '84000lp', 'turnt-up-dylan', 'african-crops', 'morpheus', 'oxorio', 't-capital', 'payson-lee-private-foundation', 'astrarizon-ventures', 'bit-mining', 'amir-carlisle', 'amity-ventures', 'lunar-digital-assets', 'nathalie-mcgrath', 'sunfund-fortuna-global-opportunities', 'steakhouse-financial', 'copilot-venture-studio', 'prometehuz', 'aa-sons', 'chartfu', 'yvr-trader', 'catherine-wood', 'albert-lee', 'janitooor-eth', 'bridge', 'cl207', 'scimitar-capital', 'blocklike', 'elixir-capital', 'evgeny-gaevoy', 'julian-capital', 'eternal-asia-group', 'gary-sheynkman', 'blackbridge', 'gangels', 'chris-burniske', 'ox-fun', 'lydian-labs', 'sherman-lee', 'metavallon', 'mildred-idada', 'matthew-roszak', 'syndicate-capital-group', 'futo', '99-capital', 'rug-radio', 'digi-max', 'absoluta-digital', 'sfermion', 'linda-kreitzman', 'paul-bohm', 'xstar', 'figma', 'precision-edge-capital', 'tac-security', 'zaiken', 'bitgert-ventures', 'four-cities-capital', 'pfizer-venture', 'sony-network-communications', 'genesis-capital', 'beraland', 'jaco-ko', 'gregthegreek', 'tycho-btc', 'alberto-ibarguen', 'metaconstant-ventures', 'dct-capital', 'wizz', 'marque-ventures', 'alexander-wilke', 'eric-chung', 'piha-equities', 'xinjun-liang', 'ncsc-cyber', 'frank-maene', 'petteri-suorsa', 'saama', 'threedao', 'u2venture', 'babylon', 'metadsverse', 'sei', 'fermion-capital', 'pika', 'hammoudi-abdalrhman', 'ayanda-capital', 'metaverse-hq', 'tobe-t', 'bogomil-balkansky', 'amy-wu', 'satoshi-protocol', 'yippie', 'david-pazdan', 'Oxsymphony', 'web3link', 'ondo', 'vae-victis', 'mor-weizer', 'meebco', 'michael-anderson', 'pier-two', 'nicholas-hu', 'spores', 'blake-gao', 'kevin-zhou', '1kx', 'degendao', 'aliabdaal', 'peak-xv-partners', 'mentat-innovations', '100-100-ventures', 'novis', 'greythorn-asset-management', 'patrickx', 'clarke-capital', 'press-start-capital', 'decentranet', 'gryps', 'vertex-labs', 'versifi', 'season-two-ventures', 'protofire', 'barmy', 'yoni-goldberg', 'optio-capital', 'luiz-ramalho', 'boyaa', 'joel-cassady', 'unicorn-ventures', 'coinstash', 'max-sarafin', 'arbelos-markets', 'vivcourt-trading', 'initial-ventures', 'nakhla-ventures', 'overclock', 'saushank', 'pranay-mohan', 'mike-cahill', 'quidnet-ventures', 'biconomy', 'c2tp', 'futurecraft-ventures', 'backpack', 'avant-blockchain-capital', 'rpc-foundation', 'teraland', 'spacemandev', 'w3-hitchhiker', 'arnaud-schenk', 'agya-ventures', 'ali-moiz', 't-b-media-global', 'msd-partners', 'weblock', 'rahul', 'ovni-capital', 'k2-associates-investment', 'pleb-capital', 'startgate-com', 'jucoin', 'bitfun-capital', 'm23-fund', 'airlevate-investment', 'chainfir-capital', 'rich-greenfield', 'carl-hua', 'knightfury', 'devin-walsh', 'will-gaybrick', 'republic', 'imperial-capital', 'samsung-venture-investment', '300dao', 'shoe-on-ventures', 'collective-ventures', 'neural-capital', 'gabriel-rebibo', 'spacebar', 'maraoz', 'ivan-zhang', 'jim-posen', 'trust-wallet', 'paul-neuner', 'airtx', 'bitcoin-ira', 'zelwin-ventures', 'harbour-industrial-capital', 'charliehu', 'liam-eagen', 'chalfen-ventures', 'rory-eakin', 'scalingX', 'brad-stephens', 'hexa', 'joshua-seims', 'trinity-labs', 'crypto-labs', 'principle68', 'actoz-soft', 'studio-mirai', 'third-earth-capital', 'titan-stake', 'kohlberg-kravis', 'polaroid', 'gravity-team', 'mirai-dao', 'necto-labs', 'larry-wu', 'skip-protocol', 'mentat-group', 'moneyture-ventures', 'kinetic-kollective', 'zen-llama', 'dim-selk', 'moore-club', 'sdm-education', 'skynet-trading', 'p-ops-team', 'foresightx', 'hussein-family-office', 'privy', 'ashwin-sol', 'pello-capital', 'frontier-research', 'csquared', 'gaurav-mehta', 'sanyuan-labs', 'matthieu', 'ethan-beard', 'mythos-venture-partners', 'brian-rose', 'yan-cryptojade', 'naas-capital', 'bo-feng', 'uday-kumar', 'mirror-world', 'aadil-mamujee', 'bill-boebel', 'onmobile', 'vxcozy', 'mathieu-baril', 'abhishek-vaidyanathan', 'flying-falcon', 'gilbert-global-equity-partners', 'david-eckstein', 'dan-hill', 'blockhunters-group', 'dib-ventures', 'matterblock', 'pashi', 'xiaomi', 'thesis', 'ritholtz-wealth-management', 'curved-ventures', 'w-labs', 'arrington-xrp-capital', 'allen-ding', 'cryptosr-us', 'lf-labs', 'ewald-hesse', 'kairos-capital', 'yosef-soso', 'core-dao', 'asymmetric', 'matt-cutler', 'charles-fabrikant', 'lbbw-vc', 'brandon-curtis', 'the-venture-dept', 'jesse-kao', 'mgx', 'punk4156', 'ms-thang', 'tumilet', 'bitlink', 'opacity-network', 'fancy-studios', 'jon-kol', 'curiosity-capital', 'elias-tazartes', 'hacken', 'obelisk-capital', 'tagus-labs', 'clem', 'labyrinth-dao', 'slappjakke', '3nes', 'droplet-capital', 'darren-camas', 'the-a-team', 'marc-tillement', 'ai-project-hub', 'iron-key-capital', 'frax', 'giesen-family-office', 'yasovardhan-chinni', 'alexander-lin', 'evgeny-chebotov', 'burnt', 'zed-run', 'isaiah-washington', 'mathieu-baudet', 'sebastian-kuhne', 'the-bond-group', 'rahulchaudhary', 'altcoin-sherpa', 'memetic-digital', 'html-tina', 'brandon-geraldi', 'rhinevall-capital', 'ludwig-pettersson', 'jordan-garbis', 'sypher-capital', 'polygon-capital', 'rtp-global', 'autoventuregroup', 'micah-spruill', 'phil-bonello', 'kinesys-group', 'simurg-labs', 'kevin-jiang', 'ethos-fund', 'aniket-jindal', 'tokenfunder', 'ceden', 'jpin', 'benedikt-bunz', 'boba-tea-capital', 'blocklords', 'greg-di-prisco', 'eco', 'jazear-brooks', 'heritage-horizon-capital', 'frictionless', 'samurai-cyberfi', 'noah-gale', 'flux-capital', 'mv-index-solutions', 'tangentia-ventures', 'bochsler-finance', 'bryan-flynn', 'nibiru', 'hasu-capital', 'one-click', 'fractal-bitcoin', 'stanford-blockchain', 'nikita-ovchinnik', 'triton', 'yelena-cavanaught', 'bripheno-pte-ltd', 'kkrray', 'arkana-capital', 'new-heights', 'beacon-capital', 'phil-chang', 'self-protocol', 'tong0x', 'mark-manginelli', 'nebulae', 'gloom_sol', 'blue-moon-capital', 'poolpitako', 'celestinesloths', 'ichi', 'jonathan-huang', 'spiral-dao', 'hodl-ventures', 'quinn-thompson', 'igg', 'dbank', 'node-vc', 'devops199fan', 'karim-sabba', 'varun-srinivasan', 'klarman-eth', 'osprey-funds', 'coinstore', 'amadeo-brands', 'superhero-capital', 'kevin-sekniqi', 'wli-capital', 'bob-young', 'sophon', 'heliad-ag', 'fracton-ventures', 'arnaud-ventura-perso', 'polkabridge-ventures', 'hilbert-group', 'lofty-ventures', 'gareth', 'pontem', 'makan-investments', 'lto-network', 'istari-ventures', 'mallesh-pai', 'futurism-labs', 'gri', 'gabi-dijon', 'ontario-teachers-pension-plan', 'r3', 'we-capital', 'andrew-alli', 'wei-han', 'blindspot-ventures', 'cryptopia-vc', 'rise-capital', 'hyper10n-capital', 'skygg', 'lobsterdao', 'rachid-ajaja', 'rhino-stake', 'clairvoyant-labs', 'guillaume-poncin', 'bitscrunch', 'macnbtc', 'shresth-agrwal', 'justine-humenansky', 'credix', 'eigenvalue-ventures', 'aquarius-fund', 'trent-mcconaghy', '0xstrife', 'cristina-venture', '3base', 'bluepointe-ventures', 'google-cloud', 'alco-holdings', 'adam-roozen', 'p1-ventures', 'jigeum-capital', 'dna-fund', 'osf', 'bruno-f', 'brock-milller', 'asylumventures', 'aethir', 'clement-delangue', 'alex-kruger', 'securitize', 'horseshoecap', 'fitch-ventures', 'christophe-lassuyt', 'coresky', 'shintaro-yamada', 'vbt-yazilim', 'ultiverse', 'treehouse', 'charlie', 'alex-esin', 'kima-network', 'flashpoint-vc', 'berezka-dao', 'starwin-group', 'jacob-arluck', 'steve-chen', 'alex-wice', 'max-resnick', 'first-capital', 'first-pacific', 'mqdao', 'eurekatrading', 'covey', 'ranker-dao', 'lu-chunquan', 'froyo', 'jeff-morris', 'austin-adams', 'jasminder-gulati', 'innoangelfund', 'relayer-capital', 'tunde-folawiyo', 'rudy-kadoch', 'pattern-research', 'aishwary-eth', 'yields-and-more', 'nethermind', 'macbrennan', 'samara-alpha-management', 'payitup', 'sota-watanabe', 'infinex', 'mike-lee', 'aaron-harris', 'dao-venture', 'deFi-dave', 'capsulex-labs', 'y2z-ventures', 'mills-miller', 'web-tree-capital', 'joel-jabalera', 'daniel-museles', 'welara', 'citizenx', 'josie-leung', 'adam-beaudoin', 'vng-corporation', 'bex-ventrue', 'pinnacle-venture-capital', 'chua-zheng-leong', 'kgen', 'w3tester', 'benjamin', 'cited', 'de-facto-capital', 'tokka-labs', 'mintfox', 'navig8-group', 'chaitech-ventures', 'wabi-sabi-trading', 'daovergence', 'ivan-golovko', 'mindspace-solutions', 'east-british-east-asia-holdings', 'viden-vc', 'myles-snider', 'amex-ventures', 'contrary', 'paolo-ardoino', 'henrik-andersson', 'mountx-capital', 'lets-go-ventures', 'yu-hu', 'pool2paulie', 'fl-foundation', 'cherry-vc', 'ashley-tyson', 'keyrock', 'blue-bay-ventures', 'swen-schaferjohann', 's-y-lee', 'maxbetc-syndicate', 'peter-diamandis', 'splinter-node', 'raghunandan-g', 'thought-machine', 'gunzilla-games', 'crypto3-capital', 'digits-capital', 'munam-wasi', 'onesixtytwo-digital-capital', 'tpg', 'eduardo-ronzano', 'edward-mulraney', 'octu-ventures', 'steven-kokinos', 'choppa-capital', 'egokhberg', 'stoneblock', 'galaxy-mercury-asia', 'whitewater-labs', 'eugene-chen', 'alan-keegan', 'microcosm-labs', 'bilibili', 'wassielawyer', 'pavel-kravchenko', 'hermeneutic-investments', 'digital-disrupt', 'gt-protocol', 'seraphim', 'gonbo', 'nuclea', 'ufly-labs', 'jpeg-trading', 'op-games', 'pritzker-rganization', 'firstblockcap', 'martin-koppelmann', 'vyas-krishnan', 'nosana', 'kyle-dhillon', 'frekaz-group', 'hansen', 'alex-bamberger', 'multiversx', 'bitfund-dao', 'voshy', 'pepper-ventures', 'gets', 'david-majert', 'david-samuel', 'startsmall', 'tlvc-capital', 'nftboi', 'trasarenu-vc', 'zentry', 'mars4', 'infinity-force', 'cardinia-ventures', 'my-neighbor-alice', 'matt-dobel', 'overtake', 'rajat-sharma', 'vivek-seth', 'ttcer', 'jarry-xiao', 'ravi-chiruvolu', 'matty', 'samurai-starter', 'brandon-neal', 'harmony', 'crucible-capital', 'xborg', 'adams-street-partners', 'compa-capital', 'noir-io', 'daniela-osorio', 'the-protagonist', 'stephane-gosselin', 'jane-street-capital', 'parp', 'dalpat-prajapati', 'ovo-fund', 'biz-stone', 'boris-wertz', 'igal-b', 'knights-templar-capital', 'darren-smorgon', 'teflonmusk', 'stakeholder', 'ekata', 'mak-ventures', 'tyregate-capital-group', 'bitfly-capital', 'mustafa-al-bassam', 'tyler-scott-ward', 'quantfury', 'watertower-ventures', 'beluga-labs', 'startup-five-investment', 'zane-tackett', 'wolfgang-albrecht', 'thorstarter', 'herrocrypto', 'lam-group', 'ethan-sun', 'starbase', 'ton-market-maker', 'winthorpe', 'hypotenuse-labs', 'atapscott', 'kirkbi', 'hirokado-kohji', 'larry-ogunjobi', 'astroid', 'jon', 'kapo', 'curvecap', 'raison', 'waves', 'andrea-bensaid', 'leo-mindyuk', 'chris-lurdziel', 'sol-strategies', 'ecco-capital', 'ashish-rajpurohit', 'blokhash-labs', 'sghduck', 'genius-group', 'vonmises', 'chloe-sladden', 'cryptocondom', 'primelink', 'web3-vision-fund', 'o-de-capital-partners', '0xjeff', 'alfadao', '100-acre', 'green-light-equity-fund', 'sec3', 'dylan-patel', 'strive-vc', 'bscn-gaming', 'buidlerdao', 'gem-capital', 'andy-ahatham', 'xportal', 'david-choi', 'google-for-startups', 'neon-eight', 'danny-masters', 'fitz', 'schmidt', 'coded-fi', 'luke-walton', 'tge-ventures', 'soave-swap', 'polk-street-capital', 'solcruiter', 'array-ventures', 'gc', 'trove-capital', 'joe-takayama', 'yusuke-obinata', 'tokenization-limited', 'illuminati-capital', 'jayant-krishnamurthy', 'federico-ogue', 'rand-r-capital', 'caleb-brown', 'malana-ventures', 'yellow-accelerator', 'sdc-management', 'sherwin-lee', 'scallop', 'min-teo', 'hash-capital', 'profit-board', 'chumbawamba', 'olive-capital', 'ben-huh', 'warrior-wealth-fund', 'profluent-ventures', 'multi-chain-capital', 'uno-ventures', '708-capital', 'zhuang', 'beartic', 'rhombuz', '0x-consulting-group', 'hardbank', 'pivot', 'flex-dapps', 'aspenwood-ventures', 'ken-moelis', 'hicham-sbaa', 'kevin-ding', 'luca', 'demi-brener', 'jeffrey-zirlin', 'play-ventures', 'bandai-namco-entertainment', 'pg', 'epoch-capital', 'kevin-kalle', 'max-power', 'zero-dao', 'avi-felman', 'valor-siren-ventures', 'matt-mick', 'agallochum-capital', 'unbounded-capital', 'orthogonal-labs', 'link-capital', 'japan-finance', 'alliance', 'dfs-lab', 'the-rollup-ventures', 'sentor-investments', 'teallink-capital', 'centauri-digital-asset-group', 'octerra-capital', 'robinsong', 'yusho-liu', 'jeff-garzik', 'magic-media', 'oriole-ventures', 'aj-ventures', 'mvc-friends', 'jhaycock', 'dean-tribble', 'mav', 'salt', 'araceae-capital', 'christian-catalini', 'sendai', 'robert-gaal', 'siong-ong', 'syndicate', 'metaverse-alliance', 'messier', 'ali', 'snapfingerx', 'victus-global', 'patryk-adas', 'tensor-investment-corporation', 'firehustle', 'walt-smith', 'lucas-gaylord', 'kenneth-bok', 'mirko-schmield', 'arena-holdings', 'depin', 'mykola-paliienko', 'ledger', 'heng-feng', 'hoxton-ventures', 'jeff-tong', 'frachtis', 'bidhan-roy', 'rsk-capital', 'tide-groups', 'vader', 'revelo-intel', 'elevate-ventures', 'themooncarl', 'cbb', 'deus-x-capital', 'topostation', 'curve', 'hill-harbour', 'new-order', 'bta-ventures', 'sunpump', 'midcurve', 'wilson-cusack', 'hummingbirds-capital', 'meinhard-benn', 'sol-big-brain', 'josh-hannah', 'formulate-ventures', 'startup-mavericks', 'folkvang', 'sovrun', 'kdx', 'utah-governors-office-of-economic-development', 'dravus-investment', 'v3v-ventures', 'b00ner', 'sigil-fund', 'mgg-investment-group', 'lemon-ltd', 'nodeinfra', 'quansight-initiate', 'ogo', 'mitch-lowe', 'sam-li', 'aixcb', 'ton-foundation', 'seven-seas-capital', 'gam3sgg', 'can-kocagil', 'ifc-asset-management-company', 'sid-powell', 'citizen-journalism-network-accelerator', 'ezra-galston', 'derek-colla', 'satish-kanwar', 'david-nakayama', 'owlting', 'cobie', 'zoran-kole', 'sqrdao', 'marcus-molchany', 'david-dias', 'firebase', 'dmail', 'hypercycle', 'keydifference', 'nexus-mutual', 'braskem', 'david-tse', 'anchor-capital', 'play-dapp', 'zain-allarakhia', 'fourtwo-two-capital', 'momentum-capital', 'mqdc', 'akshai-rajendran', 'fa-technology-ventures', 'ben', 'jk', 'zebec-protocol', 'wormhole-capital', 'billy-welch', 'fx168-finance', 'aladdindao', 'timur-samoylov', 'four-meme', 'reforge-vc', 'shadow-labs', 'sunflower-fund', 'orkun-kilic', 'croc-capital', 'penrose-ventures', 'phyrex', 'scroll', 'eigenlayer', 'breanna-stewart', 'verda-ventures', 'solzac', 'osmosis', 'penrose-tech', 'fusion-7', 'aelf', 'crypto-rand', 'maximus-capital-group', 'pei-han', 'angelo', 'mod', 'caliber-venture-builder', 'story-protocol', 'richard-spanton', 'td-capital', 'opulence', 'sats-ventures', 'river', '7-eleven', 'charles-lu', 'eesee', 'robbie-nakarmi', 'fgabc', 'jayden-wei', 'idinvest-partners', 'aleph', 'jason-hitchcock', 'lady-of-crypto', 'd11-labs', 'lcv-capital-management', 'kendrick-nguyen', 'dinero', 'julien-romanetto', 'christian-angermayer', 'joshua-ma', 'm-zero', 'michiel-lescrauwaet', 'moore-foundation', 'cointribune', 'logx-ventures', 'gelato', 'matt-sorg', 'ait-protocol', 'ainfra-ventures', 'danny-newman', 'danning-eth', 'fd', 'hiroaki-kitano', 'michael-galpert', 'orbiter-finance', 'forward-research', 'mason-hall', 'legend-trading', 'anthony-beaumont', 'rob-viglione', 'terranova', 'eric-zoo', 'holly-liu', 'digits-ventures', 'chainhill-capital', 'andrej-radonjic', 'nim-network', 'matan-grinberg', 'sean-cohan', 'kirbycrypto-hl', 'tampa-bay', 'ivision-ventures', 'arshan', 'purple', 'phoenix', 'justin', 'enjin-starter', 'flux', 'cryptokatryna', 'charles-cascarilla', 'albert-chon', 'ocho-capital', 'inverse-ventures', 'nanixbt', 'hans', 'basedao', 'alexandre-stachtchenko', 'degenjoe', 'basement-labs', 'smart-island-capital', 'miix-capital', 'chiachih-wu', 'venture-commercial', 'prodigital-future-fund', 'russell-westbrook', 'mario-casiraghi', 'bevm', 'miton', '2Shares', '8090-partners', 'sram-mram-group', 'trustless-labs', 'matt-symons', 'vineet-budki', '3-0-capital', 'tvm-ventures', 'jibe-ventures', 'juliet-su', 'stefan-cohen', 'gwart', 'mable-jiang', 'marius-ciubotariu', 'prabal-banerjee', 'carlos0x', 'anthology', 'seal-capital', 'cbi-holding', 'eamon-leonard', 'lava', 'moni', 'blockchainvelocity', 'owl-eth', 'coinstone-capital', 'gbenga-oyebode', 'captain-rational', 'andy-rollup', 'oxygea', 'firestarter', 'daemon-ventures']\n"
     ]
    }
   ],
   "source": [
    "import csv\n",
    "\n",
    "def find_missing_slugs():\n",
    "    # Read slugs from funds_details.csv\n",
    "    with open('funds_details.csv', 'r', encoding='utf-8') as f:\n",
    "        reader = csv.DictReader(f)\n",
    "        details_slugs = {row['slug'] for row in reader if row.get('slug')}\n",
    "\n",
    "    # Read fund_slugs from all_fund_countries.csv (with deduplication)\n",
    "    with open('all_fund_countries.csv', 'r', encoding='utf-8') as f:\n",
    "        reader = csv.DictReader(f)\n",
    "        countries_slugs = {row['fund_slug'] for row in reader if row.get('fund_slug')}\n",
    "\n",
    "    # Find slugs present in details but not in countries\n",
    "    missing_slugs = list(details_slugs - countries_slugs)\n",
    "    return missing_slugs\n",
    "\n",
    "if __name__ == \"__main__\":\n",
    "    result = find_missing_slugs()\n",
    "    print(f\"Slugs in funds_details.csv but not in all_fund_countries.csv:\")\n",
    "    print(result)"
   ]
  },
  {
   "cell_type": "code",
   "execution_count": 13,
   "id": "da97afa0",
   "metadata": {},
   "outputs": [
    {
     "name": "stdout",
     "output_type": "stream",
     "text": [
      "Found 1862 slugs to process\n"
     ]
    },
    {
     "name": "stderr",
     "output_type": "stream",
     "text": [
      "Fetching fund countries:   0%|          | 8/1862 [00:06<26:31,  1.16it/s]\n"
     ]
    },
    {
     "ename": "KeyboardInterrupt",
     "evalue": "",
     "output_type": "error",
     "traceback": [
      "\u001b[1;31m---------------------------------------------------------------------------\u001b[0m",
      "\u001b[1;31mKeyboardInterrupt\u001b[0m                         Traceback (most recent call last)",
      "Cell \u001b[1;32mIn[13], line 45\u001b[0m\n\u001b[0;32m     43\u001b[0m \u001b[38;5;28;01mfor\u001b[39;00m slug \u001b[38;5;129;01min\u001b[39;00m tqdm(missing_slugs, desc\u001b[38;5;241m=\u001b[39m\u001b[38;5;124m\"\u001b[39m\u001b[38;5;124mFetching fund countries\u001b[39m\u001b[38;5;124m\"\u001b[39m):\n\u001b[0;32m     44\u001b[0m     \u001b[38;5;28;01mtry\u001b[39;00m:\n\u001b[1;32m---> 45\u001b[0m         response \u001b[38;5;241m=\u001b[39m requests\u001b[38;5;241m.\u001b[39mget(\u001b[38;5;124mf\u001b[39m\u001b[38;5;124m\"\u001b[39m\u001b[38;5;132;01m{\u001b[39;00mBASE_URL\u001b[38;5;132;01m}\u001b[39;00m\u001b[38;5;132;01m{\u001b[39;00mslug\u001b[38;5;132;01m}\u001b[39;00m\u001b[38;5;124m\"\u001b[39m, timeout\u001b[38;5;241m=\u001b[39m\u001b[38;5;241m10\u001b[39m)\n\u001b[0;32m     46\u001b[0m         \u001b[38;5;28;01mif\u001b[39;00m response\u001b[38;5;241m.\u001b[39mstatus_code \u001b[38;5;241m==\u001b[39m \u001b[38;5;241m200\u001b[39m:\n\u001b[0;32m     47\u001b[0m             countries \u001b[38;5;241m=\u001b[39m response\u001b[38;5;241m.\u001b[39mjson()\u001b[38;5;241m.\u001b[39mget(\u001b[38;5;124m\"\u001b[39m\u001b[38;5;124mdata\u001b[39m\u001b[38;5;124m\"\u001b[39m, [])\n",
      "File \u001b[1;32mc:\\Users\\mahmo\\anaconda3\\Lib\\site-packages\\requests\\api.py:73\u001b[0m, in \u001b[0;36mget\u001b[1;34m(url, params, **kwargs)\u001b[0m\n\u001b[0;32m     62\u001b[0m \u001b[38;5;28;01mdef\u001b[39;00m \u001b[38;5;21mget\u001b[39m(url, params\u001b[38;5;241m=\u001b[39m\u001b[38;5;28;01mNone\u001b[39;00m, \u001b[38;5;241m*\u001b[39m\u001b[38;5;241m*\u001b[39mkwargs):\n\u001b[0;32m     63\u001b[0m \u001b[38;5;250m    \u001b[39m\u001b[38;5;124mr\u001b[39m\u001b[38;5;124;03m\"\"\"Sends a GET request.\u001b[39;00m\n\u001b[0;32m     64\u001b[0m \n\u001b[0;32m     65\u001b[0m \u001b[38;5;124;03m    :param url: URL for the new :class:`Request` object.\u001b[39;00m\n\u001b[1;32m   (...)\u001b[0m\n\u001b[0;32m     70\u001b[0m \u001b[38;5;124;03m    :rtype: requests.Response\u001b[39;00m\n\u001b[0;32m     71\u001b[0m \u001b[38;5;124;03m    \"\"\"\u001b[39;00m\n\u001b[1;32m---> 73\u001b[0m     \u001b[38;5;28;01mreturn\u001b[39;00m request(\u001b[38;5;124m\"\u001b[39m\u001b[38;5;124mget\u001b[39m\u001b[38;5;124m\"\u001b[39m, url, params\u001b[38;5;241m=\u001b[39mparams, \u001b[38;5;241m*\u001b[39m\u001b[38;5;241m*\u001b[39mkwargs)\n",
      "File \u001b[1;32mc:\\Users\\mahmo\\anaconda3\\Lib\\site-packages\\requests\\api.py:59\u001b[0m, in \u001b[0;36mrequest\u001b[1;34m(method, url, **kwargs)\u001b[0m\n\u001b[0;32m     55\u001b[0m \u001b[38;5;66;03m# By using the 'with' statement we are sure the session is closed, thus we\u001b[39;00m\n\u001b[0;32m     56\u001b[0m \u001b[38;5;66;03m# avoid leaving sockets open which can trigger a ResourceWarning in some\u001b[39;00m\n\u001b[0;32m     57\u001b[0m \u001b[38;5;66;03m# cases, and look like a memory leak in others.\u001b[39;00m\n\u001b[0;32m     58\u001b[0m \u001b[38;5;28;01mwith\u001b[39;00m sessions\u001b[38;5;241m.\u001b[39mSession() \u001b[38;5;28;01mas\u001b[39;00m session:\n\u001b[1;32m---> 59\u001b[0m     \u001b[38;5;28;01mreturn\u001b[39;00m session\u001b[38;5;241m.\u001b[39mrequest(method\u001b[38;5;241m=\u001b[39mmethod, url\u001b[38;5;241m=\u001b[39murl, \u001b[38;5;241m*\u001b[39m\u001b[38;5;241m*\u001b[39mkwargs)\n",
      "File \u001b[1;32mc:\\Users\\mahmo\\anaconda3\\Lib\\site-packages\\requests\\sessions.py:589\u001b[0m, in \u001b[0;36mSession.request\u001b[1;34m(self, method, url, params, data, headers, cookies, files, auth, timeout, allow_redirects, proxies, hooks, stream, verify, cert, json)\u001b[0m\n\u001b[0;32m    584\u001b[0m send_kwargs \u001b[38;5;241m=\u001b[39m {\n\u001b[0;32m    585\u001b[0m     \u001b[38;5;124m\"\u001b[39m\u001b[38;5;124mtimeout\u001b[39m\u001b[38;5;124m\"\u001b[39m: timeout,\n\u001b[0;32m    586\u001b[0m     \u001b[38;5;124m\"\u001b[39m\u001b[38;5;124mallow_redirects\u001b[39m\u001b[38;5;124m\"\u001b[39m: allow_redirects,\n\u001b[0;32m    587\u001b[0m }\n\u001b[0;32m    588\u001b[0m send_kwargs\u001b[38;5;241m.\u001b[39mupdate(settings)\n\u001b[1;32m--> 589\u001b[0m resp \u001b[38;5;241m=\u001b[39m \u001b[38;5;28mself\u001b[39m\u001b[38;5;241m.\u001b[39msend(prep, \u001b[38;5;241m*\u001b[39m\u001b[38;5;241m*\u001b[39msend_kwargs)\n\u001b[0;32m    591\u001b[0m \u001b[38;5;28;01mreturn\u001b[39;00m resp\n",
      "File \u001b[1;32mc:\\Users\\mahmo\\anaconda3\\Lib\\site-packages\\requests\\sessions.py:703\u001b[0m, in \u001b[0;36mSession.send\u001b[1;34m(self, request, **kwargs)\u001b[0m\n\u001b[0;32m    700\u001b[0m start \u001b[38;5;241m=\u001b[39m preferred_clock()\n\u001b[0;32m    702\u001b[0m \u001b[38;5;66;03m# Send the request\u001b[39;00m\n\u001b[1;32m--> 703\u001b[0m r \u001b[38;5;241m=\u001b[39m adapter\u001b[38;5;241m.\u001b[39msend(request, \u001b[38;5;241m*\u001b[39m\u001b[38;5;241m*\u001b[39mkwargs)\n\u001b[0;32m    705\u001b[0m \u001b[38;5;66;03m# Total elapsed time of the request (approximately)\u001b[39;00m\n\u001b[0;32m    706\u001b[0m elapsed \u001b[38;5;241m=\u001b[39m preferred_clock() \u001b[38;5;241m-\u001b[39m start\n",
      "File \u001b[1;32mc:\\Users\\mahmo\\anaconda3\\Lib\\site-packages\\requests\\adapters.py:667\u001b[0m, in \u001b[0;36mHTTPAdapter.send\u001b[1;34m(self, request, stream, timeout, verify, cert, proxies)\u001b[0m\n\u001b[0;32m    664\u001b[0m     timeout \u001b[38;5;241m=\u001b[39m TimeoutSauce(connect\u001b[38;5;241m=\u001b[39mtimeout, read\u001b[38;5;241m=\u001b[39mtimeout)\n\u001b[0;32m    666\u001b[0m \u001b[38;5;28;01mtry\u001b[39;00m:\n\u001b[1;32m--> 667\u001b[0m     resp \u001b[38;5;241m=\u001b[39m conn\u001b[38;5;241m.\u001b[39murlopen(\n\u001b[0;32m    668\u001b[0m         method\u001b[38;5;241m=\u001b[39mrequest\u001b[38;5;241m.\u001b[39mmethod,\n\u001b[0;32m    669\u001b[0m         url\u001b[38;5;241m=\u001b[39murl,\n\u001b[0;32m    670\u001b[0m         body\u001b[38;5;241m=\u001b[39mrequest\u001b[38;5;241m.\u001b[39mbody,\n\u001b[0;32m    671\u001b[0m         headers\u001b[38;5;241m=\u001b[39mrequest\u001b[38;5;241m.\u001b[39mheaders,\n\u001b[0;32m    672\u001b[0m         redirect\u001b[38;5;241m=\u001b[39m\u001b[38;5;28;01mFalse\u001b[39;00m,\n\u001b[0;32m    673\u001b[0m         assert_same_host\u001b[38;5;241m=\u001b[39m\u001b[38;5;28;01mFalse\u001b[39;00m,\n\u001b[0;32m    674\u001b[0m         preload_content\u001b[38;5;241m=\u001b[39m\u001b[38;5;28;01mFalse\u001b[39;00m,\n\u001b[0;32m    675\u001b[0m         decode_content\u001b[38;5;241m=\u001b[39m\u001b[38;5;28;01mFalse\u001b[39;00m,\n\u001b[0;32m    676\u001b[0m         retries\u001b[38;5;241m=\u001b[39m\u001b[38;5;28mself\u001b[39m\u001b[38;5;241m.\u001b[39mmax_retries,\n\u001b[0;32m    677\u001b[0m         timeout\u001b[38;5;241m=\u001b[39mtimeout,\n\u001b[0;32m    678\u001b[0m         chunked\u001b[38;5;241m=\u001b[39mchunked,\n\u001b[0;32m    679\u001b[0m     )\n\u001b[0;32m    681\u001b[0m \u001b[38;5;28;01mexcept\u001b[39;00m (ProtocolError, \u001b[38;5;167;01mOSError\u001b[39;00m) \u001b[38;5;28;01mas\u001b[39;00m err:\n\u001b[0;32m    682\u001b[0m     \u001b[38;5;28;01mraise\u001b[39;00m \u001b[38;5;167;01mConnectionError\u001b[39;00m(err, request\u001b[38;5;241m=\u001b[39mrequest)\n",
      "File \u001b[1;32mc:\\Users\\mahmo\\anaconda3\\Lib\\site-packages\\urllib3\\connectionpool.py:787\u001b[0m, in \u001b[0;36mHTTPConnectionPool.urlopen\u001b[1;34m(self, method, url, body, headers, retries, redirect, assert_same_host, timeout, pool_timeout, release_conn, chunked, body_pos, preload_content, decode_content, **response_kw)\u001b[0m\n\u001b[0;32m    784\u001b[0m response_conn \u001b[38;5;241m=\u001b[39m conn \u001b[38;5;28;01mif\u001b[39;00m \u001b[38;5;129;01mnot\u001b[39;00m release_conn \u001b[38;5;28;01melse\u001b[39;00m \u001b[38;5;28;01mNone\u001b[39;00m\n\u001b[0;32m    786\u001b[0m \u001b[38;5;66;03m# Make the request on the HTTPConnection object\u001b[39;00m\n\u001b[1;32m--> 787\u001b[0m response \u001b[38;5;241m=\u001b[39m \u001b[38;5;28mself\u001b[39m\u001b[38;5;241m.\u001b[39m_make_request(\n\u001b[0;32m    788\u001b[0m     conn,\n\u001b[0;32m    789\u001b[0m     method,\n\u001b[0;32m    790\u001b[0m     url,\n\u001b[0;32m    791\u001b[0m     timeout\u001b[38;5;241m=\u001b[39mtimeout_obj,\n\u001b[0;32m    792\u001b[0m     body\u001b[38;5;241m=\u001b[39mbody,\n\u001b[0;32m    793\u001b[0m     headers\u001b[38;5;241m=\u001b[39mheaders,\n\u001b[0;32m    794\u001b[0m     chunked\u001b[38;5;241m=\u001b[39mchunked,\n\u001b[0;32m    795\u001b[0m     retries\u001b[38;5;241m=\u001b[39mretries,\n\u001b[0;32m    796\u001b[0m     response_conn\u001b[38;5;241m=\u001b[39mresponse_conn,\n\u001b[0;32m    797\u001b[0m     preload_content\u001b[38;5;241m=\u001b[39mpreload_content,\n\u001b[0;32m    798\u001b[0m     decode_content\u001b[38;5;241m=\u001b[39mdecode_content,\n\u001b[0;32m    799\u001b[0m     \u001b[38;5;241m*\u001b[39m\u001b[38;5;241m*\u001b[39mresponse_kw,\n\u001b[0;32m    800\u001b[0m )\n\u001b[0;32m    802\u001b[0m \u001b[38;5;66;03m# Everything went great!\u001b[39;00m\n\u001b[0;32m    803\u001b[0m clean_exit \u001b[38;5;241m=\u001b[39m \u001b[38;5;28;01mTrue\u001b[39;00m\n",
      "File \u001b[1;32mc:\\Users\\mahmo\\anaconda3\\Lib\\site-packages\\urllib3\\connectionpool.py:464\u001b[0m, in \u001b[0;36mHTTPConnectionPool._make_request\u001b[1;34m(self, conn, method, url, body, headers, retries, timeout, chunked, response_conn, preload_content, decode_content, enforce_content_length)\u001b[0m\n\u001b[0;32m    461\u001b[0m \u001b[38;5;28;01mtry\u001b[39;00m:\n\u001b[0;32m    462\u001b[0m     \u001b[38;5;66;03m# Trigger any extra validation we need to do.\u001b[39;00m\n\u001b[0;32m    463\u001b[0m     \u001b[38;5;28;01mtry\u001b[39;00m:\n\u001b[1;32m--> 464\u001b[0m         \u001b[38;5;28mself\u001b[39m\u001b[38;5;241m.\u001b[39m_validate_conn(conn)\n\u001b[0;32m    465\u001b[0m     \u001b[38;5;28;01mexcept\u001b[39;00m (SocketTimeout, BaseSSLError) \u001b[38;5;28;01mas\u001b[39;00m e:\n\u001b[0;32m    466\u001b[0m         \u001b[38;5;28mself\u001b[39m\u001b[38;5;241m.\u001b[39m_raise_timeout(err\u001b[38;5;241m=\u001b[39me, url\u001b[38;5;241m=\u001b[39murl, timeout_value\u001b[38;5;241m=\u001b[39mconn\u001b[38;5;241m.\u001b[39mtimeout)\n",
      "File \u001b[1;32mc:\\Users\\mahmo\\anaconda3\\Lib\\site-packages\\urllib3\\connectionpool.py:1093\u001b[0m, in \u001b[0;36mHTTPSConnectionPool._validate_conn\u001b[1;34m(self, conn)\u001b[0m\n\u001b[0;32m   1091\u001b[0m \u001b[38;5;66;03m# Force connect early to allow us to validate the connection.\u001b[39;00m\n\u001b[0;32m   1092\u001b[0m \u001b[38;5;28;01mif\u001b[39;00m conn\u001b[38;5;241m.\u001b[39mis_closed:\n\u001b[1;32m-> 1093\u001b[0m     conn\u001b[38;5;241m.\u001b[39mconnect()\n\u001b[0;32m   1095\u001b[0m \u001b[38;5;66;03m# TODO revise this, see https://github.com/urllib3/urllib3/issues/2791\u001b[39;00m\n\u001b[0;32m   1096\u001b[0m \u001b[38;5;28;01mif\u001b[39;00m \u001b[38;5;129;01mnot\u001b[39;00m conn\u001b[38;5;241m.\u001b[39mis_verified \u001b[38;5;129;01mand\u001b[39;00m \u001b[38;5;129;01mnot\u001b[39;00m conn\u001b[38;5;241m.\u001b[39mproxy_is_verified:\n",
      "File \u001b[1;32mc:\\Users\\mahmo\\anaconda3\\Lib\\site-packages\\urllib3\\connection.py:704\u001b[0m, in \u001b[0;36mHTTPSConnection.connect\u001b[1;34m(self)\u001b[0m\n\u001b[0;32m    702\u001b[0m \u001b[38;5;28;01mtry\u001b[39;00m:\n\u001b[0;32m    703\u001b[0m     sock: socket\u001b[38;5;241m.\u001b[39msocket \u001b[38;5;241m|\u001b[39m ssl\u001b[38;5;241m.\u001b[39mSSLSocket\n\u001b[1;32m--> 704\u001b[0m     \u001b[38;5;28mself\u001b[39m\u001b[38;5;241m.\u001b[39msock \u001b[38;5;241m=\u001b[39m sock \u001b[38;5;241m=\u001b[39m \u001b[38;5;28mself\u001b[39m\u001b[38;5;241m.\u001b[39m_new_conn()\n\u001b[0;32m    705\u001b[0m     server_hostname: \u001b[38;5;28mstr\u001b[39m \u001b[38;5;241m=\u001b[39m \u001b[38;5;28mself\u001b[39m\u001b[38;5;241m.\u001b[39mhost\n\u001b[0;32m    706\u001b[0m     tls_in_tls \u001b[38;5;241m=\u001b[39m \u001b[38;5;28;01mFalse\u001b[39;00m\n",
      "File \u001b[1;32mc:\\Users\\mahmo\\anaconda3\\Lib\\site-packages\\urllib3\\connection.py:198\u001b[0m, in \u001b[0;36mHTTPConnection._new_conn\u001b[1;34m(self)\u001b[0m\n\u001b[0;32m    193\u001b[0m \u001b[38;5;250m\u001b[39m\u001b[38;5;124;03m\"\"\"Establish a socket connection and set nodelay settings on it.\u001b[39;00m\n\u001b[0;32m    194\u001b[0m \n\u001b[0;32m    195\u001b[0m \u001b[38;5;124;03m:return: New socket connection.\u001b[39;00m\n\u001b[0;32m    196\u001b[0m \u001b[38;5;124;03m\"\"\"\u001b[39;00m\n\u001b[0;32m    197\u001b[0m \u001b[38;5;28;01mtry\u001b[39;00m:\n\u001b[1;32m--> 198\u001b[0m     sock \u001b[38;5;241m=\u001b[39m connection\u001b[38;5;241m.\u001b[39mcreate_connection(\n\u001b[0;32m    199\u001b[0m         (\u001b[38;5;28mself\u001b[39m\u001b[38;5;241m.\u001b[39m_dns_host, \u001b[38;5;28mself\u001b[39m\u001b[38;5;241m.\u001b[39mport),\n\u001b[0;32m    200\u001b[0m         \u001b[38;5;28mself\u001b[39m\u001b[38;5;241m.\u001b[39mtimeout,\n\u001b[0;32m    201\u001b[0m         source_address\u001b[38;5;241m=\u001b[39m\u001b[38;5;28mself\u001b[39m\u001b[38;5;241m.\u001b[39msource_address,\n\u001b[0;32m    202\u001b[0m         socket_options\u001b[38;5;241m=\u001b[39m\u001b[38;5;28mself\u001b[39m\u001b[38;5;241m.\u001b[39msocket_options,\n\u001b[0;32m    203\u001b[0m     )\n\u001b[0;32m    204\u001b[0m \u001b[38;5;28;01mexcept\u001b[39;00m socket\u001b[38;5;241m.\u001b[39mgaierror \u001b[38;5;28;01mas\u001b[39;00m e:\n\u001b[0;32m    205\u001b[0m     \u001b[38;5;28;01mraise\u001b[39;00m NameResolutionError(\u001b[38;5;28mself\u001b[39m\u001b[38;5;241m.\u001b[39mhost, \u001b[38;5;28mself\u001b[39m, e) \u001b[38;5;28;01mfrom\u001b[39;00m \u001b[38;5;21;01me\u001b[39;00m\n",
      "File \u001b[1;32mc:\\Users\\mahmo\\anaconda3\\Lib\\site-packages\\urllib3\\util\\connection.py:73\u001b[0m, in \u001b[0;36mcreate_connection\u001b[1;34m(address, timeout, source_address, socket_options)\u001b[0m\n\u001b[0;32m     71\u001b[0m \u001b[38;5;28;01mif\u001b[39;00m source_address:\n\u001b[0;32m     72\u001b[0m     sock\u001b[38;5;241m.\u001b[39mbind(source_address)\n\u001b[1;32m---> 73\u001b[0m sock\u001b[38;5;241m.\u001b[39mconnect(sa)\n\u001b[0;32m     74\u001b[0m \u001b[38;5;66;03m# Break explicitly a reference cycle\u001b[39;00m\n\u001b[0;32m     75\u001b[0m err \u001b[38;5;241m=\u001b[39m \u001b[38;5;28;01mNone\u001b[39;00m\n",
      "\u001b[1;31mKeyboardInterrupt\u001b[0m: "
     ]
    }
   ],
   "source": [
    "import pandas as pd\n",
    "import requests\n",
    "import time\n",
    "from tqdm import tqdm\n",
    "import os\n",
    "import csv\n",
    "\n",
    "# 🌍 API endpoint base\n",
    "BASE_URL = \"https://api.cryptorank.io/v0/coin-funds/main-funding-countries/\"\n",
    "\n",
    "# 🔍 First find missing slugs\n",
    "def get_missing_slugs():\n",
    "    try:\n",
    "        # Read funds_details.csv\n",
    "        details_df = pd.read_csv('funds_details.csv')\n",
    "        details_slugs = set(details_df['slug'].dropna().unique())\n",
    "        \n",
    "        # Read existing fund_slugs from all_fund_countries.csv\n",
    "        if os.path.exists('all_fund_countries.csv'):\n",
    "            countries_df = pd.read_csv('all_fund_countries.csv')\n",
    "            existing_slugs = set(countries_df['fund_slug'].dropna().unique())\n",
    "        else:\n",
    "            existing_slugs = set()\n",
    "            \n",
    "        return list(details_slugs - existing_slugs)\n",
    "    \n",
    "    except Exception as e:\n",
    "        print(f\"Error finding missing slugs: {e}\")\n",
    "        return []\n",
    "\n",
    "# 📥 Get the list of slugs to process\n",
    "missing_slugs = get_missing_slugs()\n",
    "print(f\"Found {len(missing_slugs)} slugs to process\")\n",
    "\n",
    "if not missing_slugs:\n",
    "    print(\"No new slugs to fetch!\")\n",
    "    exit()\n",
    "\n",
    "# 📊 Results container\n",
    "all_country_data = []\n",
    "\n",
    "# 🔁 Fetch countries only for missing slugs\n",
    "for slug in tqdm(missing_slugs, desc=\"Fetching fund countries\"):\n",
    "    try:\n",
    "        response = requests.get(f\"{BASE_URL}{slug}\", timeout=10)\n",
    "        if response.status_code == 200:\n",
    "            countries = response.json().get(\"data\", [])\n",
    "            for c in countries:\n",
    "                all_country_data.append({\n",
    "                    \"fund_slug\": slug,\n",
    "                    \"country\": c.get(\"country\", \"\"),\n",
    "                    \"count\": c.get(\"count\", 0)\n",
    "                })\n",
    "        else:\n",
    "            print(f\"[!] Failed for slug: {slug} - status {response.status_code}\")\n",
    "    except Exception as e:\n",
    "        print(f\"[!] Error for slug {slug}: {e}\")\n",
    "    time.sleep(0.2)  # Rate limiting\n",
    "\n",
    "# 💾 Append to existing CSV (or create new)\n",
    "if all_country_data:\n",
    "    df_new = pd.DataFrame(all_country_data)\n",
    "    \n",
    "    # Check if file exists to determine header\n",
    "    file_exists = os.path.exists('all_fund_countries.csv')\n",
    "    \n",
    "    # Append to CSV\n",
    "    df_new.to_csv(\n",
    "        'all_fund_countries.csv',\n",
    "        mode='a',\n",
    "        header=not file_exists,\n",
    "        index=False\n",
    "    )\n",
    "    print(f\"✅ Added {len(df_new)} new records to all_fund_countries.csv\")\n",
    "else:\n",
    "    print(\"⚠️ No new country data found to append\")"
   ]
  }
 ],
 "metadata": {
  "kernelspec": {
   "display_name": "base",
   "language": "python",
   "name": "python3"
  },
  "language_info": {
   "codemirror_mode": {
    "name": "ipython",
    "version": 3
   },
   "file_extension": ".py",
   "mimetype": "text/x-python",
   "name": "python",
   "nbconvert_exporter": "python",
   "pygments_lexer": "ipython3",
   "version": "3.11.5"
  }
 },
 "nbformat": 4,
 "nbformat_minor": 5
}
