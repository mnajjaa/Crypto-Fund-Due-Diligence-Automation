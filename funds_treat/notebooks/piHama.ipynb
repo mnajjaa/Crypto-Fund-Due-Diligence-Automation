{
 "cells": [
  {
   "cell_type": "code",
   "execution_count": 4,
   "id": "9c6bffb9",
   "metadata": {},
   "outputs": [
    {
     "data": {
      "text/html": [
       "<div>\n",
       "<style scoped>\n",
       "    .dataframe tbody tr th:only-of-type {\n",
       "        vertical-align: middle;\n",
       "    }\n",
       "\n",
       "    .dataframe tbody tr th {\n",
       "        vertical-align: top;\n",
       "    }\n",
       "\n",
       "    .dataframe thead th {\n",
       "        text-align: right;\n",
       "    }\n",
       "</style>\n",
       "<table border=\"1\" class=\"dataframe\">\n",
       "  <thead>\n",
       "    <tr style=\"text-align: right;\">\n",
       "      <th></th>\n",
       "      <th>id</th>\n",
       "      <th>key</th>\n",
       "      <th>symbol</th>\n",
       "      <th>name</th>\n",
       "      <th>lifeCycle</th>\n",
       "      <th>rank</th>\n",
       "      <th>type</th>\n",
       "    </tr>\n",
       "  </thead>\n",
       "  <tbody>\n",
       "    <tr>\n",
       "      <th>0</th>\n",
       "      <td>1</td>\n",
       "      <td>bitcoin</td>\n",
       "      <td>BTC</td>\n",
       "      <td>Bitcoin</td>\n",
       "      <td>traded</td>\n",
       "      <td>1.0</td>\n",
       "      <td>coin</td>\n",
       "    </tr>\n",
       "    <tr>\n",
       "      <th>1</th>\n",
       "      <td>2</td>\n",
       "      <td>eos</td>\n",
       "      <td>EOS</td>\n",
       "      <td>EOS</td>\n",
       "      <td>traded</td>\n",
       "      <td>70.0</td>\n",
       "      <td>coin</td>\n",
       "    </tr>\n",
       "    <tr>\n",
       "      <th>2</th>\n",
       "      <td>3</td>\n",
       "      <td>ethereum</td>\n",
       "      <td>ETH</td>\n",
       "      <td>Ethereum</td>\n",
       "      <td>traded</td>\n",
       "      <td>2.0</td>\n",
       "      <td>coin</td>\n",
       "    </tr>\n",
       "    <tr>\n",
       "      <th>3</th>\n",
       "      <td>4</td>\n",
       "      <td>neo</td>\n",
       "      <td>NEO</td>\n",
       "      <td>NEO</td>\n",
       "      <td>traded</td>\n",
       "      <td>150.0</td>\n",
       "      <td>coin</td>\n",
       "    </tr>\n",
       "    <tr>\n",
       "      <th>4</th>\n",
       "      <td>5</td>\n",
       "      <td>ripple</td>\n",
       "      <td>XRP</td>\n",
       "      <td>XRP</td>\n",
       "      <td>traded</td>\n",
       "      <td>4.0</td>\n",
       "      <td>coin</td>\n",
       "    </tr>\n",
       "  </tbody>\n",
       "</table>\n",
       "</div>"
      ],
      "text/plain": [
       "   id       key symbol      name lifeCycle   rank  type\n",
       "0   1   bitcoin    BTC   Bitcoin    traded    1.0  coin\n",
       "1   2       eos    EOS       EOS    traded   70.0  coin\n",
       "2   3  ethereum    ETH  Ethereum    traded    2.0  coin\n",
       "3   4       neo    NEO       NEO    traded  150.0  coin\n",
       "4   5    ripple    XRP       XRP    traded    4.0  coin"
      ]
     },
     "metadata": {},
     "output_type": "display_data"
    }
   ],
   "source": [
    "import requests\n",
    "import pandas as pd\n",
    "\n",
    "# Replace with your actual API key from CryptoRank\n",
    "API_KEY = \"2b6fe8ab443c10bb3f559991e807f359797f0a3b8a3a6c5dd1f1cba4237f\"\n",
    "\n",
    "# Define the API endpoint and parameters\n",
    "url = \"https://api.cryptorank.io/v2/currencies/map\"\n",
    "params = {\n",
    "    \"include\": [\"lifeCycle\", \"rank\", \"type\"]  # optional includes\n",
    "}\n",
    "headers = {\n",
    "    \"X-Api-Key\": API_KEY\n",
    "}\n",
    "\n",
    "# Make the request\n",
    "response = requests.get(url, params=params, headers=headers)\n",
    "\n",
    "# Check for success\n",
    "if response.status_code == 200:\n",
    "    data = response.json()[\"data\"]\n",
    "    df = pd.DataFrame(data)\n",
    "    display(df.head())  # Display the first few rows\n",
    "else:\n",
    "    print(\"Error fetching data:\", response.status_code, response.text)\n"
   ]
  },
  {
   "cell_type": "code",
   "execution_count": 5,
   "id": "4bd40a4d",
   "metadata": {},
   "outputs": [
    {
     "data": {
      "text/html": [
       "<div>\n",
       "<style scoped>\n",
       "    .dataframe tbody tr th:only-of-type {\n",
       "        vertical-align: middle;\n",
       "    }\n",
       "\n",
       "    .dataframe tbody tr th {\n",
       "        vertical-align: top;\n",
       "    }\n",
       "\n",
       "    .dataframe thead th {\n",
       "        text-align: right;\n",
       "    }\n",
       "</style>\n",
       "<table border=\"1\" class=\"dataframe\">\n",
       "  <thead>\n",
       "    <tr style=\"text-align: right;\">\n",
       "      <th></th>\n",
       "      <th>id</th>\n",
       "      <th>key</th>\n",
       "      <th>symbol</th>\n",
       "      <th>name</th>\n",
       "      <th>lifeCycle</th>\n",
       "      <th>rank</th>\n",
       "      <th>type</th>\n",
       "    </tr>\n",
       "  </thead>\n",
       "  <tbody>\n",
       "    <tr>\n",
       "      <th>0</th>\n",
       "      <td>1</td>\n",
       "      <td>bitcoin</td>\n",
       "      <td>BTC</td>\n",
       "      <td>Bitcoin</td>\n",
       "      <td>traded</td>\n",
       "      <td>1.0</td>\n",
       "      <td>coin</td>\n",
       "    </tr>\n",
       "    <tr>\n",
       "      <th>1</th>\n",
       "      <td>2</td>\n",
       "      <td>eos</td>\n",
       "      <td>EOS</td>\n",
       "      <td>EOS</td>\n",
       "      <td>traded</td>\n",
       "      <td>70.0</td>\n",
       "      <td>coin</td>\n",
       "    </tr>\n",
       "    <tr>\n",
       "      <th>2</th>\n",
       "      <td>3</td>\n",
       "      <td>ethereum</td>\n",
       "      <td>ETH</td>\n",
       "      <td>Ethereum</td>\n",
       "      <td>traded</td>\n",
       "      <td>2.0</td>\n",
       "      <td>coin</td>\n",
       "    </tr>\n",
       "    <tr>\n",
       "      <th>3</th>\n",
       "      <td>4</td>\n",
       "      <td>neo</td>\n",
       "      <td>NEO</td>\n",
       "      <td>NEO</td>\n",
       "      <td>traded</td>\n",
       "      <td>150.0</td>\n",
       "      <td>coin</td>\n",
       "    </tr>\n",
       "    <tr>\n",
       "      <th>4</th>\n",
       "      <td>5</td>\n",
       "      <td>ripple</td>\n",
       "      <td>XRP</td>\n",
       "      <td>XRP</td>\n",
       "      <td>traded</td>\n",
       "      <td>4.0</td>\n",
       "      <td>coin</td>\n",
       "    </tr>\n",
       "    <tr>\n",
       "      <th>...</th>\n",
       "      <td>...</td>\n",
       "      <td>...</td>\n",
       "      <td>...</td>\n",
       "      <td>...</td>\n",
       "      <td>...</td>\n",
       "      <td>...</td>\n",
       "      <td>...</td>\n",
       "    </tr>\n",
       "    <tr>\n",
       "      <th>33036</th>\n",
       "      <td>198738</td>\n",
       "      <td>peep-the-toad</td>\n",
       "      <td>PEEP</td>\n",
       "      <td>Peep The Toad</td>\n",
       "      <td>traded</td>\n",
       "      <td>1750.0</td>\n",
       "      <td>token</td>\n",
       "    </tr>\n",
       "    <tr>\n",
       "      <th>33037</th>\n",
       "      <td>198739</td>\n",
       "      <td>gorecats</td>\n",
       "      <td>GCATS</td>\n",
       "      <td>GORECATS</td>\n",
       "      <td>traded</td>\n",
       "      <td>NaN</td>\n",
       "      <td>token</td>\n",
       "    </tr>\n",
       "    <tr>\n",
       "      <th>33038</th>\n",
       "      <td>198740</td>\n",
       "      <td>disney-plus</td>\n",
       "      <td>Disney++</td>\n",
       "      <td>Disney++</td>\n",
       "      <td>traded</td>\n",
       "      <td>1862.0</td>\n",
       "      <td>token</td>\n",
       "    </tr>\n",
       "    <tr>\n",
       "      <th>33039</th>\n",
       "      <td>198741</td>\n",
       "      <td>first-ever-meme-currency</td>\n",
       "      <td>Kekels</td>\n",
       "      <td>First Ever Meme Currency</td>\n",
       "      <td>traded</td>\n",
       "      <td>1798.0</td>\n",
       "      <td>token</td>\n",
       "    </tr>\n",
       "    <tr>\n",
       "      <th>33040</th>\n",
       "      <td>198742</td>\n",
       "      <td>crazy-cattle-3-d</td>\n",
       "      <td>CATTLE</td>\n",
       "      <td>Crazy Cattle 3D</td>\n",
       "      <td>traded</td>\n",
       "      <td>1756.0</td>\n",
       "      <td>token</td>\n",
       "    </tr>\n",
       "  </tbody>\n",
       "</table>\n",
       "<p>33041 rows × 7 columns</p>\n",
       "</div>"
      ],
      "text/plain": [
       "           id                       key    symbol                      name  \\\n",
       "0           1                   bitcoin       BTC                   Bitcoin   \n",
       "1           2                       eos       EOS                       EOS   \n",
       "2           3                  ethereum       ETH                  Ethereum   \n",
       "3           4                       neo       NEO                       NEO   \n",
       "4           5                    ripple       XRP                       XRP   \n",
       "...       ...                       ...       ...                       ...   \n",
       "33036  198738             peep-the-toad      PEEP             Peep The Toad   \n",
       "33037  198739                  gorecats     GCATS                  GORECATS   \n",
       "33038  198740               disney-plus  Disney++                  Disney++   \n",
       "33039  198741  first-ever-meme-currency    Kekels  First Ever Meme Currency   \n",
       "33040  198742          crazy-cattle-3-d    CATTLE           Crazy Cattle 3D   \n",
       "\n",
       "      lifeCycle    rank   type  \n",
       "0        traded     1.0   coin  \n",
       "1        traded    70.0   coin  \n",
       "2        traded     2.0   coin  \n",
       "3        traded   150.0   coin  \n",
       "4        traded     4.0   coin  \n",
       "...         ...     ...    ...  \n",
       "33036    traded  1750.0  token  \n",
       "33037    traded     NaN  token  \n",
       "33038    traded  1862.0  token  \n",
       "33039    traded  1798.0  token  \n",
       "33040    traded  1756.0  token  \n",
       "\n",
       "[33041 rows x 7 columns]"
      ]
     },
     "execution_count": 5,
     "metadata": {},
     "output_type": "execute_result"
    }
   ],
   "source": [
    "df"
   ]
  },
  {
   "cell_type": "code",
   "execution_count": 6,
   "id": "1e5998f9",
   "metadata": {},
   "outputs": [],
   "source": [
    "# Filter the dataframe where the column 'type' is 'coin'\n",
    "coins_df = df[df['type'] == 'coin']\n",
    "\n",
    "# Save the filtered dataframe to a CSV file\n",
    "coins_df.to_csv('coinsList.csv', index=False)"
   ]
  },
  {
   "cell_type": "code",
   "execution_count": 1,
   "id": "cddd078a",
   "metadata": {},
   "outputs": [
    {
     "name": "stdout",
     "output_type": "stream",
     "text": [
      "Base Metadata:\n",
      "        key      name symbol  rank   type life_cycle       full_name  \\\n",
      "0   bitcoin   Bitcoin    BTC     1   coin     traded   Bitcoin (BTC)   \n",
      "1  ethereum  Ethereum    ETH     2   coin     traded  Ethereum (ETH)   \n",
      "2    tether    Tether   USDT     3  token     traded   Tether (USDT)   \n",
      "\n",
      "                                           image_url  \\\n",
      "0  https://img.cryptorank.io/coins/60x60.bitcoin1...   \n",
      "1  https://img.cryptorank.io/coins/60x60.ethereum...   \n",
      "2  https://img.cryptorank.io/coins/60x60.tether16...   \n",
      "\n",
      "               listing_date  has_funding  market_data  interest  \n",
      "0 2010-03-17 00:00:00+00:00        False         True         0  \n",
      "1 2015-07-30 00:00:00+00:00        False         True         0  \n",
      "2 2015-02-09 00:00:00+00:00        False         True         0  \n"
     ]
    },
    {
     "name": "stderr",
     "output_type": "stream",
     "text": [
      "C:\\Users\\mahmo\\AppData\\Local\\Temp\\ipykernel_27008\\822528547.py:131: FutureWarning: errors='ignore' is deprecated and will raise in a future version. Use to_numeric without passing `errors` and catch exceptions explicitly instead\n",
      "  df[num_cols] = df[num_cols].apply(pd.to_numeric, errors='ignore')\n",
      "C:\\Users\\mahmo\\AppData\\Local\\Temp\\ipykernel_27008\\822528547.py:131: FutureWarning: errors='ignore' is deprecated and will raise in a future version. Use to_numeric without passing `errors` and catch exceptions explicitly instead\n",
      "  df[num_cols] = df[num_cols].apply(pd.to_numeric, errors='ignore')\n",
      "C:\\Users\\mahmo\\AppData\\Local\\Temp\\ipykernel_27008\\822528547.py:131: FutureWarning: errors='ignore' is deprecated and will raise in a future version. Use to_numeric without passing `errors` and catch exceptions explicitly instead\n",
      "  df[num_cols] = df[num_cols].apply(pd.to_numeric, errors='ignore')\n",
      "C:\\Users\\mahmo\\AppData\\Local\\Temp\\ipykernel_27008\\822528547.py:131: FutureWarning: errors='ignore' is deprecated and will raise in a future version. Use to_numeric without passing `errors` and catch exceptions explicitly instead\n",
      "  df[num_cols] = df[num_cols].apply(pd.to_numeric, errors='ignore')\n",
      "C:\\Users\\mahmo\\AppData\\Local\\Temp\\ipykernel_27008\\822528547.py:131: FutureWarning: errors='ignore' is deprecated and will raise in a future version. Use to_numeric without passing `errors` and catch exceptions explicitly instead\n",
      "  df[num_cols] = df[num_cols].apply(pd.to_numeric, errors='ignore')\n",
      "C:\\Users\\mahmo\\AppData\\Local\\Temp\\ipykernel_27008\\822528547.py:131: FutureWarning: errors='ignore' is deprecated and will raise in a future version. Use to_numeric without passing `errors` and catch exceptions explicitly instead\n",
      "  df[num_cols] = df[num_cols].apply(pd.to_numeric, errors='ignore')\n",
      "C:\\Users\\mahmo\\AppData\\Local\\Temp\\ipykernel_27008\\822528547.py:131: FutureWarning: errors='ignore' is deprecated and will raise in a future version. Use to_numeric without passing `errors` and catch exceptions explicitly instead\n",
      "  df[num_cols] = df[num_cols].apply(pd.to_numeric, errors='ignore')\n"
     ]
    }
   ],
   "source": [
    "import requests\n",
    "import pandas as pd\n",
    "from datetime import datetime\n",
    "\n",
    "def safe_get(data, keys, default=None):\n",
    "    \"\"\"Safely navigate nested dictionaries\"\"\"\n",
    "    for key in keys:\n",
    "        try:\n",
    "            data = data.get(key, default)\n",
    "        except AttributeError:\n",
    "            return default\n",
    "        if data is None:\n",
    "            return default\n",
    "    return data\n",
    "\n",
    "def fetch_crypto_data(timestamp: str):\n",
    "    \"\"\"Fetch data with enhanced error handling\"\"\"\n",
    "    try:\n",
    "        url = f\"https://cryptorank.io/_next/data/{timestamp}/en/all-coins-list.json\"\n",
    "        response = requests.get(url, timeout=10)\n",
    "        response.raise_for_status()\n",
    "        return response.json().get('pageProps', {}).get('coins', [])\n",
    "    except Exception as e:\n",
    "        print(f\"API Error: {str(e)}\")\n",
    "        return []\n",
    "\n",
    "def parse_coin_data(coins):\n",
    "    \"\"\"Parse data with complete null safety\"\"\"\n",
    "    datasets = {\n",
    "        'base': [],\n",
    "        'prices': [],\n",
    "        'supply': [],\n",
    "        'history': [],\n",
    "        'volatility': [],\n",
    "        'tags': [],\n",
    "        'categories': []\n",
    "    }\n",
    "\n",
    "    for coin in coins:\n",
    "        # Base Metadata\n",
    "        datasets['base'].append({\n",
    "            'key': safe_get(coin, ['key']),\n",
    "            'name': safe_get(coin, ['name']),\n",
    "            'symbol': safe_get(coin, ['symbol']),\n",
    "            'rank': safe_get(coin, ['rank'], 0),\n",
    "            'type': safe_get(coin, ['type'], 'unknown'),\n",
    "            'life_cycle': safe_get(coin, ['lifeCycle'], 'unknown'),\n",
    "            'full_name': safe_get(coin, ['fullName']),\n",
    "            'image_url': safe_get(coin, ['image']),\n",
    "            'listing_date': safe_get(coin, ['listingDate']),\n",
    "            'has_funding': safe_get(coin, ['hasFundingRounds'], False),\n",
    "            'market_data': not safe_get(coin, ['marketDataNotAvailable'], True),\n",
    "            'interest': safe_get(coin, ['interest'], 0)\n",
    "        })\n",
    "\n",
    "        # Category Data\n",
    "        category = safe_get(coin, ['category'], {})\n",
    "        datasets['categories'].append({\n",
    "            'key': safe_get(coin, ['key']),\n",
    "            'category': safe_get(category, ['name']),\n",
    "            'category_key': safe_get(category, ['key'])\n",
    "        })\n",
    "\n",
    "        # Supply Metrics\n",
    "        datasets['supply'].append({\n",
    "            'key': safe_get(coin, ['key']),\n",
    "            'max_supply': safe_get(coin, ['maxSupply'], 0),\n",
    "            'total_supply': safe_get(coin, ['totalSupply'], 0),\n",
    "            'available_supply': safe_get(coin, ['availableSupply'], 0),\n",
    "            'circulating_pct': safe_get(coin, ['percentOfCircSupply'], 0),\n",
    "            'fdv_mcap': safe_get(coin, ['fullyDilutedMarketCap'], 0)\n",
    "        })\n",
    "\n",
    "        # Price Data\n",
    "        price_data = safe_get(coin, ['price'], {})\n",
    "        datasets['prices'].append({\n",
    "            'key': safe_get(coin, ['key']),\n",
    "            'price_usd': safe_get(coin, ['priceUsd'], 0),\n",
    "            'price_btc': safe_get(price_data, ['BTC'], 0),\n",
    "            'price_eth': safe_get(price_data, ['ETH'], 0),\n",
    "            'market_cap': safe_get(coin, ['marketCap'], 0),\n",
    "            'volume_24h': safe_get(coin, ['volume24hUsd'], 0)\n",
    "        })\n",
    "\n",
    "        # Historical Data\n",
    "        ath_price = safe_get(coin, ['athPrice'], {})\n",
    "        ath_mcap = safe_get(coin, ['athMarketCap'], {})\n",
    "        atl_price = safe_get(coin, ['atlPrice'], {})\n",
    "        datasets['history'].append({\n",
    "            'key': safe_get(coin, ['key']),\n",
    "            'ath_usd': safe_get(ath_price, ['USD'], 0),\n",
    "            'ath_btc': safe_get(ath_price, ['BTC'], 0),\n",
    "            'ath_eth': safe_get(ath_price, ['ETH'], 0),\n",
    "            'ath_date': safe_get(ath_price, ['date']),\n",
    "            'ath_mcap': safe_get(ath_mcap, ['USD'], 0),\n",
    "            'ath_mcap_date': safe_get(ath_mcap, ['dateUSD']),\n",
    "            'atl_usd': safe_get(atl_price, ['USD'], 0),\n",
    "            'atl_date': safe_get(atl_price, ['dateUSD'])\n",
    "        })\n",
    "\n",
    "        # Volatility Data\n",
    "        volatility = safe_get(coin, ['volatility'], {})\n",
    "        if any(volatility.values()):\n",
    "            datasets['volatility'].append({\n",
    "                'key': safe_get(coin, ['key']),\n",
    "                'usd_vol': safe_get(volatility, ['USD'], 0),\n",
    "                'eth_vol': safe_get(volatility, ['ETH'], 0)\n",
    "            })\n",
    "\n",
    "        # Tag Relationships\n",
    "        for tag_id in safe_get(coin, ['tagIds'], []):\n",
    "            datasets['tags'].append({\n",
    "                'key': safe_get(coin, ['key']),\n",
    "                'tag_id': tag_id\n",
    "            })\n",
    "\n",
    "    # Convert to DataFrames\n",
    "    return {k: pd.DataFrame(v) for k, v in datasets.items()}\n",
    "\n",
    "def clean_data(df_dict):\n",
    "    \"\"\"Apply final data cleaning\"\"\"\n",
    "    for name, df in df_dict.items():\n",
    "        # Convert dates\n",
    "        date_cols = [c for c in df.columns if 'date' in c]\n",
    "        for col in date_cols:\n",
    "            df[col] = pd.to_datetime(df[col], errors='coerce')\n",
    "        \n",
    "        # Convert numerics\n",
    "        num_cols = [c for c in df.columns if df[c].dtype == object]\n",
    "        num_cols = [c for c in num_cols if c not in date_cols]\n",
    "        df[num_cols] = df[num_cols].apply(pd.to_numeric, errors='ignore')\n",
    "    \n",
    "    return df_dict\n",
    "\n",
    "# Usage Example\n",
    "timestamp = \"1744894442079\"  # Replace with actual timestamp\n",
    "raw_data = fetch_crypto_data(timestamp)\n",
    "if raw_data:\n",
    "    datasets = parse_coin_data(raw_data)\n",
    "    cleaned = clean_data(datasets)\n",
    "    \n",
    "    print(\"Base Metadata:\")\n",
    "    print(cleaned['base'].head(3))\n",
    "else:\n",
    "    print(\"No data received\")"
   ]
  },
  {
   "cell_type": "code",
   "execution_count": 2,
   "id": "6fa5079c",
   "metadata": {},
   "outputs": [
    {
     "name": "stdout",
     "output_type": "stream",
     "text": [
      "================================================================================\n",
      "Complete Dataset Overview\n",
      "================================================================================\n",
      "\n",
      "========================================\n",
      "BASE DATASET\n",
      "========================================\n",
      "Shape: (100, 12)\n",
      "Columns: ['key', 'name', 'symbol', 'rank', 'type', 'life_cycle', 'full_name', 'image_url', 'listing_date', 'has_funding', 'market_data', 'interest']\n",
      "\n",
      "Sample Data:\n",
      "        key      name symbol  rank   type life_cycle       full_name                                          image_url              listing_date  has_funding  market_data  interest\n",
      "0   bitcoin   Bitcoin    BTC     1   coin     traded   Bitcoin (BTC)  https://img.cryptorank.io/coins/60x60.bitcoin1... 2010-03-17 00:00:00+00:00        False         True         0\n",
      "1  ethereum  Ethereum    ETH     2   coin     traded  Ethereum (ETH)  https://img.cryptorank.io/coins/60x60.ethereum... 2015-07-30 00:00:00+00:00        False         True         0\n",
      "2    tether    Tether   USDT     3  token     traded   Tether (USDT)  https://img.cryptorank.io/coins/60x60.tether16... 2015-02-09 00:00:00+00:00        False         True         0\n",
      "\n",
      "--------------------------------------------------------------------------------\n",
      "\n",
      "========================================\n",
      "PRICES DATASET\n",
      "========================================\n",
      "Shape: (100, 6)\n",
      "Columns: ['key', 'price_usd', 'price_btc', 'price_eth', 'market_cap', 'volume_24h']\n",
      "\n",
      "Sample Data:\n",
      "        key     price_usd  price_btc  price_eth    market_cap    volume_24h\n",
      "0   bitcoin  84614.589456   1.000000  53.245502  1.678418e+12  7.888168e+09\n",
      "1  ethereum   1589.115002   0.018781   1.000000  1.917291e+11  3.896768e+09\n",
      "2    tether      0.999892   0.000012   0.000629  1.447767e+11  2.347090e+10\n",
      "\n",
      "--------------------------------------------------------------------------------\n",
      "\n",
      "========================================\n",
      "SUPPLY DATASET\n",
      "========================================\n",
      "Shape: (100, 6)\n",
      "Columns: ['key', 'max_supply', 'total_supply', 'available_supply', 'circulating_pct', 'fdv_mcap']\n",
      "\n",
      "Sample Data:\n",
      "        key  max_supply  total_supply  available_supply  circulating_pct      fdv_mcap\n",
      "0   bitcoin    21000000      21000000          19852937            94.54  1.776906e+12\n",
      "1  ethereum           0     120700645         120700645           100.00  1.918072e+11\n",
      "2    tether           0  144796521707      144796521707           100.00  1.447809e+11\n",
      "\n",
      "--------------------------------------------------------------------------------\n",
      "\n",
      "========================================\n",
      "HISTORY DATASET\n",
      "========================================\n",
      "Shape: (100, 9)\n",
      "Columns: ['key', 'ath_usd', 'ath_btc', 'ath_eth', 'ath_date', 'ath_mcap', 'ath_mcap_date', 'atl_usd', 'atl_date']\n",
      "\n",
      "Sample Data:\n",
      "        key        ath_usd   ath_btc     ath_eth   ath_date      ath_mcap ath_mcap_date   atl_usd   atl_date\n",
      "0   bitcoin  108824.384536  1.000000  679.466928 2025-01-20  2.156093e+12    2025-01-20  0.256758 2011-01-06\n",
      "1  ethereum    4859.618232  0.156357    1.000000 2021-11-10  5.748254e+11    2021-11-10  0.420897 2015-10-21\n",
      "2    tether       1.209810  0.005011    2.370874 2017-05-27  1.448233e+11    2025-04-17  0.849809 2017-02-02\n",
      "\n",
      "--------------------------------------------------------------------------------\n",
      "\n",
      "========================================\n",
      "VOLATILITY DATASET\n",
      "========================================\n",
      "Shape: (100, 3)\n",
      "Columns: ['key', 'usd_vol', 'eth_vol']\n",
      "\n",
      "Sample Data:\n",
      "        key   usd_vol  eth_vol\n",
      "0   bitcoin  2.831130  2.19724\n",
      "1  ethereum  4.705400  0.00000\n",
      "2    tether  0.031221  4.68214\n",
      "\n",
      "--------------------------------------------------------------------------------\n",
      "\n",
      "========================================\n",
      "TAGS DATASET\n",
      "========================================\n",
      "Shape: (408, 2)\n",
      "Columns: ['key', 'tag_id']\n",
      "\n",
      "Sample Data:\n",
      "       key  tag_id\n",
      "0  bitcoin     374\n",
      "1  bitcoin     378\n",
      "2  bitcoin     380\n",
      "\n",
      "--------------------------------------------------------------------------------\n",
      "\n",
      "========================================\n",
      "CATEGORIES DATASET\n",
      "========================================\n",
      "Shape: (100, 3)\n",
      "Columns: ['key', 'category', 'category_key']\n",
      "\n",
      "Sample Data:\n",
      "        key    category category_key\n",
      "0   bitcoin    Currency     currency\n",
      "1  ethereum       Chain        chain\n",
      "2    tether  Stablecoin   stablecoin\n",
      "\n",
      "--------------------------------------------------------------------------------\n"
     ]
    },
    {
     "name": "stderr",
     "output_type": "stream",
     "text": [
      "C:\\Users\\mahmo\\AppData\\Local\\Temp\\ipykernel_27008\\822528547.py:131: FutureWarning: errors='ignore' is deprecated and will raise in a future version. Use to_numeric without passing `errors` and catch exceptions explicitly instead\n",
      "  df[num_cols] = df[num_cols].apply(pd.to_numeric, errors='ignore')\n",
      "C:\\Users\\mahmo\\AppData\\Local\\Temp\\ipykernel_27008\\822528547.py:131: FutureWarning: errors='ignore' is deprecated and will raise in a future version. Use to_numeric without passing `errors` and catch exceptions explicitly instead\n",
      "  df[num_cols] = df[num_cols].apply(pd.to_numeric, errors='ignore')\n",
      "C:\\Users\\mahmo\\AppData\\Local\\Temp\\ipykernel_27008\\822528547.py:131: FutureWarning: errors='ignore' is deprecated and will raise in a future version. Use to_numeric without passing `errors` and catch exceptions explicitly instead\n",
      "  df[num_cols] = df[num_cols].apply(pd.to_numeric, errors='ignore')\n",
      "C:\\Users\\mahmo\\AppData\\Local\\Temp\\ipykernel_27008\\822528547.py:131: FutureWarning: errors='ignore' is deprecated and will raise in a future version. Use to_numeric without passing `errors` and catch exceptions explicitly instead\n",
      "  df[num_cols] = df[num_cols].apply(pd.to_numeric, errors='ignore')\n",
      "C:\\Users\\mahmo\\AppData\\Local\\Temp\\ipykernel_27008\\822528547.py:131: FutureWarning: errors='ignore' is deprecated and will raise in a future version. Use to_numeric without passing `errors` and catch exceptions explicitly instead\n",
      "  df[num_cols] = df[num_cols].apply(pd.to_numeric, errors='ignore')\n",
      "C:\\Users\\mahmo\\AppData\\Local\\Temp\\ipykernel_27008\\822528547.py:131: FutureWarning: errors='ignore' is deprecated and will raise in a future version. Use to_numeric without passing `errors` and catch exceptions explicitly instead\n",
      "  df[num_cols] = df[num_cols].apply(pd.to_numeric, errors='ignore')\n",
      "C:\\Users\\mahmo\\AppData\\Local\\Temp\\ipykernel_27008\\822528547.py:131: FutureWarning: errors='ignore' is deprecated and will raise in a future version. Use to_numeric without passing `errors` and catch exceptions explicitly instead\n",
      "  df[num_cols] = df[num_cols].apply(pd.to_numeric, errors='ignore')\n"
     ]
    }
   ],
   "source": [
    "if raw_data:\n",
    "    datasets = parse_coin_data(raw_data)\n",
    "    cleaned = clean_data(datasets)\n",
    "    \n",
    "    # Display all datasets with formatting\n",
    "    pd.set_option('display.max_columns', None)\n",
    "    pd.set_option('display.max_rows', 4)\n",
    "    pd.set_option('display.width', 1000)\n",
    "    \n",
    "    print(\"=\"*80 + \"\\nComplete Dataset Overview\\n\" + \"=\"*80)\n",
    "    for dataset_name, df in cleaned.items():\n",
    "        print(f\"\\n{'='*40}\\n{dataset_name.upper()} DATASET\\n{'='*40}\")\n",
    "        print(f\"Shape: {df.shape}\")\n",
    "        print(f\"Columns: {list(df.columns)}\")\n",
    "        print(\"\\nSample Data:\")\n",
    "        print(df.head(3) if not df.empty else print(\"No data\"))\n",
    "        print(\"\\n\" + \"-\"*80)\n",
    "    \n",
    "    # Reset display options\n",
    "    pd.reset_option('display.max_columns')\n",
    "    pd.reset_option('display.max_rows')\n",
    "    pd.reset_option('display.width')\n",
    "else:\n",
    "    print(\"No data received\")\n"
   ]
  },
  {
   "cell_type": "code",
   "execution_count": 10,
   "id": "1ea191fb",
   "metadata": {},
   "outputs": [
    {
     "name": "stderr",
     "output_type": "stream",
     "text": [
      "Fetching coin data:   6%|▌         | 58/1000 [00:42<11:35,  1.35it/s]"
     ]
    },
    {
     "name": "stdout",
     "output_type": "stream",
     "text": [
      "❌ Fetch failed: wax\n"
     ]
    },
    {
     "name": "stderr",
     "output_type": "stream",
     "text": [
      "Fetching coin data:   6%|▌         | 60/1000 [00:43<09:50,  1.59it/s]"
     ]
    },
    {
     "name": "stdout",
     "output_type": "stream",
     "text": [
      "❌ Fetch failed: ubiq\n"
     ]
    },
    {
     "name": "stderr",
     "output_type": "stream",
     "text": [
      "Fetching coin data:   6%|▌         | 61/1000 [00:44<09:36,  1.63it/s]"
     ]
    },
    {
     "name": "stdout",
     "output_type": "stream",
     "text": [
      "❌ Fetch failed: zencash\n"
     ]
    },
    {
     "name": "stderr",
     "output_type": "stream",
     "text": [
      "Fetching coin data:   6%|▌         | 62/1000 [00:45<09:31,  1.64it/s]"
     ]
    },
    {
     "name": "stdout",
     "output_type": "stream",
     "text": [
      "❌ Fetch failed: skycoin\n"
     ]
    },
    {
     "name": "stderr",
     "output_type": "stream",
     "text": [
      "Fetching coin data:   6%|▋         | 63/1000 [00:45<09:09,  1.70it/s]"
     ]
    },
    {
     "name": "stdout",
     "output_type": "stream",
     "text": [
      "❌ Fetch failed: digitalnote\n"
     ]
    },
    {
     "name": "stderr",
     "output_type": "stream",
     "text": [
      "Fetching coin data:   6%|▋         | 64/1000 [00:46<08:55,  1.75it/s]"
     ]
    },
    {
     "name": "stdout",
     "output_type": "stream",
     "text": [
      "❌ Fetch failed: theta-token\n"
     ]
    },
    {
     "name": "stderr",
     "output_type": "stream",
     "text": [
      "Fetching coin data:   6%|▋         | 65/1000 [00:46<08:26,  1.85it/s]"
     ]
    },
    {
     "name": "stdout",
     "output_type": "stream",
     "text": [
      "❌ Fetch failed: nav-coin\n"
     ]
    },
    {
     "name": "stderr",
     "output_type": "stream",
     "text": [
      "Fetching coin data:   7%|▋         | 66/1000 [00:48<14:08,  1.10it/s]"
     ]
    },
    {
     "name": "stdout",
     "output_type": "stream",
     "text": [
      "❌ Fetch failed: credits\n"
     ]
    },
    {
     "name": "stderr",
     "output_type": "stream",
     "text": [
      "Fetching coin data:   7%|▋         | 69/1000 [00:58<37:51,  2.44s/it]"
     ]
    },
    {
     "name": "stdout",
     "output_type": "stream",
     "text": [
      "❌ Fetch failed: sophiatx\n"
     ]
    },
    {
     "name": "stderr",
     "output_type": "stream",
     "text": [
      "Fetching coin data:   7%|▋         | 70/1000 [00:59<28:59,  1.87s/it]"
     ]
    },
    {
     "name": "stdout",
     "output_type": "stream",
     "text": [
      "❌ Fetch failed: high-performance-blockchain\n"
     ]
    },
    {
     "name": "stderr",
     "output_type": "stream",
     "text": [
      "Fetching coin data:   7%|▋         | 71/1000 [01:00<28:02,  1.81s/it]"
     ]
    },
    {
     "name": "stdout",
     "output_type": "stream",
     "text": [
      "❌ Fetch failed: minexcoin\n"
     ]
    },
    {
     "name": "stderr",
     "output_type": "stream",
     "text": [
      "Fetching coin data:   7%|▋         | 73/1000 [01:02<19:25,  1.26s/it]"
     ]
    },
    {
     "name": "stdout",
     "output_type": "stream",
     "text": [
      "❌ Fetch failed: cloakcoin\n"
     ]
    },
    {
     "name": "stderr",
     "output_type": "stream",
     "text": [
      "Fetching coin data:   7%|▋         | 74/1000 [01:02<16:21,  1.06s/it]"
     ]
    },
    {
     "name": "stdout",
     "output_type": "stream",
     "text": [
      "❌ Fetch failed: bitbay\n"
     ]
    },
    {
     "name": "stderr",
     "output_type": "stream",
     "text": [
      "Fetching coin data:   8%|▊         | 75/1000 [01:03<16:50,  1.09s/it]"
     ]
    },
    {
     "name": "stdout",
     "output_type": "stream",
     "text": [
      "❌ Fetch failed: poa-network\n"
     ]
    },
    {
     "name": "stderr",
     "output_type": "stream",
     "text": [
      "Fetching coin data:   8%|▊         | 76/1000 [01:04<13:50,  1.11it/s]"
     ]
    },
    {
     "name": "stdout",
     "output_type": "stream",
     "text": [
      "❌ Fetch failed: airdao\n"
     ]
    },
    {
     "name": "stderr",
     "output_type": "stream",
     "text": [
      "Fetching coin data:   8%|▊         | 77/1000 [01:05<15:35,  1.01s/it]"
     ]
    },
    {
     "name": "stdout",
     "output_type": "stream",
     "text": [
      "❌ Fetch failed: experience-points\n"
     ]
    },
    {
     "name": "stderr",
     "output_type": "stream",
     "text": [
      "Fetching coin data:   8%|▊         | 78/1000 [01:06<12:57,  1.19it/s]"
     ]
    },
    {
     "name": "stdout",
     "output_type": "stream",
     "text": [
      "❌ Fetch failed: burst\n"
     ]
    },
    {
     "name": "stderr",
     "output_type": "stream",
     "text": [
      "Fetching coin data:   8%|▊         | 79/1000 [01:06<11:59,  1.28it/s]"
     ]
    },
    {
     "name": "stdout",
     "output_type": "stream",
     "text": [
      "❌ Fetch failed: ion\n"
     ]
    },
    {
     "name": "stderr",
     "output_type": "stream",
     "text": [
      "Fetching coin data:   8%|▊         | 81/1000 [01:10<18:55,  1.24s/it]"
     ]
    },
    {
     "name": "stdout",
     "output_type": "stream",
     "text": [
      "❌ Fetch failed: salus\n"
     ]
    },
    {
     "name": "stderr",
     "output_type": "stream",
     "text": [
      "Fetching coin data:   8%|▊         | 82/1000 [01:11<17:16,  1.13s/it]"
     ]
    },
    {
     "name": "stdout",
     "output_type": "stream",
     "text": [
      "❌ Fetch failed: html-coin\n"
     ]
    },
    {
     "name": "stderr",
     "output_type": "stream",
     "text": [
      "Fetching coin data:   8%|▊         | 83/1000 [01:11<14:41,  1.04it/s]"
     ]
    },
    {
     "name": "stdout",
     "output_type": "stream",
     "text": [
      "❌ Fetch failed: metaverse\n"
     ]
    },
    {
     "name": "stderr",
     "output_type": "stream",
     "text": [
      "Fetching coin data:   8%|▊         | 84/1000 [01:12<14:41,  1.04it/s]"
     ]
    },
    {
     "name": "stdout",
     "output_type": "stream",
     "text": [
      "❌ Fetch failed: viacoin\n"
     ]
    },
    {
     "name": "stderr",
     "output_type": "stream",
     "text": [
      "Fetching coin data:   9%|▊         | 86/1000 [01:14<12:26,  1.23it/s]"
     ]
    },
    {
     "name": "stdout",
     "output_type": "stream",
     "text": [
      "❌ Fetch failed: counterparty\n"
     ]
    },
    {
     "name": "stderr",
     "output_type": "stream",
     "text": [
      "Fetching coin data:   9%|▊         | 87/1000 [01:14<10:53,  1.40it/s]"
     ]
    },
    {
     "name": "stdout",
     "output_type": "stream",
     "text": [
      "❌ Fetch failed: rise\n"
     ]
    },
    {
     "name": "stderr",
     "output_type": "stream",
     "text": [
      "Fetching coin data:   9%|▉         | 88/1000 [01:15<09:45,  1.56it/s]"
     ]
    },
    {
     "name": "stdout",
     "output_type": "stream",
     "text": [
      "❌ Fetch failed: feathercoin\n"
     ]
    },
    {
     "name": "stderr",
     "output_type": "stream",
     "text": [
      "Fetching coin data:   9%|▉         | 89/1000 [01:15<10:19,  1.47it/s]"
     ]
    },
    {
     "name": "stdout",
     "output_type": "stream",
     "text": [
      "❌ Fetch failed: aeon\n"
     ]
    },
    {
     "name": "stderr",
     "output_type": "stream",
     "text": [
      "Fetching coin data:   9%|▉         | 90/1000 [01:16<09:38,  1.57it/s]"
     ]
    },
    {
     "name": "stdout",
     "output_type": "stream",
     "text": [
      "❌ Fetch failed: groestlcoin\n"
     ]
    },
    {
     "name": "stderr",
     "output_type": "stream",
     "text": [
      "Fetching coin data:   9%|▉         | 91/1000 [01:17<11:36,  1.30it/s]"
     ]
    },
    {
     "name": "stdout",
     "output_type": "stream",
     "text": [
      "❌ Fetch failed: shift\n"
     ]
    },
    {
     "name": "stderr",
     "output_type": "stream",
     "text": [
      "Fetching coin data:   9%|▉         | 92/1000 [01:18<11:44,  1.29it/s]"
     ]
    },
    {
     "name": "stdout",
     "output_type": "stream",
     "text": [
      "❌ Fetch failed: crown\n"
     ]
    },
    {
     "name": "stderr",
     "output_type": "stream",
     "text": [
      "Fetching coin data:   9%|▉         | 93/1000 [01:19<11:37,  1.30it/s]"
     ]
    },
    {
     "name": "stdout",
     "output_type": "stream",
     "text": [
      "❌ Fetch failed: decent\n"
     ]
    },
    {
     "name": "stderr",
     "output_type": "stream",
     "text": [
      "Fetching coin data:  10%|▉         | 95/1000 [01:20<10:53,  1.38it/s]"
     ]
    },
    {
     "name": "stdout",
     "output_type": "stream",
     "text": [
      "❌ Fetch failed: eccoin\n"
     ]
    },
    {
     "name": "stderr",
     "output_type": "stream",
     "text": [
      "Fetching coin data:  10%|▉         | 96/1000 [01:21<12:25,  1.21it/s]"
     ]
    },
    {
     "name": "stdout",
     "output_type": "stream",
     "text": [
      "❌ Fetch failed: safe-exchange-coin\n"
     ]
    },
    {
     "name": "stderr",
     "output_type": "stream",
     "text": [
      "Fetching coin data:  10%|▉         | 97/1000 [01:22<11:06,  1.36it/s]"
     ]
    },
    {
     "name": "stdout",
     "output_type": "stream",
     "text": [
      "❌ Fetch failed: sibcoin\n"
     ]
    },
    {
     "name": "stderr",
     "output_type": "stream",
     "text": [
      "Fetching coin data:  10%|▉         | 98/1000 [01:22<10:17,  1.46it/s]"
     ]
    },
    {
     "name": "stdout",
     "output_type": "stream",
     "text": [
      "❌ Fetch failed: iocoin\n"
     ]
    },
    {
     "name": "stderr",
     "output_type": "stream",
     "text": [
      "Fetching coin data:  10%|▉         | 99/1000 [01:23<09:43,  1.54it/s]"
     ]
    },
    {
     "name": "stdout",
     "output_type": "stream",
     "text": [
      "❌ Fetch failed: namecoin\n"
     ]
    },
    {
     "name": "stderr",
     "output_type": "stream",
     "text": [
      "Fetching coin data:  10%|█         | 100/1000 [01:23<09:13,  1.63it/s]"
     ]
    },
    {
     "name": "stdout",
     "output_type": "stream",
     "text": [
      "❌ Fetch failed: steem-dollars\n"
     ]
    },
    {
     "name": "stderr",
     "output_type": "stream",
     "text": [
      "Fetching coin data:  10%|█         | 101/1000 [01:24<08:53,  1.69it/s]"
     ]
    },
    {
     "name": "stdout",
     "output_type": "stream",
     "text": [
      "❌ Fetch failed: qlink\n"
     ]
    },
    {
     "name": "stderr",
     "output_type": "stream",
     "text": [
      "Fetching coin data:  10%|█         | 102/1000 [01:24<08:55,  1.68it/s]"
     ]
    },
    {
     "name": "stdout",
     "output_type": "stream",
     "text": [
      "❌ Fetch failed: potcoin\n"
     ]
    },
    {
     "name": "stderr",
     "output_type": "stream",
     "text": [
      "Fetching coin data:  10%|█         | 104/1000 [01:26<09:37,  1.55it/s]"
     ]
    },
    {
     "name": "stdout",
     "output_type": "stream",
     "text": [
      "❌ Fetch failed: blackcoin\n"
     ]
    },
    {
     "name": "stderr",
     "output_type": "stream",
     "text": [
      "Fetching coin data:  10%|█         | 105/1000 [01:27<10:33,  1.41it/s]"
     ]
    },
    {
     "name": "stdout",
     "output_type": "stream",
     "text": [
      "❌ Fetch failed: whitecoin\n"
     ]
    },
    {
     "name": "stderr",
     "output_type": "stream",
     "text": [
      "Fetching coin data:  11%|█         | 106/1000 [01:28<11:11,  1.33it/s]"
     ]
    },
    {
     "name": "stdout",
     "output_type": "stream",
     "text": [
      "❌ Fetch failed: bean-cash\n"
     ]
    },
    {
     "name": "stderr",
     "output_type": "stream",
     "text": [
      "Fetching coin data:  11%|█         | 107/1000 [01:28<11:25,  1.30it/s]"
     ]
    },
    {
     "name": "stdout",
     "output_type": "stream",
     "text": [
      "❌ Fetch failed: vericoin\n"
     ]
    },
    {
     "name": "stderr",
     "output_type": "stream",
     "text": [
      "Fetching coin data:  11%|█         | 108/1000 [01:29<11:47,  1.26it/s]"
     ]
    },
    {
     "name": "stdout",
     "output_type": "stream",
     "text": [
      "❌ Fetch failed: diamond\n"
     ]
    },
    {
     "name": "stderr",
     "output_type": "stream",
     "text": [
      "Fetching coin data:  11%|█         | 109/1000 [01:30<11:17,  1.31it/s]"
     ]
    },
    {
     "name": "stdout",
     "output_type": "stream",
     "text": [
      "❌ Fetch failed: zclassic\n"
     ]
    },
    {
     "name": "stderr",
     "output_type": "stream",
     "text": [
      "Fetching coin data:  11%|█         | 111/1000 [01:32<12:57,  1.14it/s]"
     ]
    },
    {
     "name": "stdout",
     "output_type": "stream",
     "text": [
      "❌ Fetch failed: internet-node-token\n"
     ]
    },
    {
     "name": "stderr",
     "output_type": "stream",
     "text": [
      "Fetching coin data:  11%|█         | 112/1000 [01:33<13:44,  1.08it/s]"
     ]
    },
    {
     "name": "stdout",
     "output_type": "stream",
     "text": [
      "❌ Fetch failed: lykke\n"
     ]
    },
    {
     "name": "stderr",
     "output_type": "stream",
     "text": [
      "Fetching coin data:  11%|█▏        | 113/1000 [01:34<13:18,  1.11it/s]"
     ]
    },
    {
     "name": "stdout",
     "output_type": "stream",
     "text": [
      "❌ Fetch failed: deeponion\n"
     ]
    },
    {
     "name": "stderr",
     "output_type": "stream",
     "text": [
      "Fetching coin data:  11%|█▏        | 114/1000 [01:35<13:15,  1.11it/s]"
     ]
    },
    {
     "name": "stdout",
     "output_type": "stream",
     "text": [
      "❌ Fetch failed: tao\n"
     ]
    },
    {
     "name": "stderr",
     "output_type": "stream",
     "text": [
      "Fetching coin data:  12%|█▏        | 115/1000 [01:36<12:46,  1.15it/s]"
     ]
    },
    {
     "name": "stdout",
     "output_type": "stream",
     "text": [
      "❌ Fetch failed: mintcoin\n"
     ]
    },
    {
     "name": "stderr",
     "output_type": "stream",
     "text": [
      "Fetching coin data:  12%|█▏        | 116/1000 [01:36<11:51,  1.24it/s]"
     ]
    },
    {
     "name": "stdout",
     "output_type": "stream",
     "text": [
      "❌ Fetch failed: expanse\n"
     ]
    },
    {
     "name": "stderr",
     "output_type": "stream",
     "text": [
      "Fetching coin data:  12%|█▏        | 118/1000 [01:38<10:29,  1.40it/s]"
     ]
    },
    {
     "name": "stdout",
     "output_type": "stream",
     "text": [
      "❌ Fetch failed: faircoin\n"
     ]
    },
    {
     "name": "stderr",
     "output_type": "stream",
     "text": [
      "Fetching coin data:  12%|█▏        | 119/1000 [01:38<09:39,  1.52it/s]"
     ]
    },
    {
     "name": "stdout",
     "output_type": "stream",
     "text": [
      "❌ Fetch failed: gridcoin\n"
     ]
    },
    {
     "name": "stderr",
     "output_type": "stream",
     "text": [
      "Fetching coin data:  12%|█▏        | 120/1000 [01:39<10:43,  1.37it/s]"
     ]
    },
    {
     "name": "stdout",
     "output_type": "stream",
     "text": [
      "❌ Fetch failed: leocoin\n"
     ]
    },
    {
     "name": "stderr",
     "output_type": "stream",
     "text": [
      "Fetching coin data:  12%|█▏        | 121/1000 [01:40<10:22,  1.41it/s]"
     ]
    },
    {
     "name": "stdout",
     "output_type": "stream",
     "text": [
      "❌ Fetch failed: dimecoin\n"
     ]
    },
    {
     "name": "stderr",
     "output_type": "stream",
     "text": [
      "Fetching coin data:  12%|█▏        | 122/1000 [01:40<09:38,  1.52it/s]"
     ]
    },
    {
     "name": "stdout",
     "output_type": "stream",
     "text": [
      "❌ Fetch failed: nolimitcoin\n"
     ]
    },
    {
     "name": "stderr",
     "output_type": "stream",
     "text": [
      "Fetching coin data:  12%|█▏        | 123/1000 [01:41<09:22,  1.56it/s]"
     ]
    },
    {
     "name": "stdout",
     "output_type": "stream",
     "text": [
      "❌ Fetch failed: monetaryunit\n"
     ]
    },
    {
     "name": "stderr",
     "output_type": "stream",
     "text": [
      "Fetching coin data:  12%|█▏        | 124/1000 [01:41<09:02,  1.62it/s]"
     ]
    },
    {
     "name": "stdout",
     "output_type": "stream",
     "text": [
      "❌ Fetch failed: pascal-coin\n"
     ]
    },
    {
     "name": "stderr",
     "output_type": "stream",
     "text": [
      "Fetching coin data:  12%|█▎        | 125/1000 [01:42<08:52,  1.64it/s]"
     ]
    },
    {
     "name": "stdout",
     "output_type": "stream",
     "text": [
      "❌ Fetch failed: hempcoin\n"
     ]
    },
    {
     "name": "stderr",
     "output_type": "stream",
     "text": [
      "Fetching coin data:  13%|█▎        | 126/1000 [01:43<08:51,  1.65it/s]"
     ]
    },
    {
     "name": "stdout",
     "output_type": "stream",
     "text": [
      "❌ Fetch failed: electra\n"
     ]
    },
    {
     "name": "stderr",
     "output_type": "stream",
     "text": [
      "Fetching coin data:  13%|█▎        | 128/1000 [01:44<08:25,  1.72it/s]"
     ]
    },
    {
     "name": "stdout",
     "output_type": "stream",
     "text": [
      "❌ Fetch failed: omni\n"
     ]
    },
    {
     "name": "stderr",
     "output_type": "stream",
     "text": [
      "Fetching coin data:  13%|█▎        | 129/1000 [01:44<08:31,  1.70it/s]"
     ]
    },
    {
     "name": "stdout",
     "output_type": "stream",
     "text": [
      "❌ Fetch failed: bitconnect\n"
     ]
    },
    {
     "name": "stderr",
     "output_type": "stream",
     "text": [
      "Fetching coin data:  13%|█▎        | 130/1000 [01:45<09:53,  1.47it/s]"
     ]
    },
    {
     "name": "stdout",
     "output_type": "stream",
     "text": [
      "❌ Fetch failed: peerplays-ppy\n"
     ]
    },
    {
     "name": "stderr",
     "output_type": "stream",
     "text": [
      "Fetching coin data:  13%|█▎        | 131/1000 [01:47<15:50,  1.09s/it]"
     ]
    },
    {
     "name": "stdout",
     "output_type": "stream",
     "text": [
      "❌ Fetch failed: alqo\n"
     ]
    },
    {
     "name": "stderr",
     "output_type": "stream",
     "text": [
      "Fetching coin data:  13%|█▎        | 132/1000 [01:48<14:06,  1.03it/s]"
     ]
    },
    {
     "name": "stdout",
     "output_type": "stream",
     "text": [
      "❌ Fetch failed: posw-coin\n"
     ]
    },
    {
     "name": "stderr",
     "output_type": "stream",
     "text": [
      "Fetching coin data:  13%|█▎        | 133/1000 [01:49<13:17,  1.09it/s]"
     ]
    },
    {
     "name": "stdout",
     "output_type": "stream",
     "text": [
      "❌ Fetch failed: primecoin\n"
     ]
    },
    {
     "name": "stderr",
     "output_type": "stream",
     "text": [
      "Fetching coin data:  14%|█▎        | 135/1000 [01:51<13:19,  1.08it/s]"
     ]
    },
    {
     "name": "stdout",
     "output_type": "stream",
     "text": [
      "❌ Fetch failed: bitsend\n"
     ]
    },
    {
     "name": "stderr",
     "output_type": "stream",
     "text": [
      "Fetching coin data:  14%|█▎        | 136/1000 [01:51<12:05,  1.19it/s]"
     ]
    },
    {
     "name": "stdout",
     "output_type": "stream",
     "text": [
      "❌ Fetch failed: phore\n"
     ]
    },
    {
     "name": "stderr",
     "output_type": "stream",
     "text": [
      "Fetching coin data:  14%|█▎        | 137/1000 [01:52<11:42,  1.23it/s]"
     ]
    },
    {
     "name": "stdout",
     "output_type": "stream",
     "text": [
      "❌ Fetch failed: okcash\n"
     ]
    },
    {
     "name": "stderr",
     "output_type": "stream",
     "text": [
      "Fetching coin data:  14%|█▍        | 138/1000 [01:53<10:57,  1.31it/s]"
     ]
    },
    {
     "name": "stdout",
     "output_type": "stream",
     "text": [
      "❌ Fetch failed: auroracoin\n"
     ]
    },
    {
     "name": "stderr",
     "output_type": "stream",
     "text": [
      "Fetching coin data:  14%|█▍        | 139/1000 [01:53<09:49,  1.46it/s]"
     ]
    },
    {
     "name": "stdout",
     "output_type": "stream",
     "text": [
      "❌ Fetch failed: shield-xsh\n"
     ]
    },
    {
     "name": "stderr",
     "output_type": "stream",
     "text": [
      "Fetching coin data:  14%|█▍        | 140/1000 [01:54<09:15,  1.55it/s]"
     ]
    },
    {
     "name": "stdout",
     "output_type": "stream",
     "text": [
      "❌ Fetch failed: rubycoin\n"
     ]
    },
    {
     "name": "stderr",
     "output_type": "stream",
     "text": [
      "Fetching coin data:  14%|█▍        | 141/1000 [01:54<08:39,  1.65it/s]"
     ]
    },
    {
     "name": "stdout",
     "output_type": "stream",
     "text": [
      "❌ Fetch failed: lomocoin\n"
     ]
    },
    {
     "name": "stderr",
     "output_type": "stream",
     "text": [
      "Fetching coin data:  14%|█▍        | 143/1000 [01:56<11:11,  1.28it/s]"
     ]
    },
    {
     "name": "stdout",
     "output_type": "stream",
     "text": [
      "❌ Fetch failed: earthcoin\n"
     ]
    },
    {
     "name": "stderr",
     "output_type": "stream",
     "text": [
      "Fetching coin data:  14%|█▍        | 144/1000 [01:57<11:55,  1.20it/s]"
     ]
    },
    {
     "name": "stdout",
     "output_type": "stream",
     "text": [
      "❌ Fetch failed: energycoin\n"
     ]
    },
    {
     "name": "stderr",
     "output_type": "stream",
     "text": [
      "Fetching coin data:  14%|█▍        | 145/1000 [01:58<11:43,  1.22it/s]"
     ]
    },
    {
     "name": "stdout",
     "output_type": "stream",
     "text": [
      "❌ Fetch failed: golos\n"
     ]
    },
    {
     "name": "stderr",
     "output_type": "stream",
     "text": [
      "Fetching coin data:  15%|█▍        | 146/1000 [01:59<11:14,  1.27it/s]"
     ]
    },
    {
     "name": "stdout",
     "output_type": "stream",
     "text": [
      "❌ Fetch failed: myriad\n"
     ]
    },
    {
     "name": "stderr",
     "output_type": "stream",
     "text": [
      "Fetching coin data:  15%|█▍        | 147/1000 [01:59<11:03,  1.28it/s]"
     ]
    },
    {
     "name": "stdout",
     "output_type": "stream",
     "text": [
      "❌ Fetch failed: musicoin\n"
     ]
    },
    {
     "name": "stderr",
     "output_type": "stream",
     "text": [
      "Fetching coin data:  15%|█▍        | 148/1000 [02:00<10:44,  1.32it/s]"
     ]
    },
    {
     "name": "stdout",
     "output_type": "stream",
     "text": [
      "❌ Fetch failed: spectrecoin\n"
     ]
    },
    {
     "name": "stderr",
     "output_type": "stream",
     "text": [
      "Fetching coin data:  15%|█▍        | 149/1000 [02:01<10:41,  1.33it/s]"
     ]
    },
    {
     "name": "stdout",
     "output_type": "stream",
     "text": [
      "❌ Fetch failed: espers\n"
     ]
    },
    {
     "name": "stderr",
     "output_type": "stream",
     "text": [
      "Fetching coin data:  15%|█▌        | 151/1000 [02:02<10:31,  1.34it/s]"
     ]
    },
    {
     "name": "stdout",
     "output_type": "stream",
     "text": [
      "❌ Fetch failed: syndicate\n"
     ]
    },
    {
     "name": "stderr",
     "output_type": "stream",
     "text": [
      "Fetching coin data:  15%|█▌        | 152/1000 [02:03<10:06,  1.40it/s]"
     ]
    },
    {
     "name": "stdout",
     "output_type": "stream",
     "text": [
      "❌ Fetch failed: neoscoin\n"
     ]
    },
    {
     "name": "stderr",
     "output_type": "stream",
     "text": [
      "Fetching coin data:  15%|█▌        | 153/1000 [02:04<09:38,  1.46it/s]"
     ]
    },
    {
     "name": "stdout",
     "output_type": "stream",
     "text": [
      "❌ Fetch failed: global-currency-reserve\n"
     ]
    },
    {
     "name": "stderr",
     "output_type": "stream",
     "text": [
      "Fetching coin data:  15%|█▌        | 154/1000 [02:04<09:27,  1.49it/s]"
     ]
    },
    {
     "name": "stdout",
     "output_type": "stream",
     "text": [
      "❌ Fetch failed: prizm\n"
     ]
    },
    {
     "name": "stderr",
     "output_type": "stream",
     "text": [
      "Fetching coin data:  16%|█▌        | 155/1000 [02:05<09:05,  1.55it/s]"
     ]
    },
    {
     "name": "stdout",
     "output_type": "stream",
     "text": [
      "❌ Fetch failed: neutron\n"
     ]
    },
    {
     "name": "stderr",
     "output_type": "stream",
     "text": [
      "Fetching coin data:  16%|█▌        | 156/1000 [02:06<11:04,  1.27it/s]"
     ]
    },
    {
     "name": "stdout",
     "output_type": "stream",
     "text": [
      "❌ Fetch failed: dynamic\n"
     ]
    },
    {
     "name": "stderr",
     "output_type": "stream",
     "text": [
      "Fetching coin data:  16%|█▌        | 158/1000 [02:08<11:24,  1.23it/s]"
     ]
    },
    {
     "name": "stdout",
     "output_type": "stream",
     "text": [
      "❌ Fetch failed: atbcoin\n"
     ]
    },
    {
     "name": "stderr",
     "output_type": "stream",
     "text": [
      "Fetching coin data:  16%|█▌        | 159/1000 [02:08<10:34,  1.33it/s]"
     ]
    },
    {
     "name": "stdout",
     "output_type": "stream",
     "text": [
      "❌ Fetch failed: luxcoin\n"
     ]
    },
    {
     "name": "stderr",
     "output_type": "stream",
     "text": [
      "Fetching coin data:  16%|█▌        | 160/1000 [02:09<10:01,  1.40it/s]"
     ]
    },
    {
     "name": "stdout",
     "output_type": "stream",
     "text": [
      "❌ Fetch failed: solaris\n"
     ]
    },
    {
     "name": "stderr",
     "output_type": "stream",
     "text": [
      "Fetching coin data:  16%|█▌        | 161/1000 [02:10<09:23,  1.49it/s]"
     ]
    },
    {
     "name": "stdout",
     "output_type": "stream",
     "text": [
      "❌ Fetch failed: curecoin\n"
     ]
    },
    {
     "name": "stderr",
     "output_type": "stream",
     "text": [
      "Fetching coin data:  16%|█▌        | 162/1000 [02:10<09:28,  1.47it/s]"
     ]
    },
    {
     "name": "stdout",
     "output_type": "stream",
     "text": [
      "❌ Fetch failed: dubaicoin-dbix\n"
     ]
    },
    {
     "name": "stderr",
     "output_type": "stream",
     "text": [
      "Fetching coin data:  16%|█▋        | 163/1000 [02:11<09:05,  1.53it/s]"
     ]
    },
    {
     "name": "stdout",
     "output_type": "stream",
     "text": [
      "❌ Fetch failed: internet-of-people\n"
     ]
    },
    {
     "name": "stderr",
     "output_type": "stream",
     "text": [
      "Fetching coin data:  16%|█▋        | 164/1000 [02:13<14:42,  1.06s/it]"
     ]
    },
    {
     "name": "stdout",
     "output_type": "stream",
     "text": [
      "❌ Fetch failed: boolberry\n"
     ]
    },
    {
     "name": "stderr",
     "output_type": "stream",
     "text": [
      "Fetching coin data:  17%|█▋        | 166/1000 [02:16<20:15,  1.46s/it]"
     ]
    },
    {
     "name": "stdout",
     "output_type": "stream",
     "text": [
      "❌ Fetch failed: pandacoin-pnd\n"
     ]
    },
    {
     "name": "stderr",
     "output_type": "stream",
     "text": [
      "Fetching coin data:  17%|█▋        | 167/1000 [02:17<16:35,  1.20s/it]"
     ]
    },
    {
     "name": "stdout",
     "output_type": "stream",
     "text": [
      "❌ Fetch failed: pinkcoin\n"
     ]
    },
    {
     "name": "stderr",
     "output_type": "stream",
     "text": [
      "Fetching coin data:  17%|█▋        | 168/1000 [02:18<18:30,  1.34s/it]"
     ]
    },
    {
     "name": "stdout",
     "output_type": "stream",
     "text": [
      "❌ Fetch failed: linda\n"
     ]
    },
    {
     "name": "stderr",
     "output_type": "stream",
     "text": [
      "Fetching coin data:  17%|█▋        | 170/1000 [02:22<19:38,  1.42s/it]"
     ]
    },
    {
     "name": "stdout",
     "output_type": "stream",
     "text": [
      "❌ Fetch failed: stealthcoin\n"
     ]
    },
    {
     "name": "stderr",
     "output_type": "stream",
     "text": [
      "Fetching coin data:  17%|█▋        | 171/1000 [02:22<16:12,  1.17s/it]"
     ]
    },
    {
     "name": "stdout",
     "output_type": "stream",
     "text": [
      "❌ Fetch failed: bitcoinz\n"
     ]
    },
    {
     "name": "stderr",
     "output_type": "stream",
     "text": [
      "Fetching coin data:  17%|█▋        | 172/1000 [02:23<13:33,  1.02it/s]"
     ]
    },
    {
     "name": "stdout",
     "output_type": "stream",
     "text": [
      "❌ Fetch failed: atmos\n"
     ]
    },
    {
     "name": "stderr",
     "output_type": "stream",
     "text": [
      "Fetching coin data:  17%|█▋        | 173/1000 [02:23<11:34,  1.19it/s]"
     ]
    },
    {
     "name": "stdout",
     "output_type": "stream",
     "text": [
      "❌ Fetch failed: korecoin\n"
     ]
    },
    {
     "name": "stderr",
     "output_type": "stream",
     "text": [
      "Fetching coin data:  17%|█▋        | 174/1000 [02:24<10:36,  1.30it/s]"
     ]
    },
    {
     "name": "stdout",
     "output_type": "stream",
     "text": [
      "❌ Fetch failed: gobyte\n"
     ]
    },
    {
     "name": "stderr",
     "output_type": "stream",
     "text": [
      "Fetching coin data:  18%|█▊        | 175/1000 [02:25<09:39,  1.42it/s]"
     ]
    },
    {
     "name": "stdout",
     "output_type": "stream",
     "text": [
      "❌ Fetch failed: heat-ledger\n"
     ]
    },
    {
     "name": "stderr",
     "output_type": "stream",
     "text": [
      "Fetching coin data:  18%|█▊        | 177/1000 [02:26<08:30,  1.61it/s]"
     ]
    },
    {
     "name": "stdout",
     "output_type": "stream",
     "text": [
      "❌ Fetch failed: chips\n"
     ]
    },
    {
     "name": "stderr",
     "output_type": "stream",
     "text": [
      "Fetching coin data:  18%|█▊        | 178/1000 [02:26<08:15,  1.66it/s]"
     ]
    },
    {
     "name": "stdout",
     "output_type": "stream",
     "text": [
      "❌ Fetch failed: sequence\n"
     ]
    },
    {
     "name": "stderr",
     "output_type": "stream",
     "text": [
      "Fetching coin data:  18%|█▊        | 179/1000 [02:27<07:55,  1.73it/s]"
     ]
    },
    {
     "name": "stdout",
     "output_type": "stream",
     "text": [
      "❌ Fetch failed: hyperstake\n"
     ]
    },
    {
     "name": "stderr",
     "output_type": "stream",
     "text": [
      "Fetching coin data:  18%|█▊        | 180/1000 [02:27<08:24,  1.63it/s]"
     ]
    },
    {
     "name": "stdout",
     "output_type": "stream",
     "text": [
      "❌ Fetch failed: travelflex\n"
     ]
    },
    {
     "name": "stderr",
     "output_type": "stream",
     "text": [
      "Fetching coin data:  18%|█▊        | 181/1000 [02:28<08:44,  1.56it/s]"
     ]
    },
    {
     "name": "stdout",
     "output_type": "stream",
     "text": [
      "❌ Fetch failed: vcash\n"
     ]
    },
    {
     "name": "stderr",
     "output_type": "stream",
     "text": [
      "Fetching coin data:  18%|█▊        | 182/1000 [02:29<08:58,  1.52it/s]"
     ]
    },
    {
     "name": "stdout",
     "output_type": "stream",
     "text": [
      "❌ Fetch failed: breakout-stake\n"
     ]
    },
    {
     "name": "stderr",
     "output_type": "stream",
     "text": [
      "Fetching coin data:  18%|█▊        | 183/1000 [02:31<16:18,  1.20s/it]"
     ]
    },
    {
     "name": "stdout",
     "output_type": "stream",
     "text": [
      "❌ Fetch failed: dopecoin\n"
     ]
    },
    {
     "name": "stderr",
     "output_type": "stream",
     "text": [
      "Fetching coin data:  18%|█▊        | 185/1000 [02:33<12:20,  1.10it/s]"
     ]
    },
    {
     "name": "stdout",
     "output_type": "stream",
     "text": [
      "❌ Fetch failed: vtorrent\n"
     ]
    },
    {
     "name": "stderr",
     "output_type": "stream",
     "text": [
      "Fetching coin data:  19%|█▊        | 186/1000 [02:33<10:39,  1.27it/s]"
     ]
    },
    {
     "name": "stdout",
     "output_type": "stream",
     "text": [
      "❌ Fetch failed: memetic\n"
     ]
    },
    {
     "name": "stderr",
     "output_type": "stream",
     "text": [
      "Fetching coin data:  19%|█▊        | 187/1000 [02:34<09:29,  1.43it/s]"
     ]
    },
    {
     "name": "stdout",
     "output_type": "stream",
     "text": [
      "❌ Fetch failed: synergy\n"
     ]
    },
    {
     "name": "stderr",
     "output_type": "stream",
     "text": [
      "Fetching coin data:  19%|█▉        | 188/1000 [02:34<09:14,  1.46it/s]"
     ]
    },
    {
     "name": "stdout",
     "output_type": "stream",
     "text": [
      "❌ Fetch failed: europecoin\n"
     ]
    },
    {
     "name": "stderr",
     "output_type": "stream",
     "text": [
      "Fetching coin data:  19%|█▉        | 189/1000 [02:35<08:42,  1.55it/s]"
     ]
    },
    {
     "name": "stdout",
     "output_type": "stream",
     "text": [
      "❌ Fetch failed: pesetacoin\n"
     ]
    },
    {
     "name": "stderr",
     "output_type": "stream",
     "text": [
      "Fetching coin data:  19%|█▉        | 190/1000 [02:36<09:41,  1.39it/s]"
     ]
    },
    {
     "name": "stdout",
     "output_type": "stream",
     "text": [
      "❌ Fetch failed: veriumreserve\n"
     ]
    },
    {
     "name": "stderr",
     "output_type": "stream",
     "text": [
      "Fetching coin data:  19%|█▉        | 191/1000 [02:36<08:50,  1.53it/s]"
     ]
    },
    {
     "name": "stdout",
     "output_type": "stream",
     "text": [
      "❌ Fetch failed: blockpool\n"
     ]
    },
    {
     "name": "stderr",
     "output_type": "stream",
     "text": [
      "Fetching coin data:  19%|█▉        | 192/1000 [02:37<08:10,  1.65it/s]"
     ]
    },
    {
     "name": "stdout",
     "output_type": "stream",
     "text": [
      "❌ Fetch failed: gcn-coin\n"
     ]
    },
    {
     "name": "stderr",
     "output_type": "stream",
     "text": [
      "Fetching coin data:  19%|█▉        | 194/1000 [02:38<07:58,  1.68it/s]"
     ]
    },
    {
     "name": "stdout",
     "output_type": "stream",
     "text": [
      "❌ Fetch failed: bitcoin-plus\n"
     ]
    },
    {
     "name": "stderr",
     "output_type": "stream",
     "text": [
      "Fetching coin data:  20%|█▉        | 195/1000 [02:38<08:00,  1.67it/s]"
     ]
    },
    {
     "name": "stdout",
     "output_type": "stream",
     "text": [
      "❌ Fetch failed: goldcoin\n"
     ]
    },
    {
     "name": "stderr",
     "output_type": "stream",
     "text": [
      "Fetching coin data:  20%|█▉        | 196/1000 [02:39<07:38,  1.75it/s]"
     ]
    },
    {
     "name": "stdout",
     "output_type": "stream",
     "text": [
      "❌ Fetch failed: kilocoin\n"
     ]
    },
    {
     "name": "stderr",
     "output_type": "stream",
     "text": [
      "Fetching coin data:  20%|█▉        | 197/1000 [02:39<07:16,  1.84it/s]"
     ]
    },
    {
     "name": "stdout",
     "output_type": "stream",
     "text": [
      "❌ Fetch failed: hush\n"
     ]
    },
    {
     "name": "stderr",
     "output_type": "stream",
     "text": [
      "Fetching coin data:  20%|█▉        | 198/1000 [02:40<06:55,  1.93it/s]"
     ]
    },
    {
     "name": "stdout",
     "output_type": "stream",
     "text": [
      "❌ Fetch failed: bitmark\n"
     ]
    },
    {
     "name": "stderr",
     "output_type": "stream",
     "text": [
      "Fetching coin data:  20%|█▉        | 199/1000 [02:41<07:51,  1.70it/s]"
     ]
    },
    {
     "name": "stdout",
     "output_type": "stream",
     "text": [
      "❌ Fetch failed: russiacoin\n"
     ]
    },
    {
     "name": "stderr",
     "output_type": "stream",
     "text": [
      "Fetching coin data:  20%|██        | 200/1000 [02:42<09:16,  1.44it/s]"
     ]
    },
    {
     "name": "stdout",
     "output_type": "stream",
     "text": [
      "❌ Fetch failed: uniform-fiscal-object\n"
     ]
    },
    {
     "name": "stderr",
     "output_type": "stream",
     "text": [
      "Fetching coin data:  20%|██        | 201/1000 [02:42<08:27,  1.57it/s]"
     ]
    },
    {
     "name": "stdout",
     "output_type": "stream",
     "text": [
      "❌ Fetch failed: 2give\n"
     ]
    },
    {
     "name": "stderr",
     "output_type": "stream",
     "text": [
      "Fetching coin data:  20%|██        | 202/1000 [02:43<07:45,  1.71it/s]"
     ]
    },
    {
     "name": "stdout",
     "output_type": "stream",
     "text": [
      "❌ Fetch failed: exclusivecoin\n"
     ]
    },
    {
     "name": "stderr",
     "output_type": "stream",
     "text": [
      "Fetching coin data:  20%|██        | 204/1000 [02:44<10:09,  1.30it/s]"
     ]
    },
    {
     "name": "stdout",
     "output_type": "stream",
     "text": [
      "❌ Fetch failed: monkey-project\n"
     ]
    },
    {
     "name": "stderr",
     "output_type": "stream",
     "text": [
      "Fetching coin data:  20%|██        | 205/1000 [02:45<11:00,  1.20it/s]"
     ]
    },
    {
     "name": "stdout",
     "output_type": "stream",
     "text": [
      "❌ Fetch failed: breakout\n"
     ]
    },
    {
     "name": "stderr",
     "output_type": "stream",
     "text": [
      "Fetching coin data:  21%|██        | 206/1000 [02:46<11:03,  1.20it/s]"
     ]
    },
    {
     "name": "stdout",
     "output_type": "stream",
     "text": [
      "❌ Fetch failed: monacocoin\n"
     ]
    },
    {
     "name": "stderr",
     "output_type": "stream",
     "text": [
      "Fetching coin data:  21%|██        | 207/1000 [02:47<11:45,  1.12it/s]"
     ]
    },
    {
     "name": "stdout",
     "output_type": "stream",
     "text": [
      "❌ Fetch failed: fedoracoin\n"
     ]
    },
    {
     "name": "stderr",
     "output_type": "stream",
     "text": [
      "Fetching coin data:  21%|██        | 208/1000 [02:48<12:45,  1.03it/s]"
     ]
    },
    {
     "name": "stdout",
     "output_type": "stream",
     "text": [
      "❌ Fetch failed: blitzcash\n"
     ]
    },
    {
     "name": "stderr",
     "output_type": "stream",
     "text": [
      "Fetching coin data:  21%|██        | 209/1000 [02:49<12:49,  1.03it/s]"
     ]
    },
    {
     "name": "stdout",
     "output_type": "stream",
     "text": [
      "❌ Fetch failed: riecoin\n"
     ]
    },
    {
     "name": "stderr",
     "output_type": "stream",
     "text": [
      "Fetching coin data:  21%|██        | 211/1000 [02:51<11:49,  1.11it/s]"
     ]
    },
    {
     "name": "stdout",
     "output_type": "stream",
     "text": [
      "❌ Fetch failed: project-decorum\n"
     ]
    },
    {
     "name": "stderr",
     "output_type": "stream",
     "text": [
      "Fetching coin data:  21%|██        | 212/1000 [02:52<11:51,  1.11it/s]"
     ]
    },
    {
     "name": "stdout",
     "output_type": "stream",
     "text": [
      "❌ Fetch failed: cannabiscoin\n"
     ]
    },
    {
     "name": "stderr",
     "output_type": "stream",
     "text": [
      "Fetching coin data:  21%|██▏       | 213/1000 [02:53<11:00,  1.19it/s]"
     ]
    },
    {
     "name": "stdout",
     "output_type": "stream",
     "text": [
      "❌ Fetch failed: teslacoin\n"
     ]
    },
    {
     "name": "stderr",
     "output_type": "stream",
     "text": [
      "Fetching coin data:  21%|██▏       | 214/1000 [02:53<09:40,  1.35it/s]"
     ]
    },
    {
     "name": "stdout",
     "output_type": "stream",
     "text": [
      "❌ Fetch failed: masternodecoin\n"
     ]
    },
    {
     "name": "stderr",
     "output_type": "stream",
     "text": [
      "Fetching coin data:  22%|██▏       | 215/1000 [02:54<09:07,  1.43it/s]"
     ]
    },
    {
     "name": "stdout",
     "output_type": "stream",
     "text": [
      "❌ Fetch failed: trezarcoin\n"
     ]
    },
    {
     "name": "stderr",
     "output_type": "stream",
     "text": [
      "Fetching coin data:  22%|██▏       | 216/1000 [02:54<08:31,  1.53it/s]"
     ]
    },
    {
     "name": "stdout",
     "output_type": "stream",
     "text": [
      "❌ Fetch failed: sprouts\n"
     ]
    },
    {
     "name": "stderr",
     "output_type": "stream",
     "text": [
      "Fetching coin data:  22%|██▏       | 217/1000 [02:55<08:18,  1.57it/s]"
     ]
    },
    {
     "name": "stdout",
     "output_type": "stream",
     "text": [
      "❌ Fetch failed: quark\n"
     ]
    },
    {
     "name": "stderr",
     "output_type": "stream",
     "text": [
      "Fetching coin data:  22%|██▏       | 219/1000 [02:56<08:40,  1.50it/s]"
     ]
    },
    {
     "name": "stdout",
     "output_type": "stream",
     "text": [
      "❌ Fetch failed: bitcloud\n"
     ]
    },
    {
     "name": "stderr",
     "output_type": "stream",
     "text": [
      "Fetching coin data:  22%|██▏       | 220/1000 [02:57<08:24,  1.55it/s]"
     ]
    },
    {
     "name": "stdout",
     "output_type": "stream",
     "text": [
      "❌ Fetch failed: audiocoin\n"
     ]
    },
    {
     "name": "stderr",
     "output_type": "stream",
     "text": [
      "Fetching coin data:  22%|██▏       | 221/1000 [02:58<10:08,  1.28it/s]"
     ]
    },
    {
     "name": "stdout",
     "output_type": "stream",
     "text": [
      "❌ Fetch failed: karbo\n"
     ]
    },
    {
     "name": "stderr",
     "output_type": "stream",
     "text": [
      "Fetching coin data:  22%|██▏       | 222/1000 [02:59<10:57,  1.18it/s]"
     ]
    },
    {
     "name": "stdout",
     "output_type": "stream",
     "text": [
      "❌ Fetch failed: vsync-vsx\n"
     ]
    },
    {
     "name": "stderr",
     "output_type": "stream",
     "text": [
      "Fetching coin data:  22%|██▏       | 223/1000 [03:00<10:51,  1.19it/s]"
     ]
    },
    {
     "name": "stdout",
     "output_type": "stream",
     "text": [
      "❌ Fetch failed: dnotes\n"
     ]
    },
    {
     "name": "stderr",
     "output_type": "stream",
     "text": [
      "Fetching coin data:  22%|██▏       | 224/1000 [03:00<10:38,  1.22it/s]"
     ]
    },
    {
     "name": "stdout",
     "output_type": "stream",
     "text": [
      "❌ Fetch failed: social-send\n"
     ]
    },
    {
     "name": "stderr",
     "output_type": "stream",
     "text": [
      "Fetching coin data:  23%|██▎       | 226/1000 [03:03<13:12,  1.02s/it]"
     ]
    },
    {
     "name": "stdout",
     "output_type": "stream",
     "text": [
      "❌ Fetch failed: bitcoin-white\n"
     ]
    },
    {
     "name": "stderr",
     "output_type": "stream",
     "text": [
      "Fetching coin data:  23%|██▎       | 227/1000 [03:04<12:53,  1.00s/it]"
     ]
    },
    {
     "name": "stdout",
     "output_type": "stream",
     "text": [
      "❌ Fetch failed: creativecoin\n"
     ]
    },
    {
     "name": "stderr",
     "output_type": "stream",
     "text": [
      "Fetching coin data:  23%|██▎       | 228/1000 [03:05<13:21,  1.04s/it]"
     ]
    },
    {
     "name": "stdout",
     "output_type": "stream",
     "text": [
      "❌ Fetch failed: yocoin\n"
     ]
    },
    {
     "name": "stderr",
     "output_type": "stream",
     "text": [
      "Fetching coin data:  23%|██▎       | 229/1000 [03:06<13:38,  1.06s/it]"
     ]
    },
    {
     "name": "stdout",
     "output_type": "stream",
     "text": [
      "❌ Fetch failed: evergreencoin\n"
     ]
    },
    {
     "name": "stderr",
     "output_type": "stream",
     "text": [
      "Fetching coin data:  23%|██▎       | 230/1000 [03:07<13:24,  1.05s/it]"
     ]
    },
    {
     "name": "stdout",
     "output_type": "stream",
     "text": [
      "❌ Fetch failed: draftcoin\n"
     ]
    },
    {
     "name": "stderr",
     "output_type": "stream",
     "text": [
      "Fetching coin data:  23%|██▎       | 232/1000 [03:10<13:32,  1.06s/it]"
     ]
    },
    {
     "name": "stdout",
     "output_type": "stream",
     "text": [
      "❌ Fetch failed: mazacoin\n"
     ]
    },
    {
     "name": "stderr",
     "output_type": "stream",
     "text": [
      "Fetching coin data:  23%|██▎       | 233/1000 [03:10<13:07,  1.03s/it]"
     ]
    },
    {
     "name": "stdout",
     "output_type": "stream",
     "text": [
      "❌ Fetch failed: obsidian\n"
     ]
    },
    {
     "name": "stderr",
     "output_type": "stream",
     "text": [
      "Fetching coin data:  23%|██▎       | 234/1000 [03:11<12:35,  1.01it/s]"
     ]
    },
    {
     "name": "stdout",
     "output_type": "stream",
     "text": [
      "❌ Fetch failed: ergo\n"
     ]
    },
    {
     "name": "stderr",
     "output_type": "stream",
     "text": [
      "Fetching coin data:  24%|██▎       | 235/1000 [03:12<11:53,  1.07it/s]"
     ]
    },
    {
     "name": "stdout",
     "output_type": "stream",
     "text": [
      "❌ Fetch failed: hollywoodcoin\n"
     ]
    },
    {
     "name": "stderr",
     "output_type": "stream",
     "text": [
      "Fetching coin data:  24%|██▎       | 236/1000 [03:13<11:31,  1.10it/s]"
     ]
    },
    {
     "name": "stdout",
     "output_type": "stream",
     "text": [
      "❌ Fetch failed: terracoin\n"
     ]
    },
    {
     "name": "stderr",
     "output_type": "stream",
     "text": [
      "Fetching coin data:  24%|██▍       | 238/1000 [03:15<10:33,  1.20it/s]"
     ]
    },
    {
     "name": "stdout",
     "output_type": "stream",
     "text": [
      "❌ Fetch failed: e-gulden\n"
     ]
    },
    {
     "name": "stderr",
     "output_type": "stream",
     "text": [
      "Fetching coin data:  24%|██▍       | 239/1000 [03:15<10:04,  1.26it/s]"
     ]
    },
    {
     "name": "stdout",
     "output_type": "stream",
     "text": [
      "❌ Fetch failed: chaincoin\n"
     ]
    },
    {
     "name": "stderr",
     "output_type": "stream",
     "text": [
      "Fetching coin data:  24%|██▍       | 240/1000 [03:17<14:09,  1.12s/it]"
     ]
    },
    {
     "name": "stdout",
     "output_type": "stream",
     "text": [
      "❌ Fetch failed: sexcoin\n"
     ]
    },
    {
     "name": "stderr",
     "output_type": "stream",
     "text": [
      "Fetching coin data:  24%|██▍       | 241/1000 [03:18<12:08,  1.04it/s]"
     ]
    },
    {
     "name": "stdout",
     "output_type": "stream",
     "text": [
      "❌ Fetch failed: bluecoin\n"
     ]
    },
    {
     "name": "stderr",
     "output_type": "stream",
     "text": [
      "Fetching coin data:  24%|██▍       | 242/1000 [03:18<10:27,  1.21it/s]"
     ]
    },
    {
     "name": "stdout",
     "output_type": "stream",
     "text": [
      "❌ Fetch failed: xgox\n"
     ]
    },
    {
     "name": "stderr",
     "output_type": "stream",
     "text": [
      "Fetching coin data:  24%|██▍       | 243/1000 [03:19<09:17,  1.36it/s]"
     ]
    },
    {
     "name": "stdout",
     "output_type": "stream",
     "text": [
      "❌ Fetch failed: parkbyte\n"
     ]
    },
    {
     "name": "stderr",
     "output_type": "stream",
     "text": [
      "Fetching coin data:  24%|██▍       | 245/1000 [03:20<07:37,  1.65it/s]"
     ]
    },
    {
     "name": "stdout",
     "output_type": "stream",
     "text": [
      "❌ Fetch failed: martexcoin\n"
     ]
    },
    {
     "name": "stderr",
     "output_type": "stream",
     "text": [
      "Fetching coin data:  25%|██▍       | 246/1000 [03:20<07:37,  1.65it/s]"
     ]
    },
    {
     "name": "stdout",
     "output_type": "stream",
     "text": [
      "❌ Fetch failed: bitzeny\n"
     ]
    },
    {
     "name": "stderr",
     "output_type": "stream",
     "text": [
      "Fetching coin data:  25%|██▍       | 247/1000 [03:22<13:00,  1.04s/it]"
     ]
    },
    {
     "name": "stdout",
     "output_type": "stream",
     "text": [
      "❌ Fetch failed: rupee\n"
     ]
    },
    {
     "name": "stderr",
     "output_type": "stream",
     "text": [
      "Fetching coin data:  25%|██▍       | 248/1000 [03:23<11:10,  1.12it/s]"
     ]
    },
    {
     "name": "stdout",
     "output_type": "stream",
     "text": [
      "❌ Fetch failed: intensecoin\n"
     ]
    },
    {
     "name": "stderr",
     "output_type": "stream",
     "text": [
      "Fetching coin data:  25%|██▍       | 249/1000 [03:23<09:36,  1.30it/s]"
     ]
    },
    {
     "name": "stdout",
     "output_type": "stream",
     "text": [
      "❌ Fetch failed: ganjacoin\n"
     ]
    },
    {
     "name": "stderr",
     "output_type": "stream",
     "text": [
      "Fetching coin data:  25%|██▌       | 250/1000 [03:24<08:34,  1.46it/s]"
     ]
    },
    {
     "name": "stdout",
     "output_type": "stream",
     "text": [
      "❌ Fetch failed: procurrency\n"
     ]
    },
    {
     "name": "stderr",
     "output_type": "stream",
     "text": [
      "Fetching coin data:  25%|██▌       | 251/1000 [03:24<07:50,  1.59it/s]"
     ]
    },
    {
     "name": "stdout",
     "output_type": "stream",
     "text": [
      "❌ Fetch failed: linx\n"
     ]
    },
    {
     "name": "stderr",
     "output_type": "stream",
     "text": [
      "Fetching coin data:  25%|██▌       | 252/1000 [03:25<07:37,  1.63it/s]"
     ]
    },
    {
     "name": "stdout",
     "output_type": "stream",
     "text": [
      "❌ Fetch failed: regalcoin\n"
     ]
    },
    {
     "name": "stderr",
     "output_type": "stream",
     "text": [
      "Fetching coin data:  25%|██▌       | 254/1000 [03:26<07:53,  1.57it/s]"
     ]
    },
    {
     "name": "stdout",
     "output_type": "stream",
     "text": [
      "❌ Fetch failed: innova\n"
     ]
    },
    {
     "name": "stderr",
     "output_type": "stream",
     "text": [
      "Fetching coin data:  26%|██▌       | 255/1000 [03:27<07:33,  1.64it/s]"
     ]
    },
    {
     "name": "stdout",
     "output_type": "stream",
     "text": [
      "❌ Fetch failed: bitdeal\n"
     ]
    },
    {
     "name": "stderr",
     "output_type": "stream",
     "text": [
      "Fetching coin data:  26%|██▌       | 256/1000 [03:27<07:30,  1.65it/s]"
     ]
    },
    {
     "name": "stdout",
     "output_type": "stream",
     "text": [
      "❌ Fetch failed: condensate\n"
     ]
    },
    {
     "name": "stderr",
     "output_type": "stream",
     "text": [
      "Fetching coin data:  26%|██▌       | 257/1000 [03:28<06:55,  1.79it/s]"
     ]
    },
    {
     "name": "stdout",
     "output_type": "stream",
     "text": [
      "❌ Fetch failed: campuscoin\n"
     ]
    },
    {
     "name": "stderr",
     "output_type": "stream",
     "text": [
      "Fetching coin data:  26%|██▌       | 258/1000 [03:28<06:40,  1.85it/s]"
     ]
    },
    {
     "name": "stdout",
     "output_type": "stream",
     "text": [
      "❌ Fetch failed: unity-ingot\n"
     ]
    },
    {
     "name": "stderr",
     "output_type": "stream",
     "text": [
      "Fetching coin data:  26%|██▌       | 259/1000 [03:29<06:44,  1.83it/s]"
     ]
    },
    {
     "name": "stdout",
     "output_type": "stream",
     "text": [
      "❌ Fetch failed: greencoin\n"
     ]
    },
    {
     "name": "stderr",
     "output_type": "stream",
     "text": [
      "Fetching coin data:  26%|██▌       | 260/1000 [03:29<06:34,  1.87it/s]"
     ]
    },
    {
     "name": "stdout",
     "output_type": "stream",
     "text": [
      "❌ Fetch failed: global-cryptocurrency\n"
     ]
    },
    {
     "name": "stderr",
     "output_type": "stream",
     "text": [
      "Fetching coin data:  26%|██▌       | 261/1000 [03:30<06:13,  1.98it/s]"
     ]
    },
    {
     "name": "stdout",
     "output_type": "stream",
     "text": [
      "❌ Fetch failed: interstellar-holdings\n"
     ]
    },
    {
     "name": "stderr",
     "output_type": "stream",
     "text": [
      "Fetching coin data:  26%|██▌       | 262/1000 [03:31<07:42,  1.59it/s]"
     ]
    },
    {
     "name": "stdout",
     "output_type": "stream",
     "text": [
      "❌ Fetch failed: growers-international\n"
     ]
    },
    {
     "name": "stderr",
     "output_type": "stream",
     "text": [
      "Fetching coin data:  26%|██▋       | 264/1000 [03:33<11:05,  1.11it/s]"
     ]
    },
    {
     "name": "stdout",
     "output_type": "stream",
     "text": [
      "❌ Fetch failed: op-coin\n"
     ]
    },
    {
     "name": "stderr",
     "output_type": "stream",
     "text": [
      "Fetching coin data:  26%|██▋       | 265/1000 [03:34<09:46,  1.25it/s]"
     ]
    },
    {
     "name": "stdout",
     "output_type": "stream",
     "text": [
      "❌ Fetch failed: pure\n"
     ]
    },
    {
     "name": "stderr",
     "output_type": "stream",
     "text": [
      "Fetching coin data:  27%|██▋       | 266/1000 [03:34<08:35,  1.42it/s]"
     ]
    },
    {
     "name": "stdout",
     "output_type": "stream",
     "text": [
      "❌ Fetch failed: footy-cash\n"
     ]
    },
    {
     "name": "stderr",
     "output_type": "stream",
     "text": [
      "Fetching coin data:  27%|██▋       | 267/1000 [03:35<08:12,  1.49it/s]"
     ]
    },
    {
     "name": "stdout",
     "output_type": "stream",
     "text": [
      "❌ Fetch failed: equitrader\n"
     ]
    },
    {
     "name": "stderr",
     "output_type": "stream",
     "text": [
      "Fetching coin data:  27%|██▋       | 268/1000 [03:35<07:24,  1.65it/s]"
     ]
    },
    {
     "name": "stdout",
     "output_type": "stream",
     "text": [
      "❌ Fetch failed: ignition\n"
     ]
    },
    {
     "name": "stderr",
     "output_type": "stream",
     "text": [
      "Fetching coin data:  27%|██▋       | 269/1000 [03:36<06:58,  1.75it/s]"
     ]
    },
    {
     "name": "stdout",
     "output_type": "stream",
     "text": [
      "❌ Fetch failed: unbreakablecoin\n"
     ]
    },
    {
     "name": "stderr",
     "output_type": "stream",
     "text": [
      "Fetching coin data:  27%|██▋       | 270/1000 [03:36<06:54,  1.76it/s]"
     ]
    },
    {
     "name": "stdout",
     "output_type": "stream",
     "text": [
      "❌ Fetch failed: centurion\n"
     ]
    },
    {
     "name": "stderr",
     "output_type": "stream",
     "text": [
      "Fetching coin data:  27%|██▋       | 271/1000 [03:37<07:12,  1.68it/s]"
     ]
    },
    {
     "name": "stdout",
     "output_type": "stream",
     "text": [
      "❌ Fetch failed: force\n"
     ]
    },
    {
     "name": "stderr",
     "output_type": "stream",
     "text": [
      "Fetching coin data:  27%|██▋       | 272/1000 [03:37<07:01,  1.73it/s]"
     ]
    },
    {
     "name": "stdout",
     "output_type": "stream",
     "text": [
      "❌ Fetch failed: renos\n"
     ]
    },
    {
     "name": "stderr",
     "output_type": "stream",
     "text": [
      "Fetching coin data:  27%|██▋       | 274/1000 [03:39<07:14,  1.67it/s]"
     ]
    },
    {
     "name": "stdout",
     "output_type": "stream",
     "text": [
      "❌ Fetch failed: bytecent\n"
     ]
    },
    {
     "name": "stderr",
     "output_type": "stream",
     "text": [
      "Fetching coin data:  28%|██▊       | 275/1000 [03:39<07:19,  1.65it/s]"
     ]
    },
    {
     "name": "stdout",
     "output_type": "stream",
     "text": [
      "❌ Fetch failed: photon\n"
     ]
    },
    {
     "name": "stderr",
     "output_type": "stream",
     "text": [
      "Fetching coin data:  28%|██▊       | 276/1000 [03:40<07:05,  1.70it/s]"
     ]
    },
    {
     "name": "stdout",
     "output_type": "stream",
     "text": [
      "❌ Fetch failed: 42-coin\n"
     ]
    },
    {
     "name": "stderr",
     "output_type": "stream",
     "text": [
      "Fetching coin data:  28%|██▊       | 277/1000 [03:40<06:39,  1.81it/s]"
     ]
    },
    {
     "name": "stdout",
     "output_type": "stream",
     "text": [
      "❌ Fetch failed: litedoge\n"
     ]
    },
    {
     "name": "stderr",
     "output_type": "stream",
     "text": [
      "Fetching coin data:  28%|██▊       | 278/1000 [03:41<06:55,  1.74it/s]"
     ]
    },
    {
     "name": "stdout",
     "output_type": "stream",
     "text": [
      "❌ Fetch failed: unify\n"
     ]
    },
    {
     "name": "stderr",
     "output_type": "stream",
     "text": [
      "Fetching coin data:  28%|██▊       | 279/1000 [03:42<07:49,  1.53it/s]"
     ]
    },
    {
     "name": "stdout",
     "output_type": "stream",
     "text": [
      "❌ Fetch failed: vivo\n"
     ]
    },
    {
     "name": "stderr",
     "output_type": "stream",
     "text": [
      "Fetching coin data:  28%|██▊       | 280/1000 [03:42<07:30,  1.60it/s]"
     ]
    },
    {
     "name": "stdout",
     "output_type": "stream",
     "text": [
      "❌ Fetch failed: noblecoin\n"
     ]
    },
    {
     "name": "stderr",
     "output_type": "stream",
     "text": [
      "Fetching coin data:  28%|██▊       | 281/1000 [03:43<07:27,  1.61it/s]"
     ]
    },
    {
     "name": "stdout",
     "output_type": "stream",
     "text": [
      "❌ Fetch failed: orbitcoin\n"
     ]
    },
    {
     "name": "stderr",
     "output_type": "stream",
     "text": [
      "Fetching coin data:  28%|██▊       | 282/1000 [03:43<07:12,  1.66it/s]"
     ]
    },
    {
     "name": "stdout",
     "output_type": "stream",
     "text": [
      "❌ Fetch failed: qubitcoin\n"
     ]
    },
    {
     "name": "stderr",
     "output_type": "stream",
     "text": [
      "Fetching coin data:  28%|██▊       | 284/1000 [03:44<06:48,  1.75it/s]"
     ]
    },
    {
     "name": "stdout",
     "output_type": "stream",
     "text": [
      "❌ Fetch failed: aurumcoin\n"
     ]
    },
    {
     "name": "stderr",
     "output_type": "stream",
     "text": [
      "Fetching coin data:  28%|██▊       | 285/1000 [03:45<08:24,  1.42it/s]"
     ]
    },
    {
     "name": "stdout",
     "output_type": "stream",
     "text": [
      "❌ Fetch failed: canada-ecoin\n"
     ]
    },
    {
     "name": "stderr",
     "output_type": "stream",
     "text": [
      "Fetching coin data:  29%|██▊       | 286/1000 [03:46<07:38,  1.56it/s]"
     ]
    },
    {
     "name": "stdout",
     "output_type": "stream",
     "text": [
      "❌ Fetch failed: zennies\n"
     ]
    },
    {
     "name": "stderr",
     "output_type": "stream",
     "text": [
      "Fetching coin data:  29%|██▊       | 287/1000 [03:47<07:17,  1.63it/s]"
     ]
    },
    {
     "name": "stdout",
     "output_type": "stream",
     "text": [
      "❌ Fetch failed: unitus\n"
     ]
    },
    {
     "name": "stderr",
     "output_type": "stream",
     "text": [
      "Fetching coin data:  29%|██▉       | 288/1000 [03:47<07:13,  1.64it/s]"
     ]
    },
    {
     "name": "stdout",
     "output_type": "stream",
     "text": [
      "❌ Fetch failed: fastcoin\n"
     ]
    },
    {
     "name": "stderr",
     "output_type": "stream",
     "text": [
      "Fetching coin data:  29%|██▉       | 289/1000 [03:48<06:52,  1.72it/s]"
     ]
    },
    {
     "name": "stdout",
     "output_type": "stream",
     "text": [
      "❌ Fetch failed: moin\n"
     ]
    },
    {
     "name": "stderr",
     "output_type": "stream",
     "text": [
      "Fetching coin data:  29%|██▉       | 290/1000 [03:49<08:49,  1.34it/s]"
     ]
    },
    {
     "name": "stdout",
     "output_type": "stream",
     "text": [
      "❌ Fetch failed: fujicoin\n"
     ]
    },
    {
     "name": "stderr",
     "output_type": "stream",
     "text": [
      "Fetching coin data:  29%|██▉       | 292/1000 [03:50<07:51,  1.50it/s]"
     ]
    },
    {
     "name": "stdout",
     "output_type": "stream",
     "text": [
      "❌ Fetch failed: arcticcoin\n"
     ]
    },
    {
     "name": "stderr",
     "output_type": "stream",
     "text": [
      "Fetching coin data:  29%|██▉       | 293/1000 [03:51<07:30,  1.57it/s]"
     ]
    },
    {
     "name": "stdout",
     "output_type": "stream",
     "text": [
      "❌ Fetch failed: leviarcoin\n"
     ]
    },
    {
     "name": "stderr",
     "output_type": "stream",
     "text": [
      "Fetching coin data:  29%|██▉       | 294/1000 [03:51<07:08,  1.65it/s]"
     ]
    },
    {
     "name": "stdout",
     "output_type": "stream",
     "text": [
      "❌ Fetch failed: woodcoin\n"
     ]
    },
    {
     "name": "stderr",
     "output_type": "stream",
     "text": [
      "Fetching coin data:  30%|██▉       | 295/1000 [03:52<09:33,  1.23it/s]"
     ]
    },
    {
     "name": "stdout",
     "output_type": "stream",
     "text": [
      "❌ Fetch failed: petrodollar\n"
     ]
    },
    {
     "name": "stderr",
     "output_type": "stream",
     "text": [
      "Fetching coin data:  30%|██▉       | 296/1000 [03:53<08:38,  1.36it/s]"
     ]
    },
    {
     "name": "stdout",
     "output_type": "stream",
     "text": [
      "❌ Fetch failed: incakoin\n"
     ]
    },
    {
     "name": "stderr",
     "output_type": "stream",
     "text": [
      "Fetching coin data:  30%|██▉       | 297/1000 [03:54<08:18,  1.41it/s]"
     ]
    },
    {
     "name": "stdout",
     "output_type": "stream",
     "text": [
      "❌ Fetch failed: insanecoin-insn\n"
     ]
    },
    {
     "name": "stderr",
     "output_type": "stream",
     "text": [
      "Fetching coin data:  30%|██▉       | 298/1000 [03:54<07:37,  1.54it/s]"
     ]
    },
    {
     "name": "stdout",
     "output_type": "stream",
     "text": [
      "❌ Fetch failed: worldcoin\n"
     ]
    },
    {
     "name": "stderr",
     "output_type": "stream",
     "text": [
      "Fetching coin data:  30%|██▉       | 299/1000 [03:55<07:24,  1.58it/s]"
     ]
    },
    {
     "name": "stdout",
     "output_type": "stream",
     "text": [
      "❌ Fetch failed: machinecoin\n"
     ]
    },
    {
     "name": "stderr",
     "output_type": "stream",
     "text": [
      "Fetching coin data:  30%|███       | 300/1000 [03:55<07:19,  1.59it/s]"
     ]
    },
    {
     "name": "stdout",
     "output_type": "stream",
     "text": [
      "❌ Fetch failed: platinumbar\n"
     ]
    },
    {
     "name": "stderr",
     "output_type": "stream",
     "text": [
      "Fetching coin data:  30%|███       | 302/1000 [03:57<08:26,  1.38it/s]"
     ]
    },
    {
     "name": "stdout",
     "output_type": "stream",
     "text": [
      "❌ Fetch failed: zetacoin\n"
     ]
    },
    {
     "name": "stderr",
     "output_type": "stream",
     "text": [
      "Fetching coin data:  30%|███       | 303/1000 [03:58<07:36,  1.53it/s]"
     ]
    },
    {
     "name": "stdout",
     "output_type": "stream",
     "text": [
      "❌ Fetch failed: netcoin\n"
     ]
    },
    {
     "name": "stderr",
     "output_type": "stream",
     "text": [
      "Fetching coin data:  30%|███       | 304/1000 [03:58<07:12,  1.61it/s]"
     ]
    },
    {
     "name": "stdout",
     "output_type": "stream",
     "text": [
      "❌ Fetch failed: abjcoin\n"
     ]
    },
    {
     "name": "stderr",
     "output_type": "stream",
     "text": [
      "Fetching coin data:  30%|███       | 305/1000 [03:59<07:13,  1.60it/s]"
     ]
    },
    {
     "name": "stdout",
     "output_type": "stream",
     "text": [
      "❌ Fetch failed: blakestar\n"
     ]
    },
    {
     "name": "stderr",
     "output_type": "stream",
     "text": [
      "Fetching coin data:  31%|███       | 306/1000 [03:59<07:00,  1.65it/s]"
     ]
    },
    {
     "name": "stdout",
     "output_type": "stream",
     "text": [
      "❌ Fetch failed: piggycoin\n"
     ]
    },
    {
     "name": "stderr",
     "output_type": "stream",
     "text": [
      "Fetching coin data:  31%|███       | 307/1000 [04:00<06:47,  1.70it/s]"
     ]
    },
    {
     "name": "stdout",
     "output_type": "stream",
     "text": [
      "❌ Fetch failed: skeincoin\n"
     ]
    },
    {
     "name": "stderr",
     "output_type": "stream",
     "text": [
      "Fetching coin data:  31%|███       | 308/1000 [04:00<06:57,  1.66it/s]"
     ]
    },
    {
     "name": "stdout",
     "output_type": "stream",
     "text": [
      "❌ Fetch failed: guncoin\n"
     ]
    },
    {
     "name": "stderr",
     "output_type": "stream",
     "text": [
      "Fetching coin data:  31%|███       | 309/1000 [04:01<07:15,  1.59it/s]"
     ]
    },
    {
     "name": "stdout",
     "output_type": "stream",
     "text": [
      "❌ Fetch failed: bitbar\n"
     ]
    },
    {
     "name": "stderr",
     "output_type": "stream",
     "text": [
      "Fetching coin data:  31%|███       | 311/1000 [04:03<07:37,  1.51it/s]"
     ]
    },
    {
     "name": "stdout",
     "output_type": "stream",
     "text": [
      "❌ Fetch failed: digitalcoin\n"
     ]
    },
    {
     "name": "stderr",
     "output_type": "stream",
     "text": [
      "Fetching coin data:  31%|███       | 312/1000 [04:03<07:14,  1.58it/s]"
     ]
    },
    {
     "name": "stdout",
     "output_type": "stream",
     "text": [
      "❌ Fetch failed: aricoin\n"
     ]
    },
    {
     "name": "stderr",
     "output_type": "stream",
     "text": [
      "Fetching coin data:  31%|███▏      | 313/1000 [04:04<08:13,  1.39it/s]"
     ]
    },
    {
     "name": "stdout",
     "output_type": "stream",
     "text": [
      "❌ Fetch failed: kobocoin\n"
     ]
    },
    {
     "name": "stderr",
     "output_type": "stream",
     "text": [
      "Fetching coin data:  31%|███▏      | 314/1000 [04:05<07:29,  1.53it/s]"
     ]
    },
    {
     "name": "stdout",
     "output_type": "stream",
     "text": [
      "❌ Fetch failed: capricoin\n"
     ]
    },
    {
     "name": "stderr",
     "output_type": "stream",
     "text": [
      "Fetching coin data:  32%|███▏      | 315/1000 [04:05<07:22,  1.55it/s]"
     ]
    },
    {
     "name": "stdout",
     "output_type": "stream",
     "text": [
      "❌ Fetch failed: copico\n"
     ]
    },
    {
     "name": "stderr",
     "output_type": "stream",
     "text": [
      "Fetching coin data:  32%|███▏      | 316/1000 [04:06<06:42,  1.70it/s]"
     ]
    },
    {
     "name": "stdout",
     "output_type": "stream",
     "text": [
      "❌ Fetch failed: maxcoin\n"
     ]
    },
    {
     "name": "stderr",
     "output_type": "stream",
     "text": [
      "Fetching coin data:  32%|███▏      | 317/1000 [04:07<09:34,  1.19it/s]"
     ]
    },
    {
     "name": "stdout",
     "output_type": "stream",
     "text": [
      "❌ Fetch failed: grimcoin\n"
     ]
    },
    {
     "name": "stderr",
     "output_type": "stream",
     "text": [
      "Fetching coin data:  32%|███▏      | 319/1000 [04:08<07:38,  1.48it/s]"
     ]
    },
    {
     "name": "stdout",
     "output_type": "stream",
     "text": [
      "❌ Fetch failed: deutsche-emark\n"
     ]
    },
    {
     "name": "stderr",
     "output_type": "stream",
     "text": [
      "Fetching coin data:  32%|███▏      | 320/1000 [04:09<07:20,  1.54it/s]"
     ]
    },
    {
     "name": "stdout",
     "output_type": "stream",
     "text": [
      "❌ Fetch failed: ambercoin\n"
     ]
    },
    {
     "name": "stderr",
     "output_type": "stream",
     "text": [
      "Fetching coin data:  32%|███▏      | 321/1000 [04:09<06:58,  1.62it/s]"
     ]
    },
    {
     "name": "stdout",
     "output_type": "stream",
     "text": [
      "❌ Fetch failed: cryptocarbon\n"
     ]
    },
    {
     "name": "stderr",
     "output_type": "stream",
     "text": [
      "Fetching coin data:  32%|███▏      | 322/1000 [04:10<06:56,  1.63it/s]"
     ]
    },
    {
     "name": "stdout",
     "output_type": "stream",
     "text": [
      "❌ Fetch failed: cryptoforecast\n"
     ]
    },
    {
     "name": "stderr",
     "output_type": "stream",
     "text": [
      "Fetching coin data:  32%|███▏      | 323/1000 [04:11<06:49,  1.65it/s]"
     ]
    },
    {
     "name": "stdout",
     "output_type": "stream",
     "text": [
      "❌ Fetch failed: bittokens\n"
     ]
    },
    {
     "name": "stderr",
     "output_type": "stream",
     "text": [
      "Fetching coin data:  32%|███▏      | 324/1000 [04:11<06:27,  1.75it/s]"
     ]
    },
    {
     "name": "stdout",
     "output_type": "stream",
     "text": [
      "❌ Fetch failed: megacoin\n"
     ]
    },
    {
     "name": "stderr",
     "output_type": "stream",
     "text": [
      "Fetching coin data:  32%|███▎      | 325/1000 [04:12<06:27,  1.74it/s]"
     ]
    },
    {
     "name": "stdout",
     "output_type": "stream",
     "text": [
      "❌ Fetch failed: 8bit\n"
     ]
    },
    {
     "name": "stderr",
     "output_type": "stream",
     "text": [
      "Fetching coin data:  33%|███▎      | 326/1000 [04:12<05:57,  1.89it/s]"
     ]
    },
    {
     "name": "stdout",
     "output_type": "stream",
     "text": [
      "❌ Fetch failed: cryptojacks\n"
     ]
    },
    {
     "name": "stderr",
     "output_type": "stream",
     "text": [
      "Fetching coin data:  33%|███▎      | 327/1000 [04:13<05:50,  1.92it/s]"
     ]
    },
    {
     "name": "stdout",
     "output_type": "stream",
     "text": [
      "❌ Fetch failed: opal\n"
     ]
    },
    {
     "name": "stderr",
     "output_type": "stream",
     "text": [
      "Fetching coin data:  33%|███▎      | 328/1000 [04:13<06:05,  1.84it/s]"
     ]
    },
    {
     "name": "stdout",
     "output_type": "stream",
     "text": [
      "❌ Fetch failed: securecoin\n"
     ]
    },
    {
     "name": "stderr",
     "output_type": "stream",
     "text": [
      "Fetching coin data:  33%|███▎      | 330/1000 [04:15<07:01,  1.59it/s]"
     ]
    },
    {
     "name": "stdout",
     "output_type": "stream",
     "text": [
      "❌ Fetch failed: whalecoin\n"
     ]
    },
    {
     "name": "stderr",
     "output_type": "stream",
     "text": [
      "Fetching coin data:  33%|███▎      | 331/1000 [04:15<06:57,  1.60it/s]"
     ]
    },
    {
     "name": "stdout",
     "output_type": "stream",
     "text": [
      "❌ Fetch failed: digicube\n"
     ]
    },
    {
     "name": "stderr",
     "output_type": "stream",
     "text": [
      "Fetching coin data:  33%|███▎      | 332/1000 [04:16<06:40,  1.67it/s]"
     ]
    },
    {
     "name": "stdout",
     "output_type": "stream",
     "text": [
      "❌ Fetch failed: aerium\n"
     ]
    },
    {
     "name": "stderr",
     "output_type": "stream",
     "text": [
      "Fetching coin data:  33%|███▎      | 333/1000 [04:16<06:35,  1.68it/s]"
     ]
    },
    {
     "name": "stdout",
     "output_type": "stream",
     "text": [
      "❌ Fetch failed: ultracoin\n"
     ]
    },
    {
     "name": "stderr",
     "output_type": "stream",
     "text": [
      "Fetching coin data:  33%|███▎      | 334/1000 [04:17<06:20,  1.75it/s]"
     ]
    },
    {
     "name": "stdout",
     "output_type": "stream",
     "text": [
      "❌ Fetch failed: paycoin2\n"
     ]
    },
    {
     "name": "stderr",
     "output_type": "stream",
     "text": [
      "Fetching coin data:  34%|███▎      | 335/1000 [04:17<06:07,  1.81it/s]"
     ]
    },
    {
     "name": "stdout",
     "output_type": "stream",
     "text": [
      "❌ Fetch failed: lanacoin\n"
     ]
    },
    {
     "name": "stderr",
     "output_type": "stream",
     "text": [
      "Fetching coin data:  34%|███▎      | 336/1000 [04:18<06:13,  1.78it/s]"
     ]
    },
    {
     "name": "stdout",
     "output_type": "stream",
     "text": [
      "❌ Fetch failed: eternity\n"
     ]
    },
    {
     "name": "stderr",
     "output_type": "stream",
     "text": [
      "Fetching coin data:  34%|███▎      | 337/1000 [04:19<07:20,  1.50it/s]"
     ]
    },
    {
     "name": "stdout",
     "output_type": "stream",
     "text": [
      "❌ Fetch failed: aquariuscoin\n"
     ]
    },
    {
     "name": "stderr",
     "output_type": "stream",
     "text": [
      "Fetching coin data:  34%|███▍      | 338/1000 [04:19<07:16,  1.52it/s]"
     ]
    },
    {
     "name": "stdout",
     "output_type": "stream",
     "text": [
      "❌ Fetch failed: rimbit\n"
     ]
    },
    {
     "name": "stderr",
     "output_type": "stream",
     "text": [
      "Fetching coin data:  34%|███▍      | 340/1000 [04:21<07:05,  1.55it/s]"
     ]
    },
    {
     "name": "stdout",
     "output_type": "stream",
     "text": [
      "❌ Fetch failed: glasscoin\n"
     ]
    },
    {
     "name": "stderr",
     "output_type": "stream",
     "text": [
      "Fetching coin data:  34%|███▍      | 341/1000 [04:22<08:35,  1.28it/s]"
     ]
    },
    {
     "name": "stdout",
     "output_type": "stream",
     "text": [
      "❌ Fetch failed: flycoin\n"
     ]
    },
    {
     "name": "stderr",
     "output_type": "stream",
     "text": [
      "Fetching coin data:  34%|███▍      | 342/1000 [04:22<07:56,  1.38it/s]"
     ]
    },
    {
     "name": "stdout",
     "output_type": "stream",
     "text": [
      "❌ Fetch failed: netko\n"
     ]
    },
    {
     "name": "stderr",
     "output_type": "stream",
     "text": [
      "Fetching coin data:  34%|███▍      | 343/1000 [04:23<07:42,  1.42it/s]"
     ]
    },
    {
     "name": "stdout",
     "output_type": "stream",
     "text": [
      "❌ Fetch failed: mojocoin\n"
     ]
    },
    {
     "name": "stderr",
     "output_type": "stream",
     "text": [
      "Fetching coin data:  34%|███▍      | 344/1000 [04:24<07:39,  1.43it/s]"
     ]
    },
    {
     "name": "stdout",
     "output_type": "stream",
     "text": [
      "❌ Fetch failed: blakecoin\n"
     ]
    },
    {
     "name": "stderr",
     "output_type": "stream",
     "text": [
      "Fetching coin data:  34%|███▍      | 345/1000 [04:24<07:31,  1.45it/s]"
     ]
    },
    {
     "name": "stdout",
     "output_type": "stream",
     "text": [
      "❌ Fetch failed: cryptonite\n"
     ]
    },
    {
     "name": "stderr",
     "output_type": "stream",
     "text": [
      "Fetching coin data:  35%|███▍      | 346/1000 [04:25<06:53,  1.58it/s]"
     ]
    },
    {
     "name": "stdout",
     "output_type": "stream",
     "text": [
      "❌ Fetch failed: steneum-coin\n"
     ]
    },
    {
     "name": "stderr",
     "output_type": "stream",
     "text": [
      "Fetching coin data:  35%|███▍      | 347/1000 [04:26<06:55,  1.57it/s]"
     ]
    },
    {
     "name": "stdout",
     "output_type": "stream",
     "text": [
      "❌ Fetch failed: motocoin\n"
     ]
    },
    {
     "name": "stderr",
     "output_type": "stream",
     "text": [
      "Fetching coin data:  35%|███▍      | 349/1000 [04:27<08:18,  1.31it/s]"
     ]
    },
    {
     "name": "stdout",
     "output_type": "stream",
     "text": [
      "❌ Fetch failed: tagcoin\n"
     ]
    },
    {
     "name": "stderr",
     "output_type": "stream",
     "text": [
      "Fetching coin data:  35%|███▌      | 350/1000 [04:28<07:55,  1.37it/s]"
     ]
    },
    {
     "name": "stdout",
     "output_type": "stream",
     "text": [
      "❌ Fetch failed: sterlingcoin\n"
     ]
    },
    {
     "name": "stderr",
     "output_type": "stream",
     "text": [
      "Fetching coin data:  35%|███▌      | 351/1000 [04:29<07:31,  1.44it/s]"
     ]
    },
    {
     "name": "stdout",
     "output_type": "stream",
     "text": [
      "❌ Fetch failed: bitgem\n"
     ]
    },
    {
     "name": "stderr",
     "output_type": "stream",
     "text": [
      "Fetching coin data:  35%|███▌      | 352/1000 [04:29<07:11,  1.50it/s]"
     ]
    },
    {
     "name": "stdout",
     "output_type": "stream",
     "text": [
      "❌ Fetch failed: swagbucks\n"
     ]
    },
    {
     "name": "stderr",
     "output_type": "stream",
     "text": [
      "Fetching coin data:  35%|███▌      | 353/1000 [04:30<07:46,  1.39it/s]"
     ]
    },
    {
     "name": "stdout",
     "output_type": "stream",
     "text": [
      "❌ Fetch failed: pioneer-coin\n"
     ]
    },
    {
     "name": "stderr",
     "output_type": "stream",
     "text": [
      "Fetching coin data:  35%|███▌      | 354/1000 [04:31<07:12,  1.49it/s]"
     ]
    },
    {
     "name": "stdout",
     "output_type": "stream",
     "text": [
      "❌ Fetch failed: gapcoin\n"
     ]
    },
    {
     "name": "stderr",
     "output_type": "stream",
     "text": [
      "Fetching coin data:  36%|███▌      | 355/1000 [04:31<07:00,  1.53it/s]"
     ]
    },
    {
     "name": "stdout",
     "output_type": "stream",
     "text": [
      "❌ Fetch failed: daxxcoin\n"
     ]
    },
    {
     "name": "stderr",
     "output_type": "stream",
     "text": [
      "Fetching coin data:  36%|███▌      | 357/1000 [04:32<06:48,  1.58it/s]"
     ]
    },
    {
     "name": "stdout",
     "output_type": "stream",
     "text": [
      "❌ Fetch failed: garlicoin\n"
     ]
    },
    {
     "name": "stderr",
     "output_type": "stream",
     "text": [
      "Fetching coin data:  36%|███▌      | 358/1000 [04:33<06:58,  1.53it/s]"
     ]
    },
    {
     "name": "stdout",
     "output_type": "stream",
     "text": [
      "❌ Fetch failed: litecoin-plus\n"
     ]
    },
    {
     "name": "stderr",
     "output_type": "stream",
     "text": [
      "Fetching coin data:  36%|███▌      | 359/1000 [04:34<07:19,  1.46it/s]"
     ]
    },
    {
     "name": "stdout",
     "output_type": "stream",
     "text": [
      "❌ Fetch failed: colossuscoin-v2\n"
     ]
    },
    {
     "name": "stderr",
     "output_type": "stream",
     "text": [
      "Fetching coin data:  36%|███▌      | 360/1000 [04:34<06:50,  1.56it/s]"
     ]
    },
    {
     "name": "stdout",
     "output_type": "stream",
     "text": [
      "❌ Fetch failed: phantomx\n"
     ]
    },
    {
     "name": "stderr",
     "output_type": "stream",
     "text": [
      "Fetching coin data:  36%|███▌      | 361/1000 [04:35<06:22,  1.67it/s]"
     ]
    },
    {
     "name": "stdout",
     "output_type": "stream",
     "text": [
      "❌ Fetch failed: tekcoin\n"
     ]
    },
    {
     "name": "stderr",
     "output_type": "stream",
     "text": [
      "Fetching coin data:  36%|███▌      | 362/1000 [04:36<06:42,  1.58it/s]"
     ]
    },
    {
     "name": "stdout",
     "output_type": "stream",
     "text": [
      "❌ Fetch failed: truckcoin\n"
     ]
    },
    {
     "name": "stderr",
     "output_type": "stream",
     "text": [
      "Fetching coin data:  36%|███▋      | 363/1000 [04:36<06:24,  1.65it/s]"
     ]
    },
    {
     "name": "stdout",
     "output_type": "stream",
     "text": [
      "❌ Fetch failed: homeblockcoin\n"
     ]
    },
    {
     "name": "stderr",
     "output_type": "stream",
     "text": [
      "Fetching coin data:  36%|███▋      | 364/1000 [04:37<06:52,  1.54it/s]"
     ]
    },
    {
     "name": "stdout",
     "output_type": "stream",
     "text": [
      "❌ Fetch failed: confido\n"
     ]
    },
    {
     "name": "stderr",
     "output_type": "stream",
     "text": [
      "Fetching coin data:  36%|███▋      | 365/1000 [04:37<06:25,  1.65it/s]"
     ]
    },
    {
     "name": "stdout",
     "output_type": "stream",
     "text": [
      "❌ Fetch failed: tokyo\n"
     ]
    },
    {
     "name": "stderr",
     "output_type": "stream",
     "text": [
      "Fetching coin data:  37%|███▋      | 367/1000 [04:39<07:31,  1.40it/s]"
     ]
    },
    {
     "name": "stdout",
     "output_type": "stream",
     "text": [
      "❌ Fetch failed: coin\n"
     ]
    },
    {
     "name": "stderr",
     "output_type": "stream",
     "text": [
      "Fetching coin data:  37%|███▋      | 368/1000 [04:40<07:09,  1.47it/s]"
     ]
    },
    {
     "name": "stdout",
     "output_type": "stream",
     "text": [
      "❌ Fetch failed: 808coin\n"
     ]
    },
    {
     "name": "stderr",
     "output_type": "stream",
     "text": [
      "Fetching coin data:  37%|███▋      | 369/1000 [04:42<11:08,  1.06s/it]"
     ]
    },
    {
     "name": "stdout",
     "output_type": "stream",
     "text": [
      "❌ Fetch failed: mineum\n"
     ]
    },
    {
     "name": "stderr",
     "output_type": "stream",
     "text": [
      "Fetching coin data:  37%|███▋      | 370/1000 [04:42<09:42,  1.08it/s]"
     ]
    },
    {
     "name": "stdout",
     "output_type": "stream",
     "text": [
      "❌ Fetch failed: droxne\n"
     ]
    },
    {
     "name": "stderr",
     "output_type": "stream",
     "text": [
      "Fetching coin data:  37%|███▋      | 371/1000 [04:43<08:30,  1.23it/s]"
     ]
    },
    {
     "name": "stdout",
     "output_type": "stream",
     "text": [
      "❌ Fetch failed: advanced-internet-blocks\n"
     ]
    },
    {
     "name": "stderr",
     "output_type": "stream",
     "text": [
      "Fetching coin data:  37%|███▋      | 372/1000 [04:43<07:21,  1.42it/s]"
     ]
    },
    {
     "name": "stdout",
     "output_type": "stream",
     "text": [
      "❌ Fetch failed: zozocoin\n"
     ]
    },
    {
     "name": "stderr",
     "output_type": "stream",
     "text": [
      "Fetching coin data:  37%|███▋      | 374/1000 [04:44<06:56,  1.50it/s]"
     ]
    },
    {
     "name": "stdout",
     "output_type": "stream",
     "text": [
      "❌ Fetch failed: macron\n"
     ]
    },
    {
     "name": "stderr",
     "output_type": "stream",
     "text": [
      "Fetching coin data:  38%|███▊      | 375/1000 [04:45<06:18,  1.65it/s]"
     ]
    },
    {
     "name": "stdout",
     "output_type": "stream",
     "text": [
      "❌ Fetch failed: desire\n"
     ]
    },
    {
     "name": "stderr",
     "output_type": "stream",
     "text": [
      "Fetching coin data:  38%|███▊      | 376/1000 [04:46<06:43,  1.55it/s]"
     ]
    },
    {
     "name": "stdout",
     "output_type": "stream",
     "text": [
      "❌ Fetch failed: c-bit\n"
     ]
    },
    {
     "name": "stderr",
     "output_type": "stream",
     "text": [
      "Fetching coin data:  38%|███▊      | 377/1000 [04:46<06:44,  1.54it/s]"
     ]
    },
    {
     "name": "stdout",
     "output_type": "stream",
     "text": [
      "❌ Fetch failed: sativacoin\n"
     ]
    },
    {
     "name": "stderr",
     "output_type": "stream",
     "text": [
      "Fetching coin data:  38%|███▊      | 378/1000 [04:47<07:22,  1.41it/s]"
     ]
    },
    {
     "name": "stdout",
     "output_type": "stream",
     "text": [
      "❌ Fetch failed: kayicoin\n"
     ]
    },
    {
     "name": "stderr",
     "output_type": "stream",
     "text": [
      "Fetching coin data:  38%|███▊      | 379/1000 [04:48<06:30,  1.59it/s]"
     ]
    },
    {
     "name": "stdout",
     "output_type": "stream",
     "text": [
      "❌ Fetch failed: chancoin\n"
     ]
    },
    {
     "name": "stderr",
     "output_type": "stream",
     "text": [
      "Fetching coin data:  38%|███▊      | 380/1000 [04:49<08:18,  1.24it/s]"
     ]
    },
    {
     "name": "stdout",
     "output_type": "stream",
     "text": [
      "❌ Fetch failed: postcoin\n"
     ]
    },
    {
     "name": "stderr",
     "output_type": "stream",
     "text": [
      "Fetching coin data:  38%|███▊      | 381/1000 [04:49<07:20,  1.41it/s]"
     ]
    },
    {
     "name": "stdout",
     "output_type": "stream",
     "text": [
      "❌ Fetch failed: globaltoken\n"
     ]
    },
    {
     "name": "stderr",
     "output_type": "stream",
     "text": [
      "Fetching coin data:  38%|███▊      | 383/1000 [04:51<06:40,  1.54it/s]"
     ]
    },
    {
     "name": "stdout",
     "output_type": "stream",
     "text": [
      "❌ Fetch failed: sagacoin\n"
     ]
    },
    {
     "name": "stderr",
     "output_type": "stream",
     "text": [
      "Fetching coin data:  38%|███▊      | 384/1000 [04:51<06:03,  1.69it/s]"
     ]
    },
    {
     "name": "stdout",
     "output_type": "stream",
     "text": [
      "❌ Fetch failed: ethereum-dark\n"
     ]
    },
    {
     "name": "stderr",
     "output_type": "stream",
     "text": [
      "Fetching coin data:  38%|███▊      | 385/1000 [04:52<06:06,  1.68it/s]"
     ]
    },
    {
     "name": "stdout",
     "output_type": "stream",
     "text": [
      "❌ Fetch failed: globalcoin\n"
     ]
    },
    {
     "name": "stderr",
     "output_type": "stream",
     "text": [
      "Fetching coin data:  39%|███▊      | 386/1000 [04:52<05:49,  1.75it/s]"
     ]
    },
    {
     "name": "stdout",
     "output_type": "stream",
     "text": [
      "❌ Fetch failed: honey\n"
     ]
    },
    {
     "name": "stderr",
     "output_type": "stream",
     "text": [
      "Fetching coin data:  39%|███▊      | 387/1000 [04:53<05:43,  1.78it/s]"
     ]
    },
    {
     "name": "stdout",
     "output_type": "stream",
     "text": [
      "❌ Fetch failed: briacoin\n"
     ]
    },
    {
     "name": "stderr",
     "output_type": "stream",
     "text": [
      "Fetching coin data:  39%|███▉      | 388/1000 [04:53<05:26,  1.88it/s]"
     ]
    },
    {
     "name": "stdout",
     "output_type": "stream",
     "text": [
      "❌ Fetch failed: marscoin\n"
     ]
    },
    {
     "name": "stderr",
     "output_type": "stream",
     "text": [
      "Fetching coin data:  39%|███▉      | 389/1000 [04:54<05:25,  1.88it/s]"
     ]
    },
    {
     "name": "stdout",
     "output_type": "stream",
     "text": [
      "❌ Fetch failed: qbic\n"
     ]
    },
    {
     "name": "stderr",
     "output_type": "stream",
     "text": [
      "Fetching coin data:  39%|███▉      | 390/1000 [04:54<06:16,  1.62it/s]"
     ]
    },
    {
     "name": "stdout",
     "output_type": "stream",
     "text": [
      "❌ Fetch failed: onix\n"
     ]
    },
    {
     "name": "stderr",
     "output_type": "stream",
     "text": [
      "Fetching coin data:  39%|███▉      | 391/1000 [04:55<06:01,  1.68it/s]"
     ]
    },
    {
     "name": "stdout",
     "output_type": "stream",
     "text": [
      "❌ Fetch failed: influxcoin\n"
     ]
    },
    {
     "name": "stderr",
     "output_type": "stream",
     "text": [
      "Fetching coin data:  39%|███▉      | 392/1000 [04:56<05:50,  1.74it/s]"
     ]
    },
    {
     "name": "stdout",
     "output_type": "stream",
     "text": [
      "❌ Fetch failed: prime-xi\n"
     ]
    },
    {
     "name": "stderr",
     "output_type": "stream",
     "text": [
      "Fetching coin data:  39%|███▉      | 394/1000 [04:57<05:26,  1.86it/s]"
     ]
    },
    {
     "name": "stdout",
     "output_type": "stream",
     "text": [
      "❌ Fetch failed: philosopher-stones\n"
     ]
    },
    {
     "name": "stderr",
     "output_type": "stream",
     "text": [
      "Fetching coin data:  40%|███▉      | 395/1000 [04:57<05:15,  1.92it/s]"
     ]
    },
    {
     "name": "stdout",
     "output_type": "stream",
     "text": [
      "❌ Fetch failed: ecocoin\n"
     ]
    },
    {
     "name": "stderr",
     "output_type": "stream",
     "text": [
      "Fetching coin data:  40%|███▉      | 396/1000 [04:58<05:19,  1.89it/s]"
     ]
    },
    {
     "name": "stdout",
     "output_type": "stream",
     "text": [
      "❌ Fetch failed: global-tour-coin\n"
     ]
    },
    {
     "name": "stderr",
     "output_type": "stream",
     "text": [
      "Fetching coin data:  40%|███▉      | 397/1000 [04:58<05:22,  1.87it/s]"
     ]
    },
    {
     "name": "stdout",
     "output_type": "stream",
     "text": [
      "❌ Fetch failed: virta-unique-coin\n"
     ]
    },
    {
     "name": "stderr",
     "output_type": "stream",
     "text": [
      "Fetching coin data:  40%|███▉      | 398/1000 [04:59<05:10,  1.94it/s]"
     ]
    },
    {
     "name": "stdout",
     "output_type": "stream",
     "text": [
      "❌ Fetch failed: eot\n"
     ]
    },
    {
     "name": "stderr",
     "output_type": "stream",
     "text": [
      "Fetching coin data:  40%|███▉      | 399/1000 [04:59<05:24,  1.85it/s]"
     ]
    },
    {
     "name": "stdout",
     "output_type": "stream",
     "text": [
      "❌ Fetch failed: roofs\n"
     ]
    },
    {
     "name": "stderr",
     "output_type": "stream",
     "text": [
      "Fetching coin data:  40%|████      | 400/1000 [05:00<05:14,  1.91it/s]"
     ]
    },
    {
     "name": "stdout",
     "output_type": "stream",
     "text": [
      "❌ Fetch failed: emerald\n"
     ]
    },
    {
     "name": "stderr",
     "output_type": "stream",
     "text": [
      "Fetching coin data:  40%|████      | 401/1000 [05:00<05:46,  1.73it/s]"
     ]
    },
    {
     "name": "stdout",
     "output_type": "stream",
     "text": [
      "❌ Fetch failed: artex-coin\n"
     ]
    },
    {
     "name": "stderr",
     "output_type": "stream",
     "text": [
      "Fetching coin data:  40%|████      | 402/1000 [05:01<05:30,  1.81it/s]"
     ]
    },
    {
     "name": "stdout",
     "output_type": "stream",
     "text": [
      "❌ Fetch failed: redcoin\n"
     ]
    },
    {
     "name": "stderr",
     "output_type": "stream",
     "text": [
      "Fetching coin data:  40%|████      | 403/1000 [05:01<05:11,  1.92it/s]"
     ]
    },
    {
     "name": "stdout",
     "output_type": "stream",
     "text": [
      "❌ Fetch failed: litebitcoin\n"
     ]
    },
    {
     "name": "stderr",
     "output_type": "stream",
     "text": [
      "Fetching coin data:  40%|████      | 405/1000 [05:02<05:10,  1.92it/s]"
     ]
    },
    {
     "name": "stdout",
     "output_type": "stream",
     "text": [
      "❌ Fetch failed: parallelcoin\n"
     ]
    },
    {
     "name": "stderr",
     "output_type": "stream",
     "text": [
      "Fetching coin data:  41%|████      | 406/1000 [05:03<05:14,  1.89it/s]"
     ]
    },
    {
     "name": "stdout",
     "output_type": "stream",
     "text": [
      "❌ Fetch failed: bipcoin\n"
     ]
    },
    {
     "name": "stderr",
     "output_type": "stream",
     "text": [
      "Fetching coin data:  41%|████      | 407/1000 [05:05<08:36,  1.15it/s]"
     ]
    },
    {
     "name": "stdout",
     "output_type": "stream",
     "text": [
      "❌ Fetch failed: cashcoin\n"
     ]
    },
    {
     "name": "stderr",
     "output_type": "stream",
     "text": [
      "Fetching coin data:  41%|████      | 408/1000 [05:06<08:45,  1.13it/s]"
     ]
    },
    {
     "name": "stdout",
     "output_type": "stream",
     "text": [
      "❌ Fetch failed: ronpaulcoin\n"
     ]
    },
    {
     "name": "stderr",
     "output_type": "stream",
     "text": [
      "Fetching coin data:  41%|████      | 409/1000 [05:06<08:30,  1.16it/s]"
     ]
    },
    {
     "name": "stdout",
     "output_type": "stream",
     "text": [
      "❌ Fetch failed: fuzzballs\n"
     ]
    },
    {
     "name": "stderr",
     "output_type": "stream",
     "text": [
      "Fetching coin data:  41%|████      | 410/1000 [05:07<08:49,  1.11it/s]"
     ]
    },
    {
     "name": "stdout",
     "output_type": "stream",
     "text": [
      "❌ Fetch failed: peepcoin\n"
     ]
    },
    {
     "name": "stderr",
     "output_type": "stream",
     "text": [
      "Fetching coin data:  41%|████      | 412/1000 [05:10<11:16,  1.15s/it]"
     ]
    },
    {
     "name": "stdout",
     "output_type": "stream",
     "text": [
      "❌ Fetch failed: allsafe\n"
     ]
    },
    {
     "name": "stderr",
     "output_type": "stream",
     "text": [
      "Fetching coin data:  41%|████▏     | 413/1000 [05:12<11:15,  1.15s/it]"
     ]
    },
    {
     "name": "stdout",
     "output_type": "stream",
     "text": [
      "❌ Fetch failed: cannation\n"
     ]
    },
    {
     "name": "stderr",
     "output_type": "stream",
     "text": [
      "Fetching coin data:  41%|████▏     | 414/1000 [05:13<11:38,  1.19s/it]"
     ]
    },
    {
     "name": "stdout",
     "output_type": "stream",
     "text": [
      "❌ Fetch failed: cthulhu-offerings\n"
     ]
    },
    {
     "name": "stderr",
     "output_type": "stream",
     "text": [
      "Fetching coin data:  42%|████▏     | 416/1000 [05:16<13:17,  1.37s/it]"
     ]
    },
    {
     "name": "stdout",
     "output_type": "stream",
     "text": [
      "❌ Fetch failed: remicoin\n"
     ]
    },
    {
     "name": "stderr",
     "output_type": "stream",
     "text": [
      "Fetching coin data:  42%|████▏     | 417/1000 [05:17<12:45,  1.31s/it]"
     ]
    },
    {
     "name": "stdout",
     "output_type": "stream",
     "text": [
      "❌ Fetch failed: x-coin\n"
     ]
    },
    {
     "name": "stderr",
     "output_type": "stream",
     "text": [
      "Fetching coin data:  42%|████▏     | 418/1000 [05:18<11:49,  1.22s/it]"
     ]
    },
    {
     "name": "stdout",
     "output_type": "stream",
     "text": [
      "❌ Fetch failed: neuro\n"
     ]
    },
    {
     "name": "stderr",
     "output_type": "stream",
     "text": [
      "Fetching coin data:  42%|████▏     | 419/1000 [05:19<10:41,  1.10s/it]"
     ]
    },
    {
     "name": "stdout",
     "output_type": "stream",
     "text": [
      "❌ Fetch failed: fincoin\n"
     ]
    },
    {
     "name": "stderr",
     "output_type": "stream",
     "text": [
      "Fetching coin data:  42%|████▏     | 420/1000 [05:20<10:07,  1.05s/it]"
     ]
    },
    {
     "name": "stdout",
     "output_type": "stream",
     "text": [
      "❌ Fetch failed: gpu-coin\n"
     ]
    },
    {
     "name": "stderr",
     "output_type": "stream",
     "text": [
      "Fetching coin data:  42%|████▏     | 422/1000 [05:22<09:57,  1.03s/it]"
     ]
    },
    {
     "name": "stdout",
     "output_type": "stream",
     "text": [
      "❌ Fetch failed: madcoin\n"
     ]
    },
    {
     "name": "stderr",
     "output_type": "stream",
     "text": [
      "Fetching coin data:  42%|████▏     | 423/1000 [05:23<10:36,  1.10s/it]"
     ]
    },
    {
     "name": "stdout",
     "output_type": "stream",
     "text": [
      "❌ Fetch failed: theresa-may-coin\n"
     ]
    },
    {
     "name": "stderr",
     "output_type": "stream",
     "text": [
      "Fetching coin data:  42%|████▏     | 424/1000 [05:25<11:45,  1.22s/it]"
     ]
    },
    {
     "name": "stdout",
     "output_type": "stream",
     "text": [
      "❌ Fetch failed: eryllium\n"
     ]
    },
    {
     "name": "stderr",
     "output_type": "stream",
     "text": [
      "Fetching coin data:  42%|████▎     | 425/1000 [05:25<10:02,  1.05s/it]"
     ]
    },
    {
     "name": "stdout",
     "output_type": "stream",
     "text": [
      "❌ Fetch failed: women\n"
     ]
    },
    {
     "name": "stderr",
     "output_type": "stream",
     "text": [
      "Fetching coin data:  43%|████▎     | 427/1000 [05:28<10:54,  1.14s/it]"
     ]
    },
    {
     "name": "stdout",
     "output_type": "stream",
     "text": [
      "❌ Fetch failed: coinonat\n"
     ]
    },
    {
     "name": "stderr",
     "output_type": "stream",
     "text": [
      "Fetching coin data:  43%|████▎     | 428/1000 [05:29<10:47,  1.13s/it]"
     ]
    },
    {
     "name": "stdout",
     "output_type": "stream",
     "text": [
      "❌ Fetch failed: kronecoin\n"
     ]
    },
    {
     "name": "stderr",
     "output_type": "stream",
     "text": [
      "Fetching coin data:  43%|████▎     | 429/1000 [05:30<10:20,  1.09s/it]"
     ]
    },
    {
     "name": "stdout",
     "output_type": "stream",
     "text": [
      "❌ Fetch failed: master-swiscoin\n"
     ]
    },
    {
     "name": "stderr",
     "output_type": "stream",
     "text": [
      "Fetching coin data:  43%|████▎     | 430/1000 [05:31<09:59,  1.05s/it]"
     ]
    },
    {
     "name": "stdout",
     "output_type": "stream",
     "text": [
      "❌ Fetch failed: vaperscoin\n"
     ]
    },
    {
     "name": "stderr",
     "output_type": "stream",
     "text": [
      "Fetching coin data:  43%|████▎     | 431/1000 [05:32<09:00,  1.05it/s]"
     ]
    },
    {
     "name": "stdout",
     "output_type": "stream",
     "text": [
      "❌ Fetch failed: slevin\n"
     ]
    },
    {
     "name": "stderr",
     "output_type": "stream",
     "text": [
      "Fetching coin data:  43%|████▎     | 433/1000 [05:33<08:12,  1.15it/s]"
     ]
    },
    {
     "name": "stdout",
     "output_type": "stream",
     "text": [
      "❌ Fetch failed: quazarcoin\n"
     ]
    },
    {
     "name": "stderr",
     "output_type": "stream",
     "text": [
      "Fetching coin data:  43%|████▎     | 434/1000 [05:34<08:55,  1.06it/s]"
     ]
    },
    {
     "name": "stdout",
     "output_type": "stream",
     "text": [
      "❌ Fetch failed: iconic\n"
     ]
    },
    {
     "name": "stderr",
     "output_type": "stream",
     "text": [
      "Fetching coin data:  44%|████▎     | 435/1000 [05:35<08:05,  1.16it/s]"
     ]
    },
    {
     "name": "stdout",
     "output_type": "stream",
     "text": [
      "❌ Fetch failed: anarchistsprime\n"
     ]
    },
    {
     "name": "stderr",
     "output_type": "stream",
     "text": [
      "Fetching coin data:  44%|████▎     | 436/1000 [05:36<07:03,  1.33it/s]"
     ]
    },
    {
     "name": "stdout",
     "output_type": "stream",
     "text": [
      "❌ Fetch failed: dreamcoin\n"
     ]
    },
    {
     "name": "stderr",
     "output_type": "stream",
     "text": [
      "Fetching coin data:  44%|████▎     | 437/1000 [05:37<08:35,  1.09it/s]"
     ]
    },
    {
     "name": "stdout",
     "output_type": "stream",
     "text": [
      "❌ Fetch failed: geertcoin\n"
     ]
    },
    {
     "name": "stderr",
     "output_type": "stream",
     "text": [
      "Fetching coin data:  44%|████▍     | 438/1000 [05:37<07:48,  1.20it/s]"
     ]
    },
    {
     "name": "stdout",
     "output_type": "stream",
     "text": [
      "❌ Fetch failed: doubloon\n"
     ]
    },
    {
     "name": "stderr",
     "output_type": "stream",
     "text": [
      "Fetching coin data:  44%|████▍     | 440/1000 [05:39<07:55,  1.18it/s]"
     ]
    },
    {
     "name": "stdout",
     "output_type": "stream",
     "text": [
      "❌ Fetch failed: gbcgoldcoin\n"
     ]
    },
    {
     "name": "stderr",
     "output_type": "stream",
     "text": [
      "Fetching coin data:  44%|████▍     | 441/1000 [05:40<08:18,  1.12it/s]"
     ]
    },
    {
     "name": "stdout",
     "output_type": "stream",
     "text": [
      "❌ Fetch failed: bitvolt\n"
     ]
    },
    {
     "name": "stderr",
     "output_type": "stream",
     "text": [
      "Fetching coin data:  44%|████▍     | 442/1000 [05:41<08:12,  1.13it/s]"
     ]
    },
    {
     "name": "stdout",
     "output_type": "stream",
     "text": [
      "❌ Fetch failed: dollar-online\n"
     ]
    },
    {
     "name": "stderr",
     "output_type": "stream",
     "text": [
      "Fetching coin data:  44%|████▍     | 443/1000 [05:42<08:28,  1.10it/s]"
     ]
    },
    {
     "name": "stdout",
     "output_type": "stream",
     "text": [
      "❌ Fetch failed: ulatech\n"
     ]
    },
    {
     "name": "stderr",
     "output_type": "stream",
     "text": [
      "Fetching coin data:  44%|████▍     | 444/1000 [05:43<08:34,  1.08it/s]"
     ]
    },
    {
     "name": "stdout",
     "output_type": "stream",
     "text": [
      "❌ Fetch failed: prcoin\n"
     ]
    },
    {
     "name": "stderr",
     "output_type": "stream",
     "text": [
      "Fetching coin data:  44%|████▍     | 445/1000 [05:44<08:20,  1.11it/s]"
     ]
    },
    {
     "name": "stdout",
     "output_type": "stream",
     "text": [
      "❌ Fetch failed: project-x\n"
     ]
    },
    {
     "name": "stderr",
     "output_type": "stream",
     "text": [
      "Fetching coin data:  45%|████▍     | 447/1000 [05:46<08:07,  1.13it/s]"
     ]
    },
    {
     "name": "stdout",
     "output_type": "stream",
     "text": [
      "❌ Fetch failed: concoin\n"
     ]
    },
    {
     "name": "stderr",
     "output_type": "stream",
     "text": [
      "Fetching coin data:  45%|████▍     | 448/1000 [05:50<17:50,  1.94s/it]"
     ]
    },
    {
     "name": "stdout",
     "output_type": "stream",
     "text": [
      "❌ Fetch failed: levoplus\n"
     ]
    },
    {
     "name": "stderr",
     "output_type": "stream",
     "text": [
      "Fetching coin data:  45%|████▌     | 450/1000 [05:52<12:25,  1.36s/it]"
     ]
    },
    {
     "name": "stdout",
     "output_type": "stream",
     "text": [
      "❌ Fetch failed: tristar-coin\n"
     ]
    },
    {
     "name": "stderr",
     "output_type": "stream",
     "text": [
      "Fetching coin data:  45%|████▌     | 451/1000 [05:52<10:23,  1.14s/it]"
     ]
    },
    {
     "name": "stdout",
     "output_type": "stream",
     "text": [
      "❌ Fetch failed: pizzacoin\n"
     ]
    },
    {
     "name": "stderr",
     "output_type": "stream",
     "text": [
      "Fetching coin data:  45%|████▌     | 452/1000 [05:53<09:10,  1.00s/it]"
     ]
    },
    {
     "name": "stdout",
     "output_type": "stream",
     "text": [
      "❌ Fetch failed: paccoin\n"
     ]
    },
    {
     "name": "stderr",
     "output_type": "stream",
     "text": [
      "Fetching coin data:  45%|████▌     | 453/1000 [05:54<08:08,  1.12it/s]"
     ]
    },
    {
     "name": "stdout",
     "output_type": "stream",
     "text": [
      "❌ Fetch failed: russian-mining-coin\n"
     ]
    },
    {
     "name": "stderr",
     "output_type": "stream",
     "text": [
      "Fetching coin data:  45%|████▌     | 454/1000 [05:54<07:54,  1.15it/s]"
     ]
    },
    {
     "name": "stdout",
     "output_type": "stream",
     "text": [
      "❌ Fetch failed: luckchain\n"
     ]
    },
    {
     "name": "stderr",
     "output_type": "stream",
     "text": [
      "Fetching coin data:  46%|████▌     | 455/1000 [05:55<07:26,  1.22it/s]"
     ]
    },
    {
     "name": "stdout",
     "output_type": "stream",
     "text": [
      "❌ Fetch failed: asiacoin\n"
     ]
    },
    {
     "name": "stderr",
     "output_type": "stream",
     "text": [
      "Fetching coin data:  46%|████▌     | 457/1000 [05:58<09:08,  1.01s/it]"
     ]
    },
    {
     "name": "stdout",
     "output_type": "stream",
     "text": [
      "❌ Fetch failed: bitboost\n"
     ]
    },
    {
     "name": "stderr",
     "output_type": "stream",
     "text": [
      "Fetching coin data:  46%|████▌     | 458/1000 [05:58<08:10,  1.10it/s]"
     ]
    },
    {
     "name": "stdout",
     "output_type": "stream",
     "text": [
      "❌ Fetch failed: version\n"
     ]
    },
    {
     "name": "stderr",
     "output_type": "stream",
     "text": [
      "Fetching coin data:  46%|████▌     | 459/1000 [06:00<09:26,  1.05s/it]"
     ]
    },
    {
     "name": "stdout",
     "output_type": "stream",
     "text": [
      "❌ Fetch failed: anoncoin\n"
     ]
    },
    {
     "name": "stderr",
     "output_type": "stream",
     "text": [
      "Fetching coin data:  46%|████▌     | 460/1000 [06:00<08:39,  1.04it/s]"
     ]
    },
    {
     "name": "stdout",
     "output_type": "stream",
     "text": [
      "❌ Fetch failed: leafcoin\n"
     ]
    },
    {
     "name": "stderr",
     "output_type": "stream",
     "text": [
      "Fetching coin data:  46%|████▌     | 461/1000 [06:01<08:04,  1.11it/s]"
     ]
    },
    {
     "name": "stdout",
     "output_type": "stream",
     "text": [
      "❌ Fetch failed: virtacoin\n"
     ]
    },
    {
     "name": "stderr",
     "output_type": "stream",
     "text": [
      "Fetching coin data:  46%|████▌     | 462/1000 [06:02<07:46,  1.15it/s]"
     ]
    },
    {
     "name": "stdout",
     "output_type": "stream",
     "text": [
      "❌ Fetch failed: kekcoin\n"
     ]
    },
    {
     "name": "stderr",
     "output_type": "stream",
     "text": [
      "Fetching coin data:  46%|████▋     | 464/1000 [06:03<06:23,  1.40it/s]"
     ]
    },
    {
     "name": "stdout",
     "output_type": "stream",
     "text": [
      "❌ Fetch failed: shorty\n"
     ]
    },
    {
     "name": "stderr",
     "output_type": "stream",
     "text": [
      "Fetching coin data:  46%|████▋     | 465/1000 [06:04<06:11,  1.44it/s]"
     ]
    },
    {
     "name": "stdout",
     "output_type": "stream",
     "text": [
      "❌ Fetch failed: biblepay\n"
     ]
    },
    {
     "name": "stderr",
     "output_type": "stream",
     "text": [
      "Fetching coin data:  47%|████▋     | 466/1000 [06:04<05:56,  1.50it/s]"
     ]
    },
    {
     "name": "stdout",
     "output_type": "stream",
     "text": [
      "❌ Fetch failed: i0coin\n"
     ]
    },
    {
     "name": "stderr",
     "output_type": "stream",
     "text": [
      "Fetching coin data:  47%|████▋     | 467/1000 [06:06<08:29,  1.05it/s]"
     ]
    },
    {
     "name": "stdout",
     "output_type": "stream",
     "text": [
      "❌ Fetch failed: fantomcoin\n"
     ]
    },
    {
     "name": "stderr",
     "output_type": "stream",
     "text": [
      "Fetching coin data:  47%|████▋     | 468/1000 [06:07<07:15,  1.22it/s]"
     ]
    },
    {
     "name": "stdout",
     "output_type": "stream",
     "text": [
      "❌ Fetch failed: ultimate-secure-cash\n"
     ]
    },
    {
     "name": "stderr",
     "output_type": "stream",
     "text": [
      "Fetching coin data:  47%|████▋     | 469/1000 [06:07<06:46,  1.31it/s]"
     ]
    },
    {
     "name": "stdout",
     "output_type": "stream",
     "text": [
      "❌ Fetch failed: scorecoin\n"
     ]
    },
    {
     "name": "stderr",
     "output_type": "stream",
     "text": [
      "Fetching coin data:  47%|████▋     | 470/1000 [06:08<06:04,  1.45it/s]"
     ]
    },
    {
     "name": "stdout",
     "output_type": "stream",
     "text": [
      "❌ Fetch failed: hobonickels\n"
     ]
    },
    {
     "name": "stderr",
     "output_type": "stream",
     "text": [
      "Fetching coin data:  47%|████▋     | 472/1000 [06:09<06:57,  1.26it/s]"
     ]
    },
    {
     "name": "stdout",
     "output_type": "stream",
     "text": [
      "❌ Fetch failed: trollcoin\n"
     ]
    },
    {
     "name": "stderr",
     "output_type": "stream",
     "text": [
      "Fetching coin data:  47%|████▋     | 473/1000 [06:10<07:04,  1.24it/s]"
     ]
    },
    {
     "name": "stdout",
     "output_type": "stream",
     "text": [
      "❌ Fetch failed: iticoin\n"
     ]
    },
    {
     "name": "stderr",
     "output_type": "stream",
     "text": [
      "Fetching coin data:  47%|████▋     | 474/1000 [06:11<06:49,  1.28it/s]"
     ]
    },
    {
     "name": "stdout",
     "output_type": "stream",
     "text": [
      "❌ Fetch failed: unicoin\n"
     ]
    },
    {
     "name": "stderr",
     "output_type": "stream",
     "text": [
      "Fetching coin data:  48%|████▊     | 475/1000 [06:12<07:21,  1.19it/s]"
     ]
    },
    {
     "name": "stdout",
     "output_type": "stream",
     "text": [
      "❌ Fetch failed: smartcoin\n"
     ]
    },
    {
     "name": "stderr",
     "output_type": "stream",
     "text": [
      "Fetching coin data:  48%|████▊     | 476/1000 [06:13<07:48,  1.12it/s]"
     ]
    },
    {
     "name": "stdout",
     "output_type": "stream",
     "text": [
      "❌ Fetch failed: datacoin\n"
     ]
    },
    {
     "name": "stderr",
     "output_type": "stream",
     "text": [
      "Fetching coin data:  48%|████▊     | 477/1000 [06:14<07:45,  1.12it/s]"
     ]
    },
    {
     "name": "stdout",
     "output_type": "stream",
     "text": [
      "❌ Fetch failed: elementrem\n"
     ]
    },
    {
     "name": "stderr",
     "output_type": "stream",
     "text": [
      "Fetching coin data:  48%|████▊     | 479/1000 [06:16<08:54,  1.03s/it]"
     ]
    },
    {
     "name": "stdout",
     "output_type": "stream",
     "text": [
      "❌ Fetch failed: fimkrypto\n"
     ]
    },
    {
     "name": "stderr",
     "output_type": "stream",
     "text": [
      "Fetching coin data:  48%|████▊     | 480/1000 [06:17<08:25,  1.03it/s]"
     ]
    },
    {
     "name": "stdout",
     "output_type": "stream",
     "text": [
      "❌ Fetch failed: gaia\n"
     ]
    },
    {
     "name": "stderr",
     "output_type": "stream",
     "text": [
      "Fetching coin data:  48%|████▊     | 481/1000 [06:18<08:38,  1.00it/s]"
     ]
    },
    {
     "name": "stdout",
     "output_type": "stream",
     "text": [
      "❌ Fetch failed: bitstar\n"
     ]
    },
    {
     "name": "stderr",
     "output_type": "stream",
     "text": [
      "Fetching coin data:  48%|████▊     | 482/1000 [06:19<08:32,  1.01it/s]"
     ]
    },
    {
     "name": "stdout",
     "output_type": "stream",
     "text": [
      "❌ Fetch failed: halcyon\n"
     ]
    },
    {
     "name": "stderr",
     "output_type": "stream",
     "text": [
      "Fetching coin data:  48%|████▊     | 483/1000 [06:20<09:08,  1.06s/it]"
     ]
    },
    {
     "name": "stdout",
     "output_type": "stream",
     "text": [
      "❌ Fetch failed: nyancoin\n"
     ]
    },
    {
     "name": "stderr",
     "output_type": "stream",
     "text": [
      "Fetching coin data:  48%|████▊     | 485/1000 [06:23<09:10,  1.07s/it]"
     ]
    },
    {
     "name": "stdout",
     "output_type": "stream",
     "text": [
      "❌ Fetch failed: argentum\n"
     ]
    },
    {
     "name": "stderr",
     "output_type": "stream",
     "text": [
      "Fetching coin data:  49%|████▊     | 486/1000 [06:24<09:07,  1.06s/it]"
     ]
    },
    {
     "name": "stdout",
     "output_type": "stream",
     "text": [
      "❌ Fetch failed: btctalkcoin\n"
     ]
    },
    {
     "name": "stderr",
     "output_type": "stream",
     "text": [
      "Fetching coin data:  49%|████▊     | 487/1000 [06:24<07:56,  1.08it/s]"
     ]
    },
    {
     "name": "stdout",
     "output_type": "stream",
     "text": [
      "❌ Fetch failed: blazecoin\n"
     ]
    },
    {
     "name": "stderr",
     "output_type": "stream",
     "text": [
      "Fetching coin data:  49%|████▉     | 488/1000 [06:25<08:17,  1.03it/s]"
     ]
    },
    {
     "name": "stdout",
     "output_type": "stream",
     "text": [
      "❌ Fetch failed: manna\n"
     ]
    },
    {
     "name": "stderr",
     "output_type": "stream",
     "text": [
      "Fetching coin data:  49%|████▉     | 490/1000 [06:28<09:23,  1.11s/it]"
     ]
    },
    {
     "name": "stdout",
     "output_type": "stream",
     "text": [
      "❌ Fetch failed: valorbit\n"
     ]
    },
    {
     "name": "stderr",
     "output_type": "stream",
     "text": [
      "Fetching coin data:  49%|████▉     | 491/1000 [06:29<08:29,  1.00s/it]"
     ]
    },
    {
     "name": "stdout",
     "output_type": "stream",
     "text": [
      "❌ Fetch failed: signatum\n"
     ]
    },
    {
     "name": "stderr",
     "output_type": "stream",
     "text": [
      "Fetching coin data:  49%|████▉     | 492/1000 [06:29<07:55,  1.07it/s]"
     ]
    },
    {
     "name": "stdout",
     "output_type": "stream",
     "text": [
      "❌ Fetch failed: bitcurrency\n"
     ]
    },
    {
     "name": "stderr",
     "output_type": "stream",
     "text": [
      "Fetching coin data:  49%|████▉     | 493/1000 [06:30<07:52,  1.07it/s]"
     ]
    },
    {
     "name": "stdout",
     "output_type": "stream",
     "text": [
      "❌ Fetch failed: wayguide\n"
     ]
    },
    {
     "name": "stderr",
     "output_type": "stream",
     "text": [
      "Fetching coin data:  49%|████▉     | 494/1000 [06:31<08:10,  1.03it/s]"
     ]
    },
    {
     "name": "stdout",
     "output_type": "stream",
     "text": [
      "❌ Fetch failed: tigercoin\n"
     ]
    },
    {
     "name": "stderr",
     "output_type": "stream",
     "text": [
      "Fetching coin data:  50%|████▉     | 495/1000 [06:32<07:42,  1.09it/s]"
     ]
    },
    {
     "name": "stdout",
     "output_type": "stream",
     "text": [
      "❌ Fetch failed: joulecoin\n"
     ]
    },
    {
     "name": "stderr",
     "output_type": "stream",
     "text": [
      "Fetching coin data:  50%|████▉     | 497/1000 [06:35<09:10,  1.09s/it]"
     ]
    },
    {
     "name": "stdout",
     "output_type": "stream",
     "text": [
      "❌ Fetch failed: tattoocoin\n"
     ]
    },
    {
     "name": "stderr",
     "output_type": "stream",
     "text": [
      "Fetching coin data:  50%|████▉     | 498/1000 [06:36<09:39,  1.15s/it]"
     ]
    },
    {
     "name": "stdout",
     "output_type": "stream",
     "text": [
      "❌ Fetch failed: amsterdamcoin\n"
     ]
    },
    {
     "name": "stderr",
     "output_type": "stream",
     "text": [
      "Fetching coin data:  50%|████▉     | 499/1000 [06:37<09:59,  1.20s/it]"
     ]
    },
    {
     "name": "stdout",
     "output_type": "stream",
     "text": [
      "❌ Fetch failed: icoin\n"
     ]
    },
    {
     "name": "stderr",
     "output_type": "stream",
     "text": [
      "Fetching coin data:  50%|█████     | 500/1000 [06:38<09:36,  1.15s/it]"
     ]
    },
    {
     "name": "stdout",
     "output_type": "stream",
     "text": [
      "❌ Fetch failed: chesscoin\n"
     ]
    },
    {
     "name": "stderr",
     "output_type": "stream",
     "text": [
      "Fetching coin data:  50%|█████     | 502/1000 [06:41<09:30,  1.15s/it]"
     ]
    },
    {
     "name": "stdout",
     "output_type": "stream",
     "text": [
      "❌ Fetch failed: bitz\n"
     ]
    },
    {
     "name": "stderr",
     "output_type": "stream",
     "text": [
      "Fetching coin data:  50%|█████     | 503/1000 [06:41<08:53,  1.07s/it]"
     ]
    },
    {
     "name": "stdout",
     "output_type": "stream",
     "text": [
      "❌ Fetch failed: litebar\n"
     ]
    },
    {
     "name": "stderr",
     "output_type": "stream",
     "text": [
      "Fetching coin data:  50%|█████     | 504/1000 [06:43<08:58,  1.09s/it]"
     ]
    },
    {
     "name": "stdout",
     "output_type": "stream",
     "text": [
      "❌ Fetch failed: cypher\n"
     ]
    },
    {
     "name": "stderr",
     "output_type": "stream",
     "text": [
      "Fetching coin data:  50%|█████     | 505/1000 [06:43<08:14,  1.00it/s]"
     ]
    },
    {
     "name": "stdout",
     "output_type": "stream",
     "text": [
      "❌ Fetch failed: bolivarcoin\n"
     ]
    },
    {
     "name": "stderr",
     "output_type": "stream",
     "text": [
      "Fetching coin data:  51%|█████     | 507/1000 [06:45<07:56,  1.03it/s]"
     ]
    },
    {
     "name": "stdout",
     "output_type": "stream",
     "text": [
      "❌ Fetch failed: freicoin\n"
     ]
    },
    {
     "name": "stderr",
     "output_type": "stream",
     "text": [
      "Fetching coin data:  51%|█████     | 508/1000 [06:46<07:23,  1.11it/s]"
     ]
    },
    {
     "name": "stdout",
     "output_type": "stream",
     "text": [
      "❌ Fetch failed: dashcoin\n"
     ]
    },
    {
     "name": "stderr",
     "output_type": "stream",
     "text": [
      "Fetching coin data:  51%|█████     | 509/1000 [06:47<07:41,  1.06it/s]"
     ]
    },
    {
     "name": "stdout",
     "output_type": "stream",
     "text": [
      "❌ Fetch failed: rubies\n"
     ]
    },
    {
     "name": "stderr",
     "output_type": "stream",
     "text": [
      "Fetching coin data:  51%|█████     | 510/1000 [06:48<07:29,  1.09it/s]"
     ]
    },
    {
     "name": "stdout",
     "output_type": "stream",
     "text": [
      "❌ Fetch failed: revolvercoin\n"
     ]
    },
    {
     "name": "stderr",
     "output_type": "stream",
     "text": [
      "Fetching coin data:  51%|█████     | 511/1000 [06:49<07:03,  1.16it/s]"
     ]
    },
    {
     "name": "stdout",
     "output_type": "stream",
     "text": [
      "❌ Fetch failed: virtualcoin\n"
     ]
    },
    {
     "name": "stderr",
     "output_type": "stream",
     "text": [
      "Fetching coin data:  51%|█████     | 512/1000 [06:50<07:14,  1.12it/s]"
     ]
    },
    {
     "name": "stdout",
     "output_type": "stream",
     "text": [
      "❌ Fetch failed: sacoin\n"
     ]
    },
    {
     "name": "stderr",
     "output_type": "stream",
     "text": [
      "Fetching coin data:  51%|█████▏    | 514/1000 [06:51<06:55,  1.17it/s]"
     ]
    },
    {
     "name": "stdout",
     "output_type": "stream",
     "text": [
      "❌ Fetch failed: virtacoinplus\n"
     ]
    },
    {
     "name": "stderr",
     "output_type": "stream",
     "text": [
      "Fetching coin data:  52%|█████▏    | 515/1000 [06:52<06:54,  1.17it/s]"
     ]
    },
    {
     "name": "stdout",
     "output_type": "stream",
     "text": [
      "❌ Fetch failed: octocoin\n"
     ]
    },
    {
     "name": "stderr",
     "output_type": "stream",
     "text": [
      "Fetching coin data:  52%|█████▏    | 516/1000 [06:53<06:31,  1.24it/s]"
     ]
    },
    {
     "name": "stdout",
     "output_type": "stream",
     "text": [
      "❌ Fetch failed: berncash\n"
     ]
    },
    {
     "name": "stderr",
     "output_type": "stream",
     "text": [
      "Fetching coin data:  52%|█████▏    | 517/1000 [06:53<06:00,  1.34it/s]"
     ]
    },
    {
     "name": "stdout",
     "output_type": "stream",
     "text": [
      "❌ Fetch failed: gameunits\n"
     ]
    },
    {
     "name": "stderr",
     "output_type": "stream",
     "text": [
      "Fetching coin data:  52%|█████▏    | 518/1000 [06:54<05:38,  1.42it/s]"
     ]
    },
    {
     "name": "stdout",
     "output_type": "stream",
     "text": [
      "❌ Fetch failed: islacoin\n"
     ]
    },
    {
     "name": "stderr",
     "output_type": "stream",
     "text": [
      "Fetching coin data:  52%|█████▏    | 519/1000 [06:55<06:00,  1.33it/s]"
     ]
    },
    {
     "name": "stdout",
     "output_type": "stream",
     "text": [
      "❌ Fetch failed: xios\n"
     ]
    },
    {
     "name": "stderr",
     "output_type": "stream",
     "text": [
      "Fetching coin data:  52%|█████▏    | 520/1000 [06:56<05:36,  1.43it/s]"
     ]
    },
    {
     "name": "stdout",
     "output_type": "stream",
     "text": [
      "❌ Fetch failed: pascal-lite\n"
     ]
    },
    {
     "name": "stderr",
     "output_type": "stream",
     "text": [
      "Fetching coin data:  52%|█████▏    | 521/1000 [06:56<05:08,  1.55it/s]"
     ]
    },
    {
     "name": "stdout",
     "output_type": "stream",
     "text": [
      "❌ Fetch failed: secretcoin\n"
     ]
    },
    {
     "name": "stderr",
     "output_type": "stream",
     "text": [
      "Fetching coin data:  52%|█████▏    | 523/1000 [06:57<04:30,  1.76it/s]"
     ]
    },
    {
     "name": "stdout",
     "output_type": "stream",
     "text": [
      "❌ Fetch failed: quatloo\n"
     ]
    },
    {
     "name": "stderr",
     "output_type": "stream",
     "text": [
      "Fetching coin data:  52%|█████▏    | 524/1000 [06:58<05:04,  1.56it/s]"
     ]
    },
    {
     "name": "stdout",
     "output_type": "stream",
     "text": [
      "❌ Fetch failed: globalboost-y\n"
     ]
    },
    {
     "name": "stderr",
     "output_type": "stream",
     "text": [
      "Fetching coin data:  52%|█████▎    | 525/1000 [06:59<05:35,  1.42it/s]"
     ]
    },
    {
     "name": "stdout",
     "output_type": "stream",
     "text": [
      "❌ Fetch failed: joincoin\n"
     ]
    },
    {
     "name": "stderr",
     "output_type": "stream",
     "text": [
      "Fetching coin data:  53%|█████▎    | 526/1000 [06:59<04:55,  1.60it/s]"
     ]
    },
    {
     "name": "stdout",
     "output_type": "stream",
     "text": [
      "❌ Fetch failed: bitcoal\n"
     ]
    },
    {
     "name": "stderr",
     "output_type": "stream",
     "text": [
      "Fetching coin data:  53%|█████▎    | 527/1000 [07:00<04:45,  1.65it/s]"
     ]
    },
    {
     "name": "stdout",
     "output_type": "stream",
     "text": [
      "❌ Fetch failed: paycon\n"
     ]
    },
    {
     "name": "stderr",
     "output_type": "stream",
     "text": [
      "Fetching coin data:  53%|█████▎    | 528/1000 [07:00<04:39,  1.69it/s]"
     ]
    },
    {
     "name": "stdout",
     "output_type": "stream",
     "text": [
      "❌ Fetch failed: sooncoin\n"
     ]
    },
    {
     "name": "stderr",
     "output_type": "stream",
     "text": [
      "Fetching coin data:  53%|█████▎    | 529/1000 [07:01<04:17,  1.83it/s]"
     ]
    },
    {
     "name": "stdout",
     "output_type": "stream",
     "text": [
      "❌ Fetch failed: sixeleven\n"
     ]
    },
    {
     "name": "stderr",
     "output_type": "stream",
     "text": [
      "Fetching coin data:  53%|█████▎    | 530/1000 [07:01<04:10,  1.88it/s]"
     ]
    },
    {
     "name": "stdout",
     "output_type": "stream",
     "text": [
      "❌ Fetch failed: eurocoin\n"
     ]
    },
    {
     "name": "stderr",
     "output_type": "stream",
     "text": [
      "Fetching coin data:  53%|█████▎    | 531/1000 [07:02<04:11,  1.86it/s]"
     ]
    },
    {
     "name": "stdout",
     "output_type": "stream",
     "text": [
      "❌ Fetch failed: darsek\n"
     ]
    },
    {
     "name": "stderr",
     "output_type": "stream",
     "text": [
      "Fetching coin data:  53%|█████▎    | 532/1000 [07:03<05:40,  1.37it/s]"
     ]
    },
    {
     "name": "stdout",
     "output_type": "stream",
     "text": [
      "❌ Fetch failed: icobid\n"
     ]
    },
    {
     "name": "stderr",
     "output_type": "stream",
     "text": [
      "Fetching coin data:  53%|█████▎    | 534/1000 [07:04<05:37,  1.38it/s]"
     ]
    },
    {
     "name": "stdout",
     "output_type": "stream",
     "text": [
      "❌ Fetch failed: enigma-coin\n"
     ]
    },
    {
     "name": "stderr",
     "output_type": "stream",
     "text": [
      "Fetching coin data:  54%|█████▎    | 535/1000 [07:05<05:23,  1.44it/s]"
     ]
    },
    {
     "name": "stdout",
     "output_type": "stream",
     "text": [
      "❌ Fetch failed: firecoin\n"
     ]
    },
    {
     "name": "stderr",
     "output_type": "stream",
     "text": [
      "Fetching coin data:  54%|█████▎    | 536/1000 [07:06<05:04,  1.52it/s]"
     ]
    },
    {
     "name": "stdout",
     "output_type": "stream",
     "text": [
      "❌ Fetch failed: evotion\n"
     ]
    },
    {
     "name": "stderr",
     "output_type": "stream",
     "text": [
      "Fetching coin data:  54%|█████▎    | 537/1000 [07:06<04:39,  1.66it/s]"
     ]
    },
    {
     "name": "stdout",
     "output_type": "stream",
     "text": [
      "❌ Fetch failed: veltor\n"
     ]
    },
    {
     "name": "stderr",
     "output_type": "stream",
     "text": [
      "Fetching coin data:  54%|█████▍    | 538/1000 [07:07<04:22,  1.76it/s]"
     ]
    },
    {
     "name": "stdout",
     "output_type": "stream",
     "text": [
      "❌ Fetch failed: polcoin\n"
     ]
    },
    {
     "name": "stderr",
     "output_type": "stream",
     "text": [
      "Fetching coin data:  54%|█████▍    | 539/1000 [07:07<04:19,  1.78it/s]"
     ]
    },
    {
     "name": "stdout",
     "output_type": "stream",
     "text": [
      "❌ Fetch failed: votecoin\n"
     ]
    },
    {
     "name": "stderr",
     "output_type": "stream",
     "text": [
      "Fetching coin data:  54%|█████▍    | 540/1000 [07:08<04:21,  1.76it/s]"
     ]
    },
    {
     "name": "stdout",
     "output_type": "stream",
     "text": [
      "❌ Fetch failed: cachecoin\n"
     ]
    },
    {
     "name": "stderr",
     "output_type": "stream",
     "text": [
      "Fetching coin data:  54%|█████▍    | 542/1000 [07:10<05:58,  1.28it/s]"
     ]
    },
    {
     "name": "stdout",
     "output_type": "stream",
     "text": [
      "❌ Fetch failed: acoin\n"
     ]
    },
    {
     "name": "stderr",
     "output_type": "stream",
     "text": [
      "Fetching coin data:  54%|█████▍    | 543/1000 [07:11<07:29,  1.02it/s]"
     ]
    },
    {
     "name": "stdout",
     "output_type": "stream",
     "text": [
      "❌ Fetch failed: yacoin\n"
     ]
    },
    {
     "name": "stderr",
     "output_type": "stream",
     "text": [
      "Fetching coin data:  54%|█████▍    | 544/1000 [07:12<07:25,  1.02it/s]"
     ]
    },
    {
     "name": "stdout",
     "output_type": "stream",
     "text": [
      "❌ Fetch failed: money\n"
     ]
    },
    {
     "name": "stderr",
     "output_type": "stream",
     "text": [
      "Fetching coin data:  55%|█████▍    | 545/1000 [07:13<08:00,  1.06s/it]"
     ]
    },
    {
     "name": "stdout",
     "output_type": "stream",
     "text": [
      "❌ Fetch failed: bumbacoin\n"
     ]
    },
    {
     "name": "stderr",
     "output_type": "stream",
     "text": [
      "Fetching coin data:  55%|█████▍    | 547/1000 [07:16<09:42,  1.29s/it]"
     ]
    },
    {
     "name": "stdout",
     "output_type": "stream",
     "text": [
      "❌ Fetch failed: boostcoin\n"
     ]
    },
    {
     "name": "stderr",
     "output_type": "stream",
     "text": [
      "Fetching coin data:  55%|█████▍    | 548/1000 [07:17<09:12,  1.22s/it]"
     ]
    },
    {
     "name": "stdout",
     "output_type": "stream",
     "text": [
      "❌ Fetch failed: franko\n"
     ]
    },
    {
     "name": "stderr",
     "output_type": "stream",
     "text": [
      "Fetching coin data:  55%|█████▍    | 549/1000 [07:18<08:25,  1.12s/it]"
     ]
    },
    {
     "name": "stdout",
     "output_type": "stream",
     "text": [
      "❌ Fetch failed: beatcoin\n"
     ]
    },
    {
     "name": "stderr",
     "output_type": "stream",
     "text": [
      "Fetching coin data:  55%|█████▌    | 550/1000 [07:19<08:00,  1.07s/it]"
     ]
    },
    {
     "name": "stdout",
     "output_type": "stream",
     "text": [
      "❌ Fetch failed: bitcoin-planet\n"
     ]
    },
    {
     "name": "stderr",
     "output_type": "stream",
     "text": [
      "Fetching coin data:  55%|█████▌    | 551/1000 [07:20<07:34,  1.01s/it]"
     ]
    },
    {
     "name": "stdout",
     "output_type": "stream",
     "text": [
      "❌ Fetch failed: elacoin\n"
     ]
    },
    {
     "name": "stderr",
     "output_type": "stream",
     "text": [
      "Fetching coin data:  55%|█████▌    | 553/1000 [07:21<06:12,  1.20it/s]"
     ]
    },
    {
     "name": "stdout",
     "output_type": "stream",
     "text": [
      "❌ Fetch failed: yenten\n"
     ]
    },
    {
     "name": "stderr",
     "output_type": "stream",
     "text": [
      "Fetching coin data:  55%|█████▌    | 554/1000 [07:22<05:35,  1.33it/s]"
     ]
    },
    {
     "name": "stdout",
     "output_type": "stream",
     "text": [
      "❌ Fetch failed: crypto\n"
     ]
    },
    {
     "name": "stderr",
     "output_type": "stream",
     "text": [
      "Fetching coin data:  56%|█████▌    | 555/1000 [07:23<05:42,  1.30it/s]"
     ]
    },
    {
     "name": "stdout",
     "output_type": "stream",
     "text": [
      "❌ Fetch failed: guccionecoin\n"
     ]
    },
    {
     "name": "stderr",
     "output_type": "stream",
     "text": [
      "Fetching coin data:  56%|█████▌    | 556/1000 [07:24<06:08,  1.21it/s]"
     ]
    },
    {
     "name": "stdout",
     "output_type": "stream",
     "text": [
      "❌ Fetch failed: warp\n"
     ]
    },
    {
     "name": "stderr",
     "output_type": "stream",
     "text": [
      "Fetching coin data:  56%|█████▌    | 558/1000 [07:28<10:09,  1.38s/it]"
     ]
    },
    {
     "name": "stdout",
     "output_type": "stream",
     "text": [
      "❌ Fetch failed: blackstar\n"
     ]
    },
    {
     "name": "stderr",
     "output_type": "stream",
     "text": [
      "Fetching coin data:  56%|█████▌    | 559/1000 [07:29<09:12,  1.25s/it]"
     ]
    },
    {
     "name": "stdout",
     "output_type": "stream",
     "text": [
      "❌ Fetch failed: antibitcoin\n"
     ]
    },
    {
     "name": "stderr",
     "output_type": "stream",
     "text": [
      "Fetching coin data:  56%|█████▌    | 560/1000 [07:30<09:17,  1.27s/it]"
     ]
    },
    {
     "name": "stdout",
     "output_type": "stream",
     "text": [
      "❌ Fetch failed: comet\n"
     ]
    },
    {
     "name": "stderr",
     "output_type": "stream",
     "text": [
      "Fetching coin data:  56%|█████▌    | 561/1000 [07:31<08:10,  1.12s/it]"
     ]
    },
    {
     "name": "stdout",
     "output_type": "stream",
     "text": [
      "❌ Fetch failed: ripto-bux\n"
     ]
    },
    {
     "name": "stderr",
     "output_type": "stream",
     "text": [
      "Fetching coin data:  56%|█████▌    | 562/1000 [07:32<07:33,  1.03s/it]"
     ]
    },
    {
     "name": "stdout",
     "output_type": "stream",
     "text": [
      "❌ Fetch failed: creatio\n"
     ]
    },
    {
     "name": "stderr",
     "output_type": "stream",
     "text": [
      "Fetching coin data:  56%|█████▋    | 563/1000 [07:32<06:35,  1.11it/s]"
     ]
    },
    {
     "name": "stdout",
     "output_type": "stream",
     "text": [
      "❌ Fetch failed: bnrtxcoin\n"
     ]
    },
    {
     "name": "stderr",
     "output_type": "stream",
     "text": [
      "Fetching coin data:  56%|█████▋    | 565/1000 [07:34<06:13,  1.16it/s]"
     ]
    },
    {
     "name": "stdout",
     "output_type": "stream",
     "text": [
      "❌ Fetch failed: marijuanacoin\n"
     ]
    },
    {
     "name": "stderr",
     "output_type": "stream",
     "text": [
      "Fetching coin data:  57%|█████▋    | 566/1000 [07:35<06:00,  1.20it/s]"
     ]
    },
    {
     "name": "stdout",
     "output_type": "stream",
     "text": [
      "❌ Fetch failed: debitcoin\n"
     ]
    },
    {
     "name": "stderr",
     "output_type": "stream",
     "text": [
      "Fetching coin data:  57%|█████▋    | 567/1000 [07:36<05:39,  1.27it/s]"
     ]
    },
    {
     "name": "stdout",
     "output_type": "stream",
     "text": [
      "❌ Fetch failed: bitcedi\n"
     ]
    },
    {
     "name": "stderr",
     "output_type": "stream",
     "text": [
      "Fetching coin data:  57%|█████▋    | 568/1000 [07:36<05:16,  1.36it/s]"
     ]
    },
    {
     "name": "stdout",
     "output_type": "stream",
     "text": [
      "❌ Fetch failed: gold-pressed-latinum\n"
     ]
    },
    {
     "name": "stderr",
     "output_type": "stream",
     "text": [
      "Fetching coin data:  57%|█████▋    | 569/1000 [07:37<05:06,  1.41it/s]"
     ]
    },
    {
     "name": "stdout",
     "output_type": "stream",
     "text": [
      "❌ Fetch failed: starcash-network\n"
     ]
    },
    {
     "name": "stderr",
     "output_type": "stream",
     "text": [
      "Fetching coin data:  57%|█████▋    | 570/1000 [07:38<05:35,  1.28it/s]"
     ]
    },
    {
     "name": "stdout",
     "output_type": "stream",
     "text": [
      "❌ Fetch failed: billarycoin\n"
     ]
    },
    {
     "name": "stderr",
     "output_type": "stream",
     "text": [
      "Fetching coin data:  57%|█████▋    | 571/1000 [07:38<05:07,  1.40it/s]"
     ]
    },
    {
     "name": "stdout",
     "output_type": "stream",
     "text": [
      "❌ Fetch failed: bitquark\n"
     ]
    },
    {
     "name": "stderr",
     "output_type": "stream",
     "text": [
      "Fetching coin data:  57%|█████▋    | 573/1000 [07:40<04:59,  1.43it/s]"
     ]
    },
    {
     "name": "stdout",
     "output_type": "stream",
     "text": [
      "❌ Fetch failed: songcoin\n"
     ]
    },
    {
     "name": "stderr",
     "output_type": "stream",
     "text": [
      "Fetching coin data:  57%|█████▋    | 574/1000 [07:40<04:42,  1.51it/s]"
     ]
    },
    {
     "name": "stdout",
     "output_type": "stream",
     "text": [
      "❌ Fetch failed: metal-music-coin\n"
     ]
    },
    {
     "name": "stderr",
     "output_type": "stream",
     "text": [
      "Fetching coin data:  57%|█████▊    | 575/1000 [07:41<04:28,  1.58it/s]"
     ]
    },
    {
     "name": "stdout",
     "output_type": "stream",
     "text": [
      "❌ Fetch failed: bowscoin\n"
     ]
    },
    {
     "name": "stderr",
     "output_type": "stream",
     "text": [
      "Fetching coin data:  58%|█████▊    | 576/1000 [07:41<04:20,  1.63it/s]"
     ]
    },
    {
     "name": "stdout",
     "output_type": "stream",
     "text": [
      "❌ Fetch failed: vector\n"
     ]
    },
    {
     "name": "stderr",
     "output_type": "stream",
     "text": [
      "Fetching coin data:  58%|█████▊    | 577/1000 [07:42<04:28,  1.58it/s]"
     ]
    },
    {
     "name": "stdout",
     "output_type": "stream",
     "text": [
      "❌ Fetch failed: litecred\n"
     ]
    },
    {
     "name": "stderr",
     "output_type": "stream",
     "text": [
      "Fetching coin data:  58%|█████▊    | 578/1000 [07:43<04:26,  1.58it/s]"
     ]
    },
    {
     "name": "stdout",
     "output_type": "stream",
     "text": [
      "❌ Fetch failed: solarflarecoin\n"
     ]
    },
    {
     "name": "stderr",
     "output_type": "stream",
     "text": [
      "Fetching coin data:  58%|█████▊    | 579/1000 [07:43<04:36,  1.52it/s]"
     ]
    },
    {
     "name": "stdout",
     "output_type": "stream",
     "text": [
      "❌ Fetch failed: idice\n"
     ]
    },
    {
     "name": "stderr",
     "output_type": "stream",
     "text": [
      "Fetching coin data:  58%|█████▊    | 580/1000 [07:44<04:27,  1.57it/s]"
     ]
    },
    {
     "name": "stdout",
     "output_type": "stream",
     "text": [
      "❌ Fetch failed: posex\n"
     ]
    },
    {
     "name": "stderr",
     "output_type": "stream",
     "text": [
      "Fetching coin data:  58%|█████▊    | 582/1000 [07:46<05:57,  1.17it/s]"
     ]
    },
    {
     "name": "stdout",
     "output_type": "stream",
     "text": [
      "❌ Fetch failed: kingn-coin\n"
     ]
    },
    {
     "name": "stderr",
     "output_type": "stream",
     "text": [
      "Fetching coin data:  58%|█████▊    | 583/1000 [07:47<05:27,  1.27it/s]"
     ]
    },
    {
     "name": "stdout",
     "output_type": "stream",
     "text": [
      "❌ Fetch failed: ponzicoin\n"
     ]
    },
    {
     "name": "stderr",
     "output_type": "stream",
     "text": [
      "Fetching coin data:  58%|█████▊    | 584/1000 [07:48<05:57,  1.16it/s]"
     ]
    },
    {
     "name": "stdout",
     "output_type": "stream",
     "text": [
      "❌ Fetch failed: cryptoescudo\n"
     ]
    },
    {
     "name": "stderr",
     "output_type": "stream",
     "text": [
      "Fetching coin data:  58%|█████▊    | 585/1000 [07:49<05:22,  1.29it/s]"
     ]
    },
    {
     "name": "stdout",
     "output_type": "stream",
     "text": [
      "❌ Fetch failed: sojourn\n"
     ]
    },
    {
     "name": "stderr",
     "output_type": "stream",
     "text": [
      "Fetching coin data:  59%|█████▊    | 586/1000 [07:49<04:56,  1.39it/s]"
     ]
    },
    {
     "name": "stdout",
     "output_type": "stream",
     "text": [
      "❌ Fetch failed: zayedcoin\n"
     ]
    },
    {
     "name": "stderr",
     "output_type": "stream",
     "text": [
      "Fetching coin data:  59%|█████▊    | 587/1000 [07:50<04:47,  1.44it/s]"
     ]
    },
    {
     "name": "stdout",
     "output_type": "stream",
     "text": [
      "❌ Fetch failed: cabbage\n"
     ]
    },
    {
     "name": "stderr",
     "output_type": "stream",
     "text": [
      "Fetching coin data:  59%|█████▉    | 588/1000 [07:50<04:28,  1.53it/s]"
     ]
    },
    {
     "name": "stdout",
     "output_type": "stream",
     "text": [
      "❌ Fetch failed: wild-beast-block\n"
     ]
    },
    {
     "name": "stderr",
     "output_type": "stream",
     "text": [
      "Fetching coin data:  59%|█████▉    | 590/1000 [07:53<06:37,  1.03it/s]"
     ]
    },
    {
     "name": "stdout",
     "output_type": "stream",
     "text": [
      "❌ Fetch failed: uro\n"
     ]
    },
    {
     "name": "stderr",
     "output_type": "stream",
     "text": [
      "Fetching coin data:  59%|█████▉    | 591/1000 [07:54<06:07,  1.11it/s]"
     ]
    },
    {
     "name": "stdout",
     "output_type": "stream",
     "text": [
      "❌ Fetch failed: vip-tokens\n"
     ]
    },
    {
     "name": "stderr",
     "output_type": "stream",
     "text": [
      "Fetching coin data:  59%|█████▉    | 592/1000 [07:54<05:49,  1.17it/s]"
     ]
    },
    {
     "name": "stdout",
     "output_type": "stream",
     "text": [
      "❌ Fetch failed: jobscoin\n"
     ]
    },
    {
     "name": "stderr",
     "output_type": "stream",
     "text": [
      "Fetching coin data:  59%|█████▉    | 593/1000 [07:55<05:43,  1.19it/s]"
     ]
    },
    {
     "name": "stdout",
     "output_type": "stream",
     "text": [
      "❌ Fetch failed: printerium\n"
     ]
    },
    {
     "name": "stderr",
     "output_type": "stream",
     "text": [
      "Fetching coin data:  59%|█████▉    | 594/1000 [07:56<05:33,  1.22it/s]"
     ]
    },
    {
     "name": "stdout",
     "output_type": "stream",
     "text": [
      "❌ Fetch failed: tagrcoin\n"
     ]
    },
    {
     "name": "stderr",
     "output_type": "stream",
     "text": [
      "Fetching coin data:  60%|█████▉    | 596/1000 [07:58<05:44,  1.17it/s]"
     ]
    },
    {
     "name": "stdout",
     "output_type": "stream",
     "text": [
      "❌ Fetch failed: unrealcoin\n"
     ]
    },
    {
     "name": "stderr",
     "output_type": "stream",
     "text": [
      "Fetching coin data:  60%|█████▉    | 597/1000 [08:00<08:02,  1.20s/it]"
     ]
    },
    {
     "name": "stdout",
     "output_type": "stream",
     "text": [
      "❌ Fetch failed: zetamicron\n"
     ]
    },
    {
     "name": "stderr",
     "output_type": "stream",
     "text": [
      "Fetching coin data:  60%|█████▉    | 598/1000 [08:00<07:01,  1.05s/it]"
     ]
    },
    {
     "name": "stdout",
     "output_type": "stream",
     "text": [
      "❌ Fetch failed: ego\n"
     ]
    },
    {
     "name": "stderr",
     "output_type": "stream",
     "text": [
      "Fetching coin data:  60%|█████▉    | 599/1000 [08:01<06:13,  1.07it/s]"
     ]
    },
    {
     "name": "stdout",
     "output_type": "stream",
     "text": [
      "❌ Fetch failed: pulse\n"
     ]
    },
    {
     "name": "stderr",
     "output_type": "stream",
     "text": [
      "Fetching coin data:  60%|██████    | 600/1000 [08:02<05:32,  1.20it/s]"
     ]
    },
    {
     "name": "stdout",
     "output_type": "stream",
     "text": [
      "❌ Fetch failed: coexistcoin\n"
     ]
    },
    {
     "name": "stderr",
     "output_type": "stream",
     "text": [
      "Fetching coin data:  60%|██████    | 601/1000 [08:02<04:57,  1.34it/s]"
     ]
    },
    {
     "name": "stdout",
     "output_type": "stream",
     "text": [
      "❌ Fetch failed: destiny\n"
     ]
    },
    {
     "name": "stderr",
     "output_type": "stream",
     "text": [
      "Fetching coin data:  60%|██████    | 603/1000 [08:03<04:17,  1.54it/s]"
     ]
    },
    {
     "name": "stdout",
     "output_type": "stream",
     "text": [
      "❌ Fetch failed: torcoin-tor\n"
     ]
    },
    {
     "name": "stderr",
     "output_type": "stream",
     "text": [
      "Fetching coin data:  60%|██████    | 604/1000 [08:04<03:57,  1.67it/s]"
     ]
    },
    {
     "name": "stdout",
     "output_type": "stream",
     "text": [
      "❌ Fetch failed: steps\n"
     ]
    },
    {
     "name": "stderr",
     "output_type": "stream",
     "text": [
      "Fetching coin data:  60%|██████    | 605/1000 [08:04<03:48,  1.73it/s]"
     ]
    },
    {
     "name": "stdout",
     "output_type": "stream",
     "text": [
      "❌ Fetch failed: playercoin\n"
     ]
    },
    {
     "name": "stderr",
     "output_type": "stream",
     "text": [
      "Fetching coin data:  61%|██████    | 606/1000 [08:05<03:30,  1.87it/s]"
     ]
    },
    {
     "name": "stdout",
     "output_type": "stream",
     "text": [
      "❌ Fetch failed: genstake\n"
     ]
    },
    {
     "name": "stderr",
     "output_type": "stream",
     "text": [
      "Fetching coin data:  61%|██████    | 607/1000 [08:06<04:32,  1.44it/s]"
     ]
    },
    {
     "name": "stdout",
     "output_type": "stream",
     "text": [
      "❌ Fetch failed: cryptoworldx-token\n"
     ]
    },
    {
     "name": "stderr",
     "output_type": "stream",
     "text": [
      "Fetching coin data:  61%|██████    | 608/1000 [08:07<04:51,  1.35it/s]"
     ]
    },
    {
     "name": "stdout",
     "output_type": "stream",
     "text": [
      "❌ Fetch failed: impulsecoin\n"
     ]
    },
    {
     "name": "stderr",
     "output_type": "stream",
     "text": [
      "Fetching coin data:  61%|██████    | 609/1000 [08:08<05:20,  1.22it/s]"
     ]
    },
    {
     "name": "stdout",
     "output_type": "stream",
     "text": [
      "❌ Fetch failed: rsgpcoin\n"
     ]
    },
    {
     "name": "stderr",
     "output_type": "stream",
     "text": [
      "Fetching coin data:  61%|██████    | 610/1000 [08:09<05:44,  1.13it/s]"
     ]
    },
    {
     "name": "stdout",
     "output_type": "stream",
     "text": [
      "❌ Fetch failed: zonecoin\n"
     ]
    },
    {
     "name": "stderr",
     "output_type": "stream",
     "text": [
      "Fetching coin data:  61%|██████    | 612/1000 [08:11<06:41,  1.04s/it]"
     ]
    },
    {
     "name": "stdout",
     "output_type": "stream",
     "text": [
      "❌ Fetch failed: piecoin\n"
     ]
    },
    {
     "name": "stderr",
     "output_type": "stream",
     "text": [
      "Fetching coin data:  61%|██████▏   | 613/1000 [08:12<06:51,  1.06s/it]"
     ]
    },
    {
     "name": "stdout",
     "output_type": "stream",
     "text": [
      "❌ Fetch failed: ride-my-car\n"
     ]
    },
    {
     "name": "stderr",
     "output_type": "stream",
     "text": [
      "Fetching coin data:  61%|██████▏   | 614/1000 [08:13<06:43,  1.04s/it]"
     ]
    },
    {
     "name": "stdout",
     "output_type": "stream",
     "text": [
      "❌ Fetch failed: letitride\n"
     ]
    },
    {
     "name": "stderr",
     "output_type": "stream",
     "text": [
      "Fetching coin data:  62%|██████▏   | 615/1000 [08:14<06:07,  1.05it/s]"
     ]
    },
    {
     "name": "stdout",
     "output_type": "stream",
     "text": [
      "❌ Fetch failed: osmiumcoin\n"
     ]
    },
    {
     "name": "stderr",
     "output_type": "stream",
     "text": [
      "Fetching coin data:  62%|██████▏   | 617/1000 [08:17<07:56,  1.25s/it]"
     ]
    },
    {
     "name": "stdout",
     "output_type": "stream",
     "text": [
      "❌ Fetch failed: sydpak\n"
     ]
    },
    {
     "name": "stderr",
     "output_type": "stream",
     "text": [
      "Fetching coin data:  62%|██████▏   | 618/1000 [08:18<06:42,  1.05s/it]"
     ]
    },
    {
     "name": "stdout",
     "output_type": "stream",
     "text": [
      "❌ Fetch failed: ibank\n"
     ]
    },
    {
     "name": "stderr",
     "output_type": "stream",
     "text": [
      "Fetching coin data:  62%|██████▏   | 619/1000 [08:19<06:21,  1.00s/it]"
     ]
    },
    {
     "name": "stdout",
     "output_type": "stream",
     "text": [
      "❌ Fetch failed: credence-coin\n"
     ]
    },
    {
     "name": "stderr",
     "output_type": "stream",
     "text": [
      "Fetching coin data:  62%|██████▏   | 620/1000 [08:20<06:38,  1.05s/it]"
     ]
    },
    {
     "name": "stdout",
     "output_type": "stream",
     "text": [
      "❌ Fetch failed: agrolifecoin\n"
     ]
    },
    {
     "name": "stderr",
     "output_type": "stream",
     "text": [
      "Fetching coin data:  62%|██████▏   | 621/1000 [08:21<06:15,  1.01it/s]"
     ]
    },
    {
     "name": "stdout",
     "output_type": "stream",
     "text": [
      "❌ Fetch failed: argus\n"
     ]
    },
    {
     "name": "stderr",
     "output_type": "stream",
     "text": [
      "Fetching coin data:  62%|██████▏   | 623/1000 [08:23<06:16,  1.00it/s]"
     ]
    },
    {
     "name": "stdout",
     "output_type": "stream",
     "text": [
      "❌ Fetch failed: crevacoin\n"
     ]
    },
    {
     "name": "stderr",
     "output_type": "stream",
     "text": [
      "Fetching coin data:  62%|██████▏   | 624/1000 [08:24<06:51,  1.10s/it]"
     ]
    },
    {
     "name": "stdout",
     "output_type": "stream",
     "text": [
      "❌ Fetch failed: elysium\n"
     ]
    },
    {
     "name": "stderr",
     "output_type": "stream",
     "text": [
      "Fetching coin data:  62%|██████▎   | 625/1000 [08:26<09:16,  1.48s/it]"
     ]
    },
    {
     "name": "stdout",
     "output_type": "stream",
     "text": [
      "❌ Fetch failed: p7coin\n"
     ]
    },
    {
     "name": "stderr",
     "output_type": "stream",
     "text": [
      "Fetching coin data:  63%|██████▎   | 627/1000 [08:29<09:09,  1.47s/it]"
     ]
    },
    {
     "name": "stdout",
     "output_type": "stream",
     "text": [
      "❌ Fetch failed: magnum\n"
     ]
    },
    {
     "name": "stderr",
     "output_type": "stream",
     "text": [
      "Fetching coin data:  63%|██████▎   | 628/1000 [08:30<08:54,  1.44s/it]"
     ]
    },
    {
     "name": "stdout",
     "output_type": "stream",
     "text": [
      "❌ Fetch failed: tychocoin\n"
     ]
    },
    {
     "name": "stderr",
     "output_type": "stream",
     "text": [
      "Fetching coin data:  63%|██████▎   | 629/1000 [08:32<08:52,  1.43s/it]"
     ]
    },
    {
     "name": "stdout",
     "output_type": "stream",
     "text": [
      "❌ Fetch failed: nodecoin\n"
     ]
    },
    {
     "name": "stderr",
     "output_type": "stream",
     "text": [
      "Fetching coin data:  63%|██████▎   | 631/1000 [08:34<07:59,  1.30s/it]"
     ]
    },
    {
     "name": "stdout",
     "output_type": "stream",
     "text": [
      "❌ Fetch failed: caliphcoin\n"
     ]
    },
    {
     "name": "stderr",
     "output_type": "stream",
     "text": [
      "Fetching coin data:  63%|██████▎   | 632/1000 [08:36<08:04,  1.32s/it]"
     ]
    },
    {
     "name": "stdout",
     "output_type": "stream",
     "text": [
      "❌ Fetch failed: ccminer\n"
     ]
    },
    {
     "name": "stderr",
     "output_type": "stream",
     "text": [
      "Fetching coin data:  63%|██████▎   | 633/1000 [08:37<08:17,  1.36s/it]"
     ]
    },
    {
     "name": "stdout",
     "output_type": "stream",
     "text": [
      "❌ Fetch failed: abncoin\n"
     ]
    },
    {
     "name": "stderr",
     "output_type": "stream",
     "text": [
      "Fetching coin data:  63%|██████▎   | 634/1000 [08:38<07:49,  1.28s/it]"
     ]
    },
    {
     "name": "stdout",
     "output_type": "stream",
     "text": [
      "❌ Fetch failed: ebittree-coin\n"
     ]
    },
    {
     "name": "stderr",
     "output_type": "stream",
     "text": [
      "Fetching coin data:  64%|██████▎   | 636/1000 [08:40<07:26,  1.23s/it]"
     ]
    },
    {
     "name": "stdout",
     "output_type": "stream",
     "text": [
      "❌ Fetch failed: huobi-token\n"
     ]
    },
    {
     "name": "stderr",
     "output_type": "stream",
     "text": [
      "Fetching coin data:  64%|██████▎   | 637/1000 [08:42<07:16,  1.20s/it]"
     ]
    },
    {
     "name": "stdout",
     "output_type": "stream",
     "text": [
      "❌ Fetch failed: digital-credits\n"
     ]
    },
    {
     "name": "stderr",
     "output_type": "stream",
     "text": [
      "Fetching coin data:  64%|██████▍   | 638/1000 [08:43<07:42,  1.28s/it]"
     ]
    },
    {
     "name": "stdout",
     "output_type": "stream",
     "text": [
      "❌ Fetch failed: bitcoin-diamond\n"
     ]
    },
    {
     "name": "stderr",
     "output_type": "stream",
     "text": [
      "Fetching coin data:  64%|██████▍   | 639/1000 [08:44<07:00,  1.16s/it]"
     ]
    },
    {
     "name": "stdout",
     "output_type": "stream",
     "text": [
      "❌ Fetch failed: atmcoin\n"
     ]
    },
    {
     "name": "stderr",
     "output_type": "stream",
     "text": [
      "Fetching coin data:  64%|██████▍   | 641/1000 [08:46<06:32,  1.09s/it]"
     ]
    },
    {
     "name": "stdout",
     "output_type": "stream",
     "text": [
      "❌ Fetch failed: oceanchain\n"
     ]
    },
    {
     "name": "stderr",
     "output_type": "stream",
     "text": [
      "Fetching coin data:  64%|██████▍   | 642/1000 [08:47<07:09,  1.20s/it]"
     ]
    },
    {
     "name": "stdout",
     "output_type": "stream",
     "text": [
      "❌ Fetch failed: chatcoin\n"
     ]
    },
    {
     "name": "stderr",
     "output_type": "stream",
     "text": [
      "Fetching coin data:  64%|██████▍   | 643/1000 [08:49<07:23,  1.24s/it]"
     ]
    },
    {
     "name": "stdout",
     "output_type": "stream",
     "text": [
      "❌ Fetch failed: linkeye\n"
     ]
    },
    {
     "name": "stderr",
     "output_type": "stream",
     "text": [
      "Fetching coin data:  64%|██████▍   | 644/1000 [08:50<06:46,  1.14s/it]"
     ]
    },
    {
     "name": "stdout",
     "output_type": "stream",
     "text": [
      "❌ Fetch failed: waykichain\n"
     ]
    },
    {
     "name": "stderr",
     "output_type": "stream",
     "text": [
      "Fetching coin data:  64%|██████▍   | 645/1000 [08:51<06:20,  1.07s/it]"
     ]
    },
    {
     "name": "stdout",
     "output_type": "stream",
     "text": [
      "❌ Fetch failed: lightning-bitcoin\n"
     ]
    },
    {
     "name": "stderr",
     "output_type": "stream",
     "text": [
      "Fetching coin data:  65%|██████▍   | 647/1000 [08:53<06:33,  1.11s/it]"
     ]
    },
    {
     "name": "stdout",
     "output_type": "stream",
     "text": [
      "❌ Fetch failed: w3coin\n"
     ]
    },
    {
     "name": "stderr",
     "output_type": "stream",
     "text": [
      "Fetching coin data:  65%|██████▍   | 648/1000 [08:54<06:09,  1.05s/it]"
     ]
    },
    {
     "name": "stdout",
     "output_type": "stream",
     "text": [
      "❌ Fetch failed: ofcoin\n"
     ]
    },
    {
     "name": "stderr",
     "output_type": "stream",
     "text": [
      "Fetching coin data:  65%|██████▍   | 649/1000 [08:54<05:22,  1.09it/s]"
     ]
    },
    {
     "name": "stdout",
     "output_type": "stream",
     "text": [
      "❌ Fetch failed: mktcoin\n"
     ]
    },
    {
     "name": "stderr",
     "output_type": "stream",
     "text": [
      "Fetching coin data:  65%|██████▌   | 650/1000 [08:55<04:58,  1.17it/s]"
     ]
    },
    {
     "name": "stdout",
     "output_type": "stream",
     "text": [
      "❌ Fetch failed: united-bitcoin\n"
     ]
    },
    {
     "name": "stderr",
     "output_type": "stream",
     "text": [
      "Fetching coin data:  65%|██████▌   | 651/1000 [08:56<05:19,  1.09it/s]"
     ]
    },
    {
     "name": "stdout",
     "output_type": "stream",
     "text": [
      "❌ Fetch failed: selfsell\n"
     ]
    },
    {
     "name": "stderr",
     "output_type": "stream",
     "text": [
      "Fetching coin data:  65%|██████▌   | 653/1000 [08:58<05:10,  1.12it/s]"
     ]
    },
    {
     "name": "stdout",
     "output_type": "stream",
     "text": [
      "❌ Fetch failed: fusion\n"
     ]
    },
    {
     "name": "stderr",
     "output_type": "stream",
     "text": [
      "Fetching coin data:  65%|██████▌   | 654/1000 [08:59<05:40,  1.02it/s]"
     ]
    },
    {
     "name": "stdout",
     "output_type": "stream",
     "text": [
      "❌ Fetch failed: matrix-ai-network\n"
     ]
    },
    {
     "name": "stderr",
     "output_type": "stream",
     "text": [
      "Fetching coin data:  66%|██████▌   | 655/1000 [09:00<05:38,  1.02it/s]"
     ]
    },
    {
     "name": "stdout",
     "output_type": "stream",
     "text": [
      "❌ Fetch failed: mergecoin\n"
     ]
    },
    {
     "name": "stderr",
     "output_type": "stream",
     "text": [
      "Fetching coin data:  66%|██████▌   | 656/1000 [09:01<05:43,  1.00it/s]"
     ]
    },
    {
     "name": "stdout",
     "output_type": "stream",
     "text": [
      "❌ Fetch failed: super-bitcoin\n"
     ]
    },
    {
     "name": "stderr",
     "output_type": "stream",
     "text": [
      "Fetching coin data:  66%|██████▌   | 657/1000 [09:02<05:25,  1.05it/s]"
     ]
    },
    {
     "name": "stdout",
     "output_type": "stream",
     "text": [
      "❌ Fetch failed: tezos\n"
     ]
    },
    {
     "name": "stderr",
     "output_type": "stream",
     "text": [
      "Fetching coin data:  66%|██████▌   | 659/1000 [09:04<05:36,  1.01it/s]"
     ]
    },
    {
     "name": "stdout",
     "output_type": "stream",
     "text": [
      "❌ Fetch failed: infchain\n"
     ]
    },
    {
     "name": "stderr",
     "output_type": "stream",
     "text": [
      "Fetching coin data:  66%|██████▌   | 660/1000 [09:05<04:49,  1.18it/s]"
     ]
    },
    {
     "name": "stdout",
     "output_type": "stream",
     "text": [
      "❌ Fetch failed: litecoin-cash\n"
     ]
    },
    {
     "name": "stderr",
     "output_type": "stream",
     "text": [
      "Fetching coin data:  66%|██████▌   | 661/1000 [09:05<04:27,  1.27it/s]"
     ]
    },
    {
     "name": "stdout",
     "output_type": "stream",
     "text": [
      "❌ Fetch failed: blazercoin\n"
     ]
    },
    {
     "name": "stderr",
     "output_type": "stream",
     "text": [
      "Fetching coin data:  66%|██████▌   | 662/1000 [09:06<04:37,  1.22it/s]"
     ]
    },
    {
     "name": "stdout",
     "output_type": "stream",
     "text": [
      "❌ Fetch failed: jingtum-tech\n"
     ]
    },
    {
     "name": "stderr",
     "output_type": "stream",
     "text": [
      "Fetching coin data:  66%|██████▋   | 663/1000 [09:07<04:45,  1.18it/s]"
     ]
    },
    {
     "name": "stdout",
     "output_type": "stream",
     "text": [
      "❌ Fetch failed: bitsoar\n"
     ]
    },
    {
     "name": "stderr",
     "output_type": "stream",
     "text": [
      "Fetching coin data:  66%|██████▋   | 664/1000 [09:08<05:08,  1.09it/s]"
     ]
    },
    {
     "name": "stdout",
     "output_type": "stream",
     "text": [
      "❌ Fetch failed: aidos-kuneen\n"
     ]
    },
    {
     "name": "stderr",
     "output_type": "stream",
     "text": [
      "Fetching coin data:  67%|██████▋   | 666/1000 [09:10<05:03,  1.10it/s]"
     ]
    },
    {
     "name": "stdout",
     "output_type": "stream",
     "text": [
      "❌ Fetch failed: numus\n"
     ]
    },
    {
     "name": "stderr",
     "output_type": "stream",
     "text": [
      "Fetching coin data:  67%|██████▋   | 667/1000 [09:11<04:54,  1.13it/s]"
     ]
    },
    {
     "name": "stdout",
     "output_type": "stream",
     "text": [
      "❌ Fetch failed: ea-coin\n"
     ]
    },
    {
     "name": "stderr",
     "output_type": "stream",
     "text": [
      "Fetching coin data:  67%|██████▋   | 668/1000 [09:11<04:26,  1.25it/s]"
     ]
    },
    {
     "name": "stdout",
     "output_type": "stream",
     "text": [
      "❌ Fetch failed: stronghands\n"
     ]
    },
    {
     "name": "stderr",
     "output_type": "stream",
     "text": [
      "Fetching coin data:  67%|██████▋   | 669/1000 [09:12<04:33,  1.21it/s]"
     ]
    },
    {
     "name": "stdout",
     "output_type": "stream",
     "text": [
      "❌ Fetch failed: strikebitclub\n"
     ]
    },
    {
     "name": "stderr",
     "output_type": "stream",
     "text": [
      "Fetching coin data:  67%|██████▋   | 670/1000 [09:14<06:11,  1.12s/it]"
     ]
    },
    {
     "name": "stdout",
     "output_type": "stream",
     "text": [
      "❌ Fetch failed: segwit2x\n"
     ]
    },
    {
     "name": "stderr",
     "output_type": "stream",
     "text": [
      "Fetching coin data:  67%|██████▋   | 672/1000 [09:16<04:53,  1.12it/s]"
     ]
    },
    {
     "name": "stdout",
     "output_type": "stream",
     "text": [
      "❌ Fetch failed: vpncoin\n"
     ]
    },
    {
     "name": "stderr",
     "output_type": "stream",
     "text": [
      "Fetching coin data:  67%|██████▋   | 673/1000 [09:16<04:52,  1.12it/s]"
     ]
    },
    {
     "name": "stdout",
     "output_type": "stream",
     "text": [
      "❌ Fetch failed: infinitecoin\n"
     ]
    },
    {
     "name": "stderr",
     "output_type": "stream",
     "text": [
      "Fetching coin data:  67%|██████▋   | 674/1000 [09:17<04:56,  1.10it/s]"
     ]
    },
    {
     "name": "stdout",
     "output_type": "stream",
     "text": [
      "❌ Fetch failed: landcoin\n"
     ]
    },
    {
     "name": "stderr",
     "output_type": "stream",
     "text": [
      "Fetching coin data:  68%|██████▊   | 675/1000 [09:18<05:14,  1.03it/s]"
     ]
    },
    {
     "name": "stdout",
     "output_type": "stream",
     "text": [
      "❌ Fetch failed: pabyosi-coin-special\n"
     ]
    },
    {
     "name": "stderr",
     "output_type": "stream",
     "text": [
      "Fetching coin data:  68%|██████▊   | 676/1000 [09:19<05:11,  1.04it/s]"
     ]
    },
    {
     "name": "stdout",
     "output_type": "stream",
     "text": [
      "❌ Fetch failed: swisscoin\n"
     ]
    },
    {
     "name": "stderr",
     "output_type": "stream",
     "text": [
      "Fetching coin data:  68%|██████▊   | 677/1000 [09:20<04:54,  1.10it/s]"
     ]
    },
    {
     "name": "stdout",
     "output_type": "stream",
     "text": [
      "❌ Fetch failed: acchain\n"
     ]
    },
    {
     "name": "stderr",
     "output_type": "stream",
     "text": [
      "Fetching coin data:  68%|██████▊   | 679/1000 [09:22<04:57,  1.08it/s]"
     ]
    },
    {
     "name": "stdout",
     "output_type": "stream",
     "text": [
      "❌ Fetch failed: msd\n"
     ]
    },
    {
     "name": "stderr",
     "output_type": "stream",
     "text": [
      "Fetching coin data:  68%|██████▊   | 680/1000 [09:23<05:09,  1.03it/s]"
     ]
    },
    {
     "name": "stdout",
     "output_type": "stream",
     "text": [
      "❌ Fetch failed: golos-gold\n"
     ]
    },
    {
     "name": "stderr",
     "output_type": "stream",
     "text": [
      "Fetching coin data:  68%|██████▊   | 681/1000 [09:24<04:52,  1.09it/s]"
     ]
    },
    {
     "name": "stdout",
     "output_type": "stream",
     "text": [
      "❌ Fetch failed: b3coin\n"
     ]
    },
    {
     "name": "stderr",
     "output_type": "stream",
     "text": [
      "Fetching coin data:  68%|██████▊   | 682/1000 [09:24<04:13,  1.25it/s]"
     ]
    },
    {
     "name": "stdout",
     "output_type": "stream",
     "text": [
      "❌ Fetch failed: entcash\n"
     ]
    },
    {
     "name": "stderr",
     "output_type": "stream",
     "text": [
      "Fetching coin data:  68%|██████▊   | 683/1000 [09:25<04:28,  1.18it/s]"
     ]
    },
    {
     "name": "stdout",
     "output_type": "stream",
     "text": [
      "❌ Fetch failed: win-coin\n"
     ]
    },
    {
     "name": "stderr",
     "output_type": "stream",
     "text": [
      "Fetching coin data:  68%|██████▊   | 684/1000 [09:26<04:37,  1.14it/s]"
     ]
    },
    {
     "name": "stdout",
     "output_type": "stream",
     "text": [
      "❌ Fetch failed: lepen\n"
     ]
    },
    {
     "name": "stderr",
     "output_type": "stream",
     "text": [
      "Fetching coin data:  69%|██████▊   | 686/1000 [09:28<04:56,  1.06it/s]"
     ]
    },
    {
     "name": "stdout",
     "output_type": "stream",
     "text": [
      "❌ Fetch failed: casinocoin\n"
     ]
    },
    {
     "name": "stderr",
     "output_type": "stream",
     "text": [
      "Fetching coin data:  69%|██████▊   | 687/1000 [09:29<04:54,  1.06it/s]"
     ]
    },
    {
     "name": "stdout",
     "output_type": "stream",
     "text": [
      "❌ Fetch failed: galactrum\n"
     ]
    },
    {
     "name": "stderr",
     "output_type": "stream",
     "text": [
      "Fetching coin data:  69%|██████▉   | 688/1000 [09:30<04:52,  1.07it/s]"
     ]
    },
    {
     "name": "stdout",
     "output_type": "stream",
     "text": [
      "❌ Fetch failed: crave\n"
     ]
    },
    {
     "name": "stderr",
     "output_type": "stream",
     "text": [
      "Fetching coin data:  69%|██████▉   | 689/1000 [09:31<04:41,  1.10it/s]"
     ]
    },
    {
     "name": "stdout",
     "output_type": "stream",
     "text": [
      "❌ Fetch failed: edrcoin\n"
     ]
    },
    {
     "name": "stderr",
     "output_type": "stream",
     "text": [
      "Fetching coin data:  69%|██████▉   | 690/1000 [09:32<05:12,  1.01s/it]"
     ]
    },
    {
     "name": "stdout",
     "output_type": "stream",
     "text": [
      "❌ Fetch failed: sparks\n"
     ]
    },
    {
     "name": "stderr",
     "output_type": "stream",
     "text": [
      "Fetching coin data:  69%|██████▉   | 692/1000 [09:34<05:14,  1.02s/it]"
     ]
    },
    {
     "name": "stdout",
     "output_type": "stream",
     "text": [
      "❌ Fetch failed: superior-coin\n"
     ]
    },
    {
     "name": "stderr",
     "output_type": "stream",
     "text": [
      "Fetching coin data:  69%|██████▉   | 693/1000 [09:36<06:28,  1.26s/it]"
     ]
    },
    {
     "name": "stdout",
     "output_type": "stream",
     "text": [
      "❌ Fetch failed: wa-space\n"
     ]
    },
    {
     "name": "stderr",
     "output_type": "stream",
     "text": [
      "Fetching coin data:  69%|██████▉   | 694/1000 [09:38<06:34,  1.29s/it]"
     ]
    },
    {
     "name": "stdout",
     "output_type": "stream",
     "text": [
      "❌ Fetch failed: grandcoin\n"
     ]
    },
    {
     "name": "stderr",
     "output_type": "stream",
     "text": [
      "Fetching coin data:  70%|██████▉   | 695/1000 [09:39<06:02,  1.19s/it]"
     ]
    },
    {
     "name": "stdout",
     "output_type": "stream",
     "text": [
      "❌ Fetch failed: avatarcoin\n"
     ]
    },
    {
     "name": "stderr",
     "output_type": "stream",
     "text": [
      "Fetching coin data:  70%|██████▉   | 697/1000 [09:40<05:02,  1.00it/s]"
     ]
    },
    {
     "name": "stdout",
     "output_type": "stream",
     "text": [
      "❌ Fetch failed: international-diamond\n"
     ]
    },
    {
     "name": "stderr",
     "output_type": "stream",
     "text": [
      "Fetching coin data:  70%|██████▉   | 698/1000 [09:41<04:54,  1.03it/s]"
     ]
    },
    {
     "name": "stdout",
     "output_type": "stream",
     "text": [
      "❌ Fetch failed: sjwcoin\n"
     ]
    },
    {
     "name": "stderr",
     "output_type": "stream",
     "text": [
      "Fetching coin data:  70%|██████▉   | 699/1000 [09:42<04:32,  1.10it/s]"
     ]
    },
    {
     "name": "stdout",
     "output_type": "stream",
     "text": [
      "❌ Fetch failed: bitcoin-atom\n"
     ]
    },
    {
     "name": "stderr",
     "output_type": "stream",
     "text": [
      "Fetching coin data:  70%|███████   | 700/1000 [09:44<06:08,  1.23s/it]"
     ]
    },
    {
     "name": "stdout",
     "output_type": "stream",
     "text": [
      "❌ Fetch failed: harvest-masternode-coin\n"
     ]
    },
    {
     "name": "stderr",
     "output_type": "stream",
     "text": [
      "Fetching coin data:  70%|███████   | 701/1000 [09:45<05:10,  1.04s/it]"
     ]
    },
    {
     "name": "stdout",
     "output_type": "stream",
     "text": [
      "❌ Fetch failed: terranova\n"
     ]
    },
    {
     "name": "stderr",
     "output_type": "stream",
     "text": [
      "Fetching coin data:  70%|███████   | 703/1000 [09:46<04:02,  1.22it/s]"
     ]
    },
    {
     "name": "stdout",
     "output_type": "stream",
     "text": [
      "❌ Fetch failed: bt2-cst\n"
     ]
    },
    {
     "name": "stderr",
     "output_type": "stream",
     "text": [
      "Fetching coin data:  70%|███████   | 704/1000 [09:46<03:46,  1.31it/s]"
     ]
    },
    {
     "name": "stdout",
     "output_type": "stream",
     "text": [
      "❌ Fetch failed: flappycoin\n"
     ]
    },
    {
     "name": "stderr",
     "output_type": "stream",
     "text": [
      "Fetching coin data:  70%|███████   | 705/1000 [09:47<03:32,  1.39it/s]"
     ]
    },
    {
     "name": "stdout",
     "output_type": "stream",
     "text": [
      "❌ Fetch failed: royalties\n"
     ]
    },
    {
     "name": "stderr",
     "output_type": "stream",
     "text": [
      "Fetching coin data:  71%|███████   | 706/1000 [09:48<03:17,  1.49it/s]"
     ]
    },
    {
     "name": "stdout",
     "output_type": "stream",
     "text": [
      "❌ Fetch failed: cyder\n"
     ]
    },
    {
     "name": "stderr",
     "output_type": "stream",
     "text": [
      "Fetching coin data:  71%|███████   | 707/1000 [09:48<03:19,  1.47it/s]"
     ]
    },
    {
     "name": "stdout",
     "output_type": "stream",
     "text": [
      "❌ Fetch failed: techshares\n"
     ]
    },
    {
     "name": "stderr",
     "output_type": "stream",
     "text": [
      "Fetching coin data:  71%|███████   | 708/1000 [09:49<03:40,  1.32it/s]"
     ]
    },
    {
     "name": "stdout",
     "output_type": "stream",
     "text": [
      "❌ Fetch failed: hyper\n"
     ]
    },
    {
     "name": "stderr",
     "output_type": "stream",
     "text": [
      "Fetching coin data:  71%|███████   | 709/1000 [09:50<03:54,  1.24it/s]"
     ]
    },
    {
     "name": "stdout",
     "output_type": "stream",
     "text": [
      "❌ Fetch failed: donationcoin\n"
     ]
    },
    {
     "name": "stderr",
     "output_type": "stream",
     "text": [
      "Fetching coin data:  71%|███████   | 710/1000 [09:51<03:22,  1.43it/s]"
     ]
    },
    {
     "name": "stdout",
     "output_type": "stream",
     "text": [
      "❌ Fetch failed: fazzcoin\n"
     ]
    },
    {
     "name": "stderr",
     "output_type": "stream",
     "text": [
      "Fetching coin data:  71%|███████   | 712/1000 [09:52<03:42,  1.29it/s]"
     ]
    },
    {
     "name": "stdout",
     "output_type": "stream",
     "text": [
      "❌ Fetch failed: cubits\n"
     ]
    },
    {
     "name": "stderr",
     "output_type": "stream",
     "text": [
      "Fetching coin data:  71%|███████▏  | 713/1000 [09:53<03:48,  1.26it/s]"
     ]
    },
    {
     "name": "stdout",
     "output_type": "stream",
     "text": [
      "❌ Fetch failed: jiyo-old\n"
     ]
    },
    {
     "name": "stderr",
     "output_type": "stream",
     "text": [
      "Fetching coin data:  71%|███████▏  | 714/1000 [09:54<04:13,  1.13it/s]"
     ]
    },
    {
     "name": "stdout",
     "output_type": "stream",
     "text": [
      "❌ Fetch failed: sakuracoin\n"
     ]
    },
    {
     "name": "stderr",
     "output_type": "stream",
     "text": [
      "Fetching coin data:  72%|███████▏  | 715/1000 [09:55<04:31,  1.05it/s]"
     ]
    },
    {
     "name": "stdout",
     "output_type": "stream",
     "text": [
      "❌ Fetch failed: deuscoin\n"
     ]
    },
    {
     "name": "stderr",
     "output_type": "stream",
     "text": [
      "Fetching coin data:  72%|███████▏  | 716/1000 [09:56<04:42,  1.01it/s]"
     ]
    },
    {
     "name": "stdout",
     "output_type": "stream",
     "text": [
      "❌ Fetch failed: tellurion\n"
     ]
    },
    {
     "name": "stderr",
     "output_type": "stream",
     "text": [
      "Fetching coin data:  72%|███████▏  | 718/1000 [09:58<04:26,  1.06it/s]"
     ]
    },
    {
     "name": "stdout",
     "output_type": "stream",
     "text": [
      "❌ Fetch failed: golfcoin\n"
     ]
    },
    {
     "name": "stderr",
     "output_type": "stream",
     "text": [
      "Fetching coin data:  72%|███████▏  | 719/1000 [09:59<04:30,  1.04it/s]"
     ]
    },
    {
     "name": "stdout",
     "output_type": "stream",
     "text": [
      "❌ Fetch failed: t-coin\n"
     ]
    },
    {
     "name": "stderr",
     "output_type": "stream",
     "text": [
      "Fetching coin data:  72%|███████▏  | 720/1000 [10:00<04:00,  1.16it/s]"
     ]
    },
    {
     "name": "stdout",
     "output_type": "stream",
     "text": [
      "❌ Fetch failed: compcoin\n"
     ]
    },
    {
     "name": "stderr",
     "output_type": "stream",
     "text": [
      "Fetching coin data:  72%|███████▏  | 721/1000 [10:01<03:57,  1.18it/s]"
     ]
    },
    {
     "name": "stdout",
     "output_type": "stream",
     "text": [
      "❌ Fetch failed: bastonet\n"
     ]
    },
    {
     "name": "stderr",
     "output_type": "stream",
     "text": [
      "Fetching coin data:  72%|███████▏  | 722/1000 [10:02<03:55,  1.18it/s]"
     ]
    },
    {
     "name": "stdout",
     "output_type": "stream",
     "text": [
      "❌ Fetch failed: klondikecoin\n"
     ]
    },
    {
     "name": "stderr",
     "output_type": "stream",
     "text": [
      "Fetching coin data:  72%|███████▏  | 723/1000 [10:02<03:50,  1.20it/s]"
     ]
    },
    {
     "name": "stdout",
     "output_type": "stream",
     "text": [
      "❌ Fetch failed: francs\n"
     ]
    },
    {
     "name": "stderr",
     "output_type": "stream",
     "text": [
      "Fetching coin data:  72%|███████▎  | 725/1000 [10:04<03:58,  1.15it/s]"
     ]
    },
    {
     "name": "stdout",
     "output_type": "stream",
     "text": [
      "❌ Fetch failed: batcoin\n"
     ]
    },
    {
     "name": "stderr",
     "output_type": "stream",
     "text": [
      "Fetching coin data:  73%|███████▎  | 726/1000 [10:05<03:59,  1.14it/s]"
     ]
    },
    {
     "name": "stdout",
     "output_type": "stream",
     "text": [
      "❌ Fetch failed: slothcoin\n"
     ]
    },
    {
     "name": "stderr",
     "output_type": "stream",
     "text": [
      "Fetching coin data:  73%|███████▎  | 727/1000 [10:06<04:13,  1.08it/s]"
     ]
    },
    {
     "name": "stdout",
     "output_type": "stream",
     "text": [
      "❌ Fetch failed: sharkcoin\n"
     ]
    },
    {
     "name": "stderr",
     "output_type": "stream",
     "text": [
      "Fetching coin data:  73%|███████▎  | 728/1000 [10:07<04:11,  1.08it/s]"
     ]
    },
    {
     "name": "stdout",
     "output_type": "stream",
     "text": [
      "❌ Fetch failed: x2\n"
     ]
    },
    {
     "name": "stderr",
     "output_type": "stream",
     "text": [
      "Fetching coin data:  73%|███████▎  | 729/1000 [10:08<04:17,  1.05it/s]"
     ]
    },
    {
     "name": "stdout",
     "output_type": "stream",
     "text": [
      "❌ Fetch failed: safe-trade-coin\n"
     ]
    },
    {
     "name": "stderr",
     "output_type": "stream",
     "text": [
      "Fetching coin data:  73%|███████▎  | 730/1000 [10:09<04:08,  1.09it/s]"
     ]
    },
    {
     "name": "stdout",
     "output_type": "stream",
     "text": [
      "❌ Fetch failed: digital-bullion-gold\n"
     ]
    },
    {
     "name": "stderr",
     "output_type": "stream",
     "text": [
      "Fetching coin data:  73%|███████▎  | 732/1000 [10:11<04:04,  1.10it/s]"
     ]
    },
    {
     "name": "stdout",
     "output_type": "stream",
     "text": [
      "❌ Fetch failed: ur\n"
     ]
    },
    {
     "name": "stderr",
     "output_type": "stream",
     "text": [
      "Fetching coin data:  73%|███████▎  | 733/1000 [10:12<04:26,  1.00it/s]"
     ]
    },
    {
     "name": "stdout",
     "output_type": "stream",
     "text": [
      "❌ Fetch failed: irishcoin\n"
     ]
    },
    {
     "name": "stderr",
     "output_type": "stream",
     "text": [
      "Fetching coin data:  73%|███████▎  | 734/1000 [10:14<06:09,  1.39s/it]"
     ]
    },
    {
     "name": "stdout",
     "output_type": "stream",
     "text": [
      "❌ Fetch failed: dashs\n"
     ]
    },
    {
     "name": "stderr",
     "output_type": "stream",
     "text": [
      "Fetching coin data:  74%|███████▎  | 735/1000 [10:15<05:04,  1.15s/it]"
     ]
    },
    {
     "name": "stdout",
     "output_type": "stream",
     "text": [
      "❌ Fetch failed: marxcoin\n"
     ]
    },
    {
     "name": "stderr",
     "output_type": "stream",
     "text": [
      "Fetching coin data:  74%|███████▎  | 737/1000 [10:16<03:58,  1.10it/s]"
     ]
    },
    {
     "name": "stdout",
     "output_type": "stream",
     "text": [
      "❌ Fetch failed: avoncoin\n"
     ]
    },
    {
     "name": "stderr",
     "output_type": "stream",
     "text": [
      "Fetching coin data:  74%|███████▍  | 738/1000 [10:17<03:35,  1.22it/s]"
     ]
    },
    {
     "name": "stdout",
     "output_type": "stream",
     "text": [
      "❌ Fetch failed: numuscash\n"
     ]
    },
    {
     "name": "stderr",
     "output_type": "stream",
     "text": [
      "Fetching coin data:  74%|███████▍  | 739/1000 [10:18<03:39,  1.19it/s]"
     ]
    },
    {
     "name": "stdout",
     "output_type": "stream",
     "text": [
      "❌ Fetch failed: ugain\n"
     ]
    },
    {
     "name": "stderr",
     "output_type": "stream",
     "text": [
      "Fetching coin data:  74%|███████▍  | 740/1000 [10:18<03:19,  1.30it/s]"
     ]
    },
    {
     "name": "stdout",
     "output_type": "stream",
     "text": [
      "❌ Fetch failed: fonziecoin\n"
     ]
    },
    {
     "name": "stderr",
     "output_type": "stream",
     "text": [
      "Fetching coin data:  74%|███████▍  | 741/1000 [10:19<03:07,  1.38it/s]"
     ]
    },
    {
     "name": "stdout",
     "output_type": "stream",
     "text": [
      "❌ Fetch failed: levocoin\n"
     ]
    },
    {
     "name": "stderr",
     "output_type": "stream",
     "text": [
      "Fetching coin data:  74%|███████▍  | 742/1000 [10:19<02:50,  1.51it/s]"
     ]
    },
    {
     "name": "stdout",
     "output_type": "stream",
     "text": [
      "❌ Fetch failed: india-coin\n"
     ]
    },
    {
     "name": "stderr",
     "output_type": "stream",
     "text": [
      "Fetching coin data:  74%|███████▍  | 743/1000 [10:21<03:43,  1.15it/s]"
     ]
    },
    {
     "name": "stdout",
     "output_type": "stream",
     "text": [
      "❌ Fetch failed: coffeecoin\n"
     ]
    },
    {
     "name": "stderr",
     "output_type": "stream",
     "text": [
      "Fetching coin data:  74%|███████▍  | 745/1000 [10:23<04:23,  1.03s/it]"
     ]
    },
    {
     "name": "stdout",
     "output_type": "stream",
     "text": [
      "❌ Fetch failed: pokecoin\n"
     ]
    },
    {
     "name": "stderr",
     "output_type": "stream",
     "text": [
      "Fetching coin data:  75%|███████▍  | 746/1000 [10:24<03:54,  1.08it/s]"
     ]
    },
    {
     "name": "stdout",
     "output_type": "stream",
     "text": [
      "❌ Fetch failed: xtd-coin\n"
     ]
    },
    {
     "name": "stderr",
     "output_type": "stream",
     "text": [
      "Fetching coin data:  75%|███████▍  | 747/1000 [10:24<03:29,  1.21it/s]"
     ]
    },
    {
     "name": "stdout",
     "output_type": "stream",
     "text": [
      "❌ Fetch failed: pinkdog\n"
     ]
    },
    {
     "name": "stderr",
     "output_type": "stream",
     "text": [
      "Fetching coin data:  75%|███████▍  | 748/1000 [10:25<03:18,  1.27it/s]"
     ]
    },
    {
     "name": "stdout",
     "output_type": "stream",
     "text": [
      "❌ Fetch failed: quotient\n"
     ]
    },
    {
     "name": "stderr",
     "output_type": "stream",
     "text": [
      "Fetching coin data:  75%|███████▍  | 749/1000 [10:26<02:59,  1.40it/s]"
     ]
    },
    {
     "name": "stdout",
     "output_type": "stream",
     "text": [
      "❌ Fetch failed: royalcoin\n"
     ]
    },
    {
     "name": "stderr",
     "output_type": "stream",
     "text": [
      "Fetching coin data:  75%|███████▌  | 750/1000 [10:26<02:47,  1.49it/s]"
     ]
    },
    {
     "name": "stdout",
     "output_type": "stream",
     "text": [
      "❌ Fetch failed: uncoin\n"
     ]
    },
    {
     "name": "stderr",
     "output_type": "stream",
     "text": [
      "Fetching coin data:  75%|███████▌  | 751/1000 [10:27<02:47,  1.49it/s]"
     ]
    },
    {
     "name": "stdout",
     "output_type": "stream",
     "text": [
      "❌ Fetch failed: gaycoin\n"
     ]
    },
    {
     "name": "stderr",
     "output_type": "stream",
     "text": [
      "Fetching coin data:  75%|███████▌  | 753/1000 [10:28<02:48,  1.47it/s]"
     ]
    },
    {
     "name": "stdout",
     "output_type": "stream",
     "text": [
      "❌ Fetch failed: shellcoin\n"
     ]
    },
    {
     "name": "stderr",
     "output_type": "stream",
     "text": [
      "Fetching coin data:  75%|███████▌  | 754/1000 [10:29<03:23,  1.21it/s]"
     ]
    },
    {
     "name": "stdout",
     "output_type": "stream",
     "text": [
      "❌ Fetch failed: bitok\n"
     ]
    },
    {
     "name": "stderr",
     "output_type": "stream",
     "text": [
      "Fetching coin data:  76%|███████▌  | 755/1000 [10:30<03:00,  1.36it/s]"
     ]
    },
    {
     "name": "stdout",
     "output_type": "stream",
     "text": [
      "❌ Fetch failed: turbocoin\n"
     ]
    },
    {
     "name": "stderr",
     "output_type": "stream",
     "text": [
      "Fetching coin data:  76%|███████▌  | 756/1000 [10:30<02:47,  1.46it/s]"
     ]
    },
    {
     "name": "stdout",
     "output_type": "stream",
     "text": [
      "❌ Fetch failed: teamup\n"
     ]
    },
    {
     "name": "stderr",
     "output_type": "stream",
     "text": [
      "Fetching coin data:  76%|███████▌  | 757/1000 [10:31<02:43,  1.48it/s]"
     ]
    },
    {
     "name": "stdout",
     "output_type": "stream",
     "text": [
      "❌ Fetch failed: dutch-coin\n"
     ]
    },
    {
     "name": "stderr",
     "output_type": "stream",
     "text": [
      "Fetching coin data:  76%|███████▌  | 758/1000 [10:32<02:42,  1.49it/s]"
     ]
    },
    {
     "name": "stdout",
     "output_type": "stream",
     "text": [
      "❌ Fetch failed: htmlcoin\n"
     ]
    },
    {
     "name": "stderr",
     "output_type": "stream",
     "text": [
      "Fetching coin data:  76%|███████▌  | 759/1000 [10:32<02:31,  1.59it/s]"
     ]
    },
    {
     "name": "stdout",
     "output_type": "stream",
     "text": [
      "❌ Fetch failed: fireflycoin\n"
     ]
    },
    {
     "name": "stderr",
     "output_type": "stream",
     "text": [
      "Fetching coin data:  76%|███████▌  | 760/1000 [10:33<02:27,  1.62it/s]"
     ]
    },
    {
     "name": "stdout",
     "output_type": "stream",
     "text": [
      "❌ Fetch failed: safecoin\n"
     ]
    },
    {
     "name": "stderr",
     "output_type": "stream",
     "text": [
      "Fetching coin data:  76%|███████▌  | 762/1000 [10:34<02:23,  1.66it/s]"
     ]
    },
    {
     "name": "stdout",
     "output_type": "stream",
     "text": [
      "❌ Fetch failed: zsecoin\n"
     ]
    },
    {
     "name": "stderr",
     "output_type": "stream",
     "text": [
      "Fetching coin data:  76%|███████▋  | 763/1000 [10:35<02:23,  1.65it/s]"
     ]
    },
    {
     "name": "stdout",
     "output_type": "stream",
     "text": [
      "❌ Fetch failed: huncoin\n"
     ]
    },
    {
     "name": "stderr",
     "output_type": "stream",
     "text": [
      "Fetching coin data:  76%|███████▋  | 764/1000 [10:35<02:22,  1.65it/s]"
     ]
    },
    {
     "name": "stdout",
     "output_type": "stream",
     "text": [
      "❌ Fetch failed: akuya-coin\n"
     ]
    },
    {
     "name": "stderr",
     "output_type": "stream",
     "text": [
      "Fetching coin data:  76%|███████▋  | 765/1000 [10:37<03:59,  1.02s/it]"
     ]
    },
    {
     "name": "stdout",
     "output_type": "stream",
     "text": [
      "❌ Fetch failed: regacoin\n"
     ]
    },
    {
     "name": "stderr",
     "output_type": "stream",
     "text": [
      "Fetching coin data:  77%|███████▋  | 766/1000 [10:38<04:03,  1.04s/it]"
     ]
    },
    {
     "name": "stdout",
     "output_type": "stream",
     "text": [
      "❌ Fetch failed: rublebit\n"
     ]
    },
    {
     "name": "stderr",
     "output_type": "stream",
     "text": [
      "Fetching coin data:  77%|███████▋  | 767/1000 [10:39<03:42,  1.05it/s]"
     ]
    },
    {
     "name": "stdout",
     "output_type": "stream",
     "text": [
      "❌ Fetch failed: aces\n"
     ]
    },
    {
     "name": "stderr",
     "output_type": "stream",
     "text": [
      "Fetching coin data:  77%|███████▋  | 769/1000 [10:41<03:20,  1.15it/s]"
     ]
    },
    {
     "name": "stdout",
     "output_type": "stream",
     "text": [
      "❌ Fetch failed: bitbase\n"
     ]
    },
    {
     "name": "stderr",
     "output_type": "stream",
     "text": [
      "Fetching coin data:  77%|███████▋  | 770/1000 [10:41<03:21,  1.14it/s]"
     ]
    },
    {
     "name": "stdout",
     "output_type": "stream",
     "text": [
      "❌ Fetch failed: high-gain\n"
     ]
    },
    {
     "name": "stderr",
     "output_type": "stream",
     "text": [
      "Fetching coin data:  77%|███████▋  | 771/1000 [10:42<03:23,  1.13it/s]"
     ]
    },
    {
     "name": "stdout",
     "output_type": "stream",
     "text": [
      "❌ Fetch failed: futcoin\n"
     ]
    },
    {
     "name": "stderr",
     "output_type": "stream",
     "text": [
      "Fetching coin data:  77%|███████▋  | 772/1000 [10:43<03:25,  1.11it/s]"
     ]
    },
    {
     "name": "stdout",
     "output_type": "stream",
     "text": [
      "❌ Fetch failed: topcoin\n"
     ]
    },
    {
     "name": "stderr",
     "output_type": "stream",
     "text": [
      "Fetching coin data:  77%|███████▋  | 773/1000 [10:44<03:11,  1.19it/s]"
     ]
    },
    {
     "name": "stdout",
     "output_type": "stream",
     "text": [
      "❌ Fetch failed: moneycoin\n"
     ]
    },
    {
     "name": "stderr",
     "output_type": "stream",
     "text": [
      "Fetching coin data:  77%|███████▋  | 774/1000 [10:45<03:29,  1.08it/s]"
     ]
    },
    {
     "name": "stdout",
     "output_type": "stream",
     "text": [
      "❌ Fetch failed: todaycoin\n"
     ]
    },
    {
     "name": "stderr",
     "output_type": "stream",
     "text": [
      "Fetching coin data:  78%|███████▊  | 776/1000 [10:47<03:39,  1.02it/s]"
     ]
    },
    {
     "name": "stdout",
     "output_type": "stream",
     "text": [
      "❌ Fetch failed: richcoin\n"
     ]
    },
    {
     "name": "stderr",
     "output_type": "stream",
     "text": [
      "Fetching coin data:  78%|███████▊  | 777/1000 [10:48<03:49,  1.03s/it]"
     ]
    },
    {
     "name": "stdout",
     "output_type": "stream",
     "text": [
      "❌ Fetch failed: prismchain\n"
     ]
    },
    {
     "name": "stderr",
     "output_type": "stream",
     "text": [
      "Fetching coin data:  78%|███████▊  | 778/1000 [10:49<03:36,  1.03it/s]"
     ]
    },
    {
     "name": "stdout",
     "output_type": "stream",
     "text": [
      "❌ Fetch failed: opescoin\n"
     ]
    },
    {
     "name": "stderr",
     "output_type": "stream",
     "text": [
      "Fetching coin data:  78%|███████▊  | 779/1000 [10:50<03:13,  1.14it/s]"
     ]
    },
    {
     "name": "stdout",
     "output_type": "stream",
     "text": [
      "❌ Fetch failed: granitecoin\n"
     ]
    },
    {
     "name": "stderr",
     "output_type": "stream",
     "text": [
      "Fetching coin data:  78%|███████▊  | 780/1000 [10:51<03:31,  1.04it/s]"
     ]
    },
    {
     "name": "stdout",
     "output_type": "stream",
     "text": [
      "❌ Fetch failed: runners\n"
     ]
    },
    {
     "name": "stderr",
     "output_type": "stream",
     "text": [
      "Fetching coin data:  78%|███████▊  | 782/1000 [10:54<04:48,  1.32s/it]"
     ]
    },
    {
     "name": "stdout",
     "output_type": "stream",
     "text": [
      "❌ Fetch failed: trickycoin\n"
     ]
    },
    {
     "name": "stderr",
     "output_type": "stream",
     "text": [
      "Fetching coin data:  78%|███████▊  | 783/1000 [10:57<05:52,  1.62s/it]"
     ]
    },
    {
     "name": "stdout",
     "output_type": "stream",
     "text": [
      "❌ Fetch failed: birds\n"
     ]
    },
    {
     "name": "stderr",
     "output_type": "stream",
     "text": [
      "Fetching coin data:  78%|███████▊  | 785/1000 [10:58<04:14,  1.18s/it]"
     ]
    },
    {
     "name": "stdout",
     "output_type": "stream",
     "text": [
      "❌ Fetch failed: omicron\n"
     ]
    },
    {
     "name": "stderr",
     "output_type": "stream",
     "text": [
      "Fetching coin data:  79%|███████▊  | 786/1000 [10:59<03:41,  1.04s/it]"
     ]
    },
    {
     "name": "stdout",
     "output_type": "stream",
     "text": [
      "❌ Fetch failed: primulon\n"
     ]
    },
    {
     "name": "stderr",
     "output_type": "stream",
     "text": [
      "Fetching coin data:  79%|███████▊  | 787/1000 [11:00<03:26,  1.03it/s]"
     ]
    },
    {
     "name": "stdout",
     "output_type": "stream",
     "text": [
      "❌ Fetch failed: dubstep\n"
     ]
    },
    {
     "name": "stderr",
     "output_type": "stream",
     "text": [
      "Fetching coin data:  79%|███████▉  | 788/1000 [11:01<03:33,  1.01s/it]"
     ]
    },
    {
     "name": "stdout",
     "output_type": "stream",
     "text": [
      "❌ Fetch failed: axiom\n"
     ]
    },
    {
     "name": "stderr",
     "output_type": "stream",
     "text": [
      "Fetching coin data:  79%|███████▉  | 789/1000 [11:02<03:41,  1.05s/it]"
     ]
    },
    {
     "name": "stdout",
     "output_type": "stream",
     "text": [
      "❌ Fetch failed: happy-creator-coin\n"
     ]
    },
    {
     "name": "stderr",
     "output_type": "stream",
     "text": [
      "Fetching coin data:  79%|███████▉  | 790/1000 [11:03<03:50,  1.10s/it]"
     ]
    },
    {
     "name": "stdout",
     "output_type": "stream",
     "text": [
      "❌ Fetch failed: deltacredits\n"
     ]
    },
    {
     "name": "stderr",
     "output_type": "stream",
     "text": [
      "Fetching coin data:  79%|███████▉  | 792/1000 [11:06<04:03,  1.17s/it]"
     ]
    },
    {
     "name": "stdout",
     "output_type": "stream",
     "text": [
      "❌ Fetch failed: bitfid\n"
     ]
    },
    {
     "name": "stderr",
     "output_type": "stream",
     "text": [
      "Fetching coin data:  79%|███████▉  | 793/1000 [11:06<03:47,  1.10s/it]"
     ]
    },
    {
     "name": "stdout",
     "output_type": "stream",
     "text": [
      "❌ Fetch failed: sportscoin\n"
     ]
    },
    {
     "name": "stderr",
     "output_type": "stream",
     "text": [
      "Fetching coin data:  79%|███████▉  | 794/1000 [11:07<03:34,  1.04s/it]"
     ]
    },
    {
     "name": "stdout",
     "output_type": "stream",
     "text": [
      "❌ Fetch failed: betacoin\n"
     ]
    },
    {
     "name": "stderr",
     "output_type": "stream",
     "text": [
      "Fetching coin data:  80%|███████▉  | 795/1000 [11:08<03:20,  1.02it/s]"
     ]
    },
    {
     "name": "stdout",
     "output_type": "stream",
     "text": [
      "❌ Fetch failed: invisiblecoin\n"
     ]
    },
    {
     "name": "stderr",
     "output_type": "stream",
     "text": [
      "Fetching coin data:  80%|███████▉  | 796/1000 [11:09<03:12,  1.06it/s]"
     ]
    },
    {
     "name": "stdout",
     "output_type": "stream",
     "text": [
      "❌ Fetch failed: moneta2\n"
     ]
    },
    {
     "name": "stderr",
     "output_type": "stream",
     "text": [
      "Fetching coin data:  80%|███████▉  | 798/1000 [11:11<02:50,  1.18it/s]"
     ]
    },
    {
     "name": "stdout",
     "output_type": "stream",
     "text": [
      "❌ Fetch failed: frankywillcoin\n"
     ]
    },
    {
     "name": "stderr",
     "output_type": "stream",
     "text": [
      "Fetching coin data:  80%|███████▉  | 799/1000 [11:13<04:20,  1.30s/it]"
     ]
    },
    {
     "name": "stdout",
     "output_type": "stream",
     "text": [
      "❌ Fetch failed: kashhcoin\n"
     ]
    },
    {
     "name": "stderr",
     "output_type": "stream",
     "text": [
      "Fetching coin data:  80%|████████  | 800/1000 [11:13<03:31,  1.06s/it]"
     ]
    },
    {
     "name": "stdout",
     "output_type": "stream",
     "text": [
      "❌ Fetch failed: cybercoin\n"
     ]
    },
    {
     "name": "stderr",
     "output_type": "stream",
     "text": [
      "Fetching coin data:  80%|████████  | 801/1000 [11:14<03:02,  1.09it/s]"
     ]
    },
    {
     "name": "stdout",
     "output_type": "stream",
     "text": [
      "❌ Fetch failed: gameleaguecoin\n"
     ]
    },
    {
     "name": "stderr",
     "output_type": "stream",
     "text": [
      "Fetching coin data:  80%|████████  | 802/1000 [11:15<02:52,  1.15it/s]"
     ]
    },
    {
     "name": "stdout",
     "output_type": "stream",
     "text": [
      "❌ Fetch failed: eggcoin\n"
     ]
    },
    {
     "name": "stderr",
     "output_type": "stream",
     "text": [
      "Fetching coin data:  80%|████████  | 803/1000 [11:15<02:31,  1.30it/s]"
     ]
    },
    {
     "name": "stdout",
     "output_type": "stream",
     "text": [
      "❌ Fetch failed: bubble\n"
     ]
    },
    {
     "name": "stderr",
     "output_type": "stream",
     "text": [
      "Fetching coin data:  80%|████████  | 805/1000 [11:16<02:06,  1.55it/s]"
     ]
    },
    {
     "name": "stdout",
     "output_type": "stream",
     "text": [
      "❌ Fetch failed: darklisk\n"
     ]
    },
    {
     "name": "stderr",
     "output_type": "stream",
     "text": [
      "Fetching coin data:  81%|████████  | 806/1000 [11:18<02:33,  1.27it/s]"
     ]
    },
    {
     "name": "stdout",
     "output_type": "stream",
     "text": [
      "❌ Fetch failed: lazaruscoin\n"
     ]
    },
    {
     "name": "stderr",
     "output_type": "stream",
     "text": [
      "Fetching coin data:  81%|████████  | 807/1000 [11:18<02:36,  1.24it/s]"
     ]
    },
    {
     "name": "stdout",
     "output_type": "stream",
     "text": [
      "❌ Fetch failed: cycling-coin\n"
     ]
    },
    {
     "name": "stderr",
     "output_type": "stream",
     "text": [
      "Fetching coin data:  81%|████████  | 808/1000 [11:19<02:29,  1.29it/s]"
     ]
    },
    {
     "name": "stdout",
     "output_type": "stream",
     "text": [
      "❌ Fetch failed: lathaan\n"
     ]
    },
    {
     "name": "stderr",
     "output_type": "stream",
     "text": [
      "Fetching coin data:  81%|████████  | 809/1000 [11:21<03:13,  1.02s/it]"
     ]
    },
    {
     "name": "stdout",
     "output_type": "stream",
     "text": [
      "❌ Fetch failed: thecreed\n"
     ]
    },
    {
     "name": "stderr",
     "output_type": "stream",
     "text": [
      "Fetching coin data:  81%|████████  | 810/1000 [11:21<02:53,  1.10it/s]"
     ]
    },
    {
     "name": "stdout",
     "output_type": "stream",
     "text": [
      "❌ Fetch failed: yescoin\n"
     ]
    },
    {
     "name": "stderr",
     "output_type": "stream",
     "text": [
      "Fetching coin data:  81%|████████  | 812/1000 [11:23<02:30,  1.25it/s]"
     ]
    },
    {
     "name": "stdout",
     "output_type": "stream",
     "text": [
      "❌ Fetch failed: topaz\n"
     ]
    },
    {
     "name": "stderr",
     "output_type": "stream",
     "text": [
      "Fetching coin data:  81%|████████▏ | 813/1000 [11:23<02:14,  1.39it/s]"
     ]
    },
    {
     "name": "stdout",
     "output_type": "stream",
     "text": [
      "❌ Fetch failed: cheapcoin\n"
     ]
    },
    {
     "name": "stderr",
     "output_type": "stream",
     "text": [
      "Fetching coin data:  81%|████████▏ | 814/1000 [11:24<02:07,  1.45it/s]"
     ]
    },
    {
     "name": "stdout",
     "output_type": "stream",
     "text": [
      "❌ Fetch failed: aseancoin\n"
     ]
    },
    {
     "name": "stderr",
     "output_type": "stream",
     "text": [
      "Fetching coin data:  82%|████████▏ | 815/1000 [11:24<01:59,  1.55it/s]"
     ]
    },
    {
     "name": "stdout",
     "output_type": "stream",
     "text": [
      "❌ Fetch failed: lltoken\n"
     ]
    },
    {
     "name": "stderr",
     "output_type": "stream",
     "text": [
      "Fetching coin data:  82%|████████▏ | 816/1000 [11:25<02:02,  1.51it/s]"
     ]
    },
    {
     "name": "stdout",
     "output_type": "stream",
     "text": [
      "❌ Fetch failed: magnetcoin\n"
     ]
    },
    {
     "name": "stderr",
     "output_type": "stream",
     "text": [
      "Fetching coin data:  82%|████████▏ | 817/1000 [11:26<01:52,  1.62it/s]"
     ]
    },
    {
     "name": "stdout",
     "output_type": "stream",
     "text": [
      "❌ Fetch failed: egold\n"
     ]
    },
    {
     "name": "stderr",
     "output_type": "stream",
     "text": [
      "Fetching coin data:  82%|████████▏ | 818/1000 [11:26<01:48,  1.68it/s]"
     ]
    },
    {
     "name": "stdout",
     "output_type": "stream",
     "text": [
      "❌ Fetch failed: ocow\n"
     ]
    },
    {
     "name": "stderr",
     "output_type": "stream",
     "text": [
      "Fetching coin data:  82%|████████▏ | 819/1000 [11:27<01:44,  1.73it/s]"
     ]
    },
    {
     "name": "stdout",
     "output_type": "stream",
     "text": [
      "❌ Fetch failed: farstcoin\n"
     ]
    },
    {
     "name": "stderr",
     "output_type": "stream",
     "text": [
      "Fetching coin data:  82%|████████▏ | 820/1000 [11:27<01:42,  1.75it/s]"
     ]
    },
    {
     "name": "stdout",
     "output_type": "stream",
     "text": [
      "❌ Fetch failed: ontology\n"
     ]
    },
    {
     "name": "stderr",
     "output_type": "stream",
     "text": [
      "Fetching coin data:  82%|████████▏ | 822/1000 [11:29<01:52,  1.58it/s]"
     ]
    },
    {
     "name": "stdout",
     "output_type": "stream",
     "text": [
      "❌ Fetch failed: spherepay\n"
     ]
    },
    {
     "name": "stderr",
     "output_type": "stream",
     "text": [
      "Fetching coin data:  82%|████████▏ | 823/1000 [11:31<02:57,  1.01s/it]"
     ]
    },
    {
     "name": "stdout",
     "output_type": "stream",
     "text": [
      "❌ Fetch failed: bitcoin-private\n"
     ]
    },
    {
     "name": "stderr",
     "output_type": "stream",
     "text": [
      "Fetching coin data:  82%|████████▏ | 824/1000 [11:31<02:35,  1.13it/s]"
     ]
    },
    {
     "name": "stdout",
     "output_type": "stream",
     "text": [
      "❌ Fetch failed: ravencoin\n"
     ]
    },
    {
     "name": "stderr",
     "output_type": "stream",
     "text": [
      "Fetching coin data:  82%|████████▎ | 825/1000 [11:32<02:30,  1.16it/s]"
     ]
    },
    {
     "name": "stdout",
     "output_type": "stream",
     "text": [
      "❌ Fetch failed: graft\n"
     ]
    },
    {
     "name": "stderr",
     "output_type": "stream",
     "text": [
      "Fetching coin data:  83%|████████▎ | 826/1000 [11:33<02:28,  1.17it/s]"
     ]
    },
    {
     "name": "stdout",
     "output_type": "stream",
     "text": [
      "❌ Fetch failed: centrality\n"
     ]
    },
    {
     "name": "stderr",
     "output_type": "stream",
     "text": [
      "Fetching coin data:  83%|████████▎ | 827/1000 [11:33<02:16,  1.27it/s]"
     ]
    },
    {
     "name": "stdout",
     "output_type": "stream",
     "text": [
      "❌ Fetch failed: revolutionvr\n"
     ]
    },
    {
     "name": "stderr",
     "output_type": "stream",
     "text": [
      "Fetching coin data:  83%|████████▎ | 829/1000 [11:35<02:15,  1.26it/s]"
     ]
    },
    {
     "name": "stdout",
     "output_type": "stream",
     "text": [
      "❌ Fetch failed: mediccoin\n"
     ]
    },
    {
     "name": "stderr",
     "output_type": "stream",
     "text": [
      "Fetching coin data:  83%|████████▎ | 830/1000 [11:36<02:06,  1.34it/s]"
     ]
    },
    {
     "name": "stdout",
     "output_type": "stream",
     "text": [
      "❌ Fetch failed: pundi-x-old\n"
     ]
    },
    {
     "name": "stderr",
     "output_type": "stream",
     "text": [
      "Fetching coin data:  83%|████████▎ | 831/1000 [11:36<02:02,  1.38it/s]"
     ]
    },
    {
     "name": "stdout",
     "output_type": "stream",
     "text": [
      "❌ Fetch failed: bitcoin-green\n"
     ]
    },
    {
     "name": "stderr",
     "output_type": "stream",
     "text": [
      "Fetching coin data:  83%|████████▎ | 832/1000 [11:38<02:54,  1.04s/it]"
     ]
    },
    {
     "name": "stdout",
     "output_type": "stream",
     "text": [
      "❌ Fetch failed: wanchain\n"
     ]
    },
    {
     "name": "stderr",
     "output_type": "stream",
     "text": [
      "Fetching coin data:  83%|████████▎ | 833/1000 [11:39<02:50,  1.02s/it]"
     ]
    },
    {
     "name": "stdout",
     "output_type": "stream",
     "text": [
      "❌ Fetch failed: stipend\n"
     ]
    },
    {
     "name": "stderr",
     "output_type": "stream",
     "text": [
      "Fetching coin data:  84%|████████▎ | 835/1000 [11:41<02:40,  1.03it/s]"
     ]
    },
    {
     "name": "stdout",
     "output_type": "stream",
     "text": [
      "❌ Fetch failed: clearcoin\n"
     ]
    },
    {
     "name": "stderr",
     "output_type": "stream",
     "text": [
      "Fetching coin data:  84%|████████▎ | 836/1000 [11:42<02:27,  1.11it/s]"
     ]
    },
    {
     "name": "stdout",
     "output_type": "stream",
     "text": [
      "❌ Fetch failed: 4xbit\n"
     ]
    },
    {
     "name": "stderr",
     "output_type": "stream",
     "text": [
      "Fetching coin data:  84%|████████▎ | 837/1000 [11:42<02:19,  1.17it/s]"
     ]
    },
    {
     "name": "stdout",
     "output_type": "stream",
     "text": [
      "❌ Fetch failed: ans-coin\n"
     ]
    },
    {
     "name": "stderr",
     "output_type": "stream",
     "text": [
      "Fetching coin data:  84%|████████▍ | 838/1000 [11:43<02:15,  1.20it/s]"
     ]
    },
    {
     "name": "stdout",
     "output_type": "stream",
     "text": [
      "❌ Fetch failed: betherchip\n"
     ]
    },
    {
     "name": "stderr",
     "output_type": "stream",
     "text": [
      "Fetching coin data:  84%|████████▍ | 839/1000 [11:44<02:18,  1.16it/s]"
     ]
    },
    {
     "name": "stdout",
     "output_type": "stream",
     "text": [
      "❌ Fetch failed: cononchain\n"
     ]
    },
    {
     "name": "stderr",
     "output_type": "stream",
     "text": [
      "Fetching coin data:  84%|████████▍ | 840/1000 [11:45<02:06,  1.26it/s]"
     ]
    },
    {
     "name": "stdout",
     "output_type": "stream",
     "text": [
      "❌ Fetch failed: recovery-right-token\n"
     ]
    },
    {
     "name": "stderr",
     "output_type": "stream",
     "text": [
      "Fetching coin data:  84%|████████▍ | 841/1000 [11:45<01:56,  1.36it/s]"
     ]
    },
    {
     "name": "stdout",
     "output_type": "stream",
     "text": [
      "❌ Fetch failed: bitvalve\n"
     ]
    },
    {
     "name": "stderr",
     "output_type": "stream",
     "text": [
      "Fetching coin data:  84%|████████▍ | 843/1000 [11:48<02:21,  1.11it/s]"
     ]
    },
    {
     "name": "stdout",
     "output_type": "stream",
     "text": [
      "❌ Fetch failed: promotion-coin\n"
     ]
    },
    {
     "name": "stderr",
     "output_type": "stream",
     "text": [
      "Fetching coin data:  84%|████████▍ | 844/1000 [11:48<02:03,  1.26it/s]"
     ]
    },
    {
     "name": "stdout",
     "output_type": "stream",
     "text": [
      "❌ Fetch failed: qcash\n"
     ]
    },
    {
     "name": "stderr",
     "output_type": "stream",
     "text": [
      "Fetching coin data:  84%|████████▍ | 845/1000 [11:49<02:05,  1.24it/s]"
     ]
    },
    {
     "name": "stdout",
     "output_type": "stream",
     "text": [
      "❌ Fetch failed: valuecybertoken\n"
     ]
    },
    {
     "name": "stderr",
     "output_type": "stream",
     "text": [
      "Fetching coin data:  85%|████████▍ | 846/1000 [11:50<01:53,  1.36it/s]"
     ]
    },
    {
     "name": "stdout",
     "output_type": "stream",
     "text": [
      "❌ Fetch failed: goal\n"
     ]
    },
    {
     "name": "stderr",
     "output_type": "stream",
     "text": [
      "Fetching coin data:  85%|████████▍ | 847/1000 [11:50<01:41,  1.50it/s]"
     ]
    },
    {
     "name": "stdout",
     "output_type": "stream",
     "text": [
      "❌ Fetch failed: ti-value\n"
     ]
    },
    {
     "name": "stderr",
     "output_type": "stream",
     "text": [
      "Fetching coin data:  85%|████████▍ | 848/1000 [11:51<01:38,  1.54it/s]"
     ]
    },
    {
     "name": "stdout",
     "output_type": "stream",
     "text": [
      "❌ Fetch failed: bitcoin-file\n"
     ]
    },
    {
     "name": "stderr",
     "output_type": "stream",
     "text": [
      "Fetching coin data:  85%|████████▍ | 849/1000 [11:51<01:35,  1.58it/s]"
     ]
    },
    {
     "name": "stdout",
     "output_type": "stream",
     "text": [
      "❌ Fetch failed: pay-it-now\n"
     ]
    },
    {
     "name": "stderr",
     "output_type": "stream",
     "text": [
      "Fetching coin data:  85%|████████▌ | 851/1000 [11:53<01:39,  1.50it/s]"
     ]
    },
    {
     "name": "stdout",
     "output_type": "stream",
     "text": [
      "❌ Fetch failed: big-digital-shares\n"
     ]
    },
    {
     "name": "stderr",
     "output_type": "stream",
     "text": [
      "Fetching coin data:  85%|████████▌ | 852/1000 [11:53<01:37,  1.52it/s]"
     ]
    },
    {
     "name": "stdout",
     "output_type": "stream",
     "text": [
      "❌ Fetch failed: view\n"
     ]
    },
    {
     "name": "stderr",
     "output_type": "stream",
     "text": [
      "Fetching coin data:  85%|████████▌ | 853/1000 [11:54<01:36,  1.53it/s]"
     ]
    },
    {
     "name": "stdout",
     "output_type": "stream",
     "text": [
      "❌ Fetch failed: bmtoken\n"
     ]
    },
    {
     "name": "stderr",
     "output_type": "stream",
     "text": [
      "Fetching coin data:  85%|████████▌ | 854/1000 [11:55<01:35,  1.53it/s]"
     ]
    },
    {
     "name": "stdout",
     "output_type": "stream",
     "text": [
      "❌ Fetch failed: billionhappiness\n"
     ]
    },
    {
     "name": "stderr",
     "output_type": "stream",
     "text": [
      "Fetching coin data:  86%|████████▌ | 855/1000 [11:55<01:30,  1.60it/s]"
     ]
    },
    {
     "name": "stdout",
     "output_type": "stream",
     "text": [
      "❌ Fetch failed: ac3\n"
     ]
    },
    {
     "name": "stderr",
     "output_type": "stream",
     "text": [
      "Fetching coin data:  86%|████████▌ | 856/1000 [11:56<01:29,  1.61it/s]"
     ]
    },
    {
     "name": "stdout",
     "output_type": "stream",
     "text": [
      "❌ Fetch failed: aga\n"
     ]
    },
    {
     "name": "stderr",
     "output_type": "stream",
     "text": [
      "Fetching coin data:  86%|████████▌ | 857/1000 [11:57<01:35,  1.49it/s]"
     ]
    },
    {
     "name": "stdout",
     "output_type": "stream",
     "text": [
      "❌ Fetch failed: elements-game\n"
     ]
    },
    {
     "name": "stderr",
     "output_type": "stream",
     "text": [
      "Fetching coin data:  86%|████████▌ | 858/1000 [11:57<01:31,  1.55it/s]"
     ]
    },
    {
     "name": "stdout",
     "output_type": "stream",
     "text": [
      "❌ Fetch failed: atheios\n"
     ]
    },
    {
     "name": "stderr",
     "output_type": "stream",
     "text": [
      "Fetching coin data:  86%|████████▌ | 860/1000 [11:59<01:41,  1.38it/s]"
     ]
    },
    {
     "name": "stdout",
     "output_type": "stream",
     "text": [
      "❌ Fetch failed: blockclout\n"
     ]
    },
    {
     "name": "stderr",
     "output_type": "stream",
     "text": [
      "Fetching coin data:  86%|████████▌ | 861/1000 [12:00<01:41,  1.37it/s]"
     ]
    },
    {
     "name": "stdout",
     "output_type": "stream",
     "text": [
      "❌ Fetch failed: team-vitality-fan-token\n"
     ]
    },
    {
     "name": "stderr",
     "output_type": "stream",
     "text": [
      "Fetching coin data:  86%|████████▌ | 862/1000 [12:00<01:31,  1.51it/s]"
     ]
    },
    {
     "name": "stdout",
     "output_type": "stream",
     "text": [
      "❌ Fetch failed: hurrian-network\n"
     ]
    },
    {
     "name": "stderr",
     "output_type": "stream",
     "text": [
      "Fetching coin data:  86%|████████▋ | 863/1000 [12:01<01:26,  1.58it/s]"
     ]
    },
    {
     "name": "stdout",
     "output_type": "stream",
     "text": [
      "❌ Fetch failed: darkbuild\n"
     ]
    },
    {
     "name": "stderr",
     "output_type": "stream",
     "text": [
      "Fetching coin data:  86%|████████▋ | 864/1000 [12:01<01:24,  1.61it/s]"
     ]
    },
    {
     "name": "stdout",
     "output_type": "stream",
     "text": [
      "❌ Fetch failed: eternal-cash\n"
     ]
    },
    {
     "name": "stderr",
     "output_type": "stream",
     "text": [
      "Fetching coin data:  86%|████████▋ | 865/1000 [12:02<01:39,  1.36it/s]"
     ]
    },
    {
     "name": "stdout",
     "output_type": "stream",
     "text": [
      "❌ Fetch failed: flinch-token\n"
     ]
    },
    {
     "name": "stderr",
     "output_type": "stream",
     "text": [
      "Fetching coin data:  87%|████████▋ | 866/1000 [12:03<01:41,  1.32it/s]"
     ]
    },
    {
     "name": "stdout",
     "output_type": "stream",
     "text": [
      "❌ Fetch failed: gainer\n"
     ]
    },
    {
     "name": "stderr",
     "output_type": "stream",
     "text": [
      "Fetching coin data:  87%|████████▋ | 868/1000 [12:05<01:36,  1.37it/s]"
     ]
    },
    {
     "name": "stdout",
     "output_type": "stream",
     "text": [
      "❌ Fetch failed: kingfund-finance\n"
     ]
    },
    {
     "name": "stderr",
     "output_type": "stream",
     "text": [
      "Fetching coin data:  87%|████████▋ | 869/1000 [12:05<01:40,  1.30it/s]"
     ]
    },
    {
     "name": "stdout",
     "output_type": "stream",
     "text": [
      "❌ Fetch failed: lit\n"
     ]
    },
    {
     "name": "stderr",
     "output_type": "stream",
     "text": [
      "Fetching coin data:  87%|████████▋ | 870/1000 [12:06<01:33,  1.39it/s]"
     ]
    },
    {
     "name": "stdout",
     "output_type": "stream",
     "text": [
      "❌ Fetch failed: lynx\n"
     ]
    },
    {
     "name": "stderr",
     "output_type": "stream",
     "text": [
      "Fetching coin data:  87%|████████▋ | 871/1000 [12:07<01:35,  1.35it/s]"
     ]
    },
    {
     "name": "stdout",
     "output_type": "stream",
     "text": [
      "❌ Fetch failed: pepemoon\n"
     ]
    },
    {
     "name": "stderr",
     "output_type": "stream",
     "text": [
      "Fetching coin data:  87%|████████▋ | 872/1000 [12:07<01:29,  1.43it/s]"
     ]
    },
    {
     "name": "stdout",
     "output_type": "stream",
     "text": [
      "❌ Fetch failed: trinity\n"
     ]
    },
    {
     "name": "stderr",
     "output_type": "stream",
     "text": [
      "Fetching coin data:  87%|████████▋ | 873/1000 [12:08<01:45,  1.20it/s]"
     ]
    },
    {
     "name": "stdout",
     "output_type": "stream",
     "text": [
      "❌ Fetch failed: wispr\n"
     ]
    },
    {
     "name": "stderr",
     "output_type": "stream",
     "text": [
      "Fetching coin data:  87%|████████▋ | 874/1000 [12:09<01:51,  1.13it/s]"
     ]
    },
    {
     "name": "stdout",
     "output_type": "stream",
     "text": [
      "❌ Fetch failed: bsocial\n"
     ]
    },
    {
     "name": "stderr",
     "output_type": "stream",
     "text": [
      "Fetching coin data:  88%|████████▊ | 876/1000 [12:11<01:39,  1.25it/s]"
     ]
    },
    {
     "name": "stdout",
     "output_type": "stream",
     "text": [
      "❌ Fetch failed: monero-original\n"
     ]
    },
    {
     "name": "stderr",
     "output_type": "stream",
     "text": [
      "Fetching coin data:  88%|████████▊ | 877/1000 [12:12<01:33,  1.32it/s]"
     ]
    },
    {
     "name": "stdout",
     "output_type": "stream",
     "text": [
      "❌ Fetch failed: nam-coin\n"
     ]
    },
    {
     "name": "stderr",
     "output_type": "stream",
     "text": [
      "Fetching coin data:  88%|████████▊ | 878/1000 [12:12<01:29,  1.36it/s]"
     ]
    },
    {
     "name": "stdout",
     "output_type": "stream",
     "text": [
      "❌ Fetch failed: aio_bitfinex\n"
     ]
    },
    {
     "name": "stderr",
     "output_type": "stream",
     "text": [
      "Fetching coin data:  88%|████████▊ | 879/1000 [12:13<01:24,  1.43it/s]"
     ]
    },
    {
     "name": "stdout",
     "output_type": "stream",
     "text": [
      "❌ Fetch failed: stellite\n"
     ]
    },
    {
     "name": "stderr",
     "output_type": "stream",
     "text": [
      "Fetching coin data:  88%|████████▊ | 880/1000 [12:14<01:18,  1.53it/s]"
     ]
    },
    {
     "name": "stdout",
     "output_type": "stream",
     "text": [
      "❌ Fetch failed: monero-classic\n"
     ]
    },
    {
     "name": "stderr",
     "output_type": "stream",
     "text": [
      "Fetching coin data:  88%|████████▊ | 881/1000 [12:14<01:15,  1.57it/s]"
     ]
    },
    {
     "name": "stdout",
     "output_type": "stream",
     "text": [
      "❌ Fetch failed: ckusd\n"
     ]
    },
    {
     "name": "stderr",
     "output_type": "stream",
     "text": [
      "Fetching coin data:  88%|████████▊ | 882/1000 [12:15<01:16,  1.55it/s]"
     ]
    },
    {
     "name": "stdout",
     "output_type": "stream",
     "text": [
      "❌ Fetch failed: deviantcoin\n"
     ]
    },
    {
     "name": "stderr",
     "output_type": "stream",
     "text": [
      "Fetching coin data:  88%|████████▊ | 883/1000 [12:15<01:16,  1.52it/s]"
     ]
    },
    {
     "name": "stdout",
     "output_type": "stream",
     "text": [
      "❌ Fetch failed: digital-asset-exchange-token\n"
     ]
    },
    {
     "name": "stderr",
     "output_type": "stream",
     "text": [
      "Fetching coin data:  88%|████████▊ | 885/1000 [12:17<01:10,  1.64it/s]"
     ]
    },
    {
     "name": "stdout",
     "output_type": "stream",
     "text": [
      "❌ Fetch failed: xdc-network\n"
     ]
    },
    {
     "name": "stderr",
     "output_type": "stream",
     "text": [
      "Fetching coin data:  89%|████████▊ | 886/1000 [12:17<01:07,  1.69it/s]"
     ]
    },
    {
     "name": "stdout",
     "output_type": "stream",
     "text": [
      "❌ Fetch failed: arbitracoin\n"
     ]
    },
    {
     "name": "stderr",
     "output_type": "stream",
     "text": [
      "Fetching coin data:  89%|████████▊ | 887/1000 [12:18<01:06,  1.70it/s]"
     ]
    },
    {
     "name": "stdout",
     "output_type": "stream",
     "text": [
      "❌ Fetch failed: bitsum\n"
     ]
    },
    {
     "name": "stderr",
     "output_type": "stream",
     "text": [
      "Fetching coin data:  89%|████████▉ | 888/1000 [12:18<01:04,  1.73it/s]"
     ]
    },
    {
     "name": "stdout",
     "output_type": "stream",
     "text": [
      "❌ Fetch failed: starcointv\n"
     ]
    },
    {
     "name": "stderr",
     "output_type": "stream",
     "text": [
      "Fetching coin data:  89%|████████▉ | 889/1000 [12:19<01:08,  1.63it/s]"
     ]
    },
    {
     "name": "stdout",
     "output_type": "stream",
     "text": [
      "❌ Fetch failed: dero\n"
     ]
    },
    {
     "name": "stderr",
     "output_type": "stream",
     "text": [
      "Fetching coin data:  89%|████████▉ | 890/1000 [12:20<01:08,  1.60it/s]"
     ]
    },
    {
     "name": "stdout",
     "output_type": "stream",
     "text": [
      "❌ Fetch failed: haven-protocol\n"
     ]
    },
    {
     "name": "stderr",
     "output_type": "stream",
     "text": [
      "Fetching coin data:  89%|████████▉ | 891/1000 [12:20<01:03,  1.72it/s]"
     ]
    },
    {
     "name": "stdout",
     "output_type": "stream",
     "text": [
      "❌ Fetch failed: cropcoin\n"
     ]
    },
    {
     "name": "stderr",
     "output_type": "stream",
     "text": [
      "Fetching coin data:  89%|████████▉ | 892/1000 [12:21<01:06,  1.62it/s]"
     ]
    },
    {
     "name": "stdout",
     "output_type": "stream",
     "text": [
      "❌ Fetch failed: masari\n"
     ]
    },
    {
     "name": "stderr",
     "output_type": "stream",
     "text": [
      "Fetching coin data:  89%|████████▉ | 893/1000 [12:21<01:02,  1.72it/s]"
     ]
    },
    {
     "name": "stdout",
     "output_type": "stream",
     "text": [
      "❌ Fetch failed: music-infinity-token\n"
     ]
    },
    {
     "name": "stderr",
     "output_type": "stream",
     "text": [
      "Fetching coin data:  90%|████████▉ | 895/1000 [12:23<01:07,  1.56it/s]"
     ]
    },
    {
     "name": "stdout",
     "output_type": "stream",
     "text": [
      "❌ Fetch failed: wiki-token\n"
     ]
    },
    {
     "name": "stderr",
     "output_type": "stream",
     "text": [
      "Fetching coin data:  90%|████████▉ | 896/1000 [12:23<01:04,  1.61it/s]"
     ]
    },
    {
     "name": "stdout",
     "output_type": "stream",
     "text": [
      "❌ Fetch failed: proud-money\n"
     ]
    },
    {
     "name": "stderr",
     "output_type": "stream",
     "text": [
      "Fetching coin data:  90%|████████▉ | 897/1000 [12:24<01:03,  1.61it/s]"
     ]
    },
    {
     "name": "stdout",
     "output_type": "stream",
     "text": [
      "❌ Fetch failed: nullex\n"
     ]
    },
    {
     "name": "stderr",
     "output_type": "stream",
     "text": [
      "Fetching coin data:  90%|████████▉ | 898/1000 [12:25<01:02,  1.64it/s]"
     ]
    },
    {
     "name": "stdout",
     "output_type": "stream",
     "text": [
      "❌ Fetch failed: vipstar-coin\n"
     ]
    },
    {
     "name": "stderr",
     "output_type": "stream",
     "text": [
      "Fetching coin data:  90%|████████▉ | 899/1000 [12:25<01:06,  1.51it/s]"
     ]
    },
    {
     "name": "stdout",
     "output_type": "stream",
     "text": [
      "❌ Fetch failed: plancoin\n"
     ]
    },
    {
     "name": "stderr",
     "output_type": "stream",
     "text": [
      "Fetching coin data:  90%|█████████ | 900/1000 [12:26<01:04,  1.55it/s]"
     ]
    },
    {
     "name": "stdout",
     "output_type": "stream",
     "text": [
      "❌ Fetch failed: local-world-forwarders\n"
     ]
    },
    {
     "name": "stderr",
     "output_type": "stream",
     "text": [
      "Fetching coin data:  90%|█████████ | 901/1000 [12:27<01:09,  1.42it/s]"
     ]
    },
    {
     "name": "stdout",
     "output_type": "stream",
     "text": [
      "❌ Fetch failed: fire-lotto\n"
     ]
    },
    {
     "name": "stderr",
     "output_type": "stream",
     "text": [
      "Fetching coin data:  90%|█████████ | 902/1000 [12:27<01:07,  1.46it/s]"
     ]
    },
    {
     "name": "stdout",
     "output_type": "stream",
     "text": [
      "❌ Fetch failed: nexty\n"
     ]
    },
    {
     "name": "stderr",
     "output_type": "stream",
     "text": [
      "Fetching coin data:  90%|█████████ | 904/1000 [12:29<01:10,  1.35it/s]"
     ]
    },
    {
     "name": "stdout",
     "output_type": "stream",
     "text": [
      "❌ Fetch failed: apr-coin\n"
     ]
    },
    {
     "name": "stderr",
     "output_type": "stream",
     "text": [
      "Fetching coin data:  90%|█████████ | 905/1000 [12:30<01:06,  1.42it/s]"
     ]
    },
    {
     "name": "stdout",
     "output_type": "stream",
     "text": [
      "❌ Fetch failed: aston\n"
     ]
    },
    {
     "name": "stderr",
     "output_type": "stream",
     "text": [
      "Fetching coin data:  91%|█████████ | 906/1000 [12:30<01:04,  1.46it/s]"
     ]
    },
    {
     "name": "stdout",
     "output_type": "stream",
     "text": [
      "❌ Fetch failed: utrum\n"
     ]
    },
    {
     "name": "stderr",
     "output_type": "stream",
     "text": [
      "Fetching coin data:  91%|█████████ | 907/1000 [12:31<01:04,  1.44it/s]"
     ]
    },
    {
     "name": "stdout",
     "output_type": "stream",
     "text": [
      "❌ Fetch failed: consumption-avatar-matrix\n"
     ]
    },
    {
     "name": "stderr",
     "output_type": "stream",
     "text": [
      "Fetching coin data:  91%|█████████ | 908/1000 [12:32<01:07,  1.37it/s]"
     ]
    },
    {
     "name": "stdout",
     "output_type": "stream",
     "text": [
      "❌ Fetch failed: bank-coin\n"
     ]
    },
    {
     "name": "stderr",
     "output_type": "stream",
     "text": [
      "Fetching coin data:  91%|█████████ | 909/1000 [12:32<01:00,  1.50it/s]"
     ]
    },
    {
     "name": "stdout",
     "output_type": "stream",
     "text": [
      "❌ Fetch failed: ether-zero\n"
     ]
    },
    {
     "name": "stderr",
     "output_type": "stream",
     "text": [
      "Fetching coin data:  91%|█████████ | 910/1000 [12:33<00:59,  1.51it/s]"
     ]
    },
    {
     "name": "stdout",
     "output_type": "stream",
     "text": [
      "❌ Fetch failed: ab-chain-rtb\n"
     ]
    },
    {
     "name": "stderr",
     "output_type": "stream",
     "text": [
      "Fetching coin data:  91%|█████████ | 911/1000 [12:34<00:58,  1.52it/s]"
     ]
    },
    {
     "name": "stdout",
     "output_type": "stream",
     "text": [
      "❌ Fetch failed: bit-tube\n"
     ]
    },
    {
     "name": "stderr",
     "output_type": "stream",
     "text": [
      "Fetching coin data:  91%|█████████▏| 913/1000 [12:35<00:58,  1.48it/s]"
     ]
    },
    {
     "name": "stdout",
     "output_type": "stream",
     "text": [
      "❌ Fetch failed: loki\n"
     ]
    },
    {
     "name": "stderr",
     "output_type": "stream",
     "text": [
      "Fetching coin data:  91%|█████████▏| 914/1000 [12:36<00:56,  1.52it/s]"
     ]
    },
    {
     "name": "stdout",
     "output_type": "stream",
     "text": [
      "❌ Fetch failed: vechainthor\n"
     ]
    },
    {
     "name": "stderr",
     "output_type": "stream",
     "text": [
      "Fetching coin data:  92%|█████████▏| 915/1000 [12:36<00:51,  1.65it/s]"
     ]
    },
    {
     "name": "stdout",
     "output_type": "stream",
     "text": [
      "❌ Fetch failed: experience-token\n"
     ]
    },
    {
     "name": "stderr",
     "output_type": "stream",
     "text": [
      "Fetching coin data:  92%|█████████▏| 916/1000 [12:37<00:53,  1.58it/s]"
     ]
    },
    {
     "name": "stdout",
     "output_type": "stream",
     "text": [
      "❌ Fetch failed: callisto-network\n"
     ]
    },
    {
     "name": "stderr",
     "output_type": "stream",
     "text": [
      "Fetching coin data:  92%|█████████▏| 917/1000 [12:38<00:53,  1.55it/s]"
     ]
    },
    {
     "name": "stdout",
     "output_type": "stream",
     "text": [
      "❌ Fetch failed: iotex\n"
     ]
    },
    {
     "name": "stderr",
     "output_type": "stream",
     "text": [
      "Fetching coin data:  92%|█████████▏| 918/1000 [12:38<00:49,  1.65it/s]"
     ]
    },
    {
     "name": "stdout",
     "output_type": "stream",
     "text": [
      "❌ Fetch failed: bitcoiin\n"
     ]
    },
    {
     "name": "stderr",
     "output_type": "stream",
     "text": [
      "Fetching coin data:  92%|█████████▏| 919/1000 [12:39<00:48,  1.67it/s]"
     ]
    },
    {
     "name": "stdout",
     "output_type": "stream",
     "text": [
      "❌ Fetch failed: cazcoin\n"
     ]
    },
    {
     "name": "stderr",
     "output_type": "stream",
     "text": [
      "Fetching coin data:  92%|█████████▏| 920/1000 [12:39<00:46,  1.71it/s]"
     ]
    },
    {
     "name": "stdout",
     "output_type": "stream",
     "text": [
      "❌ Fetch failed: rhenium\n"
     ]
    },
    {
     "name": "stderr",
     "output_type": "stream",
     "text": [
      "Fetching coin data:  92%|█████████▏| 921/1000 [12:40<00:45,  1.72it/s]"
     ]
    },
    {
     "name": "stdout",
     "output_type": "stream",
     "text": [
      "❌ Fetch failed: gincoin\n"
     ]
    },
    {
     "name": "stderr",
     "output_type": "stream",
     "text": [
      "Fetching coin data:  92%|█████████▏| 923/1000 [12:41<00:48,  1.58it/s]"
     ]
    },
    {
     "name": "stdout",
     "output_type": "stream",
     "text": [
      "❌ Fetch failed: powercoin\n"
     ]
    },
    {
     "name": "stderr",
     "output_type": "stream",
     "text": [
      "Fetching coin data:  92%|█████████▏| 924/1000 [12:42<00:47,  1.59it/s]"
     ]
    },
    {
     "name": "stdout",
     "output_type": "stream",
     "text": [
      "❌ Fetch failed: cny-tether\n"
     ]
    },
    {
     "name": "stderr",
     "output_type": "stream",
     "text": [
      "Fetching coin data:  92%|█████████▎| 925/1000 [12:43<01:02,  1.21it/s]"
     ]
    },
    {
     "name": "stdout",
     "output_type": "stream",
     "text": [
      "❌ Fetch failed: contractnet\n"
     ]
    },
    {
     "name": "stderr",
     "output_type": "stream",
     "text": [
      "Fetching coin data:  93%|█████████▎| 926/1000 [12:45<01:21,  1.10s/it]"
     ]
    },
    {
     "name": "stdout",
     "output_type": "stream",
     "text": [
      "❌ Fetch failed: apiary-fund-coin\n"
     ]
    },
    {
     "name": "stderr",
     "output_type": "stream",
     "text": [
      "Fetching coin data:  93%|█████████▎| 927/1000 [12:45<01:08,  1.06it/s]"
     ]
    },
    {
     "name": "stdout",
     "output_type": "stream",
     "text": [
      "❌ Fetch failed: quanta-utility-token\n"
     ]
    },
    {
     "name": "stderr",
     "output_type": "stream",
     "text": [
      "Fetching coin data:  93%|█████████▎| 929/1000 [12:47<00:57,  1.24it/s]"
     ]
    },
    {
     "name": "stdout",
     "output_type": "stream",
     "text": [
      "❌ Fetch failed: roxe-cash\n"
     ]
    },
    {
     "name": "stderr",
     "output_type": "stream",
     "text": [
      "Fetching coin data:  93%|█████████▎| 930/1000 [12:47<00:53,  1.31it/s]"
     ]
    },
    {
     "name": "stdout",
     "output_type": "stream",
     "text": [
      "❌ Fetch failed: bitcoin-token\n"
     ]
    },
    {
     "name": "stderr",
     "output_type": "stream",
     "text": [
      "Fetching coin data:  93%|█████████▎| 931/1000 [12:48<00:48,  1.43it/s]"
     ]
    },
    {
     "name": "stdout",
     "output_type": "stream",
     "text": [
      "❌ Fetch failed: rocketcoin\n"
     ]
    },
    {
     "name": "stderr",
     "output_type": "stream",
     "text": [
      "Fetching coin data:  93%|█████████▎| 932/1000 [12:48<00:45,  1.51it/s]"
     ]
    },
    {
     "name": "stdout",
     "output_type": "stream",
     "text": [
      "❌ Fetch failed: krosscoin\n"
     ]
    },
    {
     "name": "stderr",
     "output_type": "stream",
     "text": [
      "Fetching coin data:  93%|█████████▎| 933/1000 [12:49<00:41,  1.62it/s]"
     ]
    },
    {
     "name": "stdout",
     "output_type": "stream",
     "text": [
      "❌ Fetch failed: order-of-the-black-rose\n"
     ]
    },
    {
     "name": "stderr",
     "output_type": "stream",
     "text": [
      "Fetching coin data:  93%|█████████▎| 934/1000 [12:50<00:50,  1.30it/s]"
     ]
    },
    {
     "name": "stdout",
     "output_type": "stream",
     "text": [
      "❌ Fetch failed: pryz\n"
     ]
    },
    {
     "name": "stderr",
     "output_type": "stream",
     "text": [
      "Fetching coin data:  94%|█████████▎| 935/1000 [12:51<00:43,  1.48it/s]"
     ]
    },
    {
     "name": "stdout",
     "output_type": "stream",
     "text": [
      "❌ Fetch failed: potentiam\n"
     ]
    },
    {
     "name": "stderr",
     "output_type": "stream",
     "text": [
      "Fetching coin data:  94%|█████████▎| 936/1000 [12:52<00:48,  1.32it/s]"
     ]
    },
    {
     "name": "stdout",
     "output_type": "stream",
     "text": [
      "❌ Fetch failed: ser-token\n"
     ]
    },
    {
     "name": "stderr",
     "output_type": "stream",
     "text": [
      "Fetching coin data:  94%|█████████▍| 938/1000 [12:53<00:46,  1.35it/s]"
     ]
    },
    {
     "name": "stdout",
     "output_type": "stream",
     "text": [
      "❌ Fetch failed: concierge-coin\n"
     ]
    },
    {
     "name": "stderr",
     "output_type": "stream",
     "text": [
      "Fetching coin data:  94%|█████████▍| 939/1000 [12:54<00:44,  1.37it/s]"
     ]
    },
    {
     "name": "stdout",
     "output_type": "stream",
     "text": [
      "❌ Fetch failed: pocketnode\n"
     ]
    },
    {
     "name": "stderr",
     "output_type": "stream",
     "text": [
      "Fetching coin data:  94%|█████████▍| 940/1000 [12:54<00:42,  1.41it/s]"
     ]
    },
    {
     "name": "stdout",
     "output_type": "stream",
     "text": [
      "❌ Fetch failed: shield-finance\n"
     ]
    },
    {
     "name": "stderr",
     "output_type": "stream",
     "text": [
      "Fetching coin data:  94%|█████████▍| 941/1000 [12:55<00:45,  1.29it/s]"
     ]
    },
    {
     "name": "stdout",
     "output_type": "stream",
     "text": [
      "❌ Fetch failed: wys-token\n"
     ]
    },
    {
     "name": "stderr",
     "output_type": "stream",
     "text": [
      "Fetching coin data:  94%|█████████▍| 942/1000 [12:57<01:00,  1.05s/it]"
     ]
    },
    {
     "name": "stdout",
     "output_type": "stream",
     "text": [
      "❌ Fetch failed: eno\n"
     ]
    },
    {
     "name": "stderr",
     "output_type": "stream",
     "text": [
      "Fetching coin data:  94%|█████████▍| 943/1000 [12:58<00:50,  1.12it/s]"
     ]
    },
    {
     "name": "stdout",
     "output_type": "stream",
     "text": [
      "❌ Fetch failed: xtrd\n"
     ]
    },
    {
     "name": "stderr",
     "output_type": "stream",
     "text": [
      "Fetching coin data:  94%|█████████▍| 945/1000 [12:59<00:44,  1.23it/s]"
     ]
    },
    {
     "name": "stdout",
     "output_type": "stream",
     "text": [
      "❌ Fetch failed: safememe\n"
     ]
    },
    {
     "name": "stderr",
     "output_type": "stream",
     "text": [
      "Fetching coin data:  95%|█████████▍| 946/1000 [13:00<00:40,  1.35it/s]"
     ]
    },
    {
     "name": "stdout",
     "output_type": "stream",
     "text": [
      "❌ Fetch failed: populous-xbrl-token\n"
     ]
    },
    {
     "name": "stderr",
     "output_type": "stream",
     "text": [
      "Fetching coin data:  95%|█████████▍| 947/1000 [13:00<00:35,  1.48it/s]"
     ]
    },
    {
     "name": "stdout",
     "output_type": "stream",
     "text": [
      "❌ Fetch failed: aunfin-protocol\n"
     ]
    },
    {
     "name": "stderr",
     "output_type": "stream",
     "text": [
      "Fetching coin data:  95%|█████████▍| 948/1000 [13:01<00:35,  1.48it/s]"
     ]
    },
    {
     "name": "stdout",
     "output_type": "stream",
     "text": [
      "❌ Fetch failed: xscoin\n"
     ]
    },
    {
     "name": "stderr",
     "output_type": "stream",
     "text": [
      "Fetching coin data:  95%|█████████▍| 949/1000 [13:01<00:34,  1.49it/s]"
     ]
    },
    {
     "name": "stdout",
     "output_type": "stream",
     "text": [
      "❌ Fetch failed: albos\n"
     ]
    },
    {
     "name": "stderr",
     "output_type": "stream",
     "text": [
      "Fetching coin data:  95%|█████████▌| 950/1000 [13:02<00:32,  1.52it/s]"
     ]
    },
    {
     "name": "stdout",
     "output_type": "stream",
     "text": [
      "❌ Fetch failed: football-battle\n"
     ]
    },
    {
     "name": "stderr",
     "output_type": "stream",
     "text": [
      "Fetching coin data:  95%|█████████▌| 951/1000 [13:04<00:49,  1.01s/it]"
     ]
    },
    {
     "name": "stdout",
     "output_type": "stream",
     "text": [
      "❌ Fetch failed: iconiq-lab-token\n"
     ]
    },
    {
     "name": "stderr",
     "output_type": "stream",
     "text": [
      "Fetching coin data:  95%|█████████▌| 953/1000 [13:05<00:41,  1.14it/s]"
     ]
    },
    {
     "name": "stdout",
     "output_type": "stream",
     "text": [
      "❌ Fetch failed: exrt-network\n"
     ]
    },
    {
     "name": "stderr",
     "output_type": "stream",
     "text": [
      "Fetching coin data:  95%|█████████▌| 954/1000 [13:06<00:36,  1.28it/s]"
     ]
    },
    {
     "name": "stdout",
     "output_type": "stream",
     "text": [
      "❌ Fetch failed: orbis-token\n"
     ]
    },
    {
     "name": "stderr",
     "output_type": "stream",
     "text": [
      "Fetching coin data:  96%|█████████▌| 955/1000 [13:07<00:32,  1.40it/s]"
     ]
    },
    {
     "name": "stdout",
     "output_type": "stream",
     "text": [
      "❌ Fetch failed: experience-chain\n"
     ]
    },
    {
     "name": "stderr",
     "output_type": "stream",
     "text": [
      "Fetching coin data:  96%|█████████▌| 956/1000 [13:07<00:29,  1.48it/s]"
     ]
    },
    {
     "name": "stdout",
     "output_type": "stream",
     "text": [
      "❌ Fetch failed: openbisea\n"
     ]
    },
    {
     "name": "stderr",
     "output_type": "stream",
     "text": [
      "Fetching coin data:  96%|█████████▌| 958/1000 [13:12<01:03,  1.51s/it]"
     ]
    },
    {
     "name": "stdout",
     "output_type": "stream",
     "text": [
      "❌ Fetch failed: teecoin\n"
     ]
    },
    {
     "name": "stderr",
     "output_type": "stream",
     "text": [
      "Fetching coin data:  96%|█████████▌| 959/1000 [13:13<00:56,  1.38s/it]"
     ]
    },
    {
     "name": "stdout",
     "output_type": "stream",
     "text": [
      "❌ Fetch failed: xdb\n"
     ]
    },
    {
     "name": "stderr",
     "output_type": "stream",
     "text": [
      "Fetching coin data:  96%|█████████▌| 960/1000 [13:14<00:49,  1.25s/it]"
     ]
    },
    {
     "name": "stdout",
     "output_type": "stream",
     "text": [
      "❌ Fetch failed: xproject\n"
     ]
    },
    {
     "name": "stderr",
     "output_type": "stream",
     "text": [
      "Fetching coin data:  96%|█████████▌| 961/1000 [13:15<00:41,  1.05s/it]"
     ]
    },
    {
     "name": "stdout",
     "output_type": "stream",
     "text": [
      "❌ Fetch failed: black-diamond-rating\n"
     ]
    },
    {
     "name": "stderr",
     "output_type": "stream",
     "text": [
      "Fetching coin data:  96%|█████████▌| 962/1000 [13:16<00:36,  1.04it/s]"
     ]
    },
    {
     "name": "stdout",
     "output_type": "stream",
     "text": [
      "❌ Fetch failed: doxed\n"
     ]
    },
    {
     "name": "stderr",
     "output_type": "stream",
     "text": [
      "Fetching coin data:  96%|█████████▋| 964/1000 [13:18<00:44,  1.23s/it]"
     ]
    },
    {
     "name": "stdout",
     "output_type": "stream",
     "text": [
      "❌ Fetch failed: the-veteran\n"
     ]
    },
    {
     "name": "stderr",
     "output_type": "stream",
     "text": [
      "Fetching coin data:  96%|█████████▋| 965/1000 [13:19<00:35,  1.01s/it]"
     ]
    },
    {
     "name": "stdout",
     "output_type": "stream",
     "text": [
      "❌ Fetch failed: batorrent\n"
     ]
    },
    {
     "name": "stderr",
     "output_type": "stream",
     "text": [
      "Fetching coin data:  97%|█████████▋| 966/1000 [13:21<00:44,  1.32s/it]"
     ]
    },
    {
     "name": "stdout",
     "output_type": "stream",
     "text": [
      "❌ Fetch failed: petrachor\n"
     ]
    },
    {
     "name": "stderr",
     "output_type": "stream",
     "text": [
      "Fetching coin data:  97%|█████████▋| 967/1000 [13:22<00:36,  1.11s/it]"
     ]
    },
    {
     "name": "stdout",
     "output_type": "stream",
     "text": [
      "❌ Fetch failed: treasure-seeds\n"
     ]
    },
    {
     "name": "stderr",
     "output_type": "stream",
     "text": [
      "Fetching coin data:  97%|█████████▋| 969/1000 [13:23<00:24,  1.26it/s]"
     ]
    },
    {
     "name": "stdout",
     "output_type": "stream",
     "text": [
      "❌ Fetch failed: ea-token\n"
     ]
    },
    {
     "name": "stderr",
     "output_type": "stream",
     "text": [
      "Fetching coin data:  97%|█████████▋| 970/1000 [13:23<00:22,  1.36it/s]"
     ]
    },
    {
     "name": "stdout",
     "output_type": "stream",
     "text": [
      "❌ Fetch failed: nuketoken\n"
     ]
    },
    {
     "name": "stderr",
     "output_type": "stream",
     "text": [
      "Fetching coin data:  97%|█████████▋| 971/1000 [13:24<00:19,  1.47it/s]"
     ]
    },
    {
     "name": "stdout",
     "output_type": "stream",
     "text": [
      "❌ Fetch failed: chip-shambala\n"
     ]
    },
    {
     "name": "stderr",
     "output_type": "stream",
     "text": [
      "Fetching coin data:  97%|█████████▋| 972/1000 [13:24<00:18,  1.55it/s]"
     ]
    },
    {
     "name": "stdout",
     "output_type": "stream",
     "text": [
      "❌ Fetch failed: captain\n"
     ]
    },
    {
     "name": "stderr",
     "output_type": "stream",
     "text": [
      "Fetching coin data:  97%|█████████▋| 973/1000 [13:25<00:17,  1.55it/s]"
     ]
    },
    {
     "name": "stdout",
     "output_type": "stream",
     "text": [
      "❌ Fetch failed: ros-coin\n"
     ]
    },
    {
     "name": "stderr",
     "output_type": "stream",
     "text": [
      "Fetching coin data:  97%|█████████▋| 974/1000 [13:26<00:19,  1.33it/s]"
     ]
    },
    {
     "name": "stdout",
     "output_type": "stream",
     "text": [
      "❌ Fetch failed: sologenic\n"
     ]
    },
    {
     "name": "stderr",
     "output_type": "stream",
     "text": [
      "Fetching coin data:  98%|█████████▊| 975/1000 [13:27<00:17,  1.41it/s]"
     ]
    },
    {
     "name": "stdout",
     "output_type": "stream",
     "text": [
      "❌ Fetch failed: mystic-warrior\n"
     ]
    },
    {
     "name": "stderr",
     "output_type": "stream",
     "text": [
      "Fetching coin data:  98%|█████████▊| 976/1000 [13:27<00:14,  1.61it/s]"
     ]
    },
    {
     "name": "stdout",
     "output_type": "stream",
     "text": [
      "❌ Fetch failed: parainu-v2\n"
     ]
    },
    {
     "name": "stderr",
     "output_type": "stream",
     "text": [
      "Fetching coin data:  98%|█████████▊| 977/1000 [13:27<00:13,  1.68it/s]"
     ]
    },
    {
     "name": "stdout",
     "output_type": "stream",
     "text": [
      "❌ Fetch failed: unipower\n"
     ]
    },
    {
     "name": "stderr",
     "output_type": "stream",
     "text": [
      "Fetching coin data:  98%|█████████▊| 978/1000 [13:28<00:12,  1.77it/s]"
     ]
    },
    {
     "name": "stdout",
     "output_type": "stream",
     "text": [
      "❌ Fetch failed: 2gather\n"
     ]
    },
    {
     "name": "stderr",
     "output_type": "stream",
     "text": [
      "Fetching coin data:  98%|█████████▊| 980/1000 [13:29<00:11,  1.71it/s]"
     ]
    },
    {
     "name": "stdout",
     "output_type": "stream",
     "text": [
      "❌ Fetch failed: livetrade-token\n"
     ]
    },
    {
     "name": "stderr",
     "output_type": "stream",
     "text": [
      "Fetching coin data:  98%|█████████▊| 981/1000 [13:30<00:12,  1.54it/s]"
     ]
    },
    {
     "name": "stdout",
     "output_type": "stream",
     "text": [
      "❌ Fetch failed: passive-income\n"
     ]
    },
    {
     "name": "stderr",
     "output_type": "stream",
     "text": [
      "Fetching coin data:  98%|█████████▊| 982/1000 [13:31<00:13,  1.30it/s]"
     ]
    },
    {
     "name": "stdout",
     "output_type": "stream",
     "text": [
      "❌ Fetch failed: coinary-token\n"
     ]
    },
    {
     "name": "stderr",
     "output_type": "stream",
     "text": [
      "Fetching coin data:  98%|█████████▊| 983/1000 [13:32<00:12,  1.41it/s]"
     ]
    },
    {
     "name": "stdout",
     "output_type": "stream",
     "text": [
      "❌ Fetch failed: honey-token-sweet\n"
     ]
    },
    {
     "name": "stderr",
     "output_type": "stream",
     "text": [
      "Fetching coin data:  98%|█████████▊| 984/1000 [13:33<00:12,  1.23it/s]"
     ]
    },
    {
     "name": "stdout",
     "output_type": "stream",
     "text": [
      "❌ Fetch failed: banano\n"
     ]
    },
    {
     "name": "stderr",
     "output_type": "stream",
     "text": [
      "Fetching coin data:  98%|█████████▊| 985/1000 [13:33<00:10,  1.40it/s]"
     ]
    },
    {
     "name": "stdout",
     "output_type": "stream",
     "text": [
      "❌ Fetch failed: bnb-superheroes\n"
     ]
    },
    {
     "name": "stderr",
     "output_type": "stream",
     "text": [
      "Fetching coin data:  99%|█████████▊| 986/1000 [13:34<00:09,  1.51it/s]"
     ]
    },
    {
     "name": "stdout",
     "output_type": "stream",
     "text": [
      "❌ Fetch failed: baby-soulja-boy\n"
     ]
    },
    {
     "name": "stderr",
     "output_type": "stream",
     "text": [
      "Fetching coin data:  99%|█████████▉| 988/1000 [13:35<00:07,  1.63it/s]"
     ]
    },
    {
     "name": "stdout",
     "output_type": "stream",
     "text": [
      "❌ Fetch failed: npcoin\n"
     ]
    },
    {
     "name": "stderr",
     "output_type": "stream",
     "text": [
      "Fetching coin data:  99%|█████████▉| 989/1000 [13:35<00:06,  1.65it/s]"
     ]
    },
    {
     "name": "stdout",
     "output_type": "stream",
     "text": [
      "❌ Fetch failed: hawkdex\n"
     ]
    },
    {
     "name": "stderr",
     "output_type": "stream",
     "text": [
      "Fetching coin data:  99%|█████████▉| 990/1000 [13:36<00:06,  1.54it/s]"
     ]
    },
    {
     "name": "stdout",
     "output_type": "stream",
     "text": [
      "❌ Fetch failed: enedex\n"
     ]
    },
    {
     "name": "stderr",
     "output_type": "stream",
     "text": [
      "Fetching coin data:  99%|█████████▉| 991/1000 [13:37<00:05,  1.61it/s]"
     ]
    },
    {
     "name": "stdout",
     "output_type": "stream",
     "text": [
      "❌ Fetch failed: flavorsbsc\n"
     ]
    },
    {
     "name": "stderr",
     "output_type": "stream",
     "text": [
      "Fetching coin data:  99%|█████████▉| 992/1000 [13:37<00:04,  1.67it/s]"
     ]
    },
    {
     "name": "stdout",
     "output_type": "stream",
     "text": [
      "❌ Fetch failed: ecchicoin\n"
     ]
    },
    {
     "name": "stderr",
     "output_type": "stream",
     "text": [
      "Fetching coin data:  99%|█████████▉| 993/1000 [13:38<00:04,  1.74it/s]"
     ]
    },
    {
     "name": "stdout",
     "output_type": "stream",
     "text": [
      "❌ Fetch failed: coxswap\n"
     ]
    },
    {
     "name": "stderr",
     "output_type": "stream",
     "text": [
      "Fetching coin data:  99%|█████████▉| 994/1000 [13:38<00:03,  1.73it/s]"
     ]
    },
    {
     "name": "stdout",
     "output_type": "stream",
     "text": [
      "❌ Fetch failed: allcoin\n"
     ]
    },
    {
     "name": "stderr",
     "output_type": "stream",
     "text": [
      "Fetching coin data: 100%|█████████▉| 995/1000 [13:39<00:02,  1.72it/s]"
     ]
    },
    {
     "name": "stdout",
     "output_type": "stream",
     "text": [
      "❌ Fetch failed: yayswap\n"
     ]
    },
    {
     "name": "stderr",
     "output_type": "stream",
     "text": [
      "Fetching coin data: 100%|█████████▉| 996/1000 [13:40<00:02,  1.73it/s]"
     ]
    },
    {
     "name": "stdout",
     "output_type": "stream",
     "text": [
      "❌ Fetch failed: extstock-token\n"
     ]
    },
    {
     "name": "stderr",
     "output_type": "stream",
     "text": [
      "Fetching coin data: 100%|█████████▉| 997/1000 [13:40<00:01,  1.76it/s]"
     ]
    },
    {
     "name": "stdout",
     "output_type": "stream",
     "text": [
      "❌ Fetch failed: conceal\n"
     ]
    },
    {
     "name": "stderr",
     "output_type": "stream",
     "text": [
      "Fetching coin data: 100%|█████████▉| 999/1000 [13:41<00:00,  1.71it/s]"
     ]
    },
    {
     "name": "stdout",
     "output_type": "stream",
     "text": [
      "❌ Fetch failed: wine-shares\n"
     ]
    },
    {
     "name": "stderr",
     "output_type": "stream",
     "text": [
      "Fetching coin data: 100%|██████████| 1000/1000 [13:42<00:00,  1.22it/s]"
     ]
    },
    {
     "name": "stdout",
     "output_type": "stream",
     "text": [
      "❌ Fetch failed: coral-dex\n",
      "\n",
      "✅ Data collection complete. Files saved to `data/` folder.\n"
     ]
    },
    {
     "name": "stderr",
     "output_type": "stream",
     "text": [
      "\n"
     ]
    }
   ],
   "source": [
    "import time\n",
    "import requests\n",
    "import pandas as pd\n",
    "from datetime import datetime\n",
    "import os\n",
    "from tqdm import tqdm\n",
    "\n",
    "BASE_URL = \"https://cryptorank.io/_next/data/1744894442079/en/price/{key}/analytics.json\"\n",
    "\n",
    "def safe_get(data, path, default=None):\n",
    "    if isinstance(path, str):\n",
    "        path = path.split('/')\n",
    "    current = data\n",
    "    for key in path:\n",
    "        if isinstance(current, list) and key.isdigit():\n",
    "            key = int(key)\n",
    "        try:\n",
    "            current = current[key]\n",
    "        except (KeyError, TypeError, IndexError):\n",
    "            return default\n",
    "    return current\n",
    "\n",
    "def fetch_coin_data(coin_key):\n",
    "    try:\n",
    "        response = requests.get(\n",
    "            BASE_URL.format(key=coin_key),\n",
    "            headers={'User-Agent': 'Mozilla/5.0'},\n",
    "            timeout=15\n",
    "        )\n",
    "        response.raise_for_status()\n",
    "        return response.json().get('pageProps', {})\n",
    "    except Exception as e:\n",
    "        return None\n",
    "\n",
    "def parse_coin_data(data):\n",
    "    if not data:\n",
    "        return None\n",
    "\n",
    "    coin_info = {\n",
    "        'name': safe_get(data, ['name']),\n",
    "        'symbol': safe_get(data, ['symbol']),\n",
    "        'rank': safe_get(data, ['rank'], 0),\n",
    "        'price_usd': safe_get(data, ['priceUsd'], 0),\n",
    "        'market_cap': safe_get(data, ['marketCap'], 0),\n",
    "        'volume_24h': safe_get(data, ['volume24hUsd'], 0),\n",
    "        'circulating_supply': safe_get(data, ['availableSupply'], 0),\n",
    "        'max_supply': safe_get(data, ['maxSupply'], 0),\n",
    "        'all_time_high': safe_get(data, ['athPrice', 'USD'], 0),\n",
    "        'ath_date': safe_get(data, ['athPrice', 'date']),\n",
    "        'category': safe_get(data, ['category']),\n",
    "        'launch_date': safe_get(data, ['listingDate']),\n",
    "        'website': next((link['value'] for link in safe_get(data, ['links'], []) \n",
    "                         if link['type'] == 'web'), None)\n",
    "    }\n",
    "\n",
    "    historical_prices = []\n",
    "    hist_prices = safe_get(data, ['histPrices'], {})\n",
    "    for period, values in hist_prices.items():\n",
    "        historical_prices.append({\n",
    "            'period': period,\n",
    "            'price_usd': safe_get(values, ['USD'], 0),\n",
    "            'price_btc': safe_get(values, ['BTC'], 0),\n",
    "            'price_eth': safe_get(values, ['ETH'], 0)\n",
    "        })\n",
    "\n",
    "    team_members = []\n",
    "    for member in safe_get(data, ['team'], []):\n",
    "        team_members.append({\n",
    "            'name': safe_get(member, ['name']),\n",
    "            'position': safe_get(member, ['jobs', 0]) if safe_get(member, ['jobs']) else 'N/A',\n",
    "            'links': ', '.join([link['value'] for link in safe_get(member, ['links'], [])])\n",
    "        })\n",
    "\n",
    "    crowdsales = []\n",
    "    for sale in safe_get(data, ['crowdsales'], []):\n",
    "        crowdsales.append({\n",
    "            'type': safe_get(sale, ['type']),\n",
    "            'date': safe_get(sale, ['end']),\n",
    "            'price': safe_get(sale, ['price', 'USD'], 0),\n",
    "            'raised': safe_get(sale, ['raise', 'USD'], 0)\n",
    "        })\n",
    "\n",
    "    allocations = []\n",
    "    for alloc in safe_get(data, ['icoData', 'allocationChart'], []):\n",
    "        allocations.append({\n",
    "            'category': safe_get(alloc, ['title']),\n",
    "            'percentage': safe_get(alloc, ['percent'], 0)\n",
    "        })\n",
    "\n",
    "    return {\n",
    "        'coin_info': coin_info,\n",
    "        'historical_prices': historical_prices,\n",
    "        'team': team_members,\n",
    "        'crowdsales': crowdsales,\n",
    "        'allocations': allocations\n",
    "    }\n",
    "\n",
    "if __name__ == \"__main__\":\n",
    "    # Replace this with your actual source of coin keys\n",
    "    coins_df_copy = coins_df.head(1000)\n",
    "    coin_keys = coins_df_copy['key']\n",
    "\n",
    "\n",
    "    os.makedirs('data', exist_ok=True)\n",
    "    errors = []\n",
    "\n",
    "    coin_info_all = []\n",
    "    historical_prices_all = []\n",
    "    team_all = []\n",
    "    crowdsales_all = []\n",
    "    allocations_all = []\n",
    "\n",
    "    for coin_key in tqdm(coin_keys, desc=\"Fetching coin data\"):\n",
    "        raw_data = fetch_coin_data(coin_key)\n",
    "        time.sleep(0.25)  # 4 requests per second\n",
    "\n",
    "        if raw_data and (coin_data := raw_data.get('coin')):\n",
    "            parsed = parse_coin_data(coin_data)\n",
    "            if parsed:\n",
    "                parsed['coin_info']['coin_key'] = coin_key\n",
    "                coin_info_all.append(parsed['coin_info'])\n",
    "\n",
    "                for item in parsed['historical_prices']:\n",
    "                    item['coin_key'] = coin_key\n",
    "                    historical_prices_all.append(item)\n",
    "\n",
    "                for item in parsed['team']:\n",
    "                    item['coin_key'] = coin_key\n",
    "                    team_all.append(item)\n",
    "\n",
    "                for item in parsed['crowdsales']:\n",
    "                    item['coin_key'] = coin_key\n",
    "                    crowdsales_all.append(item)\n",
    "\n",
    "                for item in parsed['allocations']:\n",
    "                    item['coin_key'] = coin_key\n",
    "                    allocations_all.append(item)\n",
    "            else:\n",
    "                print(f\"⚠️ Parse failed: {coin_key}\")\n",
    "                errors.append(f\"{coin_key} (parse failed)\")\n",
    "        else:\n",
    "            print(f\"❌ Fetch failed: {coin_key}\")\n",
    "            errors.append(f\"{coin_key} (fetch failed)\")\n",
    "\n",
    "    # Save final combined CSVs\n",
    "    pd.DataFrame(coin_info_all).to_csv('data/coin_info_e.csv', index=False)\n",
    "    pd.DataFrame(historical_prices_all).to_csv('data/historical_prices_e.csv', index=False)\n",
    "    pd.DataFrame(team_all).to_csv('data/team_e.csv', index=False)\n",
    "    pd.DataFrame(crowdsales_all).to_csv('data/crowdsales_e.csv', index=False)\n",
    "    pd.DataFrame(allocations_all).to_csv('data/allocations_e.csv', index=False)\n",
    "\n",
    "    # Save error logs\n",
    "    with open('data/errors.log', 'w') as f:\n",
    "        for line in errors:\n",
    "            f.write(line + '\\n')\n",
    "\n",
    "    print(\"\\n✅ Data collection complete. Files saved to `data/` folder.\")\n"
   ]
  }
 ],
 "metadata": {
  "kernelspec": {
   "display_name": "Python 3",
   "language": "python",
   "name": "python3"
  },
  "language_info": {
   "codemirror_mode": {
    "name": "ipython",
    "version": 3
   },
   "file_extension": ".py",
   "mimetype": "text/x-python",
   "name": "python",
   "nbconvert_exporter": "python",
   "pygments_lexer": "ipython3",
   "version": "3.11.9"
  }
 },
 "nbformat": 4,
 "nbformat_minor": 5
}
